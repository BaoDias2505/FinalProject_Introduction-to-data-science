{
 "cells": [
  {
   "cell_type": "markdown",
   "metadata": {},
   "source": [
    "<div style=\"text-align: center; background-color: #0A6EBD; font-family: 'Trebuchet MS', Arial, sans-serif; color: white; padding: 20px; font-size: 40px; font-weight: bold; border-radius: 0 0 0 0; box-shadow: 0px 6px 8px rgba(0, 0, 0, 0.2);\">\n",
    "  Final project - Introduction to DS\n",
    "</div>"
   ]
  },
  {
   "cell_type": "markdown",
   "metadata": {},
   "source": [
    "<div style=\"text-align: center; background-color: #b1d1ff; font-family: 'Trebuchet MS', Arial, sans-serif; color: white; padding: 20px; font-size: 40px; font-weight: bold; border-radius: 0 0 0 0; box-shadow: 0px 6px 8px rgba(0, 0, 0, 0.2);\">\n",
    "  Stage 4.0 - Data modelling\n",
    "</div>"
   ]
  },
  {
   "cell_type": "markdown",
   "metadata": {},
   "source": [
    "## Problem statement"
   ]
  },
  {
   "cell_type": "markdown",
   "metadata": {},
   "source": [
    "Sử dụng dữ liệu thu thập được để tạo một hệ thống đề xuất video youtube cho người dùng thông qua một đoạn văn \"promt\" mà người dùng nhập vào"
   ]
  },
  {
   "cell_type": "markdown",
   "metadata": {},
   "source": [
    "## Import"
   ]
  },
  {
   "cell_type": "code",
   "execution_count": 1,
   "metadata": {},
   "outputs": [
    {
     "name": "stderr",
     "output_type": "stream",
     "text": [
      "[nltk_data] Downloading package stopwords to\n",
      "[nltk_data]     C:\\Users\\ASUS\\AppData\\Roaming\\nltk_data...\n",
      "[nltk_data]   Package stopwords is already up-to-date!\n",
      "[nltk_data] Downloading package punkt to\n",
      "[nltk_data]     C:\\Users\\ASUS\\AppData\\Roaming\\nltk_data...\n",
      "[nltk_data]   Package punkt is already up-to-date!\n"
     ]
    }
   ],
   "source": [
    "import pandas as pd\n",
    "import numpy as np\n",
    "import re\n",
    "\n",
    "# Visualization libraries\n",
    "import matplotlib.pyplot as plt\n",
    "import seaborn as sns\n",
    "sns.set()\n",
    "\n",
    "# NLP libraries\n",
    "import nltk\n",
    "from nltk.corpus import stopwords\n",
    "from nltk.tokenize import word_tokenize\n",
    "nltk.download('stopwords')\n",
    "nltk.download('punkt')\n",
    "from wordcloud import WordCloud\n",
    "from nltk.tokenize import RegexpTokenizer\n",
    "\n",
    "# Sklearn model and util functions\n",
    "from sklearn.model_selection import train_test_split, KFold\n",
    "from sklearn.feature_extraction.text import TfidfVectorizer\n",
    "from sklearn.cluster import KMeans, MiniBatchKMeans, BisectingKMeans\n",
    "from sklearn import metrics\n",
    "\n",
    "\n",
    "SEED = 2023"
   ]
  },
  {
   "cell_type": "markdown",
   "metadata": {},
   "source": [
    "## Data preparation"
   ]
  },
  {
   "cell_type": "markdown",
   "metadata": {},
   "source": [
    "Read clean data"
   ]
  },
  {
   "cell_type": "code",
   "execution_count": 2,
   "metadata": {},
   "outputs": [],
   "source": [
    "clean_df = pd.read_csv('../data/processed/video_data_processed.csv')"
   ]
  },
  {
   "cell_type": "code",
   "execution_count": 3,
   "metadata": {},
   "outputs": [],
   "source": [
    "# clean_df.sample(5)"
   ]
  },
  {
   "cell_type": "markdown",
   "metadata": {},
   "source": [
    "Clean the video title"
   ]
  },
  {
   "cell_type": "code",
   "execution_count": 4,
   "metadata": {},
   "outputs": [],
   "source": [
    "# clean_df['title'].sample(5)"
   ]
  },
  {
   "cell_type": "code",
   "execution_count": 5,
   "metadata": {},
   "outputs": [],
   "source": [
    "# Preprocess the data: convert to lowercase, remove special characters, and stopwords\n",
    "stop_words = set(stopwords.words('english'))\n",
    "def preprocess_text(text):\n",
    "    text = text.lower()\n",
    "    text = re.sub(r'[^a-z\\s]', '', text)\n",
    "    tokens = [token for token in text.split() if token not in stop_words]\n",
    "    return ' '.join(tokens)\n",
    "\n",
    "clean_df['clean_title'] = clean_df['title'].apply(preprocess_text)\n",
    "clean_df['clean_title'] = clean_df['clean_title'] + \"|\" + clean_df['video_id']\n"
   ]
  },
  {
   "cell_type": "code",
   "execution_count": 6,
   "metadata": {},
   "outputs": [],
   "source": [
    "# clean_df['clean_title'].sample(5)"
   ]
  },
  {
   "cell_type": "markdown",
   "metadata": {},
   "source": [
    "Create a TF-IDF vectorizer"
   ]
  },
  {
   "cell_type": "code",
   "execution_count": 7,
   "metadata": {},
   "outputs": [
    {
     "data": {
      "text/html": [
       "<style>#sk-container-id-1 {color: black;}#sk-container-id-1 pre{padding: 0;}#sk-container-id-1 div.sk-toggleable {background-color: white;}#sk-container-id-1 label.sk-toggleable__label {cursor: pointer;display: block;width: 100%;margin-bottom: 0;padding: 0.3em;box-sizing: border-box;text-align: center;}#sk-container-id-1 label.sk-toggleable__label-arrow:before {content: \"▸\";float: left;margin-right: 0.25em;color: #696969;}#sk-container-id-1 label.sk-toggleable__label-arrow:hover:before {color: black;}#sk-container-id-1 div.sk-estimator:hover label.sk-toggleable__label-arrow:before {color: black;}#sk-container-id-1 div.sk-toggleable__content {max-height: 0;max-width: 0;overflow: hidden;text-align: left;background-color: #f0f8ff;}#sk-container-id-1 div.sk-toggleable__content pre {margin: 0.2em;color: black;border-radius: 0.25em;background-color: #f0f8ff;}#sk-container-id-1 input.sk-toggleable__control:checked~div.sk-toggleable__content {max-height: 200px;max-width: 100%;overflow: auto;}#sk-container-id-1 input.sk-toggleable__control:checked~label.sk-toggleable__label-arrow:before {content: \"▾\";}#sk-container-id-1 div.sk-estimator input.sk-toggleable__control:checked~label.sk-toggleable__label {background-color: #d4ebff;}#sk-container-id-1 div.sk-label input.sk-toggleable__control:checked~label.sk-toggleable__label {background-color: #d4ebff;}#sk-container-id-1 input.sk-hidden--visually {border: 0;clip: rect(1px 1px 1px 1px);clip: rect(1px, 1px, 1px, 1px);height: 1px;margin: -1px;overflow: hidden;padding: 0;position: absolute;width: 1px;}#sk-container-id-1 div.sk-estimator {font-family: monospace;background-color: #f0f8ff;border: 1px dotted black;border-radius: 0.25em;box-sizing: border-box;margin-bottom: 0.5em;}#sk-container-id-1 div.sk-estimator:hover {background-color: #d4ebff;}#sk-container-id-1 div.sk-parallel-item::after {content: \"\";width: 100%;border-bottom: 1px solid gray;flex-grow: 1;}#sk-container-id-1 div.sk-label:hover label.sk-toggleable__label {background-color: #d4ebff;}#sk-container-id-1 div.sk-serial::before {content: \"\";position: absolute;border-left: 1px solid gray;box-sizing: border-box;top: 0;bottom: 0;left: 50%;z-index: 0;}#sk-container-id-1 div.sk-serial {display: flex;flex-direction: column;align-items: center;background-color: white;padding-right: 0.2em;padding-left: 0.2em;position: relative;}#sk-container-id-1 div.sk-item {position: relative;z-index: 1;}#sk-container-id-1 div.sk-parallel {display: flex;align-items: stretch;justify-content: center;background-color: white;position: relative;}#sk-container-id-1 div.sk-item::before, #sk-container-id-1 div.sk-parallel-item::before {content: \"\";position: absolute;border-left: 1px solid gray;box-sizing: border-box;top: 0;bottom: 0;left: 50%;z-index: -1;}#sk-container-id-1 div.sk-parallel-item {display: flex;flex-direction: column;z-index: 1;position: relative;background-color: white;}#sk-container-id-1 div.sk-parallel-item:first-child::after {align-self: flex-end;width: 50%;}#sk-container-id-1 div.sk-parallel-item:last-child::after {align-self: flex-start;width: 50%;}#sk-container-id-1 div.sk-parallel-item:only-child::after {width: 0;}#sk-container-id-1 div.sk-dashed-wrapped {border: 1px dashed gray;margin: 0 0.4em 0.5em 0.4em;box-sizing: border-box;padding-bottom: 0.4em;background-color: white;}#sk-container-id-1 div.sk-label label {font-family: monospace;font-weight: bold;display: inline-block;line-height: 1.2em;}#sk-container-id-1 div.sk-label-container {text-align: center;}#sk-container-id-1 div.sk-container {/* jupyter's `normalize.less` sets `[hidden] { display: none; }` but bootstrap.min.css set `[hidden] { display: none !important; }` so we also need the `!important` here to be able to override the default hidden behavior on the sphinx rendered scikit-learn.org. See: https://github.com/scikit-learn/scikit-learn/issues/21755 */display: inline-block !important;position: relative;}#sk-container-id-1 div.sk-text-repr-fallback {display: none;}</style><div id=\"sk-container-id-1\" class=\"sk-top-container\"><div class=\"sk-text-repr-fallback\"><pre>TfidfVectorizer(stop_words=&#x27;english&#x27;)</pre><b>In a Jupyter environment, please rerun this cell to show the HTML representation or trust the notebook. <br />On GitHub, the HTML representation is unable to render, please try loading this page with nbviewer.org.</b></div><div class=\"sk-container\" hidden><div class=\"sk-item\"><div class=\"sk-estimator sk-toggleable\"><input class=\"sk-toggleable__control sk-hidden--visually\" id=\"sk-estimator-id-1\" type=\"checkbox\" checked><label for=\"sk-estimator-id-1\" class=\"sk-toggleable__label sk-toggleable__label-arrow\">TfidfVectorizer</label><div class=\"sk-toggleable__content\"><pre>TfidfVectorizer(stop_words=&#x27;english&#x27;)</pre></div></div></div></div></div>"
      ],
      "text/plain": [
       "TfidfVectorizer(stop_words='english')"
      ]
     },
     "execution_count": 7,
     "metadata": {},
     "output_type": "execute_result"
    }
   ],
   "source": [
    "# Create a TF-IDF vectorizer to vectorize the text\n",
    "vectorizer = TfidfVectorizer(stop_words='english')\n",
    "vectorizer.fit(clean_df['clean_title'])"
   ]
  },
  {
   "cell_type": "markdown",
   "metadata": {},
   "source": [
    "Split data into training, validating and testing set"
   ]
  },
  {
   "cell_type": "code",
   "execution_count": 8,
   "metadata": {},
   "outputs": [],
   "source": [
    "# Split the data into `train` and `vaild + test` sets\n",
    "train_data, temp_data = train_test_split(clean_df['clean_title'], \n",
    "                                         test_size=0.2, random_state=SEED)\n",
    "# Further split the temporary set into validation and test sets\n",
    "valid_data, test_data = train_test_split(temp_data,\n",
    "                                         test_size=0.5, random_state=SEED)\n"
   ]
  },
  {
   "cell_type": "markdown",
   "metadata": {},
   "source": [
    "## Baseline Model Comparison"
   ]
  },
  {
   "cell_type": "code",
   "execution_count": 9,
   "metadata": {},
   "outputs": [
    {
     "name": "stdout",
     "output_type": "stream",
     "text": [
      "\n",
      "------------------ Fold 1 ------------------\n",
      "         KMeans: Fitting... -> Evaluating...\n",
      "BisectingKMeans: Fitting... -> Evaluating...\n",
      "MiniBatchKMeans: Fitting... -> Evaluating...\n",
      "\n",
      "------------------ Fold 2 ------------------\n",
      "         KMeans: Fitting... -> Evaluating...\n",
      "BisectingKMeans: Fitting... -> Evaluating...\n",
      "MiniBatchKMeans: Fitting... -> Evaluating...\n",
      "\n",
      "------------------ Fold 3 ------------------\n",
      "         KMeans: Fitting... -> Evaluating...\n",
      "BisectingKMeans: Fitting... -> Evaluating...\n",
      "MiniBatchKMeans: Fitting... -> Evaluating...\n",
      "\n",
      "------------------ Fold 4 ------------------\n",
      "         KMeans: Fitting... -> Evaluating...\n",
      "BisectingKMeans: Fitting... -> Evaluating...\n",
      "MiniBatchKMeans: Fitting... -> Evaluating...\n",
      "\n",
      "------------------ Fold 5 ------------------\n",
      "         KMeans: Fitting... -> Evaluating...\n",
      "BisectingKMeans: Fitting... -> Evaluating...\n",
      "MiniBatchKMeans: Fitting... -> Evaluating...\n"
     ]
    },
    {
     "data": {
      "image/png": "[encoded data removed]",
      "text/plain": [
       "<Figure size 640x480 with 1 Axes>"
      ]
     },
     "metadata": {},
     "output_type": "display_data"
    }
   ],
   "source": [
    "# Define a dictionary to store clustering models\n",
    "# https://scikit-learn.org/stable/modules/classes.html#module-sklearn.cluster\n",
    "parameters = {\n",
    "    \"n_clusters\": 12, \"init\": \"k-means++\", \"n_init\": 10, \n",
    "    \"max_iter\": 400, \"tol\": 1e-8, \"verbose\": 0, \n",
    "    \"random_state\": SEED\n",
    "}\n",
    "clustering_models = {\n",
    "    'KMeans': KMeans(**parameters),\n",
    "    'BisectingKMeans': BisectingKMeans(**parameters),\n",
    "    'MiniBatchKMeans': MiniBatchKMeans(**parameters),\n",
    "}\n",
    "\n",
    "# Define K-Fold cross-validation\n",
    "# Reference: https://scikit-learn.org/stable/modules/generated/sklearn.model_selection.KFold.html\n",
    "K_FOLDS = 5\n",
    "kfold = KFold(n_splits=K_FOLDS, shuffle=True, random_state=SEED)\n",
    "\n",
    "# Store the history of cross-validation process\n",
    "entries = []\n",
    "\n",
    "# Do k-fold cross validation\n",
    "for i, (train_ids, val_ids) in enumerate(kfold.split(train_data), start=1):\n",
    "    # Check for duplicates index in `train_ids` and `val_ids`\n",
    "    assert len(set(train_ids).intersection(set(val_ids))) == 0\n",
    "\n",
    "    # Convert text to numerical data using TF-IDF\n",
    "    data_to_train = vectorizer.transform(train_data.iloc[train_ids])\n",
    "    data_to_valid = vectorizer.transform(train_data.iloc[val_ids])\n",
    "\n",
    "    print(f\"\\n------------------ Fold {i} ------------------\")\n",
    "    for model_name, model in clustering_models.items():\n",
    "        print(f\"{model_name.rjust(15)}: Fitting... \", end=\"\")\n",
    "        \n",
    "        # Fit the model to the training data\n",
    "        model.fit(data_to_train)\n",
    "\n",
    "        # Evaluate the model on the validation data\n",
    "        # Reference: https://scikit-learn.org/stable/modules/generated/sklearn.metrics.silhouette_score.html#sklearn.metrics.silhouette_score\n",
    "        print(f\"-> Evaluating...\")\n",
    "        labels_pred = model.predict(data_to_valid)\n",
    "        silhouette_score \\\n",
    "            = metrics.silhouette_score(data_to_valid, \n",
    "                                       labels_pred, metric='euclidean')\n",
    "\n",
    "        # Add new record to the history\n",
    "        entries.append([model_name, i, silhouette_score])\n",
    "\n",
    "# Create a dataframe to store the results\n",
    "cross_validation_df = pd.DataFrame(\n",
    "    data=entries,\n",
    "    columns=[\"model_name\", \"fold_id\", \"silhouette_score\"]\n",
    ")\n",
    "\n",
    "# Plot the results\n",
    "sns.boxplot(x='model_name', y='silhouette_score', \n",
    "            data=cross_validation_df, showmeans=True)\n",
    "plt.title(f\"Boxplot of Base-Line Model Performance using {K_FOLDS}-Fold cross validation\",\n",
    "          fontsize=12, fontweight=\"bold\")\n",
    "plt.xlabel(\"Model Name\", fontsize=10)\n",
    "plt.ylabel(\"Silhouette Score\", fontsize=10)\n",
    "plt.xticks(rotation=20)\n",
    "plt.show();\n",
    "# ~ 3min"
   ]
  },
  {
   "cell_type": "markdown",
   "metadata": {},
   "source": [
    "Summarize the results"
   ]
  },
  {
   "cell_type": "code",
   "execution_count": 10,
   "metadata": {},
   "outputs": [
    {
     "data": {
      "text/html": [
       "<div>\n",
       "<style scoped>\n",
       "    .dataframe tbody tr th:only-of-type {\n",
       "        vertical-align: middle;\n",
       "    }\n",
       "\n",
       "    .dataframe tbody tr th {\n",
       "        vertical-align: top;\n",
       "    }\n",
       "\n",
       "    .dataframe thead th {\n",
       "        text-align: right;\n",
       "    }\n",
       "</style>\n",
       "<table border=\"1\" class=\"dataframe\">\n",
       "  <thead>\n",
       "    <tr style=\"text-align: right;\">\n",
       "      <th>silhouette_score</th>\n",
       "      <th>mean</th>\n",
       "      <th>std</th>\n",
       "    </tr>\n",
       "    <tr>\n",
       "      <th>model_name</th>\n",
       "      <th></th>\n",
       "      <th></th>\n",
       "    </tr>\n",
       "  </thead>\n",
       "  <tbody>\n",
       "    <tr>\n",
       "      <th>KMeans</th>\n",
       "      <td>0.008319</td>\n",
       "      <td>0.000719</td>\n",
       "    </tr>\n",
       "    <tr>\n",
       "      <th>BisectingKMeans</th>\n",
       "      <td>0.007949</td>\n",
       "      <td>0.000074</td>\n",
       "    </tr>\n",
       "    <tr>\n",
       "      <th>MiniBatchKMeans</th>\n",
       "      <td>0.007120</td>\n",
       "      <td>0.000899</td>\n",
       "    </tr>\n",
       "  </tbody>\n",
       "</table>\n",
       "</div>"
      ],
      "text/plain": [
       "silhouette_score      mean       std\n",
       "model_name                          \n",
       "KMeans            0.008319  0.000719\n",
       "BisectingKMeans   0.007949  0.000074\n",
       "MiniBatchKMeans   0.007120  0.000899"
      ]
     },
     "execution_count": 10,
     "metadata": {},
     "output_type": "execute_result"
    }
   ],
   "source": [
    "# Summarize the results\n",
    "baseline_results = \\\n",
    "    cross_validation_df.groupby('model_name')[\"silhouette_score\"]\\\n",
    "        .agg(['mean', 'std']).sort_values(by='mean', ascending=False)\n",
    "\n",
    "# Add metric names\n",
    "baseline_results.columns.name = \"silhouette_score\"\n",
    "\n",
    "baseline_results"
   ]
  },
  {
   "cell_type": "markdown",
   "metadata": {},
   "source": [
    "> Nhận xét: `KMeans` là \"baseline model\" chạy tốt nhất trên tập dữ liệu `train_data`. Ở bước tiếp theo, ta cần thực hiện \"Hyper-parameter Tuning\" để giúp model tạo ra kết quả tốt hơn nữa."
   ]
  },
  {
   "cell_type": "markdown",
   "metadata": {},
   "source": [
    "## Hyper-parameter Tuning"
   ]
  },
  {
   "cell_type": "code",
   "execution_count": 11,
   "metadata": {},
   "outputs": [
    {
     "ename": "NameError",
     "evalue": "name 'train' is not defined",
     "output_type": "error",
     "traceback": [
      "\u001b[1;31m---------------------------------------------------------------------------\u001b[0m",
      "\u001b[1;31mNameError\u001b[0m                                 Traceback (most recent call last)",
      "\u001b[1;32md:\\FinalProject_Introduction-to-data-science\\notebooks\\04-Data_modelling.ipynb Cell 25\u001b[0m line \u001b[0;36m2\n\u001b[0;32m      <a href='vscode-notebook-cell:/d%3A/FinalProject_Introduction-to-data-science/notebooks/04-Data_modelling.ipynb#Y115sZmlsZQ%3D%3D?line=0'>1</a>\u001b[0m \u001b[39m# TODO:\u001b[39;00m\n\u001b[1;32m----> <a href='vscode-notebook-cell:/d%3A/FinalProject_Introduction-to-data-science/notebooks/04-Data_modelling.ipynb#Y115sZmlsZQ%3D%3D?line=1'>2</a>\u001b[0m train\n",
      "\u001b[1;31mNameError\u001b[0m: name 'train' is not defined"
     ]
    }
   ],
   "source": [
    "# TODO:\n",
    "train"
   ]
  },
  {
   "cell_type": "markdown",
   "metadata": {},
   "source": [
    "## Clustering video title"
   ]
  },
  {
   "cell_type": "code",
   "execution_count": null,
   "metadata": {},
   "outputs": [],
   "source": [
    "def my_clustering(s, n_clusters, print_clusters=False): \n",
    "    text_values = s\n",
    "\n",
    "    # Convert text to numerical data using TF-IDF\n",
    "    vectorizer = TfidfVectorizer(stop_words='english')\n",
    "    X = vectorizer.fit_transform(text_values)\n",
    "\n",
    "    # Choose the number of clusters (you may need to adjust this based on your data)\n",
    "    num_clusters = n_clusters\n",
    "\n",
    "    # Apply K-Means clustering\n",
    "    kmeans = KMeans(n_clusters=num_clusters, random_state=42)\n",
    "    kmeans.fit(X)\n",
    "\n",
    "    # Print the clusters\n",
    "    if print_clusters:\n",
    "        # Get cluster labels\n",
    "        cluster_labels = kmeans.labels_\n",
    "        for i in range(num_clusters):\n",
    "            print(f\"Cluster {i + 1}:\")\n",
    "            cluster_texts = np.array(text_values)[cluster_labels == i]\n",
    "            for text in cluster_texts:\n",
    "                print(f\"  - {text}\")\n",
    "            print(\"\\n\")\n",
    "    \n",
    "    return kmeans, vectorizer"
   ]
  },
  {
   "cell_type": "code",
   "execution_count": null,
   "metadata": {},
   "outputs": [],
   "source": [
    "# N_CLUSTERS = 5\n",
    "# kmeans_model, *vectorizer = my_clustering(clean_df['clean_title'], n_clusters=N_CLUSTERS, print_clusters=True)\n",
    "# vectorizer = vectorizer[0]"
   ]
  },
  {
   "cell_type": "code",
   "execution_count": null,
   "metadata": {},
   "outputs": [],
   "source": [
    "# # Assuming 'new_data' is a list of new video titles\n",
    "# new_data = [\"Introduction to Natural Language Processing\",\n",
    "#             \"Advanced Python Programming\",\n",
    "#             \"Latest Technology Trends in 2024\",\n",
    "#             \"How to learn data science in 2023\",\n",
    "#             \"Top 10 Python tips and tricks\",\n",
    "#             \"Machine learning explained in 5 minutes\",\n",
    "#             \"Cooking hacks for beginners\",\n",
    "#             \"Latest tech news and updates\"]\n",
    "\n",
    "# new_data = pd.Series(new_data)\n",
    "# new_data = new_data.apply(preprocess_text)\n",
    "# text_values = new_data\n",
    "\n",
    "# # Transform the preprocessed new data into TF-IDF features using the same vectorizer\n",
    "# new_tfidf_matrix = vectorizer.transform(text_values)\n",
    "\n",
    "# # Use the trained k-means model to predict cluster labels for the new data\n",
    "# new_cluster_labels = kmeans_model.predict(new_tfidf_matrix)\n",
    "\n",
    "# # Display the results\n",
    "# for i, title in enumerate(new_data):\n",
    "#     print(f\"Cluster {new_cluster_labels[i]} | Title: {title}\")"
   ]
  },
  {
   "cell_type": "markdown",
   "metadata": {},
   "source": [
    "## Clustering tags"
   ]
  },
  {
   "cell_type": "markdown",
   "metadata": {},
   "source": [
    "# -------------------- BREAK --------------------"
   ]
  },
  {
   "cell_type": "markdown",
   "metadata": {},
   "source": [
    "## Feature engineering"
   ]
  },
  {
   "cell_type": "code",
   "execution_count": null,
   "metadata": {},
   "outputs": [],
   "source": [
    "target = \"viewCount\"\n",
    "X = clean_df.copy()\n",
    "X.drop(target, axis=1, inplace=True)\n",
    "y = clean_df[target].copy()\n",
    "\n",
    "cat_cols = [col for col in X.columns if X[col].dtype == \"object\"]\n",
    "from sklearn.preprocessing import LabelEncoder\n",
    "for col in cat_cols:\n",
    "    le = LabelEncoder()\n",
    "    X[col] = le.fit_transform(X[col])\n",
    "    # X_val[col] = le.transform(X_val[col])\n",
    "    # X_test[col] = le.transform(X_test[col])"
   ]
  },
  {
   "cell_type": "code",
   "execution_count": null,
   "metadata": {},
   "outputs": [],
   "source": [
    "X, X_test, y, y_test = train_test_split(X, y, test_size=0.15, random_state=42)\n",
    "X_train, X_val, y_train, y_val = train_test_split(X, y, test_size=0.15, random_state=42)"
   ]
  },
  {
   "cell_type": "code",
   "execution_count": null,
   "metadata": {},
   "outputs": [],
   "source": [
    "X_train.shape, X_val.shape, X_test.shape, y_train.shape, y_val.shape, y_test.shape"
   ]
  },
  {
   "cell_type": "markdown",
   "metadata": {},
   "source": [
    "## Training model"
   ]
  },
  {
   "cell_type": "code",
   "execution_count": null,
   "metadata": {},
   "outputs": [],
   "source": [
    "# YOUR CODE HERE (OPTION) "
   ]
  },
  {
   "cell_type": "markdown",
   "metadata": {},
   "source": [
    "## Evaluation"
   ]
  },
  {
   "cell_type": "code",
   "execution_count": null,
   "metadata": {},
   "outputs": [],
   "source": [
    "# YOUR CODE HERE (OPTION) "
   ]
  },
  {
   "cell_type": "markdown",
   "metadata": {},
   "source": [
    "## Prediction"
   ]
  },
  {
   "cell_type": "code",
   "execution_count": null,
   "metadata": {},
   "outputs": [],
   "source": [
    "# YOUR CODE HERE (OPTION) "
   ]
  },
  {
   "cell_type": "markdown",
   "metadata": {},
   "source": [
    "## Results analysis"
   ]
  },
  {
   "cell_type": "code",
   "execution_count": null,
   "metadata": {},
   "outputs": [],
   "source": [
    "# YOUR CODE HERE (OPTION) "
   ]
  },
  {
   "cell_type": "markdown",
   "metadata": {},
   "source": [
    "## Conclusion"
   ]
  },
  {
   "cell_type": "markdown",
   "metadata": {},
   "source": [
    "**Your conclusion**"
   ]
  }
 ],
 "metadata": {
  "kernelspec": {
   "display_name": "min_ds-env",
   "language": "python",
   "name": "python3"
  },
  "language_info": {
   "codemirror_mode": {
    "name": "ipython",
    "version": 3
   },
   "file_extension": ".py",
   "mimetype": "text/x-python",
   "name": "python",
   "nbconvert_exporter": "python",
   "pygments_lexer": "ipython3",
   "version": "3.9.18"
  }
 },
 "nbformat": 4,
 "nbformat_minor": 2
}
