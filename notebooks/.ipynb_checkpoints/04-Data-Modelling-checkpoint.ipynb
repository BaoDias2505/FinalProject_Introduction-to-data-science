{
 "cells": [
  {
   "cell_type": "markdown",
   "metadata": {},
   "source": [
    "## Import"
   ]
  },
  {
   "cell_type": "code",
   "execution_count": 1,
   "metadata": {},
   "outputs": [],
   "source": [
    "import numpy as np\n",
    "import pandas as pd\n",
    "import seaborn as sns\n",
    "import matplotlib.pyplot as plt\n",
    "from sklearn import linear_model\n",
    "from sklearn.linear_model import LinearRegression, LogisticRegression\n",
    "from sklearn.metrics import precision_score, recall_score, classification_report, confusion_matrix\n",
    "from sklearn.model_selection import train_test_split\n",
    "from sklearn.ensemble import RandomForestClassifier\n",
    "from sklearn.tree import DecisionTreeRegressor\n",
    "\n"
   ]
  },
  {
   "cell_type": "markdown",
   "metadata": {},
   "source": [
    "## Data preparation"
   ]
  },
  {
   "cell_type": "code",
   "execution_count": 2,
   "metadata": {},
   "outputs": [],
   "source": [
    "clean_df = pd.read_csv('../data/processed/video_data_processed.csv')"
   ]
  },
  {
   "cell_type": "code",
   "execution_count": 3,
   "metadata": {},
   "outputs": [
    {
     "data": {
      "text/html": [
       "<div>\n",
       "<style scoped>\n",
       "    .dataframe tbody tr th:only-of-type {\n",
       "        vertical-align: middle;\n",
       "    }\n",
       "\n",
       "    .dataframe tbody tr th {\n",
       "        vertical-align: top;\n",
       "    }\n",
       "\n",
       "    .dataframe thead th {\n",
       "        text-align: right;\n",
       "    }\n",
       "</style>\n",
       "<table border=\"1\" class=\"dataframe\">\n",
       "  <thead>\n",
       "    <tr style=\"text-align: right;\">\n",
       "      <th></th>\n",
       "      <th>video_id</th>\n",
       "      <th>channelTitle</th>\n",
       "      <th>title</th>\n",
       "      <th>description</th>\n",
       "      <th>tags</th>\n",
       "      <th>publishedAt</th>\n",
       "      <th>viewCount</th>\n",
       "      <th>likeCount</th>\n",
       "      <th>commentCount</th>\n",
       "      <th>duration</th>\n",
       "      <th>definition</th>\n",
       "      <th>caption</th>\n",
       "      <th>hour</th>\n",
       "      <th>day</th>\n",
       "      <th>day_of_week</th>\n",
       "      <th>month</th>\n",
       "      <th>year</th>\n",
       "    </tr>\n",
       "  </thead>\n",
       "  <tbody>\n",
       "    <tr>\n",
       "      <th>15969</th>\n",
       "      <td>9vZGkejUHvE</td>\n",
       "      <td>Data Science with Sharan</td>\n",
       "      <td>Day 17 - Pandas - Visualization</td>\n",
       "      <td>This is a video series on learning data scienc...</td>\n",
       "      <td>Learn Data Science|Data Science</td>\n",
       "      <td>2020-10-14 09:00:04+00:00</td>\n",
       "      <td>368</td>\n",
       "      <td>25</td>\n",
       "      <td>5</td>\n",
       "      <td>1023</td>\n",
       "      <td>hd</td>\n",
       "      <td>False</td>\n",
       "      <td>9</td>\n",
       "      <td>14</td>\n",
       "      <td>2</td>\n",
       "      <td>10</td>\n",
       "      <td>2020</td>\n",
       "    </tr>\n",
       "    <tr>\n",
       "      <th>9182</th>\n",
       "      <td>E2i6nZEnYF0</td>\n",
       "      <td>Greg Hogg</td>\n",
       "      <td>Sklearn Simple Imputer Tutorial</td>\n",
       "      <td>Try 7,000+ world-class courses for free at htt...</td>\n",
       "      <td>Machine Learning|Data Science|Python|Deep Lear...</td>\n",
       "      <td>2021-12-11 19:24:49+00:00</td>\n",
       "      <td>6439</td>\n",
       "      <td>175</td>\n",
       "      <td>12</td>\n",
       "      <td>471</td>\n",
       "      <td>hd</td>\n",
       "      <td>False</td>\n",
       "      <td>19</td>\n",
       "      <td>11</td>\n",
       "      <td>5</td>\n",
       "      <td>12</td>\n",
       "      <td>2021</td>\n",
       "    </tr>\n",
       "    <tr>\n",
       "      <th>11843</th>\n",
       "      <td>4Zu2ON4kYsM</td>\n",
       "      <td>Brandon Foltz</td>\n",
       "      <td>Time Series 101: MAPE Forecast Accuracy</td>\n",
       "      <td>In this Time Series 101 video, we learn about ...</td>\n",
       "      <td>brandon foltz|statistics 101|brandon c. foltz|...</td>\n",
       "      <td>2023-01-18 15:30:02+00:00</td>\n",
       "      <td>2438</td>\n",
       "      <td>70</td>\n",
       "      <td>1</td>\n",
       "      <td>746</td>\n",
       "      <td>hd</td>\n",
       "      <td>True</td>\n",
       "      <td>15</td>\n",
       "      <td>18</td>\n",
       "      <td>2</td>\n",
       "      <td>1</td>\n",
       "      <td>2023</td>\n",
       "    </tr>\n",
       "    <tr>\n",
       "      <th>26586</th>\n",
       "      <td>XdDJ7GmZhrs</td>\n",
       "      <td>Databricks</td>\n",
       "      <td>The Value of the Lakehouse: How T-Mobile Artic...</td>\n",
       "      <td>Undergoing any sort of technology transformati...</td>\n",
       "      <td>Databricks</td>\n",
       "      <td>2023-07-27 23:53:06+00:00</td>\n",
       "      <td>367</td>\n",
       "      <td>3</td>\n",
       "      <td>0</td>\n",
       "      <td>1688</td>\n",
       "      <td>hd</td>\n",
       "      <td>False</td>\n",
       "      <td>23</td>\n",
       "      <td>27</td>\n",
       "      <td>3</td>\n",
       "      <td>7</td>\n",
       "      <td>2023</td>\n",
       "    </tr>\n",
       "    <tr>\n",
       "      <th>15625</th>\n",
       "      <td>O_tMgYcA8j0</td>\n",
       "      <td>Great Learning</td>\n",
       "      <td>Supervised Machine Learning Tutorial for Begin...</td>\n",
       "      <td>🔥1000+ Free Courses With Free Certificates: ht...</td>\n",
       "      <td>Great Learning|Great Lakes|Data Analytics|Data...</td>\n",
       "      <td>2018-11-27 13:00:01+00:00</td>\n",
       "      <td>14853</td>\n",
       "      <td>156</td>\n",
       "      <td>5</td>\n",
       "      <td>1498</td>\n",
       "      <td>hd</td>\n",
       "      <td>False</td>\n",
       "      <td>13</td>\n",
       "      <td>27</td>\n",
       "      <td>1</td>\n",
       "      <td>11</td>\n",
       "      <td>2018</td>\n",
       "    </tr>\n",
       "  </tbody>\n",
       "</table>\n",
       "</div>"
      ],
      "text/plain": [
       "          video_id              channelTitle  \\\n",
       "15969  9vZGkejUHvE  Data Science with Sharan   \n",
       "9182   E2i6nZEnYF0                 Greg Hogg   \n",
       "11843  4Zu2ON4kYsM             Brandon Foltz   \n",
       "26586  XdDJ7GmZhrs                Databricks   \n",
       "15625  O_tMgYcA8j0            Great Learning   \n",
       "\n",
       "                                                   title  \\\n",
       "15969                    Day 17 - Pandas - Visualization   \n",
       "9182                     Sklearn Simple Imputer Tutorial   \n",
       "11843            Time Series 101: MAPE Forecast Accuracy   \n",
       "26586  The Value of the Lakehouse: How T-Mobile Artic...   \n",
       "15625  Supervised Machine Learning Tutorial for Begin...   \n",
       "\n",
       "                                             description  \\\n",
       "15969  This is a video series on learning data scienc...   \n",
       "9182   Try 7,000+ world-class courses for free at htt...   \n",
       "11843  In this Time Series 101 video, we learn about ...   \n",
       "26586  Undergoing any sort of technology transformati...   \n",
       "15625  🔥1000+ Free Courses With Free Certificates: ht...   \n",
       "\n",
       "                                                    tags  \\\n",
       "15969                    Learn Data Science|Data Science   \n",
       "9182   Machine Learning|Data Science|Python|Deep Lear...   \n",
       "11843  brandon foltz|statistics 101|brandon c. foltz|...   \n",
       "26586                                         Databricks   \n",
       "15625  Great Learning|Great Lakes|Data Analytics|Data...   \n",
       "\n",
       "                     publishedAt  viewCount  likeCount  commentCount  \\\n",
       "15969  2020-10-14 09:00:04+00:00        368         25             5   \n",
       "9182   2021-12-11 19:24:49+00:00       6439        175            12   \n",
       "11843  2023-01-18 15:30:02+00:00       2438         70             1   \n",
       "26586  2023-07-27 23:53:06+00:00        367          3             0   \n",
       "15625  2018-11-27 13:00:01+00:00      14853        156             5   \n",
       "\n",
       "       duration definition  caption  hour  day  day_of_week  month  year  \n",
       "15969      1023         hd    False     9   14            2     10  2020  \n",
       "9182        471         hd    False    19   11            5     12  2021  \n",
       "11843       746         hd     True    15   18            2      1  2023  \n",
       "26586      1688         hd    False    23   27            3      7  2023  \n",
       "15625      1498         hd    False    13   27            1     11  2018  "
      ]
     },
     "execution_count": 3,
     "metadata": {},
     "output_type": "execute_result"
    }
   ],
   "source": [
    "clean_df.sample(5)"
   ]
  },
  {
   "cell_type": "markdown",
   "metadata": {},
   "source": [
    "## Feature engineering"
   ]
  },
  {
   "cell_type": "code",
   "execution_count": 4,
   "metadata": {},
   "outputs": [],
   "source": [
    "X = clean_df[['likeCount', 'commentCount', 'hour', 'day', 'month', 'year']]\n",
    "# Tạo cột nhãn, ví dụ: nếu viewCount lớn hơn một ngưỡng nào đó, coi video đó là phổ biến\n",
    "threshold_viewCount = clean_df['viewCount'].quantile(0.7)\n",
    "clean_df['isTrending'] = (clean_df['viewCount'] > threshold_viewCount).astype(int)\n",
    "y = clean_df['isTrending']"
   ]
  },
  {
   "cell_type": "code",
   "execution_count": 5,
   "metadata": {},
   "outputs": [
    {
     "data": {
      "text/html": [
       "<div>\n",
       "<style scoped>\n",
       "    .dataframe tbody tr th:only-of-type {\n",
       "        vertical-align: middle;\n",
       "    }\n",
       "\n",
       "    .dataframe tbody tr th {\n",
       "        vertical-align: top;\n",
       "    }\n",
       "\n",
       "    .dataframe thead th {\n",
       "        text-align: right;\n",
       "    }\n",
       "</style>\n",
       "<table border=\"1\" class=\"dataframe\">\n",
       "  <thead>\n",
       "    <tr style=\"text-align: right;\">\n",
       "      <th></th>\n",
       "      <th>video_id</th>\n",
       "      <th>channelTitle</th>\n",
       "      <th>title</th>\n",
       "      <th>description</th>\n",
       "      <th>tags</th>\n",
       "      <th>publishedAt</th>\n",
       "      <th>viewCount</th>\n",
       "      <th>likeCount</th>\n",
       "      <th>commentCount</th>\n",
       "      <th>duration</th>\n",
       "      <th>definition</th>\n",
       "      <th>caption</th>\n",
       "      <th>hour</th>\n",
       "      <th>day</th>\n",
       "      <th>day_of_week</th>\n",
       "      <th>month</th>\n",
       "      <th>year</th>\n",
       "      <th>isTrending</th>\n",
       "    </tr>\n",
       "  </thead>\n",
       "  <tbody>\n",
       "    <tr>\n",
       "      <th>13086</th>\n",
       "      <td>YDKuknw9WGs</td>\n",
       "      <td>Tech With Tim</td>\n",
       "      <td>Python Simulation Tutorial - Conway's Game of ...</td>\n",
       "      <td>Today, I am going to show you how to create th...</td>\n",
       "      <td>tech with tim|python tutorial|python tutorial ...</td>\n",
       "      <td>2023-10-01 14:00:21+00:00</td>\n",
       "      <td>21341</td>\n",
       "      <td>643</td>\n",
       "      <td>35</td>\n",
       "      <td>2473</td>\n",
       "      <td>hd</td>\n",
       "      <td>True</td>\n",
       "      <td>14</td>\n",
       "      <td>1</td>\n",
       "      <td>6</td>\n",
       "      <td>10</td>\n",
       "      <td>2023</td>\n",
       "      <td>1</td>\n",
       "    </tr>\n",
       "    <tr>\n",
       "      <th>29821</th>\n",
       "      <td>ldLuj86t4RE</td>\n",
       "      <td>Satyajit Pattnaik</td>\n",
       "      <td>Power BI Advanced DAX End to End - Power BI DA...</td>\n",
       "      <td>(Power BI Advanced DAX)\\nData Analysis Express...</td>\n",
       "      <td>advanced dax|power bi dax|power bi advanced da...</td>\n",
       "      <td>2022-06-27 03:01:59+00:00</td>\n",
       "      <td>6657</td>\n",
       "      <td>193</td>\n",
       "      <td>6</td>\n",
       "      <td>5211</td>\n",
       "      <td>hd</td>\n",
       "      <td>False</td>\n",
       "      <td>3</td>\n",
       "      <td>27</td>\n",
       "      <td>0</td>\n",
       "      <td>6</td>\n",
       "      <td>2022</td>\n",
       "      <td>0</td>\n",
       "    </tr>\n",
       "    <tr>\n",
       "      <th>16953</th>\n",
       "      <td>97c9_PcFwzI</td>\n",
       "      <td>Brandon Rohrer</td>\n",
       "      <td>DataScienceForBeginnersAskQuestionYouCanAnswer...</td>\n",
       "      <td>(nodescription)</td>\n",
       "      <td>(notag)</td>\n",
       "      <td>2023-09-24 16:30:26+00:00</td>\n",
       "      <td>114</td>\n",
       "      <td>5</td>\n",
       "      <td>0</td>\n",
       "      <td>258</td>\n",
       "      <td>hd</td>\n",
       "      <td>False</td>\n",
       "      <td>16</td>\n",
       "      <td>24</td>\n",
       "      <td>6</td>\n",
       "      <td>9</td>\n",
       "      <td>2023</td>\n",
       "      <td>0</td>\n",
       "    </tr>\n",
       "    <tr>\n",
       "      <th>10643</th>\n",
       "      <td>DgGxmbCbBvc</td>\n",
       "      <td>Jay Feng</td>\n",
       "      <td>Data Science Job Market Predictions for 2023 p...</td>\n",
       "      <td>How does the Data Science job market look like...</td>\n",
       "      <td>data science|job|predictions|2023|layoffs 2023...</td>\n",
       "      <td>2023-02-06 16:53:10+00:00</td>\n",
       "      <td>699</td>\n",
       "      <td>24</td>\n",
       "      <td>0</td>\n",
       "      <td>59</td>\n",
       "      <td>hd</td>\n",
       "      <td>False</td>\n",
       "      <td>16</td>\n",
       "      <td>6</td>\n",
       "      <td>0</td>\n",
       "      <td>2</td>\n",
       "      <td>2023</td>\n",
       "      <td>0</td>\n",
       "    </tr>\n",
       "    <tr>\n",
       "      <th>26814</th>\n",
       "      <td>uSMXxhkHmZw</td>\n",
       "      <td>Databricks</td>\n",
       "      <td>Delta Lake AMA</td>\n",
       "      <td>Have some great questions about Delta Lake?  W...</td>\n",
       "      <td>Databricks</td>\n",
       "      <td>2023-07-26 21:02:59+00:00</td>\n",
       "      <td>130</td>\n",
       "      <td>0</td>\n",
       "      <td>0</td>\n",
       "      <td>2448</td>\n",
       "      <td>hd</td>\n",
       "      <td>False</td>\n",
       "      <td>21</td>\n",
       "      <td>26</td>\n",
       "      <td>2</td>\n",
       "      <td>7</td>\n",
       "      <td>2023</td>\n",
       "      <td>0</td>\n",
       "    </tr>\n",
       "  </tbody>\n",
       "</table>\n",
       "</div>"
      ],
      "text/plain": [
       "          video_id       channelTitle  \\\n",
       "13086  YDKuknw9WGs      Tech With Tim   \n",
       "29821  ldLuj86t4RE  Satyajit Pattnaik   \n",
       "16953  97c9_PcFwzI     Brandon Rohrer   \n",
       "10643  DgGxmbCbBvc           Jay Feng   \n",
       "26814  uSMXxhkHmZw         Databricks   \n",
       "\n",
       "                                                   title  \\\n",
       "13086  Python Simulation Tutorial - Conway's Game of ...   \n",
       "29821  Power BI Advanced DAX End to End - Power BI DA...   \n",
       "16953  DataScienceForBeginnersAskQuestionYouCanAnswer...   \n",
       "10643  Data Science Job Market Predictions for 2023 p...   \n",
       "26814                                     Delta Lake AMA   \n",
       "\n",
       "                                             description  \\\n",
       "13086  Today, I am going to show you how to create th...   \n",
       "29821  (Power BI Advanced DAX)\\nData Analysis Express...   \n",
       "16953                                    (nodescription)   \n",
       "10643  How does the Data Science job market look like...   \n",
       "26814  Have some great questions about Delta Lake?  W...   \n",
       "\n",
       "                                                    tags  \\\n",
       "13086  tech with tim|python tutorial|python tutorial ...   \n",
       "29821  advanced dax|power bi dax|power bi advanced da...   \n",
       "16953                                            (notag)   \n",
       "10643  data science|job|predictions|2023|layoffs 2023...   \n",
       "26814                                         Databricks   \n",
       "\n",
       "                     publishedAt  viewCount  likeCount  commentCount  \\\n",
       "13086  2023-10-01 14:00:21+00:00      21341        643            35   \n",
       "29821  2022-06-27 03:01:59+00:00       6657        193             6   \n",
       "16953  2023-09-24 16:30:26+00:00        114          5             0   \n",
       "10643  2023-02-06 16:53:10+00:00        699         24             0   \n",
       "26814  2023-07-26 21:02:59+00:00        130          0             0   \n",
       "\n",
       "       duration definition  caption  hour  day  day_of_week  month  year  \\\n",
       "13086      2473         hd     True    14    1            6     10  2023   \n",
       "29821      5211         hd    False     3   27            0      6  2022   \n",
       "16953       258         hd    False    16   24            6      9  2023   \n",
       "10643        59         hd    False    16    6            0      2  2023   \n",
       "26814      2448         hd    False    21   26            2      7  2023   \n",
       "\n",
       "       isTrending  \n",
       "13086           1  \n",
       "29821           0  \n",
       "16953           0  \n",
       "10643           0  \n",
       "26814           0  "
      ]
     },
     "execution_count": 5,
     "metadata": {},
     "output_type": "execute_result"
    }
   ],
   "source": [
    "clean_df.sample(5)\n"
   ]
  },
  {
   "cell_type": "markdown",
   "metadata": {},
   "source": [
    "## Training model"
   ]
  },
  {
   "cell_type": "code",
   "execution_count": 6,
   "metadata": {},
   "outputs": [
    {
     "data": {
      "text/html": [
       "<style>#sk-container-id-1 {color: black;}#sk-container-id-1 pre{padding: 0;}#sk-container-id-1 div.sk-toggleable {background-color: white;}#sk-container-id-1 label.sk-toggleable__label {cursor: pointer;display: block;width: 100%;margin-bottom: 0;padding: 0.3em;box-sizing: border-box;text-align: center;}#sk-container-id-1 label.sk-toggleable__label-arrow:before {content: \"▸\";float: left;margin-right: 0.25em;color: #696969;}#sk-container-id-1 label.sk-toggleable__label-arrow:hover:before {color: black;}#sk-container-id-1 div.sk-estimator:hover label.sk-toggleable__label-arrow:before {color: black;}#sk-container-id-1 div.sk-toggleable__content {max-height: 0;max-width: 0;overflow: hidden;text-align: left;background-color: #f0f8ff;}#sk-container-id-1 div.sk-toggleable__content pre {margin: 0.2em;color: black;border-radius: 0.25em;background-color: #f0f8ff;}#sk-container-id-1 input.sk-toggleable__control:checked~div.sk-toggleable__content {max-height: 200px;max-width: 100%;overflow: auto;}#sk-container-id-1 input.sk-toggleable__control:checked~label.sk-toggleable__label-arrow:before {content: \"▾\";}#sk-container-id-1 div.sk-estimator input.sk-toggleable__control:checked~label.sk-toggleable__label {background-color: #d4ebff;}#sk-container-id-1 div.sk-label input.sk-toggleable__control:checked~label.sk-toggleable__label {background-color: #d4ebff;}#sk-container-id-1 input.sk-hidden--visually {border: 0;clip: rect(1px 1px 1px 1px);clip: rect(1px, 1px, 1px, 1px);height: 1px;margin: -1px;overflow: hidden;padding: 0;position: absolute;width: 1px;}#sk-container-id-1 div.sk-estimator {font-family: monospace;background-color: #f0f8ff;border: 1px dotted black;border-radius: 0.25em;box-sizing: border-box;margin-bottom: 0.5em;}#sk-container-id-1 div.sk-estimator:hover {background-color: #d4ebff;}#sk-container-id-1 div.sk-parallel-item::after {content: \"\";width: 100%;border-bottom: 1px solid gray;flex-grow: 1;}#sk-container-id-1 div.sk-label:hover label.sk-toggleable__label {background-color: #d4ebff;}#sk-container-id-1 div.sk-serial::before {content: \"\";position: absolute;border-left: 1px solid gray;box-sizing: border-box;top: 0;bottom: 0;left: 50%;z-index: 0;}#sk-container-id-1 div.sk-serial {display: flex;flex-direction: column;align-items: center;background-color: white;padding-right: 0.2em;padding-left: 0.2em;position: relative;}#sk-container-id-1 div.sk-item {position: relative;z-index: 1;}#sk-container-id-1 div.sk-parallel {display: flex;align-items: stretch;justify-content: center;background-color: white;position: relative;}#sk-container-id-1 div.sk-item::before, #sk-container-id-1 div.sk-parallel-item::before {content: \"\";position: absolute;border-left: 1px solid gray;box-sizing: border-box;top: 0;bottom: 0;left: 50%;z-index: -1;}#sk-container-id-1 div.sk-parallel-item {display: flex;flex-direction: column;z-index: 1;position: relative;background-color: white;}#sk-container-id-1 div.sk-parallel-item:first-child::after {align-self: flex-end;width: 50%;}#sk-container-id-1 div.sk-parallel-item:last-child::after {align-self: flex-start;width: 50%;}#sk-container-id-1 div.sk-parallel-item:only-child::after {width: 0;}#sk-container-id-1 div.sk-dashed-wrapped {border: 1px dashed gray;margin: 0 0.4em 0.5em 0.4em;box-sizing: border-box;padding-bottom: 0.4em;background-color: white;}#sk-container-id-1 div.sk-label label {font-family: monospace;font-weight: bold;display: inline-block;line-height: 1.2em;}#sk-container-id-1 div.sk-label-container {text-align: center;}#sk-container-id-1 div.sk-container {/* jupyter's `normalize.less` sets `[hidden] { display: none; }` but bootstrap.min.css set `[hidden] { display: none !important; }` so we also need the `!important` here to be able to override the default hidden behavior on the sphinx rendered scikit-learn.org. See: https://github.com/scikit-learn/scikit-learn/issues/21755 */display: inline-block !important;position: relative;}#sk-container-id-1 div.sk-text-repr-fallback {display: none;}</style><div id=\"sk-container-id-1\" class=\"sk-top-container\"><div class=\"sk-text-repr-fallback\"><pre>LogisticRegression(max_iter=1000, solver=&#x27;liblinear&#x27;)</pre><b>In a Jupyter environment, please rerun this cell to show the HTML representation or trust the notebook. <br />On GitHub, the HTML representation is unable to render, please try loading this page with nbviewer.org.</b></div><div class=\"sk-container\" hidden><div class=\"sk-item\"><div class=\"sk-estimator sk-toggleable\"><input class=\"sk-toggleable__control sk-hidden--visually\" id=\"sk-estimator-id-1\" type=\"checkbox\" checked><label for=\"sk-estimator-id-1\" class=\"sk-toggleable__label sk-toggleable__label-arrow\">LogisticRegression</label><div class=\"sk-toggleable__content\"><pre>LogisticRegression(max_iter=1000, solver=&#x27;liblinear&#x27;)</pre></div></div></div></div></div>"
      ],
      "text/plain": [
       "LogisticRegression(max_iter=1000, solver='liblinear')"
      ]
     },
     "execution_count": 6,
     "metadata": {},
     "output_type": "execute_result"
    }
   ],
   "source": [
    "X_train, X_valid, y_train, y_valid = train_test_split(X, y ,test_size=0.2)\n",
    "model = LogisticRegression(solver = 'liblinear',max_iter=1000)\n",
    "model.fit(X_train, y_train)"
   ]
  },
  {
   "cell_type": "markdown",
   "metadata": {},
   "source": [
    "## Evaluation"
   ]
  },
  {
   "cell_type": "code",
   "execution_count": 7,
   "metadata": {},
   "outputs": [
    {
     "data": {
      "text/plain": [
       "0.9177979511951362"
      ]
     },
     "execution_count": 7,
     "metadata": {},
     "output_type": "execute_result"
    }
   ],
   "source": [
    "model.score(X_valid,y_valid)"
   ]
  },
  {
   "cell_type": "markdown",
   "metadata": {},
   "source": [
    "## Prediction"
   ]
  },
  {
   "cell_type": "code",
   "execution_count": 8,
   "metadata": {},
   "outputs": [],
   "source": [
    "y_pred = model.predict(X_valid)"
   ]
  },
  {
   "cell_type": "code",
   "execution_count": 9,
   "metadata": {},
   "outputs": [
    {
     "data": {
      "text/plain": [
       "(0.9208542713567839, 0.7995636760294519)"
      ]
     },
     "execution_count": 9,
     "metadata": {},
     "output_type": "execute_result"
    }
   ],
   "source": [
    "precision_score(y_valid,y_pred), recall_score(y_valid,y_pred)"
   ]
  },
  {
   "cell_type": "code",
   "execution_count": 10,
   "metadata": {},
   "outputs": [
    {
     "name": "stdout",
     "output_type": "stream",
     "text": [
      "              precision    recall  f1-score   support\n",
      "\n",
      "           0       0.92      0.97      0.94      8340\n",
      "           1       0.92      0.80      0.86      3667\n",
      "\n",
      "    accuracy                           0.92     12007\n",
      "   macro avg       0.92      0.88      0.90     12007\n",
      "weighted avg       0.92      0.92      0.92     12007\n",
      "\n"
     ]
    }
   ],
   "source": [
    "print(classification_report(y_valid,y_pred))"
   ]
  },
  {
   "cell_type": "markdown",
   "metadata": {},
   "source": [
    "##### Decision Tree"
   ]
  },
  {
   "cell_type": "code",
   "execution_count": 11,
   "metadata": {},
   "outputs": [],
   "source": [
    "# decision_Tree = DecisionTreeRegressor()\n",
    "# decision_Tree.fit(X_train,y_train)\n"
   ]
  },
  {
   "cell_type": "code",
   "execution_count": 12,
   "metadata": {},
   "outputs": [],
   "source": [
    "# decision_Tree.score(X_valid,y_valid)"
   ]
  },
  {
   "cell_type": "markdown",
   "metadata": {},
   "source": [
    "# TEMP\n"
   ]
  },
  {
   "cell_type": "code",
   "execution_count": 13,
   "metadata": {},
   "outputs": [],
   "source": [
    "from sklearn.svm import SVC, LinearSVC\n",
    "from sklearn.ensemble import RandomForestClassifier, GradientBoostingClassifier, ExtraTreesClassifier, AdaBoostClassifier\n",
    "from sklearn.neighbors import KNeighborsClassifier\n",
    "from xgboost import XGBClassifier\n",
    "from sklearn.model_selection import StratifiedKFold\n",
    "from sklearn.model_selection import cross_val_score\n",
    "seed = 2023\n",
    "models = [\n",
    "    LinearSVC(random_state=seed, dual=False, max_iter=1000),\n",
    "    SVC(random_state=seed),\n",
    "    RandomForestClassifier(random_state=seed),\n",
    "    GradientBoostingClassifier(random_state=seed),\n",
    "    ExtraTreesClassifier(),\n",
    "    AdaBoostClassifier(),\n",
    "    XGBClassifier(use_label_encoder=False, eval_metric='logloss', random_state=seed)\n",
    "]"
   ]
  },
  {
   "cell_type": "code",
   "execution_count": 15,
   "metadata": {
    "scrolled": true
   },
   "outputs": [
    {
     "data": {
      "image/png": "[encoded data removed]",
      "text/plain": [
       "<Figure size 640x480 with 1 Axes>"
      ]
     },
     "metadata": {},
     "output_type": "display_data"
    },
    {
     "data": {
      "text/html": [
       "<div>\n",
       "<style scoped>\n",
       "    .dataframe tbody tr th:only-of-type {\n",
       "        vertical-align: middle;\n",
       "    }\n",
       "\n",
       "    .dataframe tbody tr th {\n",
       "        vertical-align: top;\n",
       "    }\n",
       "\n",
       "    .dataframe thead th {\n",
       "        text-align: right;\n",
       "    }\n",
       "</style>\n",
       "<table border=\"1\" class=\"dataframe\">\n",
       "  <thead>\n",
       "    <tr style=\"text-align: right;\">\n",
       "      <th></th>\n",
       "      <th>Mean</th>\n",
       "      <th>Standard Deviation</th>\n",
       "    </tr>\n",
       "    <tr>\n",
       "      <th>model_name</th>\n",
       "      <th></th>\n",
       "      <th></th>\n",
       "    </tr>\n",
       "  </thead>\n",
       "  <tbody>\n",
       "    <tr>\n",
       "      <th>RandomForestClassifier</th>\n",
       "      <td>0.938407</td>\n",
       "      <td>0.002902</td>\n",
       "    </tr>\n",
       "    <tr>\n",
       "      <th>XGBClassifier</th>\n",
       "      <td>0.937845</td>\n",
       "      <td>0.002065</td>\n",
       "    </tr>\n",
       "    <tr>\n",
       "      <th>GradientBoostingClassifier</th>\n",
       "      <td>0.937845</td>\n",
       "      <td>0.001962</td>\n",
       "    </tr>\n",
       "    <tr>\n",
       "      <th>ExtraTreesClassifier</th>\n",
       "      <td>0.936429</td>\n",
       "      <td>0.001170</td>\n",
       "    </tr>\n",
       "    <tr>\n",
       "      <th>AdaBoostClassifier</th>\n",
       "      <td>0.931244</td>\n",
       "      <td>0.002088</td>\n",
       "    </tr>\n",
       "    <tr>\n",
       "      <th>LinearSVC</th>\n",
       "      <td>0.918896</td>\n",
       "      <td>0.002188</td>\n",
       "    </tr>\n",
       "    <tr>\n",
       "      <th>SVC</th>\n",
       "      <td>0.918084</td>\n",
       "      <td>0.001979</td>\n",
       "    </tr>\n",
       "  </tbody>\n",
       "</table>\n",
       "</div>"
      ],
      "text/plain": [
       "                                Mean  Standard Deviation\n",
       "model_name                                              \n",
       "RandomForestClassifier      0.938407            0.002902\n",
       "XGBClassifier               0.937845            0.002065\n",
       "GradientBoostingClassifier  0.937845            0.001962\n",
       "ExtraTreesClassifier        0.936429            0.001170\n",
       "AdaBoostClassifier          0.931244            0.002088\n",
       "LinearSVC                   0.918896            0.002188\n",
       "SVC                         0.918084            0.001979"
      ]
     },
     "execution_count": 15,
     "metadata": {},
     "output_type": "execute_result"
    }
   ],
   "source": [
    "def generate_baseline_result(models, X, y, metrics, cv=5, plot_result=False):\n",
    "    # define k-fold\n",
    "    kfold = StratifiedKFold(n_splits=cv, shuffle=True, random_state=seed)\n",
    "    entries = []\n",
    "    for model in models:\n",
    "        model_name = model.__class__.__name__\n",
    "        scores = cross_val_score(model, X, y, scoring=metrics, cv=kfold)\n",
    "        for fold_idx, score in enumerate(scores):\n",
    "            entries.append((model_name, fold_idx, score))\n",
    "\n",
    "    cv_df = pd.DataFrame(entries, columns=['model_name', 'fold_idx', 'score'])\n",
    "    \n",
    "    mean = cv_df.groupby('model_name')['score'].mean()\n",
    "    std = cv_df.groupby('model_name')['score'].std()\n",
    "    \n",
    "    baseline_results = pd.concat([mean,std],axis =1, ignore_index=True)\n",
    "    baseline_results.columns =['Mean','Standard Deviation']\n",
    "    baseline_results.sort_values(by=['Mean'], ascending = False, inplace = True)\n",
    "    \n",
    "    if plot_result:\n",
    "        sns.boxplot(x ='model_name',y = 'score', data = cv_df, color ='lightblue',showmeans=True)\n",
    "        plt.title('Boxplot of Base-Line Model Accuracy using 5-fold cross-validation')\n",
    "        plt.show()\n",
    "    \n",
    "    return baseline_results\n",
    "\n",
    "# Metric: https://scikit-learn.org/stable/modules/model_evaluation.html\n",
    "generate_baseline_result(models, X_train, y_train, metrics='accuracy',cv=5,plot_result =True )"
   ]
  },
  {
   "cell_type": "markdown",
   "metadata": {},
   "source": [
    "## Fine-tune the model"
   ]
  },
  {
   "cell_type": "code",
   "execution_count": 16,
   "metadata": {},
   "outputs": [
    {
     "name": "stdout",
     "output_type": "stream",
     "text": [
      "Best Model Accuracy: 0.9393687015907387\n"
     ]
    }
   ],
   "source": [
    "# Define the hyperparameter grid\n",
    "from sklearn.model_selection import GridSearchCV\n",
    "from sklearn.ensemble import RandomForestClassifier\n",
    "from sklearn.metrics import accuracy_score\n",
    "\n",
    "param_grid = {\n",
    "    'n_estimators': [50, 100, 200],\n",
    "    'max_depth': [None, 10, 20],\n",
    "    'min_samples_split': [2, 5, 10],\n",
    "    'min_samples_leaf': [1, 2, 4]\n",
    "}\n",
    "\n",
    "# Create the GridSearchCV object\n",
    "grid_search = GridSearchCV(RandomForestClassifier(random_state=2023),\n",
    "                           param_grid=param_grid,\n",
    "                           cv=5,\n",
    "                           scoring='accuracy',\n",
    "                           n_jobs=-1)\n",
    "\n",
    "# Fit the GridSearchCV object to the data\n",
    "grid_search.fit(X_train, y_train)\n",
    "\n",
    "# Get the best parameters from the grid search\n",
    "best_params = grid_search.best_params_\n",
    "\n",
    "# Train the model with the best hyperparameters\n",
    "best_model = RandomForestClassifier(random_state=2023, **best_params)\n",
    "best_model.fit(X_train, y_train)\n",
    "\n",
    "# Make predictions on the test set using the best model\n",
    "y_pred_best = best_model.predict(X_valid)\n",
    "\n",
    "# Evaluate the best model\n",
    "print(f\"Best Model Accuracy: {accuracy_score(y_valid, y_pred_best)}\")\n"
   ]
  },
  {
   "cell_type": "code",
   "execution_count": null,
   "metadata": {},
   "outputs": [],
   "source": []
  }
 ],
 "metadata": {
  "kernelspec": {
   "display_name": "Python 3 (ipykernel)",
   "language": "python",
   "name": "python3"
  },
  "language_info": {
   "codemirror_mode": {
    "name": "ipython",
    "version": 3
   },
   "file_extension": ".py",
   "mimetype": "text/x-python",
   "name": "python",
   "nbconvert_exporter": "python",
   "pygments_lexer": "ipython3",
   "version": "3.11.4"
  }
 },
 "nbformat": 4,
 "nbformat_minor": 4
}
