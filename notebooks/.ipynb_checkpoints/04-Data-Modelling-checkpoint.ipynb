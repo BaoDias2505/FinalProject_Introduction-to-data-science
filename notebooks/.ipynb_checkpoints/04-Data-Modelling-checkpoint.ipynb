{
 "cells": [
  {
   "cell_type": "markdown",
   "metadata": {},
   "source": [
    "## Import"
   ]
  },
  {
   "cell_type": "code",
   "execution_count": 1,
   "metadata": {},
   "outputs": [],
   "source": [
    "import numpy as np\n",
    "import pandas as pd\n",
    "import seaborn as sns\n",
    "import matplotlib.pyplot as plt\n",
    "from sklearn import linear_model\n",
    "from sklearn.linear_model import LinearRegression, LogisticRegression\n",
    "from sklearn.metrics import precision_score, recall_score, classification_report, confusion_matrix\n",
    "from sklearn.model_selection import train_test_split\n",
    "from sklearn.model_selection import GridSearchCV\n",
    "from sklearn.metrics import accuracy_score\n",
    "import warnings\n"
   ]
  },
  {
   "cell_type": "markdown",
   "metadata": {},
   "source": [
    "## Data preparation"
   ]
  },
  {
   "cell_type": "code",
   "execution_count": 2,
   "metadata": {},
   "outputs": [],
   "source": [
    "clean_df = pd.read_csv('../data/processed/video_data_processed.csv')"
   ]
  },
  {
   "cell_type": "code",
   "execution_count": 3,
   "metadata": {},
   "outputs": [
    {
     "data": {
      "text/html": [
       "<div>\n",
       "<style scoped>\n",
       "    .dataframe tbody tr th:only-of-type {\n",
       "        vertical-align: middle;\n",
       "    }\n",
       "\n",
       "    .dataframe tbody tr th {\n",
       "        vertical-align: top;\n",
       "    }\n",
       "\n",
       "    .dataframe thead th {\n",
       "        text-align: right;\n",
       "    }\n",
       "</style>\n",
       "<table border=\"1\" class=\"dataframe\">\n",
       "  <thead>\n",
       "    <tr style=\"text-align: right;\">\n",
       "      <th></th>\n",
       "      <th>video_id</th>\n",
       "      <th>channelTitle</th>\n",
       "      <th>title</th>\n",
       "      <th>description</th>\n",
       "      <th>tags</th>\n",
       "      <th>publishedAt</th>\n",
       "      <th>viewCount</th>\n",
       "      <th>likeCount</th>\n",
       "      <th>commentCount</th>\n",
       "      <th>duration</th>\n",
       "      <th>definition</th>\n",
       "      <th>caption</th>\n",
       "      <th>hour</th>\n",
       "      <th>day</th>\n",
       "      <th>day_of_week</th>\n",
       "      <th>month</th>\n",
       "      <th>year</th>\n",
       "    </tr>\n",
       "  </thead>\n",
       "  <tbody>\n",
       "    <tr>\n",
       "      <th>58544</th>\n",
       "      <td>E8aMcwmqsTg</td>\n",
       "      <td>Artificial Intelligence - All in One</td>\n",
       "      <td>Lecture 55 — Latent Factor Recommender System ...</td>\n",
       "      <td>Check out the following interesting papers. Ha...</td>\n",
       "      <td>Mining of Massive Datasets|Data Mining|Informa...</td>\n",
       "      <td>2016-04-13 18:49:31+00:00</td>\n",
       "      <td>42259</td>\n",
       "      <td>565</td>\n",
       "      <td>13</td>\n",
       "      <td>857</td>\n",
       "      <td>sd</td>\n",
       "      <td>False</td>\n",
       "      <td>18</td>\n",
       "      <td>13</td>\n",
       "      <td>2</td>\n",
       "      <td>4</td>\n",
       "      <td>2016</td>\n",
       "    </tr>\n",
       "    <tr>\n",
       "      <th>43080</th>\n",
       "      <td>gewuOdn9Wy0</td>\n",
       "      <td>itversity</td>\n",
       "      <td>09 Apache Spark Core APIs - Row level transfor...</td>\n",
       "      <td>Connect with me or follow me at\\nhttps://www.l...</td>\n",
       "      <td>(notag)</td>\n",
       "      <td>2018-01-17 05:16:45+00:00</td>\n",
       "      <td>2849</td>\n",
       "      <td>8</td>\n",
       "      <td>0</td>\n",
       "      <td>661</td>\n",
       "      <td>hd</td>\n",
       "      <td>False</td>\n",
       "      <td>5</td>\n",
       "      <td>17</td>\n",
       "      <td>2</td>\n",
       "      <td>1</td>\n",
       "      <td>2018</td>\n",
       "    </tr>\n",
       "    <tr>\n",
       "      <th>19841</th>\n",
       "      <td>Vfyw7mZFwBU</td>\n",
       "      <td>Snowflake Inc.</td>\n",
       "      <td>Snowflake Storage &amp; Apache Iceberg</td>\n",
       "      <td>Join @FelipeHoffa and James Malone as they tak...</td>\n",
       "      <td>(notag)</td>\n",
       "      <td>2022-07-29 04:39:40+00:00</td>\n",
       "      <td>2939</td>\n",
       "      <td>26</td>\n",
       "      <td>1</td>\n",
       "      <td>2003</td>\n",
       "      <td>hd</td>\n",
       "      <td>False</td>\n",
       "      <td>4</td>\n",
       "      <td>29</td>\n",
       "      <td>4</td>\n",
       "      <td>7</td>\n",
       "      <td>2022</td>\n",
       "    </tr>\n",
       "    <tr>\n",
       "      <th>24358</th>\n",
       "      <td>6humvAUVtoU</td>\n",
       "      <td>Seattle Data Guy</td>\n",
       "      <td>Starting A Data Science/Data Engineering Consu...</td>\n",
       "      <td>Starting a data science/engineering consulting...</td>\n",
       "      <td>big data|data analytics|tableau|sql|big query|...</td>\n",
       "      <td>2021-04-21 04:40:06+00:00</td>\n",
       "      <td>1913</td>\n",
       "      <td>64</td>\n",
       "      <td>1</td>\n",
       "      <td>2661</td>\n",
       "      <td>hd</td>\n",
       "      <td>False</td>\n",
       "      <td>4</td>\n",
       "      <td>21</td>\n",
       "      <td>2</td>\n",
       "      <td>4</td>\n",
       "      <td>2021</td>\n",
       "    </tr>\n",
       "    <tr>\n",
       "      <th>33211</th>\n",
       "      <td>p-ltr1C7u2o</td>\n",
       "      <td>DeepLearningAI</td>\n",
       "      <td>#31 Machine Learning Specialization [Course 1,...</td>\n",
       "      <td>The Machine Learning Specialization is a found...</td>\n",
       "      <td>(notag)</td>\n",
       "      <td>2022-12-01 13:23:03+00:00</td>\n",
       "      <td>10917</td>\n",
       "      <td>92</td>\n",
       "      <td>0</td>\n",
       "      <td>588</td>\n",
       "      <td>hd</td>\n",
       "      <td>False</td>\n",
       "      <td>13</td>\n",
       "      <td>1</td>\n",
       "      <td>3</td>\n",
       "      <td>12</td>\n",
       "      <td>2022</td>\n",
       "    </tr>\n",
       "  </tbody>\n",
       "</table>\n",
       "</div>"
      ],
      "text/plain": [
       "          video_id                          channelTitle  \\\n",
       "58544  E8aMcwmqsTg  Artificial Intelligence - All in One   \n",
       "43080  gewuOdn9Wy0                             itversity   \n",
       "19841  Vfyw7mZFwBU                        Snowflake Inc.   \n",
       "24358  6humvAUVtoU                      Seattle Data Guy   \n",
       "33211  p-ltr1C7u2o                        DeepLearningAI   \n",
       "\n",
       "                                                   title  \\\n",
       "58544  Lecture 55 — Latent Factor Recommender System ...   \n",
       "43080  09 Apache Spark Core APIs - Row level transfor...   \n",
       "19841                 Snowflake Storage & Apache Iceberg   \n",
       "24358  Starting A Data Science/Data Engineering Consu...   \n",
       "33211  #31 Machine Learning Specialization [Course 1,...   \n",
       "\n",
       "                                             description  \\\n",
       "58544  Check out the following interesting papers. Ha...   \n",
       "43080  Connect with me or follow me at\\nhttps://www.l...   \n",
       "19841  Join @FelipeHoffa and James Malone as they tak...   \n",
       "24358  Starting a data science/engineering consulting...   \n",
       "33211  The Machine Learning Specialization is a found...   \n",
       "\n",
       "                                                    tags  \\\n",
       "58544  Mining of Massive Datasets|Data Mining|Informa...   \n",
       "43080                                            (notag)   \n",
       "19841                                            (notag)   \n",
       "24358  big data|data analytics|tableau|sql|big query|...   \n",
       "33211                                            (notag)   \n",
       "\n",
       "                     publishedAt  viewCount  likeCount  commentCount  \\\n",
       "58544  2016-04-13 18:49:31+00:00      42259        565            13   \n",
       "43080  2018-01-17 05:16:45+00:00       2849          8             0   \n",
       "19841  2022-07-29 04:39:40+00:00       2939         26             1   \n",
       "24358  2021-04-21 04:40:06+00:00       1913         64             1   \n",
       "33211  2022-12-01 13:23:03+00:00      10917         92             0   \n",
       "\n",
       "       duration definition  caption  hour  day  day_of_week  month  year  \n",
       "58544       857         sd    False    18   13            2      4  2016  \n",
       "43080       661         hd    False     5   17            2      1  2018  \n",
       "19841      2003         hd    False     4   29            4      7  2022  \n",
       "24358      2661         hd    False     4   21            2      4  2021  \n",
       "33211       588         hd    False    13    1            3     12  2022  "
      ]
     },
     "execution_count": 3,
     "metadata": {},
     "output_type": "execute_result"
    }
   ],
   "source": [
    "clean_df.sample(5)"
   ]
  },
  {
   "cell_type": "markdown",
   "metadata": {},
   "source": [
    "## Feature engineering"
   ]
  },
  {
   "cell_type": "code",
   "execution_count": 4,
   "metadata": {},
   "outputs": [],
   "source": [
    "X = clean_df[['likeCount', 'commentCount', 'hour', 'day', 'month', 'year']]\n",
    "# Tạo cột nhãn, ví dụ: nếu viewCount lớn hơn một ngưỡng nào đó, coi video đó là phổ biến\n",
    "threshold_viewCount = clean_df['viewCount'].quantile(0.7)\n",
    "clean_df['isTrending'] = (clean_df['viewCount'] > threshold_viewCount).astype(int)\n",
    "y = clean_df['isTrending']"
   ]
  },
  {
   "cell_type": "code",
   "execution_count": 5,
   "metadata": {},
   "outputs": [
    {
     "data": {
      "text/html": [
       "<div>\n",
       "<style scoped>\n",
       "    .dataframe tbody tr th:only-of-type {\n",
       "        vertical-align: middle;\n",
       "    }\n",
       "\n",
       "    .dataframe tbody tr th {\n",
       "        vertical-align: top;\n",
       "    }\n",
       "\n",
       "    .dataframe thead th {\n",
       "        text-align: right;\n",
       "    }\n",
       "</style>\n",
       "<table border=\"1\" class=\"dataframe\">\n",
       "  <thead>\n",
       "    <tr style=\"text-align: right;\">\n",
       "      <th></th>\n",
       "      <th>video_id</th>\n",
       "      <th>channelTitle</th>\n",
       "      <th>title</th>\n",
       "      <th>description</th>\n",
       "      <th>tags</th>\n",
       "      <th>publishedAt</th>\n",
       "      <th>viewCount</th>\n",
       "      <th>likeCount</th>\n",
       "      <th>commentCount</th>\n",
       "      <th>duration</th>\n",
       "      <th>definition</th>\n",
       "      <th>caption</th>\n",
       "      <th>hour</th>\n",
       "      <th>day</th>\n",
       "      <th>day_of_week</th>\n",
       "      <th>month</th>\n",
       "      <th>year</th>\n",
       "      <th>isTrending</th>\n",
       "    </tr>\n",
       "  </thead>\n",
       "  <tbody>\n",
       "    <tr>\n",
       "      <th>59155</th>\n",
       "      <td>CGOGvNJiO3M</td>\n",
       "      <td>The NLP Lab</td>\n",
       "      <td>Connecting Images to Text: CLIP and DALL-E | N...</td>\n",
       "      <td>CLIP blog post: https://openai.com/blog/clip/\\...</td>\n",
       "      <td>(notag)</td>\n",
       "      <td>2021-01-18 15:00:08+00:00</td>\n",
       "      <td>232</td>\n",
       "      <td>3</td>\n",
       "      <td>0</td>\n",
       "      <td>459</td>\n",
       "      <td>hd</td>\n",
       "      <td>False</td>\n",
       "      <td>15</td>\n",
       "      <td>18</td>\n",
       "      <td>0</td>\n",
       "      <td>1</td>\n",
       "      <td>2021</td>\n",
       "      <td>0</td>\n",
       "    </tr>\n",
       "    <tr>\n",
       "      <th>48866</th>\n",
       "      <td>_BK1q1XCyKY</td>\n",
       "      <td>RADACAD</td>\n",
       "      <td>Call Google Search API inside Power BI</td>\n",
       "      <td>In this short video, you will learn how to cal...</td>\n",
       "      <td>Power BI|Power BI from Rookie to Rock Star|Pow...</td>\n",
       "      <td>2023-01-24 23:00:22+00:00</td>\n",
       "      <td>1713</td>\n",
       "      <td>45</td>\n",
       "      <td>6</td>\n",
       "      <td>913</td>\n",
       "      <td>hd</td>\n",
       "      <td>False</td>\n",
       "      <td>23</td>\n",
       "      <td>24</td>\n",
       "      <td>1</td>\n",
       "      <td>1</td>\n",
       "      <td>2023</td>\n",
       "      <td>0</td>\n",
       "    </tr>\n",
       "    <tr>\n",
       "      <th>52587</th>\n",
       "      <td>DLsnX8M4ZjY</td>\n",
       "      <td>Nicolai Nielsen</td>\n",
       "      <td>How to Create AI Talking Photos from Scratch w...</td>\n",
       "      <td>In this video 📝 we are going to take a look at...</td>\n",
       "      <td>AIEngineer|Machine Learning|Deep Learning|Data...</td>\n",
       "      <td>2023-10-09 13:07:17+00:00</td>\n",
       "      <td>2559</td>\n",
       "      <td>25</td>\n",
       "      <td>5</td>\n",
       "      <td>804</td>\n",
       "      <td>hd</td>\n",
       "      <td>False</td>\n",
       "      <td>13</td>\n",
       "      <td>9</td>\n",
       "      <td>0</td>\n",
       "      <td>10</td>\n",
       "      <td>2023</td>\n",
       "      <td>0</td>\n",
       "    </tr>\n",
       "    <tr>\n",
       "      <th>16234</th>\n",
       "      <td>2cPVKvxZPwc</td>\n",
       "      <td>MITCBMM</td>\n",
       "      <td>Relating the structure of the brain to its fun...</td>\n",
       "      <td>[full title] Relating the structure of the bra...</td>\n",
       "      <td>CBMM|Center for Brains Minds and Machines|Arti...</td>\n",
       "      <td>2020-08-12 16:01:06+00:00</td>\n",
       "      <td>751</td>\n",
       "      <td>15</td>\n",
       "      <td>0</td>\n",
       "      <td>3440</td>\n",
       "      <td>hd</td>\n",
       "      <td>True</td>\n",
       "      <td>16</td>\n",
       "      <td>12</td>\n",
       "      <td>2</td>\n",
       "      <td>8</td>\n",
       "      <td>2020</td>\n",
       "      <td>0</td>\n",
       "    </tr>\n",
       "    <tr>\n",
       "      <th>35059</th>\n",
       "      <td>zbXa21EJKfc</td>\n",
       "      <td>Trouble- Free</td>\n",
       "      <td>#11 Concept Learning As Search With Example  |ML|</td>\n",
       "      <td>Telegram group : https://t.me/joinchat/G7ZZ_Ss...</td>\n",
       "      <td>(notag)</td>\n",
       "      <td>2021-08-05 08:37:13+00:00</td>\n",
       "      <td>99462</td>\n",
       "      <td>1351</td>\n",
       "      <td>87</td>\n",
       "      <td>555</td>\n",
       "      <td>sd</td>\n",
       "      <td>False</td>\n",
       "      <td>8</td>\n",
       "      <td>5</td>\n",
       "      <td>3</td>\n",
       "      <td>8</td>\n",
       "      <td>2021</td>\n",
       "      <td>1</td>\n",
       "    </tr>\n",
       "  </tbody>\n",
       "</table>\n",
       "</div>"
      ],
      "text/plain": [
       "          video_id     channelTitle  \\\n",
       "59155  CGOGvNJiO3M      The NLP Lab   \n",
       "48866  _BK1q1XCyKY          RADACAD   \n",
       "52587  DLsnX8M4ZjY  Nicolai Nielsen   \n",
       "16234  2cPVKvxZPwc          MITCBMM   \n",
       "35059  zbXa21EJKfc    Trouble- Free   \n",
       "\n",
       "                                                   title  \\\n",
       "59155  Connecting Images to Text: CLIP and DALL-E | N...   \n",
       "48866             Call Google Search API inside Power BI   \n",
       "52587  How to Create AI Talking Photos from Scratch w...   \n",
       "16234  Relating the structure of the brain to its fun...   \n",
       "35059  #11 Concept Learning As Search With Example  |ML|   \n",
       "\n",
       "                                             description  \\\n",
       "59155  CLIP blog post: https://openai.com/blog/clip/\\...   \n",
       "48866  In this short video, you will learn how to cal...   \n",
       "52587  In this video 📝 we are going to take a look at...   \n",
       "16234  [full title] Relating the structure of the bra...   \n",
       "35059  Telegram group : https://t.me/joinchat/G7ZZ_Ss...   \n",
       "\n",
       "                                                    tags  \\\n",
       "59155                                            (notag)   \n",
       "48866  Power BI|Power BI from Rookie to Rock Star|Pow...   \n",
       "52587  AIEngineer|Machine Learning|Deep Learning|Data...   \n",
       "16234  CBMM|Center for Brains Minds and Machines|Arti...   \n",
       "35059                                            (notag)   \n",
       "\n",
       "                     publishedAt  viewCount  likeCount  commentCount  \\\n",
       "59155  2021-01-18 15:00:08+00:00        232          3             0   \n",
       "48866  2023-01-24 23:00:22+00:00       1713         45             6   \n",
       "52587  2023-10-09 13:07:17+00:00       2559         25             5   \n",
       "16234  2020-08-12 16:01:06+00:00        751         15             0   \n",
       "35059  2021-08-05 08:37:13+00:00      99462       1351            87   \n",
       "\n",
       "       duration definition  caption  hour  day  day_of_week  month  year  \\\n",
       "59155       459         hd    False    15   18            0      1  2021   \n",
       "48866       913         hd    False    23   24            1      1  2023   \n",
       "52587       804         hd    False    13    9            0     10  2023   \n",
       "16234      3440         hd     True    16   12            2      8  2020   \n",
       "35059       555         sd    False     8    5            3      8  2021   \n",
       "\n",
       "       isTrending  \n",
       "59155           0  \n",
       "48866           0  \n",
       "52587           0  \n",
       "16234           0  \n",
       "35059           1  "
      ]
     },
     "execution_count": 5,
     "metadata": {},
     "output_type": "execute_result"
    }
   ],
   "source": [
    "clean_df.sample(5)\n"
   ]
  },
  {
   "cell_type": "markdown",
   "metadata": {},
   "source": [
    "## Training model"
   ]
  },
  {
   "cell_type": "code",
   "execution_count": 6,
   "metadata": {},
   "outputs": [],
   "source": [
    "# X_train, X_valid, y_train, y_valid = train_test_split(X, y ,test_size=0.2)\n",
    "X_train, X_tmp, y_train, y_tmp = train_test_split(X, y, test_size=0.3, random_state=2023, stratify=y)\n",
    "X_test, X_valid, y_test, y_valid = train_test_split(X_tmp, y_tmp, test_size=0.5, random_state=2023, stratify=y_tmp)\n",
    "# model = LogisticRegression(solver = 'liblinear',max_iter=1000)\n",
    "# model.fit(X_train, y_train)"
   ]
  },
  {
   "cell_type": "markdown",
   "metadata": {},
   "source": [
    "## Evaluation"
   ]
  },
  {
   "cell_type": "code",
   "execution_count": 7,
   "metadata": {},
   "outputs": [],
   "source": [
    "# model.score(X_valid,y_valid)"
   ]
  },
  {
   "cell_type": "markdown",
   "metadata": {},
   "source": [
    "## Prediction"
   ]
  },
  {
   "cell_type": "code",
   "execution_count": 8,
   "metadata": {},
   "outputs": [],
   "source": [
    "# y_pred = model.predict(X_valid)"
   ]
  },
  {
   "cell_type": "code",
   "execution_count": 9,
   "metadata": {},
   "outputs": [],
   "source": [
    "# precision_score(y_valid,y_pred), recall_score(y_valid,y_pred)"
   ]
  },
  {
   "cell_type": "code",
   "execution_count": 10,
   "metadata": {},
   "outputs": [],
   "source": [
    "# print(classification_report(y_valid,y_pred))"
   ]
  },
  {
   "cell_type": "markdown",
   "metadata": {},
   "source": [
    "##### Decision Tree"
   ]
  },
  {
   "cell_type": "code",
   "execution_count": 11,
   "metadata": {},
   "outputs": [],
   "source": [
    "# decision_Tree = DecisionTreeRegressor()\n",
    "# decision_Tree.fit(X_train,y_train)\n"
   ]
  },
  {
   "cell_type": "code",
   "execution_count": 12,
   "metadata": {},
   "outputs": [],
   "source": [
    "# decision_Tree.score(X_valid,y_valid)"
   ]
  },
  {
   "cell_type": "markdown",
   "metadata": {},
   "source": [
    "# TEMP\n"
   ]
  },
  {
   "cell_type": "code",
   "execution_count": 13,
   "metadata": {},
   "outputs": [],
   "source": [
    "from sklearn.svm import SVC, LinearSVC\n",
    "from sklearn.ensemble import RandomForestClassifier, GradientBoostingClassifier, ExtraTreesClassifier, AdaBoostClassifier\n",
    "from sklearn.neighbors import KNeighborsClassifier\n",
    "from xgboost import XGBClassifier\n",
    "from sklearn.model_selection import StratifiedKFold\n",
    "from sklearn.model_selection import cross_val_score\n",
    "seed = 2023\n",
    "models = [\n",
    "    LinearSVC(random_state=seed, dual=False, max_iter=1000),\n",
    "    SVC(random_state=seed),\n",
    "    RandomForestClassifier(random_state=seed),\n",
    "    GradientBoostingClassifier(random_state=seed),\n",
    "    ExtraTreesClassifier(),\n",
    "    AdaBoostClassifier(),\n",
    "    XGBClassifier(use_label_encoder=False, eval_metric='logloss', random_state=seed)\n",
    "]"
   ]
  },
  {
   "cell_type": "code",
   "execution_count": 14,
   "metadata": {
    "scrolled": true
   },
   "outputs": [
    {
     "data": {
      "image/png": "[encoded data removed]",
      "text/plain": [
       "<Figure size 640x480 with 1 Axes>"
      ]
     },
     "metadata": {},
     "output_type": "display_data"
    },
    {
     "data": {
      "text/html": [
       "<div>\n",
       "<style scoped>\n",
       "    .dataframe tbody tr th:only-of-type {\n",
       "        vertical-align: middle;\n",
       "    }\n",
       "\n",
       "    .dataframe tbody tr th {\n",
       "        vertical-align: top;\n",
       "    }\n",
       "\n",
       "    .dataframe thead th {\n",
       "        text-align: right;\n",
       "    }\n",
       "</style>\n",
       "<table border=\"1\" class=\"dataframe\">\n",
       "  <thead>\n",
       "    <tr style=\"text-align: right;\">\n",
       "      <th></th>\n",
       "      <th>Mean</th>\n",
       "      <th>Standard Deviation</th>\n",
       "    </tr>\n",
       "    <tr>\n",
       "      <th>model_name</th>\n",
       "      <th></th>\n",
       "      <th></th>\n",
       "    </tr>\n",
       "  </thead>\n",
       "  <tbody>\n",
       "    <tr>\n",
       "      <th>RandomForestClassifier</th>\n",
       "      <td>0.937176</td>\n",
       "      <td>0.001852</td>\n",
       "    </tr>\n",
       "    <tr>\n",
       "      <th>GradientBoostingClassifier</th>\n",
       "      <td>0.936914</td>\n",
       "      <td>0.002219</td>\n",
       "    </tr>\n",
       "    <tr>\n",
       "      <th>XGBClassifier</th>\n",
       "      <td>0.936533</td>\n",
       "      <td>0.001398</td>\n",
       "    </tr>\n",
       "    <tr>\n",
       "      <th>ExtraTreesClassifier</th>\n",
       "      <td>0.935320</td>\n",
       "      <td>0.001869</td>\n",
       "    </tr>\n",
       "    <tr>\n",
       "      <th>AdaBoostClassifier</th>\n",
       "      <td>0.930798</td>\n",
       "      <td>0.001933</td>\n",
       "    </tr>\n",
       "    <tr>\n",
       "      <th>LinearSVC</th>\n",
       "      <td>0.918400</td>\n",
       "      <td>0.003212</td>\n",
       "    </tr>\n",
       "    <tr>\n",
       "      <th>SVC</th>\n",
       "      <td>0.917543</td>\n",
       "      <td>0.002910</td>\n",
       "    </tr>\n",
       "  </tbody>\n",
       "</table>\n",
       "</div>"
      ],
      "text/plain": [
       "                                Mean  Standard Deviation\n",
       "model_name                                              \n",
       "RandomForestClassifier      0.937176            0.001852\n",
       "GradientBoostingClassifier  0.936914            0.002219\n",
       "XGBClassifier               0.936533            0.001398\n",
       "ExtraTreesClassifier        0.935320            0.001869\n",
       "AdaBoostClassifier          0.930798            0.001933\n",
       "LinearSVC                   0.918400            0.003212\n",
       "SVC                         0.917543            0.002910"
      ]
     },
     "execution_count": 14,
     "metadata": {},
     "output_type": "execute_result"
    }
   ],
   "source": [
    "def generate_baseline_result(models, X, y, metrics, cv=5, plot_result=False):\n",
    "    # define k-fold\n",
    "    kfold = StratifiedKFold(n_splits=cv, shuffle=True, random_state=seed)\n",
    "    entries = []\n",
    "    for model in models:\n",
    "        model_name = model.__class__.__name__\n",
    "        scores = cross_val_score(model, X, y, scoring=metrics, cv=kfold)\n",
    "        for fold_idx, score in enumerate(scores):\n",
    "            entries.append((model_name, fold_idx, score))\n",
    "\n",
    "    cv_df = pd.DataFrame(entries, columns=['model_name', 'fold_idx', 'score'])\n",
    "    \n",
    "    mean = cv_df.groupby('model_name')['score'].mean()\n",
    "    std = cv_df.groupby('model_name')['score'].std()\n",
    "    \n",
    "    baseline_results = pd.concat([mean,std],axis =1, ignore_index=True)\n",
    "    baseline_results.columns =['Mean','Standard Deviation']\n",
    "    baseline_results.sort_values(by=['Mean'], ascending = False, inplace = True)\n",
    "    \n",
    "    if plot_result:\n",
    "        sns.boxplot(x ='model_name',y = 'score', data = cv_df, color ='lightblue',showmeans=True)\n",
    "        plt.title('Boxplot of Base-Line Model Accuracy using 5-fold cross-validation')\n",
    "        plt.show()\n",
    "    \n",
    "    return baseline_results\n",
    "\n",
    "# Metric: https://scikit-learn.org/stable/modules/model_evaluation.html\n",
    "generate_baseline_result(models, X_train, y_train, metrics='accuracy',cv=5,plot_result =True )"
   ]
  },
  {
   "cell_type": "markdown",
   "metadata": {},
   "source": [
    "## Fine-tune the model"
   ]
  },
  {
   "cell_type": "markdown",
   "metadata": {},
   "source": [
    "### RandomForestClassifier"
   ]
  },
  {
   "cell_type": "code",
   "execution_count": 17,
   "metadata": {},
   "outputs": [
    {
     "name": "stdout",
     "output_type": "stream",
     "text": [
      "HyperParameters: {'max_depth': 10, 'min_samples_leaf': 1, 'min_samples_split': 5, 'n_estimators': 200}\n",
      "Best Model Accuracy: 0.9416990560799556\n",
      "HyperParameters: {'learning_rate': 0.1, 'max_depth': 3, 'min_samples_leaf': 1, 'min_samples_split': 3, 'n_estimators': 50, 'subsample': 0.8}\n",
      "Best Model Accuracy: 0.9401443642420877\n",
      "HyperParameters: {'colsample_bytree': 1.0, 'learning_rate': 0.1, 'max_depth': 4, 'min_child_weight': 3, 'n_estimators': 50, 'subsample': 0.8}\n",
      "Best Model Accuracy: 0.9411438089950028\n"
     ]
    }
   ],
   "source": [
    "# Define the hyperparameter grid\n",
    "list_model = ['RandomForestClassifier', 'GradientBoostingClassifier', '']'learning_rate': [0.01, 0.1],\n",
    "'n_estimators': [50, 100],\n",
    "'max_depth': [4, 5],\n",
    "'min_child_weight': [1, 3],\n",
    "'subsample': [0.8, 0.9],\n",
    "'colsample_bytree': [0.9, 1.0]\n",
    "\n",
    "param_grid = {\n",
    "    'n_estimators': [100, 200],\n",
    "    'max_depth': [10, 20],\n",
    "    'min_samples_split': [2, 5],\n",
    "    'min_samples_leaf': [1, 2]\n",
    "}\n",
    "\n",
    "# Create the GridSearchCV object\n",
    "grid_search = GridSearchCV(RandomForestClassifier(random_state=2023),\n",
    "                           param_grid=param_grid,\n",
    "                           cv=5,\n",
    "                           scoring='accuracy',\n",
    "                           n_jobs=-1)\n",
    "\n",
    "# Fit the GridSearchCV object to the data\n",
    "grid_search.fit(X_valid, y_valid)\n",
    "\n",
    "# Get the best parameters from the grid search\n",
    "best_params = grid_search.best_params_\n",
    "\n",
    "print(f\"HyperParameters: {best_params}\")"
   ]
  },
  {
   "cell_type": "code",
   "execution_count": 16,
   "metadata": {},
   "outputs": [
    {
     "name": "stdout",
     "output_type": "stream",
     "text": [
      "Best Model Accuracy: 0.9416990560799556\n"
     ]
    }
   ],
   "source": []
  },
  {
   "cell_type": "markdown",
   "metadata": {},
   "source": [
    "### GradientBoostingClassifier"
   ]
  },
  {
   "cell_type": "code",
   "execution_count": 17,
   "metadata": {},
   "outputs": [
    {
     "name": "stdout",
     "output_type": "stream",
     "text": [
      "HyperParameters: {'learning_rate': 0.1, 'max_depth': 3, 'min_samples_leaf': 1, 'min_samples_split': 3, 'n_estimators': 50, 'subsample': 0.8}\n"
     ]
    }
   ],
   "source": [
    "# Define the hyperparameter grid\n",
    "list_model = [RandomForestClassifier(random_state=2023),\n",
    "              GradientBoostingClassifier(random_state=2023),\n",
    "              XGBClassifier(random_state=2023)]\n",
    "param_grid = [{ \n",
    "                'n_estimators': [100, 200],\n",
    "                'max_depth': [10, 20],\n",
    "                'min_samples_split': [2, 5],\n",
    "                'min_samples_leaf': [1, 2]\n",
    "                },\n",
    "              {\n",
    "                'n_estimators': [50, 100],\n",
    "                'learning_rate': [0.01, 0.1],\n",
    "                'max_depth': [3, 4],\n",
    "                'min_samples_split': [3, 4],\n",
    "                'min_samples_leaf': [1, 2],\n",
    "                'subsample': [0.8, 0.9]\n",
    "                }, \n",
    "              {\n",
    "                'learning_rate': [0.01, 0.1],\n",
    "                'n_estimators': [50, 100],\n",
    "                'max_depth': [4, 5],\n",
    "                'min_child_weight': [1, 3],\n",
    "                'subsample': [0.8, 0.9],\n",
    "                'colsample_bytree': [0.9, 1.0]\n",
    "                }\n",
    "                ]\n",
    "\n",
    "best_params = []\n",
    "best_acc = []\n",
    "\n",
    "X_train_val = np.concatenate((X_train, X_valid), axis=0)\n",
    "y_train_val = np.concatenate((y_train, y_valid), axis=0)\n",
    "\n",
    "for i, model in enumerate(list_model):\n",
    "    # Create the GridSearchCV object\n",
    "    grid_search = GridSearchCV(model,\n",
    "                               param_grid=param_grid[i],\n",
    "                               cv=5,\n",
    "                               scoring='accuracy',\n",
    "                               n_jobs=-1)\n",
    "    \n",
    "    # Fit the GridSearchCV object to the data\n",
    "    grid_search.fit(X_valid, y_valid)\n",
    "    \n",
    "    # Get the best parameters from the grid search\n",
    "    params = grid_search.best_params_\n",
    "    best_params.append(params)\n",
    "    \n",
    "    print(f\"HyperParameters: {params}\")\n",
    "\n",
    "    # Train the model with the best hyperparameters\n",
    "    warnings.filterwarnings(\"ignore\")\n",
    "    \n",
    "    model.set_params(**params)\n",
    "    model.fit(X_train_val, y_train_val)\n",
    "    \n",
    "    # Make predictions on the test set using the best model\n",
    "    y_pred_best = model.predict(X_test)\n",
    "    acc = accuracy_score(y_test, y_pred_best)\n",
    "    best_acc.append(acc)\n",
    "    \n",
    "    # Evaluate the best model\n",
    "    print(f\"Best Model Accuracy: {acc}\")"
   ]
  },
  {
   "cell_type": "code",
   "execution_count": 18,
   "metadata": {},
   "outputs": [
    {
     "name": "stdout",
     "output_type": "stream",
     "text": [
      "Best Model Accuracy: 0.9401443642420877\n"
     ]
    }
   ],
   "source": [
    "# Train the model with the best hyperparameters\n",
    "warnings.filterwarnings(\"ignore\")\n",
    "\n",
    "X_train_val = np.concatenate((X_train, X_valid), axis=0)\n",
    "y_train_val = np.concatenate((y_train, y_valid), axis=0)\n",
    "\n",
    "best_model = GradientBoostingClassifier(random_state=2023, **best_params)\n",
    "best_model.fit(X_train_val, y_train_val)\n",
    "\n",
    "# Make predictions on the test set using the best model\n",
    "y_pred_best = best_model.predict(X_test)\n",
    "\n",
    "# Evaluate the best model\n",
    "print(f\"Best Model Accuracy: {accuracy_score(y_test, y_pred_best)}\")"
   ]
  },
  {
   "cell_type": "markdown",
   "metadata": {},
   "source": [
    "### XGBClassifier"
   ]
  },
  {
   "cell_type": "code",
   "execution_count": 19,
   "metadata": {},
   "outputs": [
    {
     "name": "stdout",
     "output_type": "stream",
     "text": [
      "HyperParameters: {'colsample_bytree': 1.0, 'learning_rate': 0.1, 'max_depth': 4, 'min_child_weight': 3, 'n_estimators': 50, 'subsample': 0.8}\n"
     ]
    }
   ],
   "source": [
    "# Define the hyperparameter grid\n",
    "\n",
    "param_grid = {\n",
    "    'learning_rate': [0.01, 0.1, 0.2],\n",
    "    'n_estimators': [50, 100, 150],\n",
    "    'max_depth': [3, 4, 5],\n",
    "    'min_child_weight': [1, 3, 5],\n",
    "    'subsample': [0.8, 0.9, 1.0],\n",
    "    'colsample_bytree': [0.8, 0.9, 1.0]\n",
    "}\n",
    "\n",
    "# Create the GridSearchCV object\n",
    "grid_search = GridSearchCV(XGBClassifier(random_state=2023),\n",
    "                           param_grid=param_grid,\n",
    "                           cv=5,\n",
    "                           scoring='accuracy',\n",
    "                           n_jobs=-1)\n",
    "\n",
    "# Fit the GridSearchCV object to the data\n",
    "grid_search.fit(X_valid, y_valid)\n",
    "\n",
    "# Get the best parameters from the grid search\n",
    "best_params = grid_search.best_params_\n",
    "\n",
    "print(f\"HyperParameters: {best_params}\")\n"
   ]
  },
  {
   "cell_type": "code",
   "execution_count": 20,
   "metadata": {},
   "outputs": [
    {
     "name": "stdout",
     "output_type": "stream",
     "text": [
      "Best Model Accuracy: 0.9411438089950028\n"
     ]
    }
   ],
   "source": [
    "# Train the model with the best hyperparameters\n",
    "warnings.filterwarnings(\"ignore\")\n",
    "\n",
    "X_train_val = np.concatenate((X_train, X_valid), axis=0)\n",
    "y_train_val = np.concatenate((y_train, y_valid), axis=0)\n",
    "\n",
    "best_model = XGBClassifier(random_state=2023, **best_params)\n",
    "best_model.fit(X_train_val, y_train_val)\n",
    "\n",
    "# Make predictions on the test set using the best model\n",
    "y_pred_best = best_model.predict(X_test)\n",
    "\n",
    "# Evaluate the best model\n",
    "print(f\"Best Model Accuracy: {accuracy_score(y_test, y_pred_best)}\")"
   ]
  }
 ],
 "metadata": {
  "kernelspec": {
   "display_name": "Python 3 (ipykernel)",
   "language": "python",
   "name": "python3"
  },
  "language_info": {
   "codemirror_mode": {
    "name": "ipython",
    "version": 3
   },
   "file_extension": ".py",
   "mimetype": "text/x-python",
   "name": "python",
   "nbconvert_exporter": "python",
   "pygments_lexer": "ipython3",
   "version": "3.11.4"
  }
 },
 "nbformat": 4,
 "nbformat_minor": 4
}
