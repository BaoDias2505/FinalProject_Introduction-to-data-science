{
 "cells": [
  {
   "cell_type": "markdown",
   "metadata": {},
   "source": [
    "## Import"
   ]
  },
  {
   "cell_type": "code",
   "execution_count": 1,
   "metadata": {},
   "outputs": [],
   "source": [
    "import numpy as np\n",
    "import pandas as pd\n",
    "import seaborn as sns\n",
    "import matplotlib.pyplot as plt\n",
    "from sklearn import linear_model\n",
    "from sklearn.linear_model import LinearRegression, LogisticRegression\n",
    "from sklearn.metrics import precision_score, recall_score, classification_report, confusion_matrix\n",
    "from sklearn.model_selection import train_test_split\n",
    "from sklearn.ensemble import RandomForestClassifier\n",
    "from sklearn.tree import DecisionTreeRegressor\n",
    "\n"
   ]
  },
  {
   "cell_type": "markdown",
   "metadata": {},
   "source": [
    "## Data preparation"
   ]
  },
  {
   "cell_type": "code",
   "execution_count": 2,
   "metadata": {},
   "outputs": [],
   "source": [
    "clean_df = pd.read_csv('../data/processed/video_data_processed.csv')"
   ]
  },
  {
   "cell_type": "code",
   "execution_count": 3,
   "metadata": {},
   "outputs": [
    {
     "data": {
      "text/html": [
       "<div>\n",
       "<style scoped>\n",
       "    .dataframe tbody tr th:only-of-type {\n",
       "        vertical-align: middle;\n",
       "    }\n",
       "\n",
       "    .dataframe tbody tr th {\n",
       "        vertical-align: top;\n",
       "    }\n",
       "\n",
       "    .dataframe thead th {\n",
       "        text-align: right;\n",
       "    }\n",
       "</style>\n",
       "<table border=\"1\" class=\"dataframe\">\n",
       "  <thead>\n",
       "    <tr style=\"text-align: right;\">\n",
       "      <th></th>\n",
       "      <th>video_id</th>\n",
       "      <th>channelTitle</th>\n",
       "      <th>title</th>\n",
       "      <th>description</th>\n",
       "      <th>tags</th>\n",
       "      <th>publishedAt</th>\n",
       "      <th>viewCount</th>\n",
       "      <th>likeCount</th>\n",
       "      <th>commentCount</th>\n",
       "      <th>duration</th>\n",
       "      <th>definition</th>\n",
       "      <th>caption</th>\n",
       "      <th>hour</th>\n",
       "      <th>day</th>\n",
       "      <th>day_of_week</th>\n",
       "      <th>month</th>\n",
       "      <th>year</th>\n",
       "    </tr>\n",
       "  </thead>\n",
       "  <tbody>\n",
       "    <tr>\n",
       "      <th>46278</th>\n",
       "      <td>JUFgKSZo1j4</td>\n",
       "      <td>MLOps.community</td>\n",
       "      <td>The Post Modern Stack // Jacopo Tagliabue // M...</td>\n",
       "      <td>MLOps Community Meetup #103! Last Wednesday we...</td>\n",
       "      <td>MLOps|Machine Learning Operations|DevOps for M...</td>\n",
       "      <td>2022-06-21 13:15:01+00:00</td>\n",
       "      <td>737</td>\n",
       "      <td>22</td>\n",
       "      <td>0</td>\n",
       "      <td>3898</td>\n",
       "      <td>hd</td>\n",
       "      <td>False</td>\n",
       "      <td>13</td>\n",
       "      <td>21</td>\n",
       "      <td>1</td>\n",
       "      <td>6</td>\n",
       "      <td>2022</td>\n",
       "    </tr>\n",
       "    <tr>\n",
       "      <th>19449</th>\n",
       "      <td>jwxpHk47a9g</td>\n",
       "      <td>DataCamp</td>\n",
       "      <td>DataChats | Episode 15 | An Interview with And...</td>\n",
       "      <td>Make sure to like and comment if you enjoyed t...</td>\n",
       "      <td>Andreas Muller|Introduction to machine learnin...</td>\n",
       "      <td>2017-03-27 13:44:54+00:00</td>\n",
       "      <td>917</td>\n",
       "      <td>10</td>\n",
       "      <td>2</td>\n",
       "      <td>416</td>\n",
       "      <td>hd</td>\n",
       "      <td>False</td>\n",
       "      <td>13</td>\n",
       "      <td>27</td>\n",
       "      <td>0</td>\n",
       "      <td>3</td>\n",
       "      <td>2017</td>\n",
       "    </tr>\n",
       "    <tr>\n",
       "      <th>21759</th>\n",
       "      <td>4MAvYHD7tz4</td>\n",
       "      <td>Rob Mulla</td>\n",
       "      <td>Pandas Style to Color your Data</td>\n",
       "      <td>Display your data with style in pandas using t...</td>\n",
       "      <td>data science|python tutorial|pandas tutorial|p...</td>\n",
       "      <td>2022-12-30 14:11:03+00:00</td>\n",
       "      <td>16222</td>\n",
       "      <td>1555</td>\n",
       "      <td>25</td>\n",
       "      <td>35</td>\n",
       "      <td>hd</td>\n",
       "      <td>False</td>\n",
       "      <td>14</td>\n",
       "      <td>30</td>\n",
       "      <td>4</td>\n",
       "      <td>12</td>\n",
       "      <td>2022</td>\n",
       "    </tr>\n",
       "    <tr>\n",
       "      <th>17529</th>\n",
       "      <td>h9r0BOTQxmQ</td>\n",
       "      <td>Guy in a Cube</td>\n",
       "      <td>A look at Visual Data Prep in Power BI dataflows</td>\n",
       "      <td>Have you noticed the updates Power BI dataflow...</td>\n",
       "      <td>power bi|power bi dataflows|power bi dataflows...</td>\n",
       "      <td>2020-11-26 16:00:31+00:00</td>\n",
       "      <td>11531</td>\n",
       "      <td>386</td>\n",
       "      <td>28</td>\n",
       "      <td>335</td>\n",
       "      <td>hd</td>\n",
       "      <td>True</td>\n",
       "      <td>16</td>\n",
       "      <td>26</td>\n",
       "      <td>3</td>\n",
       "      <td>11</td>\n",
       "      <td>2020</td>\n",
       "    </tr>\n",
       "    <tr>\n",
       "      <th>1283</th>\n",
       "      <td>RpTmnRGJvRQ</td>\n",
       "      <td>Krish Naik</td>\n",
       "      <td>Implement Kaggle Fake News Classifier Using Bi...</td>\n",
       "      <td>github: https://github.com/krishnaik06/Fake-Ne...</td>\n",
       "      <td>data science tutorial javatpoint|data science ...</td>\n",
       "      <td>2020-05-30 08:26:25+00:00</td>\n",
       "      <td>28567</td>\n",
       "      <td>632</td>\n",
       "      <td>56</td>\n",
       "      <td>1081</td>\n",
       "      <td>hd</td>\n",
       "      <td>False</td>\n",
       "      <td>8</td>\n",
       "      <td>30</td>\n",
       "      <td>5</td>\n",
       "      <td>5</td>\n",
       "      <td>2020</td>\n",
       "    </tr>\n",
       "  </tbody>\n",
       "</table>\n",
       "</div>"
      ],
      "text/plain": [
       "          video_id     channelTitle  \\\n",
       "46278  JUFgKSZo1j4  MLOps.community   \n",
       "19449  jwxpHk47a9g         DataCamp   \n",
       "21759  4MAvYHD7tz4        Rob Mulla   \n",
       "17529  h9r0BOTQxmQ    Guy in a Cube   \n",
       "1283   RpTmnRGJvRQ       Krish Naik   \n",
       "\n",
       "                                                   title  \\\n",
       "46278  The Post Modern Stack // Jacopo Tagliabue // M...   \n",
       "19449  DataChats | Episode 15 | An Interview with And...   \n",
       "21759                    Pandas Style to Color your Data   \n",
       "17529   A look at Visual Data Prep in Power BI dataflows   \n",
       "1283   Implement Kaggle Fake News Classifier Using Bi...   \n",
       "\n",
       "                                             description  \\\n",
       "46278  MLOps Community Meetup #103! Last Wednesday we...   \n",
       "19449  Make sure to like and comment if you enjoyed t...   \n",
       "21759  Display your data with style in pandas using t...   \n",
       "17529  Have you noticed the updates Power BI dataflow...   \n",
       "1283   github: https://github.com/krishnaik06/Fake-Ne...   \n",
       "\n",
       "                                                    tags  \\\n",
       "46278  MLOps|Machine Learning Operations|DevOps for M...   \n",
       "19449  Andreas Muller|Introduction to machine learnin...   \n",
       "21759  data science|python tutorial|pandas tutorial|p...   \n",
       "17529  power bi|power bi dataflows|power bi dataflows...   \n",
       "1283   data science tutorial javatpoint|data science ...   \n",
       "\n",
       "                     publishedAt  viewCount  likeCount  commentCount  \\\n",
       "46278  2022-06-21 13:15:01+00:00        737         22             0   \n",
       "19449  2017-03-27 13:44:54+00:00        917         10             2   \n",
       "21759  2022-12-30 14:11:03+00:00      16222       1555            25   \n",
       "17529  2020-11-26 16:00:31+00:00      11531        386            28   \n",
       "1283   2020-05-30 08:26:25+00:00      28567        632            56   \n",
       "\n",
       "       duration definition  caption  hour  day  day_of_week  month  year  \n",
       "46278      3898         hd    False    13   21            1      6  2022  \n",
       "19449       416         hd    False    13   27            0      3  2017  \n",
       "21759        35         hd    False    14   30            4     12  2022  \n",
       "17529       335         hd     True    16   26            3     11  2020  \n",
       "1283       1081         hd    False     8   30            5      5  2020  "
      ]
     },
     "execution_count": 3,
     "metadata": {},
     "output_type": "execute_result"
    }
   ],
   "source": [
    "clean_df.sample(5)"
   ]
  },
  {
   "cell_type": "markdown",
   "metadata": {},
   "source": [
    "## Feature engineering"
   ]
  },
  {
   "cell_type": "code",
   "execution_count": 4,
   "metadata": {},
   "outputs": [],
   "source": [
    "X = clean_df[['likeCount', 'commentCount', 'hour', 'day', 'month', 'year']]\n",
    "# Tạo cột nhãn, ví dụ: nếu viewCount lớn hơn một ngưỡng nào đó, coi video đó là phổ biến\n",
    "threshold_viewCount = clean_df['viewCount'].quantile(0.7)\n",
    "clean_df['isTrending'] = (clean_df['viewCount'] > threshold_viewCount).astype(int)\n",
    "y = clean_df['isTrending']"
   ]
  },
  {
   "cell_type": "code",
   "execution_count": 5,
   "metadata": {},
   "outputs": [
    {
     "data": {
      "text/html": [
       "<div>\n",
       "<style scoped>\n",
       "    .dataframe tbody tr th:only-of-type {\n",
       "        vertical-align: middle;\n",
       "    }\n",
       "\n",
       "    .dataframe tbody tr th {\n",
       "        vertical-align: top;\n",
       "    }\n",
       "\n",
       "    .dataframe thead th {\n",
       "        text-align: right;\n",
       "    }\n",
       "</style>\n",
       "<table border=\"1\" class=\"dataframe\">\n",
       "  <thead>\n",
       "    <tr style=\"text-align: right;\">\n",
       "      <th></th>\n",
       "      <th>video_id</th>\n",
       "      <th>channelTitle</th>\n",
       "      <th>title</th>\n",
       "      <th>description</th>\n",
       "      <th>tags</th>\n",
       "      <th>publishedAt</th>\n",
       "      <th>viewCount</th>\n",
       "      <th>likeCount</th>\n",
       "      <th>commentCount</th>\n",
       "      <th>duration</th>\n",
       "      <th>definition</th>\n",
       "      <th>caption</th>\n",
       "      <th>hour</th>\n",
       "      <th>day</th>\n",
       "      <th>day_of_week</th>\n",
       "      <th>month</th>\n",
       "      <th>year</th>\n",
       "      <th>isTrending</th>\n",
       "    </tr>\n",
       "  </thead>\n",
       "  <tbody>\n",
       "    <tr>\n",
       "      <th>1250</th>\n",
       "      <td>blScxaT9iUQ</td>\n",
       "      <td>Krish Naik</td>\n",
       "      <td>Building Automated Exploratory Data Analysis P...</td>\n",
       "      <td>github link: https://github.com/vishalsiram/St...</td>\n",
       "      <td>data science tutorial javatpoint|data science ...</td>\n",
       "      <td>2020-06-20 04:40:38+00:00</td>\n",
       "      <td>13728</td>\n",
       "      <td>544</td>\n",
       "      <td>33</td>\n",
       "      <td>366</td>\n",
       "      <td>hd</td>\n",
       "      <td>False</td>\n",
       "      <td>4</td>\n",
       "      <td>20</td>\n",
       "      <td>5</td>\n",
       "      <td>6</td>\n",
       "      <td>2020</td>\n",
       "      <td>1</td>\n",
       "    </tr>\n",
       "    <tr>\n",
       "      <th>35431</th>\n",
       "      <td>PCFArd56JHs</td>\n",
       "      <td>Trouble- Free</td>\n",
       "      <td>#5 Finding a Rational Number between 2 Rationa...</td>\n",
       "      <td>For your doubts and suggestions, contact me th...</td>\n",
       "      <td>(notag)</td>\n",
       "      <td>2020-06-18 15:13:32+00:00</td>\n",
       "      <td>63</td>\n",
       "      <td>5</td>\n",
       "      <td>3</td>\n",
       "      <td>808</td>\n",
       "      <td>hd</td>\n",
       "      <td>False</td>\n",
       "      <td>15</td>\n",
       "      <td>18</td>\n",
       "      <td>3</td>\n",
       "      <td>6</td>\n",
       "      <td>2020</td>\n",
       "      <td>0</td>\n",
       "    </tr>\n",
       "    <tr>\n",
       "      <th>26685</th>\n",
       "      <td>X0P-6s-FqjI</td>\n",
       "      <td>Databricks</td>\n",
       "      <td>Sponsored: Kyvos | Analytics 100x Faster Lowes...</td>\n",
       "      <td>Databricks and Kyvos together are helping orga...</td>\n",
       "      <td>Databricks</td>\n",
       "      <td>2023-07-26 21:06:41+00:00</td>\n",
       "      <td>109</td>\n",
       "      <td>1</td>\n",
       "      <td>0</td>\n",
       "      <td>2424</td>\n",
       "      <td>hd</td>\n",
       "      <td>False</td>\n",
       "      <td>21</td>\n",
       "      <td>26</td>\n",
       "      <td>2</td>\n",
       "      <td>7</td>\n",
       "      <td>2023</td>\n",
       "      <td>0</td>\n",
       "    </tr>\n",
       "    <tr>\n",
       "      <th>37019</th>\n",
       "      <td>xk01kx_klOE</td>\n",
       "      <td>The Data Science Channel</td>\n",
       "      <td>Future of NLP - Chris Manning Stanford CoreNLP</td>\n",
       "      <td>Future of NLP,  Knowledge bases, directions of...</td>\n",
       "      <td>(notag)</td>\n",
       "      <td>2023-07-29 14:00:43+00:00</td>\n",
       "      <td>340</td>\n",
       "      <td>13</td>\n",
       "      <td>0</td>\n",
       "      <td>581</td>\n",
       "      <td>hd</td>\n",
       "      <td>False</td>\n",
       "      <td>14</td>\n",
       "      <td>29</td>\n",
       "      <td>5</td>\n",
       "      <td>7</td>\n",
       "      <td>2023</td>\n",
       "      <td>0</td>\n",
       "    </tr>\n",
       "    <tr>\n",
       "      <th>4139</th>\n",
       "      <td>S5oM_WWjoL4</td>\n",
       "      <td>Data Science Dojo</td>\n",
       "      <td>Build Machine Learning Model from Noisy Labele...</td>\n",
       "      <td>Learn how to build machine learning model from...</td>\n",
       "      <td>Noisy Data|model monitoring|data preprocessing...</td>\n",
       "      <td>2023-03-29 05:22:47+00:00</td>\n",
       "      <td>1366</td>\n",
       "      <td>18</td>\n",
       "      <td>1</td>\n",
       "      <td>3456</td>\n",
       "      <td>hd</td>\n",
       "      <td>True</td>\n",
       "      <td>5</td>\n",
       "      <td>29</td>\n",
       "      <td>2</td>\n",
       "      <td>3</td>\n",
       "      <td>2023</td>\n",
       "      <td>0</td>\n",
       "    </tr>\n",
       "  </tbody>\n",
       "</table>\n",
       "</div>"
      ],
      "text/plain": [
       "          video_id              channelTitle  \\\n",
       "1250   blScxaT9iUQ                Krish Naik   \n",
       "35431  PCFArd56JHs             Trouble- Free   \n",
       "26685  X0P-6s-FqjI                Databricks   \n",
       "37019  xk01kx_klOE  The Data Science Channel   \n",
       "4139   S5oM_WWjoL4         Data Science Dojo   \n",
       "\n",
       "                                                   title  \\\n",
       "1250   Building Automated Exploratory Data Analysis P...   \n",
       "35431  #5 Finding a Rational Number between 2 Rationa...   \n",
       "26685  Sponsored: Kyvos | Analytics 100x Faster Lowes...   \n",
       "37019     Future of NLP - Chris Manning Stanford CoreNLP   \n",
       "4139   Build Machine Learning Model from Noisy Labele...   \n",
       "\n",
       "                                             description  \\\n",
       "1250   github link: https://github.com/vishalsiram/St...   \n",
       "35431  For your doubts and suggestions, contact me th...   \n",
       "26685  Databricks and Kyvos together are helping orga...   \n",
       "37019  Future of NLP,  Knowledge bases, directions of...   \n",
       "4139   Learn how to build machine learning model from...   \n",
       "\n",
       "                                                    tags  \\\n",
       "1250   data science tutorial javatpoint|data science ...   \n",
       "35431                                            (notag)   \n",
       "26685                                         Databricks   \n",
       "37019                                            (notag)   \n",
       "4139   Noisy Data|model monitoring|data preprocessing...   \n",
       "\n",
       "                     publishedAt  viewCount  likeCount  commentCount  \\\n",
       "1250   2020-06-20 04:40:38+00:00      13728        544            33   \n",
       "35431  2020-06-18 15:13:32+00:00         63          5             3   \n",
       "26685  2023-07-26 21:06:41+00:00        109          1             0   \n",
       "37019  2023-07-29 14:00:43+00:00        340         13             0   \n",
       "4139   2023-03-29 05:22:47+00:00       1366         18             1   \n",
       "\n",
       "       duration definition  caption  hour  day  day_of_week  month  year  \\\n",
       "1250        366         hd    False     4   20            5      6  2020   \n",
       "35431       808         hd    False    15   18            3      6  2020   \n",
       "26685      2424         hd    False    21   26            2      7  2023   \n",
       "37019       581         hd    False    14   29            5      7  2023   \n",
       "4139       3456         hd     True     5   29            2      3  2023   \n",
       "\n",
       "       isTrending  \n",
       "1250            1  \n",
       "35431           0  \n",
       "26685           0  \n",
       "37019           0  \n",
       "4139            0  "
      ]
     },
     "execution_count": 5,
     "metadata": {},
     "output_type": "execute_result"
    }
   ],
   "source": [
    "clean_df.sample(5)\n"
   ]
  },
  {
   "cell_type": "markdown",
   "metadata": {},
   "source": [
    "## Training model"
   ]
  },
  {
   "cell_type": "code",
   "execution_count": 6,
   "metadata": {},
   "outputs": [
    {
     "data": {
      "text/html": [
       "<style>#sk-container-id-1 {color: black;}#sk-container-id-1 pre{padding: 0;}#sk-container-id-1 div.sk-toggleable {background-color: white;}#sk-container-id-1 label.sk-toggleable__label {cursor: pointer;display: block;width: 100%;margin-bottom: 0;padding: 0.3em;box-sizing: border-box;text-align: center;}#sk-container-id-1 label.sk-toggleable__label-arrow:before {content: \"▸\";float: left;margin-right: 0.25em;color: #696969;}#sk-container-id-1 label.sk-toggleable__label-arrow:hover:before {color: black;}#sk-container-id-1 div.sk-estimator:hover label.sk-toggleable__label-arrow:before {color: black;}#sk-container-id-1 div.sk-toggleable__content {max-height: 0;max-width: 0;overflow: hidden;text-align: left;background-color: #f0f8ff;}#sk-container-id-1 div.sk-toggleable__content pre {margin: 0.2em;color: black;border-radius: 0.25em;background-color: #f0f8ff;}#sk-container-id-1 input.sk-toggleable__control:checked~div.sk-toggleable__content {max-height: 200px;max-width: 100%;overflow: auto;}#sk-container-id-1 input.sk-toggleable__control:checked~label.sk-toggleable__label-arrow:before {content: \"▾\";}#sk-container-id-1 div.sk-estimator input.sk-toggleable__control:checked~label.sk-toggleable__label {background-color: #d4ebff;}#sk-container-id-1 div.sk-label input.sk-toggleable__control:checked~label.sk-toggleable__label {background-color: #d4ebff;}#sk-container-id-1 input.sk-hidden--visually {border: 0;clip: rect(1px 1px 1px 1px);clip: rect(1px, 1px, 1px, 1px);height: 1px;margin: -1px;overflow: hidden;padding: 0;position: absolute;width: 1px;}#sk-container-id-1 div.sk-estimator {font-family: monospace;background-color: #f0f8ff;border: 1px dotted black;border-radius: 0.25em;box-sizing: border-box;margin-bottom: 0.5em;}#sk-container-id-1 div.sk-estimator:hover {background-color: #d4ebff;}#sk-container-id-1 div.sk-parallel-item::after {content: \"\";width: 100%;border-bottom: 1px solid gray;flex-grow: 1;}#sk-container-id-1 div.sk-label:hover label.sk-toggleable__label {background-color: #d4ebff;}#sk-container-id-1 div.sk-serial::before {content: \"\";position: absolute;border-left: 1px solid gray;box-sizing: border-box;top: 0;bottom: 0;left: 50%;z-index: 0;}#sk-container-id-1 div.sk-serial {display: flex;flex-direction: column;align-items: center;background-color: white;padding-right: 0.2em;padding-left: 0.2em;position: relative;}#sk-container-id-1 div.sk-item {position: relative;z-index: 1;}#sk-container-id-1 div.sk-parallel {display: flex;align-items: stretch;justify-content: center;background-color: white;position: relative;}#sk-container-id-1 div.sk-item::before, #sk-container-id-1 div.sk-parallel-item::before {content: \"\";position: absolute;border-left: 1px solid gray;box-sizing: border-box;top: 0;bottom: 0;left: 50%;z-index: -1;}#sk-container-id-1 div.sk-parallel-item {display: flex;flex-direction: column;z-index: 1;position: relative;background-color: white;}#sk-container-id-1 div.sk-parallel-item:first-child::after {align-self: flex-end;width: 50%;}#sk-container-id-1 div.sk-parallel-item:last-child::after {align-self: flex-start;width: 50%;}#sk-container-id-1 div.sk-parallel-item:only-child::after {width: 0;}#sk-container-id-1 div.sk-dashed-wrapped {border: 1px dashed gray;margin: 0 0.4em 0.5em 0.4em;box-sizing: border-box;padding-bottom: 0.4em;background-color: white;}#sk-container-id-1 div.sk-label label {font-family: monospace;font-weight: bold;display: inline-block;line-height: 1.2em;}#sk-container-id-1 div.sk-label-container {text-align: center;}#sk-container-id-1 div.sk-container {/* jupyter's `normalize.less` sets `[hidden] { display: none; }` but bootstrap.min.css set `[hidden] { display: none !important; }` so we also need the `!important` here to be able to override the default hidden behavior on the sphinx rendered scikit-learn.org. See: https://github.com/scikit-learn/scikit-learn/issues/21755 */display: inline-block !important;position: relative;}#sk-container-id-1 div.sk-text-repr-fallback {display: none;}</style><div id=\"sk-container-id-1\" class=\"sk-top-container\"><div class=\"sk-text-repr-fallback\"><pre>LogisticRegression(max_iter=1000, solver=&#x27;liblinear&#x27;)</pre><b>In a Jupyter environment, please rerun this cell to show the HTML representation or trust the notebook. <br />On GitHub, the HTML representation is unable to render, please try loading this page with nbviewer.org.</b></div><div class=\"sk-container\" hidden><div class=\"sk-item\"><div class=\"sk-estimator sk-toggleable\"><input class=\"sk-toggleable__control sk-hidden--visually\" id=\"sk-estimator-id-1\" type=\"checkbox\" checked><label for=\"sk-estimator-id-1\" class=\"sk-toggleable__label sk-toggleable__label-arrow\">LogisticRegression</label><div class=\"sk-toggleable__content\"><pre>LogisticRegression(max_iter=1000, solver=&#x27;liblinear&#x27;)</pre></div></div></div></div></div>"
      ],
      "text/plain": [
       "LogisticRegression(max_iter=1000, solver='liblinear')"
      ]
     },
     "execution_count": 6,
     "metadata": {},
     "output_type": "execute_result"
    }
   ],
   "source": [
    "X_train, X_valid, y_train, y_valid = train_test_split(X, y ,test_size=0.2)\n",
    "model = LogisticRegression(solver = 'liblinear',max_iter=1000)\n",
    "model.fit(X_train, y_train)"
   ]
  },
  {
   "cell_type": "markdown",
   "metadata": {},
   "source": [
    "## Evaluation"
   ]
  },
  {
   "cell_type": "code",
   "execution_count": 7,
   "metadata": {},
   "outputs": [
    {
     "data": {
      "text/plain": [
       "0.9181310901973848"
      ]
     },
     "execution_count": 7,
     "metadata": {},
     "output_type": "execute_result"
    }
   ],
   "source": [
    "model.score(X_valid,y_valid)"
   ]
  },
  {
   "cell_type": "markdown",
   "metadata": {},
   "source": [
    "## Prediction"
   ]
  },
  {
   "cell_type": "code",
   "execution_count": 8,
   "metadata": {},
   "outputs": [],
   "source": [
    "y_pred = model.predict(X_valid)"
   ]
  },
  {
   "cell_type": "code",
   "execution_count": 9,
   "metadata": {},
   "outputs": [
    {
     "data": {
      "text/plain": [
       "(0.9114123581336696, 0.8046200946284442)"
      ]
     },
     "execution_count": 9,
     "metadata": {},
     "output_type": "execute_result"
    }
   ],
   "source": [
    "precision_score(y_valid,y_pred), recall_score(y_valid,y_pred)"
   ]
  },
  {
   "cell_type": "code",
   "execution_count": 10,
   "metadata": {},
   "outputs": [
    {
     "name": "stdout",
     "output_type": "stream",
     "text": [
      "              precision    recall  f1-score   support\n",
      "\n",
      "           0       0.92      0.97      0.94      8414\n",
      "           1       0.91      0.80      0.85      3593\n",
      "\n",
      "    accuracy                           0.92     12007\n",
      "   macro avg       0.92      0.89      0.90     12007\n",
      "weighted avg       0.92      0.92      0.92     12007\n",
      "\n"
     ]
    }
   ],
   "source": [
    "print(classification_report(y_valid,y_pred))"
   ]
  },
  {
   "cell_type": "markdown",
   "metadata": {},
   "source": [
    "##### Decision Tree"
   ]
  },
  {
   "cell_type": "code",
   "execution_count": 11,
   "metadata": {},
   "outputs": [],
   "source": [
    "# decision_Tree = DecisionTreeRegressor()\n",
    "# decision_Tree.fit(X_train,y_train)\n"
   ]
  },
  {
   "cell_type": "code",
   "execution_count": 12,
   "metadata": {},
   "outputs": [],
   "source": [
    "# decision_Tree.score(X_valid,y_valid)"
   ]
  },
  {
   "cell_type": "markdown",
   "metadata": {},
   "source": [
    "# TEMP\n"
   ]
  },
  {
   "cell_type": "code",
   "execution_count": 13,
   "metadata": {},
   "outputs": [],
   "source": [
    "from sklearn.svm import SVC, LinearSVC\n",
    "from sklearn.ensemble import RandomForestClassifier, GradientBoostingClassifier, ExtraTreesClassifier, AdaBoostClassifier\n",
    "from sklearn.neighbors import KNeighborsClassifier\n",
    "from xgboost import XGBClassifier\n",
    "from sklearn.model_selection import StratifiedKFold\n",
    "from sklearn.model_selection import cross_val_score\n",
    "seed = 2023\n",
    "models = [\n",
    "    LinearSVC(random_state=seed, dual=False, max_iter=1000),\n",
    "    SVC(random_state=seed),\n",
    "    RandomForestClassifier(random_state=seed),\n",
    "    GradientBoostingClassifier(random_state=seed),\n",
    "    ExtraTreesClassifier(),\n",
    "    AdaBoostClassifier(),\n",
    "    XGBClassifier(use_label_encoder=False, eval_metric='logloss', random_state=seed)\n",
    "]"
   ]
  },
  {
   "cell_type": "code",
   "execution_count": 14,
   "metadata": {},
   "outputs": [
    {
     "data": {
      "image/png": "[encoded data removed]",
      "text/plain": [
       "<Figure size 640x480 with 1 Axes>"
      ]
     },
     "metadata": {},
     "output_type": "display_data"
    },
    {
     "data": {
      "text/html": [
       "<div>\n",
       "<style scoped>\n",
       "    .dataframe tbody tr th:only-of-type {\n",
       "        vertical-align: middle;\n",
       "    }\n",
       "\n",
       "    .dataframe tbody tr th {\n",
       "        vertical-align: top;\n",
       "    }\n",
       "\n",
       "    .dataframe thead th {\n",
       "        text-align: right;\n",
       "    }\n",
       "</style>\n",
       "<table border=\"1\" class=\"dataframe\">\n",
       "  <thead>\n",
       "    <tr style=\"text-align: right;\">\n",
       "      <th></th>\n",
       "      <th>Mean</th>\n",
       "      <th>Standard Deviation</th>\n",
       "    </tr>\n",
       "    <tr>\n",
       "      <th>model_name</th>\n",
       "      <th></th>\n",
       "      <th></th>\n",
       "    </tr>\n",
       "  </thead>\n",
       "  <tbody>\n",
       "    <tr>\n",
       "      <th>RandomForestClassifier</th>\n",
       "      <td>0.938636</td>\n",
       "      <td>0.001668</td>\n",
       "    </tr>\n",
       "    <tr>\n",
       "      <th>GradientBoostingClassifier</th>\n",
       "      <td>0.938470</td>\n",
       "      <td>0.001214</td>\n",
       "    </tr>\n",
       "    <tr>\n",
       "      <th>XGBClassifier</th>\n",
       "      <td>0.937637</td>\n",
       "      <td>0.001112</td>\n",
       "    </tr>\n",
       "    <tr>\n",
       "      <th>ExtraTreesClassifier</th>\n",
       "      <td>0.936491</td>\n",
       "      <td>0.002476</td>\n",
       "    </tr>\n",
       "    <tr>\n",
       "      <th>AdaBoostClassifier</th>\n",
       "      <td>0.931078</td>\n",
       "      <td>0.002499</td>\n",
       "    </tr>\n",
       "    <tr>\n",
       "      <th>LinearSVC</th>\n",
       "      <td>0.919292</td>\n",
       "      <td>0.001564</td>\n",
       "    </tr>\n",
       "    <tr>\n",
       "      <th>SVC</th>\n",
       "      <td>0.918230</td>\n",
       "      <td>0.001484</td>\n",
       "    </tr>\n",
       "  </tbody>\n",
       "</table>\n",
       "</div>"
      ],
      "text/plain": [
       "                                Mean  Standard Deviation\n",
       "model_name                                              \n",
       "RandomForestClassifier      0.938636            0.001668\n",
       "GradientBoostingClassifier  0.938470            0.001214\n",
       "XGBClassifier               0.937637            0.001112\n",
       "ExtraTreesClassifier        0.936491            0.002476\n",
       "AdaBoostClassifier          0.931078            0.002499\n",
       "LinearSVC                   0.919292            0.001564\n",
       "SVC                         0.918230            0.001484"
      ]
     },
     "execution_count": 14,
     "metadata": {},
     "output_type": "execute_result"
    }
   ],
   "source": [
    "def generate_baseline_result(models, X, y, metrics, cv=5, plot_result=False):\n",
    "    # define k-fold\n",
    "    kfold = StratifiedKFold(n_splits=cv, shuffle=True, random_state=seed)\n",
    "    entries = []\n",
    "    for model in models:\n",
    "        model_name = model.__class__.__name__\n",
    "        scores = cross_val_score(model, X, y, scoring=metrics, cv=kfold)\n",
    "        for fold_idx, score in enumerate(scores):\n",
    "            entries.append((model_name, fold_idx, score))\n",
    "\n",
    "    cv_df = pd.DataFrame(entries, columns=['model_name', 'fold_idx', 'score'])\n",
    "    \n",
    "    mean = cv_df.groupby('model_name')['score'].mean()\n",
    "    std = cv_df.groupby('model_name')['score'].std()\n",
    "    \n",
    "    baseline_results = pd.concat([mean,std],axis =1, ignore_index=True)\n",
    "    baseline_results.columns =['Mean','Standard Deviation']\n",
    "    baseline_results.sort_values(by=['Mean'], ascending = False, inplace = True)\n",
    "    \n",
    "    if plot_result:\n",
    "        sns.boxplot(x ='model_name',y = 'score', data = cv_df, color ='lightblue',showmeans=True)\n",
    "        plt.title('Boxplot of Base-Line Model Accuracy using 5-fold cross-validation')\n",
    "        plt.show()\n",
    "    \n",
    "    return baseline_results\n",
    "\n",
    "# Metric: https://scikit-learn.org/stable/modules/model_evaluation.html\n",
    "generate_baseline_result(models, X_train, y_train, metrics='accuracy',cv=5,plot_result =True )"
   ]
  },
  {
   "cell_type": "code",
   "execution_count": null,
   "metadata": {},
   "outputs": [],
   "source": []
  }
 ],
 "metadata": {
  "kernelspec": {
   "display_name": "Python 3 (ipykernel)",
   "language": "python",
   "name": "python3"
  },
  "language_info": {
   "codemirror_mode": {
    "name": "ipython",
    "version": 3
   },
   "file_extension": ".py",
   "mimetype": "text/x-python",
   "name": "python",
   "nbconvert_exporter": "python",
   "pygments_lexer": "ipython3",
   "version": "3.11.4"
  }
 },
 "nbformat": 4,
 "nbformat_minor": 4
}
