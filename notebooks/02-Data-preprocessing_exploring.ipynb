{
 "cells": [
  {
   "cell_type": "markdown",
   "metadata": {},
   "source": [
    "<div style=\"text-align: center; background-color: #0A6EBD; font-family: 'Trebuchet MS', Arial, sans-serif; color: white; padding: 20px; font-size: 40px; font-weight: bold; border-radius: 0 0 0 0; box-shadow: 0px 6px 8px rgba(0, 0, 0, 0.2);\">\n",
    "  Final project - Introduction to Data Science\n",
    "</div>"
   ]
  },
  {
   "cell_type": "markdown",
   "metadata": {},
   "source": [
    "<div style=\"text-align: center; background-color: #b1d1ff; font-family: 'Trebuchet MS', Arial, sans-serif; color: white; padding: 20px; font-size: 40px; font-weight: bold; border-radius: 0 0 0 0; box-shadow: 0px 6px 8px rgba(0, 0, 0, 0.2);\">\n",
    "  Stage 02 - Data preprocessing & Basic exploration\n",
    "</div>"
   ]
  },
  {
   "cell_type": "markdown",
   "metadata": {},
   "source": [
    "## Import"
   ]
  },
  {
   "cell_type": "code",
   "execution_count": 1,
   "metadata": {},
   "outputs": [],
   "source": [
    "import os\n",
    "import sys\n",
    "import numpy as np\n",
    "import pandas as pd\n",
    "import matplotlib.pyplot as plt\n",
    "import seaborn as sns\n",
    "import datetime\n",
    "import isodate"
   ]
  },
  {
   "cell_type": "markdown",
   "metadata": {},
   "source": [
    "## Read raw data from file"
   ]
  },
  {
   "cell_type": "code",
   "execution_count": 2,
   "metadata": {},
   "outputs": [
    {
     "data": {
      "text/html": [
       "<div>\n",
       "<style scoped>\n",
       "    .dataframe tbody tr th:only-of-type {\n",
       "        vertical-align: middle;\n",
       "    }\n",
       "\n",
       "    .dataframe tbody tr th {\n",
       "        vertical-align: top;\n",
       "    }\n",
       "\n",
       "    .dataframe thead th {\n",
       "        text-align: right;\n",
       "    }\n",
       "</style>\n",
       "<table border=\"1\" class=\"dataframe\">\n",
       "  <thead>\n",
       "    <tr style=\"text-align: right;\">\n",
       "      <th></th>\n",
       "      <th>video_id</th>\n",
       "      <th>channelTitle</th>\n",
       "      <th>title</th>\n",
       "      <th>description</th>\n",
       "      <th>tags</th>\n",
       "      <th>publishedAt</th>\n",
       "      <th>viewCount</th>\n",
       "      <th>likeCount</th>\n",
       "      <th>favouriteCount</th>\n",
       "      <th>commentCount</th>\n",
       "      <th>duration</th>\n",
       "      <th>definition</th>\n",
       "      <th>caption</th>\n",
       "    </tr>\n",
       "  </thead>\n",
       "  <tbody>\n",
       "    <tr>\n",
       "      <th>47822</th>\n",
       "      <td>YvjqScBwjPs</td>\n",
       "      <td>Data Council</td>\n",
       "      <td>The Fun Sized MLOps Stack from Scratch | Featu...</td>\n",
       "      <td>ABOUT THE TALK:\\r\\nLearn about \"fun-sized comp...</td>\n",
       "      <td>['MLOps', 'platforms', 'data infrastructure', ...</td>\n",
       "      <td>2023-05-11T18:57:04Z</td>\n",
       "      <td>946.0</td>\n",
       "      <td>24.0</td>\n",
       "      <td>NaN</td>\n",
       "      <td>2.0</td>\n",
       "      <td>PT39M29S</td>\n",
       "      <td>hd</td>\n",
       "      <td>False</td>\n",
       "    </tr>\n",
       "    <tr>\n",
       "      <th>40730</th>\n",
       "      <td>lhGSCt_2ZM0</td>\n",
       "      <td>How to Power BI</td>\n",
       "      <td>Set Slicer to Today in Power BI #Shorts</td>\n",
       "      <td>Learn how to set a  date slicer to today by de...</td>\n",
       "      <td>['power bi date picker default to today', 'pow...</td>\n",
       "      <td>2020-12-31T23:00:24Z</td>\n",
       "      <td>8421.0</td>\n",
       "      <td>344.0</td>\n",
       "      <td>NaN</td>\n",
       "      <td>12.0</td>\n",
       "      <td>PT59S</td>\n",
       "      <td>hd</td>\n",
       "      <td>False</td>\n",
       "    </tr>\n",
       "    <tr>\n",
       "      <th>3913</th>\n",
       "      <td>Kg588OVYTiw</td>\n",
       "      <td>Abhishek Thakur</td>\n",
       "      <td>Run LLAMA-v2 chat locally</td>\n",
       "      <td>In this video, I'll show you how you can run l...</td>\n",
       "      <td>['machine learning', 'deep learning', 'artific...</td>\n",
       "      <td>2023-07-19T14:07:39Z</td>\n",
       "      <td>27772.0</td>\n",
       "      <td>553.0</td>\n",
       "      <td>NaN</td>\n",
       "      <td>56.0</td>\n",
       "      <td>PT8M10S</td>\n",
       "      <td>hd</td>\n",
       "      <td>False</td>\n",
       "    </tr>\n",
       "    <tr>\n",
       "      <th>36952</th>\n",
       "      <td>AwNS-72yJYA</td>\n",
       "      <td>Data Science</td>\n",
       "      <td>Working with Pivot Tables | Pandas</td>\n",
       "      <td>Data Manipulation with Pandas\\r\\nhttps://youtu...</td>\n",
       "      <td>['how to', 'python', 'pandas', 'data', 'tutori...</td>\n",
       "      <td>2021-05-04T20:55:05Z</td>\n",
       "      <td>137.0</td>\n",
       "      <td>3.0</td>\n",
       "      <td>NaN</td>\n",
       "      <td>0.0</td>\n",
       "      <td>PT1M59S</td>\n",
       "      <td>hd</td>\n",
       "      <td>False</td>\n",
       "    </tr>\n",
       "    <tr>\n",
       "      <th>39987</th>\n",
       "      <td>eJnviEIfg-c</td>\n",
       "      <td>Ricardo Calix</td>\n",
       "      <td>Machine Learning Foundations (2022) - Linear R...</td>\n",
       "      <td>Machine Learning Foundations (2022) - Linear R...</td>\n",
       "      <td>NaN</td>\n",
       "      <td>2022-03-30T19:28:28Z</td>\n",
       "      <td>38.0</td>\n",
       "      <td>1.0</td>\n",
       "      <td>NaN</td>\n",
       "      <td>0.0</td>\n",
       "      <td>PT1H34M5S</td>\n",
       "      <td>hd</td>\n",
       "      <td>False</td>\n",
       "    </tr>\n",
       "  </tbody>\n",
       "</table>\n",
       "</div>"
      ],
      "text/plain": [
       "          video_id     channelTitle  \\\n",
       "47822  YvjqScBwjPs     Data Council   \n",
       "40730  lhGSCt_2ZM0  How to Power BI   \n",
       "3913   Kg588OVYTiw  Abhishek Thakur   \n",
       "36952  AwNS-72yJYA     Data Science   \n",
       "39987  eJnviEIfg-c    Ricardo Calix   \n",
       "\n",
       "                                                   title  \\\n",
       "47822  The Fun Sized MLOps Stack from Scratch | Featu...   \n",
       "40730            Set Slicer to Today in Power BI #Shorts   \n",
       "3913                           Run LLAMA-v2 chat locally   \n",
       "36952                 Working with Pivot Tables | Pandas   \n",
       "39987  Machine Learning Foundations (2022) - Linear R...   \n",
       "\n",
       "                                             description  \\\n",
       "47822  ABOUT THE TALK:\\r\\nLearn about \"fun-sized comp...   \n",
       "40730  Learn how to set a  date slicer to today by de...   \n",
       "3913   In this video, I'll show you how you can run l...   \n",
       "36952  Data Manipulation with Pandas\\r\\nhttps://youtu...   \n",
       "39987  Machine Learning Foundations (2022) - Linear R...   \n",
       "\n",
       "                                                    tags  \\\n",
       "47822  ['MLOps', 'platforms', 'data infrastructure', ...   \n",
       "40730  ['power bi date picker default to today', 'pow...   \n",
       "3913   ['machine learning', 'deep learning', 'artific...   \n",
       "36952  ['how to', 'python', 'pandas', 'data', 'tutori...   \n",
       "39987                                                NaN   \n",
       "\n",
       "                publishedAt  viewCount  likeCount  favouriteCount  \\\n",
       "47822  2023-05-11T18:57:04Z      946.0       24.0             NaN   \n",
       "40730  2020-12-31T23:00:24Z     8421.0      344.0             NaN   \n",
       "3913   2023-07-19T14:07:39Z    27772.0      553.0             NaN   \n",
       "36952  2021-05-04T20:55:05Z      137.0        3.0             NaN   \n",
       "39987  2022-03-30T19:28:28Z       38.0        1.0             NaN   \n",
       "\n",
       "       commentCount   duration definition  caption  \n",
       "47822           2.0   PT39M29S         hd    False  \n",
       "40730          12.0      PT59S         hd    False  \n",
       "3913           56.0    PT8M10S         hd    False  \n",
       "36952           0.0    PT1M59S         hd    False  \n",
       "39987           0.0  PT1H34M5S         hd    False  "
      ]
     },
     "execution_count": 2,
     "metadata": {},
     "output_type": "execute_result"
    }
   ],
   "source": [
    "raw_df = pd.read_csv(\"../data/raw/video_data_raw.csv\")\n",
    "raw_df.sample(n=5)"
   ]
  },
  {
   "cell_type": "markdown",
   "metadata": {},
   "source": [
    "### 📌 How many rows and how many columns does the raw data have?"
   ]
  },
  {
   "cell_type": "code",
   "execution_count": 3,
   "metadata": {},
   "outputs": [
    {
     "name": "stdout",
     "output_type": "stream",
     "text": [
      "Video data current shape: (60032, 13)\n"
     ]
    }
   ],
   "source": [
    "data_video_shape = raw_df.shape\n",
    "print(f\"Video data current shape: {data_video_shape}\")"
   ]
  },
  {
   "cell_type": "markdown",
   "metadata": {},
   "source": [
    "Answer: Our raw video data has `60032 rows` and `13 columns`, which meets the given requirement: \"Your dataset must have at least `5 fields` and `1000 observations`\"."
   ]
  },
  {
   "cell_type": "markdown",
   "metadata": {},
   "source": [
    "### 📌 What does each line mean? Does it matter if the lines have different meanings?"
   ]
  },
  {
   "cell_type": "markdown",
   "metadata": {},
   "source": [
    "Answer: \n",
    "- Based on the observations of the dataset, we suppose that each line represents a unique set of details regarding individual YouTube videos. \n",
    "- Looking through the data table of the csv file, it seems there are no \"out of place\" lines."
   ]
  },
  {
   "cell_type": "markdown",
   "metadata": {},
   "source": [
    "### 📌 Does the raw data have duplicate rows?"
   ]
  },
  {
   "cell_type": "code",
   "execution_count": 4,
   "metadata": {},
   "outputs": [],
   "source": [
    "# retrieve the index\n",
    "index = raw_df.index\n",
    "# create a Pandas Series indicating whether each index is duplicated or not\n",
    "deDupSeries = index.duplicated(keep='first')\n",
    "# calculate the number of duplicated rows\n",
    "num_duplicated_rows = deDupSeries.sum()"
   ]
  },
  {
   "cell_type": "code",
   "execution_count": 5,
   "metadata": {},
   "outputs": [
    {
     "name": "stdout",
     "output_type": "stream",
     "text": [
      "Raw data have no duplicated line!\n"
     ]
    }
   ],
   "source": [
    "if num_duplicated_rows == 0:\n",
    "    print(f\"Raw data have no duplicated line!\")\n",
    "else:\n",
    "    ext = \"lines\" if num_duplicated_rows > 1 else \"line\"\n",
    "    print(f\"Raw data have {num_duplicated_rows} duplicated \" + ext)"
   ]
  },
  {
   "cell_type": "markdown",
   "metadata": {},
   "source": [
    "### 📌 What does each column mean?"
   ]
  },
  {
   "cell_type": "markdown",
   "metadata": {},
   "source": [
    "<table style=\"width: 100%; border-collapse: collapse;\">\n",
    "  <thead>\n",
    "    <tr>\n",
    "      <th style=\"min-width: 10px; width: 30px; background-color: #04B1CC; color: white; font-size :15px; font-weight: bold; text-align: left; padding: 8px;\">No</th>\n",
    "      <th style=\"background-color: #04B1CC; color: white; font-size :15px; font-weight: bold; text-align: left; padding: 8px;\">Columns</th>\n",
    "      <th style=\"background-color: #04B1CC; color: white; font-size :15px; font-weight: bold; text-align: left; padding: 8px;\">Meaning</th>\n",
    "    </tr>\n",
    "  </thead>\n",
    "  <tbody>\n",
    "    <tr>\n",
    "      <td style=\"font-size: 14px; text-align: left;\">1</td>\n",
    "      <td style=\"font-size: 14px; text-align: left;\">video_id</td>\n",
    "      <td style=\"font-size: 14px; text-align: left;\">Unique identifier for the YouTube video.</td>\n",
    "    </tr>\n",
    "    <tr>\n",
    "      <td style=\"font-size: 14px; text-align: left;\">2</td>\n",
    "      <td style=\"font-size: 14px; text-align: left;\">channelTitle</td>\n",
    "      <td style=\"font-size: 14px; text-align: left;\">The name of the channel that uploaded the video.</td>\n",
    "    </tr>\n",
    "    <tr>\n",
    "      <td style=\"font-size: 14px; text-align: left;\">3</td>\n",
    "      <td style=\"font-size: 14px; text-align: left;\">title</td>\n",
    "      <td style=\"font-size: 14px; text-align: left;\">Title of the video.</td>\n",
    "    </tr>\n",
    "    <tr>\n",
    "      <td style=\"font-size: 14px; text-align: left;\">4</td>\n",
    "      <td style=\"font-size: 14px; text-align: left;\">description</td>\n",
    "      <td style=\"font-size: 14px; text-align: left;\">Description or summary of the video content.</td>\n",
    "    </tr>\n",
    "    <tr>\n",
    "      <td style=\"font-size: 14px; text-align: left;\">5</td>\n",
    "      <td style=\"font-size: 14px; text-align: left;\">tags</td>\n",
    "      <td style=\"font-size: 14px; text-align: left;\">Keywords or tags associated with the video.</td>\n",
    "    </tr>\n",
    "    <tr>\n",
    "      <td style=\"font-size: 14px; text-align: left;\">6</td>\n",
    "      <td style=\"font-size: 14px; text-align: left;\">publishedAt</td>\n",
    "      <td style=\"font-size: 14px; text-align: left;\">Date and time when the video was published.</td>\n",
    "    </tr>\n",
    "    <tr>\n",
    "      <td style=\"font-size: 14px; text-align: left;\">7</td>\n",
    "      <td style=\"font-size: 14px; text-align: left;\">viewCount</td>\n",
    "      <td style=\"font-size: 14px; text-align: left;\">Number of views the video has accumulated.</td>\n",
    "    </tr>\n",
    "    <tr>\n",
    "      <td style=\"font-size: 14px; text-align: left;\">8</td>\n",
    "      <td style=\"font-size: 14px; text-align: left;\">likeCount</td>\n",
    "      <td style=\"font-size: 14px; text-align: left;\">Count of likes received by the video.</td>\n",
    "    </tr>\n",
    "    <tr>\n",
    "      <td style=\"font-size: 14px; text-align: left;\">9</td>\n",
    "      <td style=\"font-size: 14px; text-align: left;\">favoriteCount</td>\n",
    "      <td style=\"font-size: 14px; text-align: left;\">Deprecated; used to track how many times viewers added the video to their favorites.</td>\n",
    "    </tr>\n",
    "    <tr>\n",
    "      <td style=\"font-size: 14px; text-align: left;\">10</td>\n",
    "      <td style=\"font-size: 14px; text-align: left;\">commentCount</td>\n",
    "      <td style=\"font-size: 14px; text-align: left;\">Number of comments posted on the video.</td>\n",
    "    </tr>\n",
    "    <tr>\n",
    "      <td style=\"font-size: 14px; text-align: left;\">11</td>\n",
    "      <td style=\"font-size: 14px; text-align: left;\">duration</td>\n",
    "      <td style=\"font-size: 14px; text-align: left;\">Length of the video.</td>\n",
    "    </tr>\n",
    "    <tr>\n",
    "      <td style=\"font-size: 14px; text-align: left;\">12</td>\n",
    "      <td style=\"font-size: 14px; text-align: left;\">definition</td>\n",
    "      <td style=\"font-size: 14px; text-align: left;\">Video resolution or quality (e.g., HD, SD).</td>\n",
    "    </tr>\n",
    "    <tr>\n",
    "      <td style=\"font-size: 14px; text-align: left;\">13</td>\n",
    "      <td style=\"font-size: 14px; text-align: left;\">caption</td>\n",
    "      <td style=\"font-size: 14px; text-align: left;\"> Indicates whether closed captions are available for the video.</td>\n",
    "    </tr>\n",
    "  </tbody>\n",
    "</table>"
   ]
  },
  {
   "cell_type": "markdown",
   "metadata": {},
   "source": [
    "### 📌 What data type does each column currently have? Are there any columns whose data types are not suitable for further processing?"
   ]
  },
  {
   "cell_type": "code",
   "execution_count": 6,
   "metadata": {},
   "outputs": [
    {
     "data": {
      "text/plain": [
       "video_id           object\n",
       "channelTitle       object\n",
       "title              object\n",
       "description        object\n",
       "tags               object\n",
       "publishedAt        object\n",
       "viewCount         float64\n",
       "likeCount         float64\n",
       "favouriteCount    float64\n",
       "commentCount      float64\n",
       "duration           object\n",
       "definition         object\n",
       "caption              bool\n",
       "dtype: object"
      ]
     },
     "execution_count": 6,
     "metadata": {},
     "output_type": "execute_result"
    }
   ],
   "source": [
    "raw_df.dtypes"
   ]
  },
  {
   "cell_type": "markdown",
   "metadata": {},
   "source": [
    "🔨 We notice that the columns `publishedAt` and `duration` are currently of object type. Given that they represent time periods, it is advisable to convert `publishedAt`  to datetime type. As the `duration` is in **ISO 8601** format, we'll convert it into an `integer` representing the total number of seconds"
   ]
  },
  {
   "cell_type": "code",
   "execution_count": 7,
   "metadata": {},
   "outputs": [],
   "source": [
    "# convert publishedAt to datetime\n",
    "raw_df[\"publishedAt\"] = pd.to_datetime(raw_df[\"publishedAt\"])\n",
    "# convert duration to integer\n",
    "raw_df['duration'] = raw_df['duration'].apply(lambda x: isodate.parse_duration(x))\n",
    "raw_df['duration'] = raw_df['duration'].dt.total_seconds()\n",
    "raw_df['duration'] = raw_df['duration'].astype(np.int64)"
   ]
  },
  {
   "cell_type": "markdown",
   "metadata": {},
   "source": [
    "✨ Since the `publishedAt` column only carries general values, we can extract more useful information from this data. The special thing is that the extracted information will be `categorical` values."
   ]
  },
  {
   "cell_type": "code",
   "execution_count": 8,
   "metadata": {},
   "outputs": [],
   "source": [
    "if 'publishedAt' in raw_df.columns:\n",
    "    # Extract time features from `publishedAt` column\n",
    "    raw_df['publishedAt.hour']       = raw_df['publishedAt'].dt.hour\n",
    "    raw_df['publishedAt.day']        = raw_df['publishedAt'].dt.day\n",
    "    raw_df['publishedAt.year']       = raw_df['publishedAt'].dt.year\n",
    "    raw_df['publishedAt.month']      = raw_df['publishedAt'].dt.month\n",
    "    raw_df['publishedAt.dayOfWeek']  = raw_df['publishedAt'].dt.dayofweek  # Monday = 0, Sunday = 6\n",
    "    raw_df['publishedAt.weekOfYear'] = raw_df['publishedAt'].dt.isocalendar().week\n",
    "\n",
    "    # Change datatype of the above columns to categorical\n",
    "    raw_df['publishedAt.hour']       = raw_df['publishedAt.hour'].astype('str')\n",
    "    raw_df['publishedAt.day']        = raw_df['publishedAt.day'].astype('str')\n",
    "    raw_df['publishedAt.year']       = raw_df['publishedAt.year'].astype('str')\n",
    "    raw_df['publishedAt.month']      = raw_df['publishedAt.month'].astype('str')\n",
    "    raw_df['publishedAt.dayOfWeek']  = raw_df['publishedAt.dayOfWeek'].astype('str')\n",
    "    raw_df['publishedAt.weekOfYear'] = raw_df['publishedAt.weekOfYear'].astype('str')"
   ]
  },
  {
   "cell_type": "code",
   "execution_count": 9,
   "metadata": {},
   "outputs": [
    {
     "data": {
      "text/plain": [
       "video_id                               object\n",
       "channelTitle                           object\n",
       "title                                  object\n",
       "description                            object\n",
       "tags                                   object\n",
       "publishedAt               datetime64[ns, UTC]\n",
       "viewCount                             float64\n",
       "likeCount                             float64\n",
       "favouriteCount                        float64\n",
       "commentCount                          float64\n",
       "duration                                int64\n",
       "definition                             object\n",
       "caption                                  bool\n",
       "publishedAt.hour                       object\n",
       "publishedAt.day                        object\n",
       "publishedAt.year                       object\n",
       "publishedAt.month                      object\n",
       "publishedAt.dayOfWeek                  object\n",
       "publishedAt.weekOfYear                 object\n",
       "dtype: object"
      ]
     },
     "execution_count": 9,
     "metadata": {},
     "output_type": "execute_result"
    }
   ],
   "source": [
    "# TEST\n",
    "raw_df.dtypes"
   ]
  },
  {
   "cell_type": "markdown",
   "metadata": {},
   "source": [
    "### 📌 With each numerical column, how are values distributed?"
   ]
  },
  {
   "cell_type": "markdown",
   "metadata": {},
   "source": [
    "📚 For columns with numeric data types, we will calculate some basic statistics:\n",
    "- Percentage (from 0 to 100) of missing values\n",
    "- The min\n",
    "- The lower quartile (phân vị 25)\n",
    "- The median (phân vị 50)\n",
    "- The upper quartile (phân vị 75)\n",
    "- The max\n",
    "\n",
    "Then we will observe and comment to see if the results are unusual?"
   ]
  },
  {
   "cell_type": "code",
   "execution_count": 10,
   "metadata": {},
   "outputs": [
    {
     "data": {
      "text/html": [
       "<div>\n",
       "<style scoped>\n",
       "    .dataframe tbody tr th:only-of-type {\n",
       "        vertical-align: middle;\n",
       "    }\n",
       "\n",
       "    .dataframe tbody tr th {\n",
       "        vertical-align: top;\n",
       "    }\n",
       "\n",
       "    .dataframe thead th {\n",
       "        text-align: right;\n",
       "    }\n",
       "</style>\n",
       "<table border=\"1\" class=\"dataframe\">\n",
       "  <thead>\n",
       "    <tr style=\"text-align: right;\">\n",
       "      <th></th>\n",
       "      <th>publishedAt</th>\n",
       "      <th>viewCount</th>\n",
       "      <th>likeCount</th>\n",
       "      <th>favouriteCount</th>\n",
       "      <th>commentCount</th>\n",
       "      <th>duration</th>\n",
       "    </tr>\n",
       "  </thead>\n",
       "  <tbody>\n",
       "    <tr>\n",
       "      <th>missing_ratio</th>\n",
       "      <td>0.0</td>\n",
       "      <td>6.663113e-03</td>\n",
       "      <td>0.404784</td>\n",
       "      <td>100.0</td>\n",
       "      <td>1.279318</td>\n",
       "      <td>0.0</td>\n",
       "    </tr>\n",
       "    <tr>\n",
       "      <th>min</th>\n",
       "      <td>2006-10-25 10:28:09+00:00</td>\n",
       "      <td>0.000000e+00</td>\n",
       "      <td>0.000000</td>\n",
       "      <td>NaN</td>\n",
       "      <td>0.000000</td>\n",
       "      <td>0.0</td>\n",
       "    </tr>\n",
       "    <tr>\n",
       "      <th>lower_quartile</th>\n",
       "      <td>2019-02-18 04:02:18+00:00</td>\n",
       "      <td>6.220000e+02</td>\n",
       "      <td>11.000000</td>\n",
       "      <td>NaN</td>\n",
       "      <td>0.000000</td>\n",
       "      <td>293.0</td>\n",
       "    </tr>\n",
       "    <tr>\n",
       "      <th>median</th>\n",
       "      <td>2020-12-22 09:26:05.500000+00:00</td>\n",
       "      <td>3.059500e+03</td>\n",
       "      <td>55.000000</td>\n",
       "      <td>NaN</td>\n",
       "      <td>5.000000</td>\n",
       "      <td>695.0</td>\n",
       "    </tr>\n",
       "    <tr>\n",
       "      <th>upper_quartile</th>\n",
       "      <td>2022-07-05 06:04:02.500000+00:00</td>\n",
       "      <td>1.602175e+04</td>\n",
       "      <td>334.000000</td>\n",
       "      <td>NaN</td>\n",
       "      <td>27.000000</td>\n",
       "      <td>1786.0</td>\n",
       "    </tr>\n",
       "    <tr>\n",
       "      <th>max</th>\n",
       "      <td>2023-11-24 13:04:35+00:00</td>\n",
       "      <td>3.447645e+07</td>\n",
       "      <td>571358.000000</td>\n",
       "      <td>NaN</td>\n",
       "      <td>60054.000000</td>\n",
       "      <td>92218.0</td>\n",
       "    </tr>\n",
       "  </tbody>\n",
       "</table>\n",
       "</div>"
      ],
      "text/plain": [
       "                                     publishedAt     viewCount      likeCount  \\\n",
       "missing_ratio                                0.0  6.663113e-03       0.404784   \n",
       "min                    2006-10-25 10:28:09+00:00  0.000000e+00       0.000000   \n",
       "lower_quartile         2019-02-18 04:02:18+00:00  6.220000e+02      11.000000   \n",
       "median          2020-12-22 09:26:05.500000+00:00  3.059500e+03      55.000000   \n",
       "upper_quartile  2022-07-05 06:04:02.500000+00:00  1.602175e+04     334.000000   \n",
       "max                    2023-11-24 13:04:35+00:00  3.447645e+07  571358.000000   \n",
       "\n",
       "                favouriteCount  commentCount  duration  \n",
       "missing_ratio            100.0      1.279318       0.0  \n",
       "min                        NaN      0.000000       0.0  \n",
       "lower_quartile             NaN      0.000000     293.0  \n",
       "median                     NaN      5.000000     695.0  \n",
       "upper_quartile             NaN     27.000000    1786.0  \n",
       "max                        NaN  60054.000000   92218.0  "
      ]
     },
     "execution_count": 10,
     "metadata": {},
     "output_type": "execute_result"
    }
   ],
   "source": [
    "# YOUR CODE HERE\n",
    "num_col_info_df = raw_df.select_dtypes(exclude=['object', 'bool'])\n",
    "\n",
    "def missing_ratio(s):\n",
    "    return (s.isna().mean() * 100)\n",
    "\n",
    "def median(df):\n",
    "    return (df.quantile(0.5))\n",
    "\n",
    "def lower_quartile(df):\n",
    "    return (df.quantile(0.25))\n",
    "\n",
    "def upper_quartile(df):\n",
    "    return (df.quantile(0.75))\n",
    "\n",
    "num_col_info_df = num_col_info_df.agg([missing_ratio, \"min\", lower_quartile, median, upper_quartile, \"max\"])\n",
    "num_col_info_df"
   ]
  },
  {
   "cell_type": "markdown",
   "metadata": {},
   "source": [
    "Observation: We notice that some columns have missing data and need to be resolved before moving onto the next analysis steps. Other than that, the data does not appear to be unusual."
   ]
  },
  {
   "cell_type": "markdown",
   "metadata": {},
   "source": [
    "### 🚧 Preprocessing numerical columns"
   ]
  },
  {
   "cell_type": "markdown",
   "metadata": {},
   "source": [
    "We notice that `favouriteCount` does not have any value, so we can drop this feature"
   ]
  },
  {
   "cell_type": "code",
   "execution_count": 11,
   "metadata": {},
   "outputs": [],
   "source": [
    "# drop favouriteCount\n",
    "if \"favouriteCount\" in raw_df.columns:\n",
    "    raw_df = raw_df.drop('favouriteCount', axis=1)"
   ]
  },
  {
   "cell_type": "markdown",
   "metadata": {},
   "source": [
    "`viewCount`, `likeCount` and `commentCount` have little missing value, we'll fill them with their `median` and then convert them to integer"
   ]
  },
  {
   "cell_type": "code",
   "execution_count": 12,
   "metadata": {},
   "outputs": [],
   "source": [
    "# fill missing value with median\n",
    "missing_cols = ['viewCount', 'likeCount', 'commentCount']\n",
    "for col in missing_cols:\n",
    "    raw_df[col] = raw_df[col].fillna(raw_df[col].median().__round__(0))\n",
    "    raw_df[col] = raw_df[col].astype(np.int64)"
   ]
  },
  {
   "cell_type": "code",
   "execution_count": 13,
   "metadata": {},
   "outputs": [
    {
     "data": {
      "text/html": [
       "<div>\n",
       "<style scoped>\n",
       "    .dataframe tbody tr th:only-of-type {\n",
       "        vertical-align: middle;\n",
       "    }\n",
       "\n",
       "    .dataframe tbody tr th {\n",
       "        vertical-align: top;\n",
       "    }\n",
       "\n",
       "    .dataframe thead th {\n",
       "        text-align: right;\n",
       "    }\n",
       "</style>\n",
       "<table border=\"1\" class=\"dataframe\">\n",
       "  <thead>\n",
       "    <tr style=\"text-align: right;\">\n",
       "      <th></th>\n",
       "      <th>publishedAt</th>\n",
       "      <th>viewCount</th>\n",
       "      <th>likeCount</th>\n",
       "      <th>commentCount</th>\n",
       "      <th>duration</th>\n",
       "    </tr>\n",
       "  </thead>\n",
       "  <tbody>\n",
       "    <tr>\n",
       "      <th>missing_ratio</th>\n",
       "      <td>0.0</td>\n",
       "      <td>0.00</td>\n",
       "      <td>0.0</td>\n",
       "      <td>0.0</td>\n",
       "      <td>0.0</td>\n",
       "    </tr>\n",
       "    <tr>\n",
       "      <th>min</th>\n",
       "      <td>2006-10-25 10:28:09+00:00</td>\n",
       "      <td>0.00</td>\n",
       "      <td>0.0</td>\n",
       "      <td>0.0</td>\n",
       "      <td>0.0</td>\n",
       "    </tr>\n",
       "    <tr>\n",
       "      <th>lower_quartile</th>\n",
       "      <td>2019-02-18 04:02:18+00:00</td>\n",
       "      <td>622.00</td>\n",
       "      <td>11.0</td>\n",
       "      <td>1.0</td>\n",
       "      <td>293.0</td>\n",
       "    </tr>\n",
       "    <tr>\n",
       "      <th>median</th>\n",
       "      <td>2020-12-22 09:26:05.500000+00:00</td>\n",
       "      <td>3060.00</td>\n",
       "      <td>55.0</td>\n",
       "      <td>5.0</td>\n",
       "      <td>695.0</td>\n",
       "    </tr>\n",
       "    <tr>\n",
       "      <th>upper_quartile</th>\n",
       "      <td>2022-07-05 06:04:02.500000+00:00</td>\n",
       "      <td>16017.25</td>\n",
       "      <td>332.0</td>\n",
       "      <td>26.0</td>\n",
       "      <td>1786.0</td>\n",
       "    </tr>\n",
       "    <tr>\n",
       "      <th>max</th>\n",
       "      <td>2023-11-24 13:04:35+00:00</td>\n",
       "      <td>34476453.00</td>\n",
       "      <td>571358.0</td>\n",
       "      <td>60054.0</td>\n",
       "      <td>92218.0</td>\n",
       "    </tr>\n",
       "  </tbody>\n",
       "</table>\n",
       "</div>"
      ],
      "text/plain": [
       "                                     publishedAt    viewCount  likeCount  \\\n",
       "missing_ratio                                0.0         0.00        0.0   \n",
       "min                    2006-10-25 10:28:09+00:00         0.00        0.0   \n",
       "lower_quartile         2019-02-18 04:02:18+00:00       622.00       11.0   \n",
       "median          2020-12-22 09:26:05.500000+00:00      3060.00       55.0   \n",
       "upper_quartile  2022-07-05 06:04:02.500000+00:00     16017.25      332.0   \n",
       "max                    2023-11-24 13:04:35+00:00  34476453.00   571358.0   \n",
       "\n",
       "                commentCount  duration  \n",
       "missing_ratio            0.0       0.0  \n",
       "min                      0.0       0.0  \n",
       "lower_quartile           1.0     293.0  \n",
       "median                   5.0     695.0  \n",
       "upper_quartile          26.0    1786.0  \n",
       "max                  60054.0   92218.0  "
      ]
     },
     "execution_count": 13,
     "metadata": {},
     "output_type": "execute_result"
    }
   ],
   "source": [
    "# TEST\n",
    "raw_df.select_dtypes(exclude=['object', 'bool'])\\\n",
    "    .agg([missing_ratio, \"min\", lower_quartile, median, upper_quartile, \"max\"])"
   ]
  },
  {
   "cell_type": "markdown",
   "metadata": {},
   "source": [
    "### 📌 With each categorical column, how are values distributed?"
   ]
  },
  {
   "cell_type": "markdown",
   "metadata": {},
   "source": [
    "📚 For columns with non-numeric data types, we calculate:\n",
    "- Percentage (from 0 to 100) of missing values\n",
    "- Number of different values (and we do not consider missing values)\n",
    "- Show a few values and percentage (from 0 to 100) of each value sorted by decreasing percentage (we do not consider missing values, the ratio is the ratio compared to the number of non-missing values)\n",
    "\n",
    "Then we will observe and comment to see if the results are unusual?"
   ]
  },
  {
   "cell_type": "code",
   "execution_count": 14,
   "metadata": {},
   "outputs": [],
   "source": [
    "pd.set_option('display.max_colwidth', 100) # For clearly\n",
    "pd.set_option('display.max_columns', None) # For clearly"
   ]
  },
  {
   "cell_type": "code",
   "execution_count": 15,
   "metadata": {},
   "outputs": [
    {
     "data": {
      "text/html": [
       "<div>\n",
       "<style scoped>\n",
       "    .dataframe tbody tr th:only-of-type {\n",
       "        vertical-align: middle;\n",
       "    }\n",
       "\n",
       "    .dataframe tbody tr th {\n",
       "        vertical-align: top;\n",
       "    }\n",
       "\n",
       "    .dataframe thead th {\n",
       "        text-align: right;\n",
       "    }\n",
       "</style>\n",
       "<table border=\"1\" class=\"dataframe\">\n",
       "  <thead>\n",
       "    <tr style=\"text-align: right;\">\n",
       "      <th></th>\n",
       "      <th>video_id</th>\n",
       "      <th>channelTitle</th>\n",
       "      <th>title</th>\n",
       "      <th>description</th>\n",
       "      <th>tags</th>\n",
       "      <th>definition</th>\n",
       "      <th>caption</th>\n",
       "      <th>publishedAt.hour</th>\n",
       "      <th>publishedAt.day</th>\n",
       "      <th>publishedAt.year</th>\n",
       "      <th>publishedAt.month</th>\n",
       "      <th>publishedAt.dayOfWeek</th>\n",
       "      <th>publishedAt.weekOfYear</th>\n",
       "    </tr>\n",
       "  </thead>\n",
       "  <tbody>\n",
       "    <tr>\n",
       "      <th>missing_ratio</th>\n",
       "      <td>0.0</td>\n",
       "      <td>0.0</td>\n",
       "      <td>0.0</td>\n",
       "      <td>2.803505</td>\n",
       "      <td>18.956557</td>\n",
       "      <td>0.0</td>\n",
       "      <td>0.0</td>\n",
       "      <td>0.0</td>\n",
       "      <td>0.0</td>\n",
       "      <td>0.0</td>\n",
       "      <td>0.0</td>\n",
       "      <td>0.0</td>\n",
       "      <td>0.0</td>\n",
       "    </tr>\n",
       "    <tr>\n",
       "      <th>num_values</th>\n",
       "      <td>60032</td>\n",
       "      <td>160</td>\n",
       "      <td>59644</td>\n",
       "      <td>53351</td>\n",
       "      <td>35545</td>\n",
       "      <td>2</td>\n",
       "      <td>2</td>\n",
       "      <td>24</td>\n",
       "      <td>31</td>\n",
       "      <td>17</td>\n",
       "      <td>12</td>\n",
       "      <td>7</td>\n",
       "      <td>53</td>\n",
       "    </tr>\n",
       "    <tr>\n",
       "      <th>value_ratios</th>\n",
       "      <td>{'WkqM0ndr42c': 0.0, 'ls8hEDjhKU0': 0.0, 'Fh0ArGT2_b0': 0.0, '_tHCoU5TZZg': 0.0, 'fXAvXLOUjlU': ...</td>\n",
       "      <td>{'itversity': 5.8, 'Databricks': 4.7, 'Great Learning': 3.1, 'Analytics India Magazine': 3.0, 'K...</td>\n",
       "      <td>{'TL': 0.1, 'Data Analyst MENTORSHIP -  Q&amp;A (while I drink coffee)': 0.1, 'Machine Learning Summ...</td>\n",
       "      <td>{'nan': 2.7, 'Connect with me or follow me at\r\n",
       "https://www.linkedin.com/in/durga0gadiraju\r\n",
       "https...</td>\n",
       "      <td>{'nan': 18.9, '['Databricks']': 2.2, '['CBMM', 'Center for Brains Minds and Machines', 'Artifici...</td>\n",
       "      <td>{'hd': 95.5, 'sd': 4.5}</td>\n",
       "      <td>{'False': 88.6, 'True': 11.4}</td>\n",
       "      <td>{'15': 8.6, '13': 8.5, '16': 7.8, '14': 7.6, '12': 6.3, '17': 5.3, '4': 4.5, '11': 4.4, '18': 3....</td>\n",
       "      <td>{'6': 3.9, '25': 3.7, '7': 3.6, '28': 3.6, '11': 3.6, '19': 3.5, '14': 3.5, '21': 3.5, '26': 3.4...</td>\n",
       "      <td>{'2020': 17.5, '2021': 16.6, '2023': 16.6, '2022': 16.2, '2019': 9.7, '2018': 7.2, '2017': 6.1, ...</td>\n",
       "      <td>{'10': 8.9, '7': 8.9, '3': 8.8, '4': 8.7, '6': 8.7, '11': 8.6, '1': 8.4, '8': 8.2, '5': 8.2, '9'...</td>\n",
       "      <td>{'2': 17.2, '3': 16.5, '0': 16.2, '1': 15.7, '4': 15.1, '5': 10.1, '6': 9.3}</td>\n",
       "      <td>{'39': 2.4, '26': 2.4, '30': 2.3, '29': 2.3, '41': 2.3, '14': 2.2, '19': 2.2, '47': 2.2, '15': 2...</td>\n",
       "    </tr>\n",
       "  </tbody>\n",
       "</table>\n",
       "</div>"
      ],
      "text/plain": [
       "                                                                                                          video_id  \\\n",
       "missing_ratio                                                                                                  0.0   \n",
       "num_values                                                                                                   60032   \n",
       "value_ratios   {'WkqM0ndr42c': 0.0, 'ls8hEDjhKU0': 0.0, 'Fh0ArGT2_b0': 0.0, '_tHCoU5TZZg': 0.0, 'fXAvXLOUjlU': ...   \n",
       "\n",
       "                                                                                                      channelTitle  \\\n",
       "missing_ratio                                                                                                  0.0   \n",
       "num_values                                                                                                     160   \n",
       "value_ratios   {'itversity': 5.8, 'Databricks': 4.7, 'Great Learning': 3.1, 'Analytics India Magazine': 3.0, 'K...   \n",
       "\n",
       "                                                                                                             title  \\\n",
       "missing_ratio                                                                                                  0.0   \n",
       "num_values                                                                                                   59644   \n",
       "value_ratios   {'TL': 0.1, 'Data Analyst MENTORSHIP -  Q&A (while I drink coffee)': 0.1, 'Machine Learning Summ...   \n",
       "\n",
       "                                                                                                       description  \\\n",
       "missing_ratio                                                                                             2.803505   \n",
       "num_values                                                                                                   53351   \n",
       "value_ratios   {'nan': 2.7, 'Connect with me or follow me at\n",
       "https://www.linkedin.com/in/durga0gadiraju\n",
       "https...   \n",
       "\n",
       "                                                                                                              tags  \\\n",
       "missing_ratio                                                                                            18.956557   \n",
       "num_values                                                                                                   35545   \n",
       "value_ratios   {'nan': 18.9, '['Databricks']': 2.2, '['CBMM', 'Center for Brains Minds and Machines', 'Artifici...   \n",
       "\n",
       "                            definition                        caption  \\\n",
       "missing_ratio                      0.0                            0.0   \n",
       "num_values                           2                              2   \n",
       "value_ratios   {'hd': 95.5, 'sd': 4.5}  {'False': 88.6, 'True': 11.4}   \n",
       "\n",
       "                                                                                                  publishedAt.hour  \\\n",
       "missing_ratio                                                                                                  0.0   \n",
       "num_values                                                                                                      24   \n",
       "value_ratios   {'15': 8.6, '13': 8.5, '16': 7.8, '14': 7.6, '12': 6.3, '17': 5.3, '4': 4.5, '11': 4.4, '18': 3....   \n",
       "\n",
       "                                                                                                   publishedAt.day  \\\n",
       "missing_ratio                                                                                                  0.0   \n",
       "num_values                                                                                                      31   \n",
       "value_ratios   {'6': 3.9, '25': 3.7, '7': 3.6, '28': 3.6, '11': 3.6, '19': 3.5, '14': 3.5, '21': 3.5, '26': 3.4...   \n",
       "\n",
       "                                                                                                  publishedAt.year  \\\n",
       "missing_ratio                                                                                                  0.0   \n",
       "num_values                                                                                                      17   \n",
       "value_ratios   {'2020': 17.5, '2021': 16.6, '2023': 16.6, '2022': 16.2, '2019': 9.7, '2018': 7.2, '2017': 6.1, ...   \n",
       "\n",
       "                                                                                                 publishedAt.month  \\\n",
       "missing_ratio                                                                                                  0.0   \n",
       "num_values                                                                                                      12   \n",
       "value_ratios   {'10': 8.9, '7': 8.9, '3': 8.8, '4': 8.7, '6': 8.7, '11': 8.6, '1': 8.4, '8': 8.2, '5': 8.2, '9'...   \n",
       "\n",
       "                                                                      publishedAt.dayOfWeek  \\\n",
       "missing_ratio                                                                           0.0   \n",
       "num_values                                                                                7   \n",
       "value_ratios   {'2': 17.2, '3': 16.5, '0': 16.2, '1': 15.7, '4': 15.1, '5': 10.1, '6': 9.3}   \n",
       "\n",
       "                                                                                            publishedAt.weekOfYear  \n",
       "missing_ratio                                                                                                  0.0  \n",
       "num_values                                                                                                      53  \n",
       "value_ratios   {'39': 2.4, '26': 2.4, '30': 2.3, '29': 2.3, '41': 2.3, '14': 2.2, '19': 2.2, '47': 2.2, '15': 2...  "
      ]
     },
     "execution_count": 15,
     "metadata": {},
     "output_type": "execute_result"
    }
   ],
   "source": [
    "cat_col_info_df = raw_df.select_dtypes(include=['object', 'bool'])\n",
    "\n",
    "def missing_ratio(s):\n",
    "    return (s.isna().mean() * 100)\n",
    "\n",
    "def num_values(s):\n",
    "    s = s.astype('str').str.split(';')\n",
    "    s = s.explode()\n",
    "    return len(s.value_counts())\n",
    "\n",
    "def value_ratios(s):\n",
    "    s = s.astype('str').str.split(';')\n",
    "    s = s.explode()\n",
    "    totalCount = (~s.isna()).sum()\n",
    "    return ((s.value_counts()/totalCount*100).round(1)).to_dict()\n",
    "\n",
    "cat_col_info_df = cat_col_info_df.agg([missing_ratio, num_values, value_ratios])\n",
    "cat_col_info_df"
   ]
  },
  {
   "cell_type": "markdown",
   "metadata": {},
   "source": [
    "Observation: We notice that some columns have missing data and need to be resolved before moving onto the next analysis steps. Other than that, the data does not appear to be unusual."
   ]
  },
  {
   "cell_type": "markdown",
   "metadata": {},
   "source": [
    "### 🚧 Preprocessing categorical columns"
   ]
  },
  {
   "cell_type": "markdown",
   "metadata": {},
   "source": [
    "#### Column `description`"
   ]
  },
  {
   "cell_type": "markdown",
   "metadata": {},
   "source": [
    "Let's observe some values ​​in the `description` column"
   ]
  },
  {
   "cell_type": "code",
   "execution_count": 16,
   "metadata": {},
   "outputs": [
    {
     "data": {
      "text/plain": [
       "46111    Melissa discusses the worthiness of building a company platform from scratch when there is no ex...\n",
       "21703    Lets Go!\\r\\n\\r\\nLinks to my stuff:\\r\\n* Youtube: https://youtube.com/@robmulla?sub_confirmation=...\n",
       "11806    Welcome to Chapter 3 of our educational series, where we dive deep into Probability Topics! 🎲 Th...\n",
       "2573     A quick walkthrough on setting up a development environment using Sublime Text 2.\\r\\n\\r\\nThe pac...\n",
       "42323    This Video is part of playlilst: How to Build backend for applications using NodeJS and MongoDB,...\n",
       "Name: description, dtype: object"
      ]
     },
     "execution_count": 16,
     "metadata": {},
     "output_type": "execute_result"
    }
   ],
   "source": [
    "raw_df['description'].sample(n=5)"
   ]
  },
  {
   "cell_type": "markdown",
   "metadata": {},
   "source": [
    "Việc tiền xử lý các giá trị bị thiếu trong cột này tương đối phức tạp vì nó yêu cầu chúng ta phải tạo ra một đoạn văn bản. Để cho đơn giản thì ta có thể điền giá trị `(nodescription)` vào các ô trống"
   ]
  },
  {
   "cell_type": "code",
   "execution_count": 17,
   "metadata": {},
   "outputs": [],
   "source": [
    "raw_df['description'] = raw_df['description'].fillna(\"(nodescription)\")"
   ]
  },
  {
   "cell_type": "markdown",
   "metadata": {},
   "source": [
    "#### Column `tags`"
   ]
  },
  {
   "cell_type": "markdown",
   "metadata": {},
   "source": [
    "Let's observe some values ​​in the `tags` column"
   ]
  },
  {
   "cell_type": "code",
   "execution_count": 18,
   "metadata": {},
   "outputs": [
    {
     "data": {
      "text/plain": [
       "50614    ['darshil parmar', 'seattle data guy', 'seattle data guy roadmap', 'Benjamin', 'Facebook data en...\n",
       "35806    ['Education', 'Engineering', 'Campus', 'Placement', 'Skills', 'Machine Learning', 'Software', 'W...\n",
       "16217                            ['CBMM', 'Center for Brains Minds and Machines', 'Artificial Intelligence']\n",
       "8798     ['most recommended data science platforms', 'learn python and sql', 'learn sql and python', 'dat...\n",
       "58374    ['ACL 2017', 'outstanding paper at ACL 2017', 'Deep Neural Network based Summarization', 'Attent...\n",
       "Name: tags, dtype: object"
      ]
     },
     "execution_count": 18,
     "metadata": {},
     "output_type": "execute_result"
    }
   ],
   "source": [
    "raw_df['tags'].sample(n=5)"
   ]
  },
  {
   "cell_type": "markdown",
   "metadata": {},
   "source": [
    "The `tags` column has a \"special\" data storage format: it is a `str` but has a structure similar to a `list` containing `str` elements inside. This can be \"confusing\" for other team members, so we will change the format of the `tags` string as follows: \"`str_1|str_2[...]`\""
   ]
  },
  {
   "cell_type": "code",
   "execution_count": 19,
   "metadata": {},
   "outputs": [
    {
     "data": {
      "text/plain": [
       "48582                                                                                                    NaN\n",
       "29168                                                                              apache spark|spark summit\n",
       "3852     data analytics|data science|python|data|tableau|bi|programming|technology|coding|data visualizat...\n",
       "10680    datascience|datascientist|Data Science|Data Scientist|Data Science Career|Data Scientist Tips|Da...\n",
       "8780     data science|data science interviews|data science interview questions|data science interview que...\n",
       "Name: tags, dtype: object"
      ]
     },
     "execution_count": 19,
     "metadata": {},
     "output_type": "execute_result"
    }
   ],
   "source": [
    "raw_df['tags'] = raw_df['tags'].apply(lambda x: '|'.join(x.strip(\"[]\").replace(\"\\'\", \"\").split(', ')) if isinstance(x, str) else x)\n",
    "\n",
    "# Display the result\n",
    "raw_df['tags'].sample(n=5)"
   ]
  },
  {
   "cell_type": "markdown",
   "metadata": {},
   "source": [
    "The `tags` column is still missing data. This lack of data probably comes from the poster not adding tags to their videos. In addition, predicting the value for videos lacking data is also relatively complicated. complex, so we will fill in the blank positions with the value `(notag)`"
   ]
  },
  {
   "cell_type": "code",
   "execution_count": 20,
   "metadata": {},
   "outputs": [],
   "source": [
    "# Replace missing value with \"(notag)\"\n",
    "raw_df['tags'] = raw_df['tags'].fillna(\"(notag)\")"
   ]
  },
  {
   "cell_type": "code",
   "execution_count": 21,
   "metadata": {},
   "outputs": [
    {
     "data": {
      "text/html": [
       "<div>\n",
       "<style scoped>\n",
       "    .dataframe tbody tr th:only-of-type {\n",
       "        vertical-align: middle;\n",
       "    }\n",
       "\n",
       "    .dataframe tbody tr th {\n",
       "        vertical-align: top;\n",
       "    }\n",
       "\n",
       "    .dataframe thead th {\n",
       "        text-align: right;\n",
       "    }\n",
       "</style>\n",
       "<table border=\"1\" class=\"dataframe\">\n",
       "  <thead>\n",
       "    <tr style=\"text-align: right;\">\n",
       "      <th></th>\n",
       "      <th>video_id</th>\n",
       "      <th>channelTitle</th>\n",
       "      <th>title</th>\n",
       "      <th>description</th>\n",
       "      <th>tags</th>\n",
       "      <th>definition</th>\n",
       "      <th>caption</th>\n",
       "      <th>publishedAt.hour</th>\n",
       "      <th>publishedAt.day</th>\n",
       "      <th>publishedAt.year</th>\n",
       "      <th>publishedAt.month</th>\n",
       "      <th>publishedAt.dayOfWeek</th>\n",
       "      <th>publishedAt.weekOfYear</th>\n",
       "    </tr>\n",
       "  </thead>\n",
       "  <tbody>\n",
       "    <tr>\n",
       "      <th>missing_ratio</th>\n",
       "      <td>0.0</td>\n",
       "      <td>0.0</td>\n",
       "      <td>0.0</td>\n",
       "      <td>0.0</td>\n",
       "      <td>0.0</td>\n",
       "      <td>0.0</td>\n",
       "      <td>0.0</td>\n",
       "      <td>0.0</td>\n",
       "      <td>0.0</td>\n",
       "      <td>0.0</td>\n",
       "      <td>0.0</td>\n",
       "      <td>0.0</td>\n",
       "      <td>0.0</td>\n",
       "    </tr>\n",
       "    <tr>\n",
       "      <th>num_values</th>\n",
       "      <td>60032</td>\n",
       "      <td>160</td>\n",
       "      <td>59644</td>\n",
       "      <td>53351</td>\n",
       "      <td>35545</td>\n",
       "      <td>2</td>\n",
       "      <td>2</td>\n",
       "      <td>24</td>\n",
       "      <td>31</td>\n",
       "      <td>17</td>\n",
       "      <td>12</td>\n",
       "      <td>7</td>\n",
       "      <td>53</td>\n",
       "    </tr>\n",
       "    <tr>\n",
       "      <th>value_ratios</th>\n",
       "      <td>{'WkqM0ndr42c': 0.0, 'ls8hEDjhKU0': 0.0, 'Fh0ArGT2_b0': 0.0, '_tHCoU5TZZg': 0.0, 'fXAvXLOUjlU': ...</td>\n",
       "      <td>{'itversity': 5.8, 'Databricks': 4.7, 'Great Learning': 3.1, 'Analytics India Magazine': 3.0, 'K...</td>\n",
       "      <td>{'TL': 0.1, 'Data Analyst MENTORSHIP -  Q&amp;A (while I drink coffee)': 0.1, 'Machine Learning Summ...</td>\n",
       "      <td>{'(nodescription)': 2.7, 'Connect with me or follow me at\r\n",
       "https://www.linkedin.com/in/durga0gad...</td>\n",
       "      <td>{'(notag)': 18.9, 'Databricks': 2.2, 'CBMM|Center for Brains Minds and Machines|Artificial Intel...</td>\n",
       "      <td>{'hd': 95.5, 'sd': 4.5}</td>\n",
       "      <td>{'False': 88.6, 'True': 11.4}</td>\n",
       "      <td>{'15': 8.6, '13': 8.5, '16': 7.8, '14': 7.6, '12': 6.3, '17': 5.3, '4': 4.5, '11': 4.4, '18': 3....</td>\n",
       "      <td>{'6': 3.9, '25': 3.7, '7': 3.6, '28': 3.6, '11': 3.6, '19': 3.5, '14': 3.5, '21': 3.5, '26': 3.4...</td>\n",
       "      <td>{'2020': 17.5, '2021': 16.6, '2023': 16.6, '2022': 16.2, '2019': 9.7, '2018': 7.2, '2017': 6.1, ...</td>\n",
       "      <td>{'10': 8.9, '7': 8.9, '3': 8.8, '4': 8.7, '6': 8.7, '11': 8.6, '1': 8.4, '8': 8.2, '5': 8.2, '9'...</td>\n",
       "      <td>{'2': 17.2, '3': 16.5, '0': 16.2, '1': 15.7, '4': 15.1, '5': 10.1, '6': 9.3}</td>\n",
       "      <td>{'39': 2.4, '26': 2.4, '30': 2.3, '29': 2.3, '41': 2.3, '14': 2.2, '19': 2.2, '47': 2.2, '15': 2...</td>\n",
       "    </tr>\n",
       "  </tbody>\n",
       "</table>\n",
       "</div>"
      ],
      "text/plain": [
       "                                                                                                          video_id  \\\n",
       "missing_ratio                                                                                                  0.0   \n",
       "num_values                                                                                                   60032   \n",
       "value_ratios   {'WkqM0ndr42c': 0.0, 'ls8hEDjhKU0': 0.0, 'Fh0ArGT2_b0': 0.0, '_tHCoU5TZZg': 0.0, 'fXAvXLOUjlU': ...   \n",
       "\n",
       "                                                                                                      channelTitle  \\\n",
       "missing_ratio                                                                                                  0.0   \n",
       "num_values                                                                                                     160   \n",
       "value_ratios   {'itversity': 5.8, 'Databricks': 4.7, 'Great Learning': 3.1, 'Analytics India Magazine': 3.0, 'K...   \n",
       "\n",
       "                                                                                                             title  \\\n",
       "missing_ratio                                                                                                  0.0   \n",
       "num_values                                                                                                   59644   \n",
       "value_ratios   {'TL': 0.1, 'Data Analyst MENTORSHIP -  Q&A (while I drink coffee)': 0.1, 'Machine Learning Summ...   \n",
       "\n",
       "                                                                                                       description  \\\n",
       "missing_ratio                                                                                                  0.0   \n",
       "num_values                                                                                                   53351   \n",
       "value_ratios   {'(nodescription)': 2.7, 'Connect with me or follow me at\n",
       "https://www.linkedin.com/in/durga0gad...   \n",
       "\n",
       "                                                                                                              tags  \\\n",
       "missing_ratio                                                                                                  0.0   \n",
       "num_values                                                                                                   35545   \n",
       "value_ratios   {'(notag)': 18.9, 'Databricks': 2.2, 'CBMM|Center for Brains Minds and Machines|Artificial Intel...   \n",
       "\n",
       "                            definition                        caption  \\\n",
       "missing_ratio                      0.0                            0.0   \n",
       "num_values                           2                              2   \n",
       "value_ratios   {'hd': 95.5, 'sd': 4.5}  {'False': 88.6, 'True': 11.4}   \n",
       "\n",
       "                                                                                                  publishedAt.hour  \\\n",
       "missing_ratio                                                                                                  0.0   \n",
       "num_values                                                                                                      24   \n",
       "value_ratios   {'15': 8.6, '13': 8.5, '16': 7.8, '14': 7.6, '12': 6.3, '17': 5.3, '4': 4.5, '11': 4.4, '18': 3....   \n",
       "\n",
       "                                                                                                   publishedAt.day  \\\n",
       "missing_ratio                                                                                                  0.0   \n",
       "num_values                                                                                                      31   \n",
       "value_ratios   {'6': 3.9, '25': 3.7, '7': 3.6, '28': 3.6, '11': 3.6, '19': 3.5, '14': 3.5, '21': 3.5, '26': 3.4...   \n",
       "\n",
       "                                                                                                  publishedAt.year  \\\n",
       "missing_ratio                                                                                                  0.0   \n",
       "num_values                                                                                                      17   \n",
       "value_ratios   {'2020': 17.5, '2021': 16.6, '2023': 16.6, '2022': 16.2, '2019': 9.7, '2018': 7.2, '2017': 6.1, ...   \n",
       "\n",
       "                                                                                                 publishedAt.month  \\\n",
       "missing_ratio                                                                                                  0.0   \n",
       "num_values                                                                                                      12   \n",
       "value_ratios   {'10': 8.9, '7': 8.9, '3': 8.8, '4': 8.7, '6': 8.7, '11': 8.6, '1': 8.4, '8': 8.2, '5': 8.2, '9'...   \n",
       "\n",
       "                                                                      publishedAt.dayOfWeek  \\\n",
       "missing_ratio                                                                           0.0   \n",
       "num_values                                                                                7   \n",
       "value_ratios   {'2': 17.2, '3': 16.5, '0': 16.2, '1': 15.7, '4': 15.1, '5': 10.1, '6': 9.3}   \n",
       "\n",
       "                                                                                            publishedAt.weekOfYear  \n",
       "missing_ratio                                                                                                  0.0  \n",
       "num_values                                                                                                      53  \n",
       "value_ratios   {'39': 2.4, '26': 2.4, '30': 2.3, '29': 2.3, '41': 2.3, '14': 2.2, '19': 2.2, '47': 2.2, '15': 2...  "
      ]
     },
     "execution_count": 21,
     "metadata": {},
     "output_type": "execute_result"
    }
   ],
   "source": [
    "# TEST\n",
    "raw_df.select_dtypes(include=['object', 'bool'])\\\n",
    "    .agg([missing_ratio, num_values, value_ratios])"
   ]
  },
  {
   "cell_type": "markdown",
   "metadata": {},
   "source": [
    "### 💾 Save the processed data"
   ]
  },
  {
   "cell_type": "code",
   "execution_count": 22,
   "metadata": {},
   "outputs": [
    {
     "name": "stdout",
     "output_type": "stream",
     "text": [
      "Total number of features: 18\n"
     ]
    },
    {
     "data": {
      "text/plain": [
       "video_id                               object\n",
       "channelTitle                           object\n",
       "title                                  object\n",
       "description                            object\n",
       "tags                                   object\n",
       "publishedAt               datetime64[ns, UTC]\n",
       "viewCount                               int64\n",
       "likeCount                               int64\n",
       "commentCount                            int64\n",
       "duration                                int64\n",
       "definition                             object\n",
       "caption                                  bool\n",
       "publishedAt.hour                       object\n",
       "publishedAt.day                        object\n",
       "publishedAt.year                       object\n",
       "publishedAt.month                      object\n",
       "publishedAt.dayOfWeek                  object\n",
       "publishedAt.weekOfYear                 object\n",
       "dtype: object"
      ]
     },
     "execution_count": 22,
     "metadata": {},
     "output_type": "execute_result"
    }
   ],
   "source": [
    "print(f\"Total number of features: {raw_df.shape[1]}\")\n",
    "raw_df.dtypes"
   ]
  },
  {
   "cell_type": "code",
   "execution_count": 23,
   "metadata": {},
   "outputs": [],
   "source": [
    "# Save processed data to disk\n",
    "raw_df.to_csv(\"../data/processed/\" + \"video_data_processed.csv\", index=False)"
   ]
  }
 ],
 "metadata": {
  "kernelspec": {
   "display_name": "Python 3",
   "language": "python",
   "name": "python3"
  },
  "language_info": {
   "codemirror_mode": {
    "name": "ipython",
    "version": 3
   },
   "file_extension": ".py",
   "mimetype": "text/x-python",
   "name": "python",
   "nbconvert_exporter": "python",
   "pygments_lexer": "ipython3",
   "version": "3.11.2"
  }
 },
 "nbformat": 4,
 "nbformat_minor": 2
}
