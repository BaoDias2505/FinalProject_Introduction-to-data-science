{
 "cells": [
  {
   "cell_type": "markdown",
   "metadata": {},
   "source": [
    "<div style=\"text-align: center; background-color: #0A6EBD; font-family: 'Trebuchet MS', Arial, sans-serif; color: white; padding: 20px; font-size: 40px; font-weight: bold; border-radius: 0 0 0 0; box-shadow: 0px 6px 8px rgba(0, 0, 0, 0.2);\">\n",
    "  Final project - Introduction to DS\n",
    "</div>"
   ]
  },
  {
   "cell_type": "markdown",
   "metadata": {},
   "source": [
    "<div style=\"text-align: center; background-color: #b1d1ff; font-family: 'Trebuchet MS', Arial, sans-serif; color: white; padding: 20px; font-size: 40px; font-weight: bold; border-radius: 0 0 0 0; box-shadow: 0px 6px 8px rgba(0, 0, 0, 0.2);\">\n",
    "  Stage 02 - Data preprocessing & Basic exploration\n",
    "</div>"
   ]
  },
  {
   "cell_type": "markdown",
   "metadata": {},
   "source": [
    "## Import"
   ]
  },
  {
   "cell_type": "code",
   "execution_count": 190,
   "metadata": {},
   "outputs": [],
   "source": [
    "import os\n",
    "import sys\n",
    "import numpy as np\n",
    "import pandas as pd\n",
    "import matplotlib.pyplot as plt\n",
    "import seaborn as sns\n",
    "import datetime\n",
    "import isodate"
   ]
  },
  {
   "cell_type": "markdown",
   "metadata": {},
   "source": [
    "## Read raw data from file"
   ]
  },
  {
   "cell_type": "code",
   "execution_count": 191,
   "metadata": {},
   "outputs": [
    {
     "data": {
      "text/html": [
       "<div>\n",
       "<style scoped>\n",
       "    .dataframe tbody tr th:only-of-type {\n",
       "        vertical-align: middle;\n",
       "    }\n",
       "\n",
       "    .dataframe tbody tr th {\n",
       "        vertical-align: top;\n",
       "    }\n",
       "\n",
       "    .dataframe thead th {\n",
       "        text-align: right;\n",
       "    }\n",
       "</style>\n",
       "<table border=\"1\" class=\"dataframe\">\n",
       "  <thead>\n",
       "    <tr style=\"text-align: right;\">\n",
       "      <th></th>\n",
       "      <th>video_id</th>\n",
       "      <th>channelTitle</th>\n",
       "      <th>title</th>\n",
       "      <th>description</th>\n",
       "      <th>tags</th>\n",
       "      <th>publishedAt</th>\n",
       "      <th>viewCount</th>\n",
       "      <th>likeCount</th>\n",
       "      <th>favouriteCount</th>\n",
       "      <th>commentCount</th>\n",
       "      <th>duration</th>\n",
       "      <th>definition</th>\n",
       "      <th>caption</th>\n",
       "    </tr>\n",
       "  </thead>\n",
       "  <tbody>\n",
       "    <tr>\n",
       "      <th>0</th>\n",
       "      <td>WkqM0ndr42c</td>\n",
       "      <td>Data School</td>\n",
       "      <td>My top 50 scikit-learn tips</td>\n",
       "      <td>If you already know the basics of scikit-learn...</td>\n",
       "      <td>['python', 'data science', 'machine learning',...</td>\n",
       "      <td>2023-04-20T14:56:43Z</td>\n",
       "      <td>8210.0</td>\n",
       "      <td>355.0</td>\n",
       "      <td>NaN</td>\n",
       "      <td>45.0</td>\n",
       "      <td>PT2H47M31S</td>\n",
       "      <td>hd</td>\n",
       "      <td>False</td>\n",
       "    </tr>\n",
       "    <tr>\n",
       "      <th>1</th>\n",
       "      <td>tWFQqaRtSQA</td>\n",
       "      <td>Data School</td>\n",
       "      <td>21 more pandas tricks</td>\n",
       "      <td>You're about to learn 21 tricks that will help...</td>\n",
       "      <td>['python', 'pandas', 'data analysis', 'data sc...</td>\n",
       "      <td>2022-05-12T16:20:41Z</td>\n",
       "      <td>43576.0</td>\n",
       "      <td>1379.0</td>\n",
       "      <td>NaN</td>\n",
       "      <td>67.0</td>\n",
       "      <td>PT24M40S</td>\n",
       "      <td>hd</td>\n",
       "      <td>False</td>\n",
       "    </tr>\n",
       "    <tr>\n",
       "      <th>2</th>\n",
       "      <td>gd-TZut-oto</td>\n",
       "      <td>Data School</td>\n",
       "      <td>Adapt this pattern to solve many Machine Learn...</td>\n",
       "      <td>Here's a simple pattern that can be adapted to...</td>\n",
       "      <td>['python', 'machine learning', 'scikit-learn',...</td>\n",
       "      <td>2021-10-28T16:16:39Z</td>\n",
       "      <td>11707.0</td>\n",
       "      <td>435.0</td>\n",
       "      <td>NaN</td>\n",
       "      <td>16.0</td>\n",
       "      <td>PT7M49S</td>\n",
       "      <td>hd</td>\n",
       "      <td>False</td>\n",
       "    </tr>\n",
       "    <tr>\n",
       "      <th>3</th>\n",
       "      <td>v2QpvCJ1ar8</td>\n",
       "      <td>Data School</td>\n",
       "      <td>Tune multiple models simultaneously with GridS...</td>\n",
       "      <td>You can tune 2+ models using the same grid sea...</td>\n",
       "      <td>['python', 'machine learning', 'scikit-learn',...</td>\n",
       "      <td>2021-10-26T13:53:24Z</td>\n",
       "      <td>6453.0</td>\n",
       "      <td>198.0</td>\n",
       "      <td>NaN</td>\n",
       "      <td>14.0</td>\n",
       "      <td>PT5M7S</td>\n",
       "      <td>hd</td>\n",
       "      <td>False</td>\n",
       "    </tr>\n",
       "    <tr>\n",
       "      <th>4</th>\n",
       "      <td>sMlsd2CnIf4</td>\n",
       "      <td>Data School</td>\n",
       "      <td>Access part of a Pipeline using slicing</td>\n",
       "      <td>Want to operate on part of a Pipeline (instead...</td>\n",
       "      <td>['python', 'machine learning', 'scikit-learn',...</td>\n",
       "      <td>2021-10-21T14:49:56Z</td>\n",
       "      <td>2413.0</td>\n",
       "      <td>64.0</td>\n",
       "      <td>NaN</td>\n",
       "      <td>4.0</td>\n",
       "      <td>PT3M38S</td>\n",
       "      <td>hd</td>\n",
       "      <td>False</td>\n",
       "    </tr>\n",
       "  </tbody>\n",
       "</table>\n",
       "</div>"
      ],
      "text/plain": [
       "      video_id channelTitle  \\\n",
       "0  WkqM0ndr42c  Data School   \n",
       "1  tWFQqaRtSQA  Data School   \n",
       "2  gd-TZut-oto  Data School   \n",
       "3  v2QpvCJ1ar8  Data School   \n",
       "4  sMlsd2CnIf4  Data School   \n",
       "\n",
       "                                               title  \\\n",
       "0                        My top 50 scikit-learn tips   \n",
       "1                              21 more pandas tricks   \n",
       "2  Adapt this pattern to solve many Machine Learn...   \n",
       "3  Tune multiple models simultaneously with GridS...   \n",
       "4            Access part of a Pipeline using slicing   \n",
       "\n",
       "                                         description  \\\n",
       "0  If you already know the basics of scikit-learn...   \n",
       "1  You're about to learn 21 tricks that will help...   \n",
       "2  Here's a simple pattern that can be adapted to...   \n",
       "3  You can tune 2+ models using the same grid sea...   \n",
       "4  Want to operate on part of a Pipeline (instead...   \n",
       "\n",
       "                                                tags           publishedAt  \\\n",
       "0  ['python', 'data science', 'machine learning',...  2023-04-20T14:56:43Z   \n",
       "1  ['python', 'pandas', 'data analysis', 'data sc...  2022-05-12T16:20:41Z   \n",
       "2  ['python', 'machine learning', 'scikit-learn',...  2021-10-28T16:16:39Z   \n",
       "3  ['python', 'machine learning', 'scikit-learn',...  2021-10-26T13:53:24Z   \n",
       "4  ['python', 'machine learning', 'scikit-learn',...  2021-10-21T14:49:56Z   \n",
       "\n",
       "   viewCount  likeCount  favouriteCount  commentCount    duration definition  \\\n",
       "0     8210.0      355.0             NaN          45.0  PT2H47M31S         hd   \n",
       "1    43576.0     1379.0             NaN          67.0    PT24M40S         hd   \n",
       "2    11707.0      435.0             NaN          16.0     PT7M49S         hd   \n",
       "3     6453.0      198.0             NaN          14.0      PT5M7S         hd   \n",
       "4     2413.0       64.0             NaN           4.0     PT3M38S         hd   \n",
       "\n",
       "   caption  \n",
       "0    False  \n",
       "1    False  \n",
       "2    False  \n",
       "3    False  \n",
       "4    False  "
      ]
     },
     "execution_count": 191,
     "metadata": {},
     "output_type": "execute_result"
    }
   ],
   "source": [
    "raw_df = pd.read_csv(\"../data/raw/video_data_raw.csv\")\n",
    "raw_df.head()"
   ]
  },
  {
   "cell_type": "markdown",
   "metadata": {},
   "source": [
    "- In here, we will change the format of `tags` string."
   ]
  },
  {
   "cell_type": "code",
   "execution_count": 192,
   "metadata": {},
   "outputs": [
    {
     "data": {
      "text/plain": [
       "0        python|data science|machine learning|scikit-learn\n",
       "1                 python|pandas|data analysis|data science\n",
       "2        python|machine learning|scikit-learn|data science\n",
       "3        python|machine learning|scikit-learn|data science\n",
       "4        python|machine learning|scikit-learn|data science\n",
       "                               ...                        \n",
       "60027    free fme license|fme license key|fme home lice...\n",
       "60028    s3connector|api to s3 fme|httpcaller|fme data ...\n",
       "60029    temppathnamecreater|FME Transformer Guide|temp...\n",
       "60030    csv to shapefile|csv to geopackage|fme vertexc...\n",
       "60031    FeatureJoiner|FME FeatureJoiner|joining data w...\n",
       "Name: tags, Length: 60032, dtype: object"
      ]
     },
     "execution_count": 192,
     "metadata": {},
     "output_type": "execute_result"
    }
   ],
   "source": [
    "raw_df['tags'] = raw_df['tags'].apply(lambda x: '|'.join(x.strip(\"[]\").replace(\"'\", \"\").split(', ')) if isinstance(x, str) else x)\n",
    "raw_df['tags']"
   ]
  },
  {
   "cell_type": "markdown",
   "metadata": {},
   "source": [
    "### How many rows and how many columns does the raw data have?"
   ]
  },
  {
   "cell_type": "code",
   "execution_count": 193,
   "metadata": {},
   "outputs": [
    {
     "name": "stdout",
     "output_type": "stream",
     "text": [
      "Video data current shape: (60032, 13)\n"
     ]
    }
   ],
   "source": [
    "data_video_shape = raw_df.shape\n",
    "print(f\"Video data current shape: {data_video_shape}\")"
   ]
  },
  {
   "cell_type": "markdown",
   "metadata": {},
   "source": [
    "### What is the meaning of each row?"
   ]
  },
  {
   "cell_type": "markdown",
   "metadata": {},
   "source": [
    "- Answer: Based on the observations of the dataset, we suppose that each row represents a unique set of details regarding individual YouTube videos"
   ]
  },
  {
   "cell_type": "markdown",
   "metadata": {},
   "source": [
    "### What does each column mean?"
   ]
  },
  {
   "cell_type": "markdown",
   "metadata": {},
   "source": [
    "\n",
    "<table style=\"width: 100%; border-collapse: collapse;\">\n",
    "  <thead>\n",
    "    <tr>\n",
    "      <th style=\"min-width: 10px; width: 30px; background-color: #04B1CC; color: white; font-size :15px; font-weight: bold; text-align: left; padding: 8px;\">No</th>\n",
    "      <th style=\"background-color: #04B1CC; color: white; font-size :15px; font-weight: bold; text-align: left; padding: 8px;\">Columns</th>\n",
    "      <th style=\"background-color: #04B1CC; color: white; font-size :15px; font-weight: bold; text-align: left; padding: 8px;\">Meaning</th>\n",
    "    </tr>\n",
    "  </thead>\n",
    "  <tbody>\n",
    "    <tr>\n",
    "      <td style=\"font-size: 14px; text-align: left;\">1</td>\n",
    "      <td style=\"font-size: 14px; text-align: left;\">video_id</td>\n",
    "      <td style=\"font-size: 14px; text-align: left;\">Unique identifier for the YouTube video.</td>\n",
    "    </tr>\n",
    "    <tr>\n",
    "      <td style=\"font-size: 14px; text-align: left;\">2</td>\n",
    "      <td style=\"font-size: 14px; text-align: left;\">channelTitle</td>\n",
    "      <td style=\"font-size: 14px; text-align: left;\">The name of the channel that uploaded the video.</td>\n",
    "    </tr>\n",
    "    <tr>\n",
    "      <td style=\"font-size: 14px; text-align: left;\">3</td>\n",
    "      <td style=\"font-size: 14px; text-align: left;\">title</td>\n",
    "      <td style=\"font-size: 14px; text-align: left;\">Title of the video.</td>\n",
    "    </tr>\n",
    "    <tr>\n",
    "      <td style=\"font-size: 14px; text-align: left;\">4</td>\n",
    "      <td style=\"font-size: 14px; text-align: left;\">description</td>\n",
    "      <td style=\"font-size: 14px; text-align: left;\">Description or summary of the video content.</td>\n",
    "    </tr>\n",
    "    <tr>\n",
    "      <td style=\"font-size: 14px; text-align: left;\">5</td>\n",
    "      <td style=\"font-size: 14px; text-align: left;\">tags</td>\n",
    "      <td style=\"font-size: 14px; text-align: left;\">Keywords or tags associated with the video.</td>\n",
    "    </tr>\n",
    "    <tr>\n",
    "      <td style=\"font-size: 14px; text-align: left;\">6</td>\n",
    "      <td style=\"font-size: 14px; text-align: left;\">publishedAt</td>\n",
    "      <td style=\"font-size: 14px; text-align: left;\">Date and time when the video was published.</td>\n",
    "    </tr>\n",
    "    <tr>\n",
    "      <td style=\"font-size: 14px; text-align: left;\">7</td>\n",
    "      <td style=\"font-size: 14px; text-align: left;\">viewCount</td>\n",
    "      <td style=\"font-size: 14px; text-align: left;\">Number of views the video has accumulated.</td>\n",
    "    </tr>\n",
    "    <tr>\n",
    "      <td style=\"font-size: 14px; text-align: left;\">8</td>\n",
    "      <td style=\"font-size: 14px; text-align: left;\">likeCount</td>\n",
    "      <td style=\"font-size: 14px; text-align: left;\">Count of likes received by the video.</td>\n",
    "    </tr>\n",
    "    <tr>\n",
    "      <td style=\"font-size: 14px; text-align: left;\">9</td>\n",
    "      <td style=\"font-size: 14px; text-align: left;\">favoriteCount</td>\n",
    "      <td style=\"font-size: 14px; text-align: left;\">Deprecated; used to track how many times viewers added the video to their favorites.</td>\n",
    "    </tr>\n",
    "    <tr>\n",
    "      <td style=\"font-size: 14px; text-align: left;\">10</td>\n",
    "      <td style=\"font-size: 14px; text-align: left;\">commentCount</td>\n",
    "      <td style=\"font-size: 14px; text-align: left;\">Number of comments posted on the video.</td>\n",
    "    </tr>\n",
    "    <tr>\n",
    "      <td style=\"font-size: 14px; text-align: left;\">11</td>\n",
    "      <td style=\"font-size: 14px; text-align: left;\">duration</td>\n",
    "      <td style=\"font-size: 14px; text-align: left;\">Length of the video.</td>\n",
    "    </tr>\n",
    "    <tr>\n",
    "      <td style=\"font-size: 14px; text-align: left;\">12</td>\n",
    "      <td style=\"font-size: 14px; text-align: left;\">definition</td>\n",
    "      <td style=\"font-size: 14px; text-align: left;\">Video resolution or quality (e.g., HD, SD).</td>\n",
    "    </tr>\n",
    "    <tr>\n",
    "      <td style=\"font-size: 14px; text-align: left;\">13</td>\n",
    "      <td style=\"font-size: 14px; text-align: left;\">caption</td>\n",
    "      <td style=\"font-size: 14px; text-align: left;\"> Indicates whether closed captions are available for the video.</td>\n",
    "    </tr>\n",
    "  </tbody>\n",
    "</table>"
   ]
  },
  {
   "cell_type": "markdown",
   "metadata": {},
   "source": [
    "### Does the raw data have duplicate rows?"
   ]
  },
  {
   "cell_type": "code",
   "execution_count": 194,
   "metadata": {},
   "outputs": [],
   "source": [
    "# retrieve the index\n",
    "index = raw_df.index\n",
    "# create a Pandas Series indicating whether each index is duplicated or not\n",
    "deDupSeries = index.duplicated(keep='first')\n",
    "# calculate the number of duplicated rows\n",
    "num_duplicated_rows = deDupSeries.sum()"
   ]
  },
  {
   "cell_type": "code",
   "execution_count": 195,
   "metadata": {},
   "outputs": [
    {
     "name": "stdout",
     "output_type": "stream",
     "text": [
      "Raw data have no duplicated line !\n"
     ]
    }
   ],
   "source": [
    "if num_duplicated_rows == 0:\n",
    "    print(f\"Raw data have no duplicated line !\")\n",
    "else:\n",
    "    if num_duplicated_rows > 1:\n",
    "        ext = \"lines\"\n",
    "    else:\n",
    "        ext = \"line\"\n",
    "    print(f\"Raw data have {num_duplicated_rows} duplicated \" + ext)"
   ]
  },
  {
   "cell_type": "markdown",
   "metadata": {},
   "source": [
    "### What data type does each column currently have? Are there any columns having inappropriate data types?"
   ]
  },
  {
   "cell_type": "code",
   "execution_count": 196,
   "metadata": {},
   "outputs": [
    {
     "data": {
      "text/plain": [
       "video_id           object\n",
       "channelTitle       object\n",
       "title              object\n",
       "description        object\n",
       "tags               object\n",
       "publishedAt        object\n",
       "viewCount         float64\n",
       "likeCount         float64\n",
       "favouriteCount    float64\n",
       "commentCount      float64\n",
       "duration           object\n",
       "definition         object\n",
       "caption              bool\n",
       "dtype: object"
      ]
     },
     "execution_count": 196,
     "metadata": {},
     "output_type": "execute_result"
    }
   ],
   "source": [
    "raw_df.dtypes"
   ]
  },
  {
   "cell_type": "markdown",
   "metadata": {},
   "source": [
    "- We notice that the columns `publishedAt` and `duration` are currently of object type. Given that they represent time periods, it is advisable to convert `publishedAt`  to datetime type. As the 'duration' is in ISO 8601 format, we'll convert it into a float representing the total number of seconds"
   ]
  },
  {
   "cell_type": "code",
   "execution_count": 197,
   "metadata": {},
   "outputs": [],
   "source": [
    "# convert publishedAt to datetime\n",
    "raw_df[\"publishedAt\"] = pd.to_datetime(raw_df[\"publishedAt\"])\n",
    "# convert duration to float\n",
    "raw_df['duration'] = raw_df['duration'].apply(lambda x: isodate.parse_duration(x))\n",
    "raw_df['duration'] = raw_df['duration'].dt.total_seconds()"
   ]
  },
  {
   "cell_type": "code",
   "execution_count": 198,
   "metadata": {},
   "outputs": [
    {
     "data": {
      "text/plain": [
       "video_id                       object\n",
       "channelTitle                   object\n",
       "title                          object\n",
       "description                    object\n",
       "tags                           object\n",
       "publishedAt       datetime64[ns, UTC]\n",
       "viewCount                     float64\n",
       "likeCount                     float64\n",
       "favouriteCount                float64\n",
       "commentCount                  float64\n",
       "duration                      float64\n",
       "definition                     object\n",
       "caption                          bool\n",
       "dtype: object"
      ]
     },
     "execution_count": 198,
     "metadata": {},
     "output_type": "execute_result"
    }
   ],
   "source": [
    "# TEST\n",
    "raw_df.dtypes"
   ]
  },
  {
   "cell_type": "markdown",
   "metadata": {},
   "source": [
    "### With each numerical column, how are values distributed?"
   ]
  },
  {
   "cell_type": "markdown",
   "metadata": {},
   "source": [
    "What is the percentage of missing values?"
   ]
  },
  {
   "cell_type": "code",
   "execution_count": 199,
   "metadata": {},
   "outputs": [
    {
     "data": {
      "text/plain": [
       "viewCount         0.000067\n",
       "likeCount         0.004048\n",
       "favouriteCount    1.000000\n",
       "commentCount      0.012793\n",
       "duration          0.000000\n",
       "dtype: float64"
      ]
     },
     "execution_count": 199,
     "metadata": {},
     "output_type": "execute_result"
    }
   ],
   "source": [
    "missing_vals = raw_df.select_dtypes(include='number').isna().sum()\n",
    "missing_percentage = missing_vals / len(raw_df)\n",
    "missing_percentage"
   ]
  },
  {
   "cell_type": "markdown",
   "metadata": {},
   "source": [
    "- We notice that `favouriteCount` does not have any value, so we can remove this feature."
   ]
  },
  {
   "cell_type": "code",
   "execution_count": 200,
   "metadata": {},
   "outputs": [],
   "source": [
    "# remove favouriteCount\n",
    "raw_df = raw_df.drop('favouriteCount', axis=1)"
   ]
  },
  {
   "cell_type": "markdown",
   "metadata": {},
   "source": [
    "-  `viewCount`, `likeCount` and `commentCount` have little missing value, we'll fill it with the median."
   ]
  },
  {
   "cell_type": "code",
   "execution_count": 201,
   "metadata": {},
   "outputs": [],
   "source": [
    "# fill missing value with median\n",
    "missing_cols = ['viewCount','likeCount','commentCount']\n",
    "for col in missing_cols:\n",
    "    raw_df[col] = raw_df[col].fillna(raw_df[col].median())"
   ]
  },
  {
   "cell_type": "code",
   "execution_count": 202,
   "metadata": {},
   "outputs": [
    {
     "data": {
      "text/plain": [
       "viewCount       0.0\n",
       "likeCount       0.0\n",
       "commentCount    0.0\n",
       "duration        0.0\n",
       "dtype: float64"
      ]
     },
     "execution_count": 202,
     "metadata": {},
     "output_type": "execute_result"
    }
   ],
   "source": [
    "# TEST\n",
    "missing_vals = raw_df.select_dtypes(include='number').isna().sum()\n",
    "missing_percentage = missing_vals / len(raw_df)\n",
    "missing_percentage"
   ]
  },
  {
   "cell_type": "markdown",
   "metadata": {},
   "source": [
    "### With each categorical column, how are values distributed?"
   ]
  },
  {
   "cell_type": "markdown",
   "metadata": {},
   "source": [
    "What is the percentage of missing values?"
   ]
  },
  {
   "cell_type": "code",
   "execution_count": 203,
   "metadata": {},
   "outputs": [
    {
     "data": {
      "text/plain": [
       "video_id        0.000000\n",
       "channelTitle    0.000000\n",
       "title           0.000000\n",
       "description     0.028035\n",
       "tags            0.189566\n",
       "publishedAt     0.000000\n",
       "definition      0.000000\n",
       "caption         0.000000\n",
       "dtype: float64"
      ]
     },
     "execution_count": 203,
     "metadata": {},
     "output_type": "execute_result"
    }
   ],
   "source": [
    "missing_vals = raw_df.select_dtypes(exclude='number').isna().sum()\n",
    "missing_percentage = missing_vals / len(raw_df)\n",
    "missing_percentage"
   ]
  },
  {
   "cell_type": "markdown",
   "metadata": {},
   "source": [
    "### Min? Max? Are they abnormal?"
   ]
  },
  {
   "cell_type": "code",
   "execution_count": 204,
   "metadata": {},
   "outputs": [
    {
     "data": {
      "text/html": [
       "<div>\n",
       "<style scoped>\n",
       "    .dataframe tbody tr th:only-of-type {\n",
       "        vertical-align: middle;\n",
       "    }\n",
       "\n",
       "    .dataframe tbody tr th {\n",
       "        vertical-align: top;\n",
       "    }\n",
       "\n",
       "    .dataframe thead th {\n",
       "        text-align: right;\n",
       "    }\n",
       "</style>\n",
       "<table border=\"1\" class=\"dataframe\">\n",
       "  <thead>\n",
       "    <tr style=\"text-align: right;\">\n",
       "      <th></th>\n",
       "      <th>viewCount</th>\n",
       "      <th>likeCount</th>\n",
       "      <th>commentCount</th>\n",
       "      <th>duration</th>\n",
       "    </tr>\n",
       "  </thead>\n",
       "  <tbody>\n",
       "    <tr>\n",
       "      <th>count</th>\n",
       "      <td>6.003200e+04</td>\n",
       "      <td>60032.00000</td>\n",
       "      <td>60032.000000</td>\n",
       "      <td>60032.000000</td>\n",
       "    </tr>\n",
       "    <tr>\n",
       "      <th>mean</th>\n",
       "      <td>4.848931e+04</td>\n",
       "      <td>1120.36274</td>\n",
       "      <td>69.066015</td>\n",
       "      <td>1496.953575</td>\n",
       "    </tr>\n",
       "    <tr>\n",
       "      <th>std</th>\n",
       "      <td>3.585073e+05</td>\n",
       "      <td>8272.34260</td>\n",
       "      <td>529.354710</td>\n",
       "      <td>2475.709199</td>\n",
       "    </tr>\n",
       "    <tr>\n",
       "      <th>min</th>\n",
       "      <td>0.000000e+00</td>\n",
       "      <td>0.00000</td>\n",
       "      <td>0.000000</td>\n",
       "      <td>0.000000</td>\n",
       "    </tr>\n",
       "    <tr>\n",
       "      <th>25%</th>\n",
       "      <td>6.220000e+02</td>\n",
       "      <td>11.00000</td>\n",
       "      <td>1.000000</td>\n",
       "      <td>293.000000</td>\n",
       "    </tr>\n",
       "    <tr>\n",
       "      <th>50%</th>\n",
       "      <td>3.059500e+03</td>\n",
       "      <td>55.00000</td>\n",
       "      <td>5.000000</td>\n",
       "      <td>695.000000</td>\n",
       "    </tr>\n",
       "    <tr>\n",
       "      <th>75%</th>\n",
       "      <td>1.601725e+04</td>\n",
       "      <td>332.00000</td>\n",
       "      <td>26.000000</td>\n",
       "      <td>1786.000000</td>\n",
       "    </tr>\n",
       "    <tr>\n",
       "      <th>max</th>\n",
       "      <td>3.447645e+07</td>\n",
       "      <td>571358.00000</td>\n",
       "      <td>60054.000000</td>\n",
       "      <td>92218.000000</td>\n",
       "    </tr>\n",
       "  </tbody>\n",
       "</table>\n",
       "</div>"
      ],
      "text/plain": [
       "          viewCount     likeCount  commentCount      duration\n",
       "count  6.003200e+04   60032.00000  60032.000000  60032.000000\n",
       "mean   4.848931e+04    1120.36274     69.066015   1496.953575\n",
       "std    3.585073e+05    8272.34260    529.354710   2475.709199\n",
       "min    0.000000e+00       0.00000      0.000000      0.000000\n",
       "25%    6.220000e+02      11.00000      1.000000    293.000000\n",
       "50%    3.059500e+03      55.00000      5.000000    695.000000\n",
       "75%    1.601725e+04     332.00000     26.000000   1786.000000\n",
       "max    3.447645e+07  571358.00000  60054.000000  92218.000000"
      ]
     },
     "execution_count": 204,
     "metadata": {},
     "output_type": "execute_result"
    }
   ],
   "source": [
    "raw_df.describe()"
   ]
  },
  {
   "cell_type": "markdown",
   "metadata": {},
   "source": [
    "### Save the processed data"
   ]
  },
  {
   "cell_type": "code",
   "execution_count": 205,
   "metadata": {},
   "outputs": [],
   "source": [
    "# Save processed data to disk\n",
    "raw_df.to_csv(\"../data/processed/\" + \"video_data_processed.csv\", index=False)"
   ]
  }
 ],
 "metadata": {
  "kernelspec": {
   "display_name": "Python 3",
   "language": "python",
   "name": "python3"
  },
  "language_info": {
   "codemirror_mode": {
    "name": "ipython",
    "version": 3
   },
   "file_extension": ".py",
   "mimetype": "text/x-python",
   "name": "python",
   "nbconvert_exporter": "python",
   "pygments_lexer": "ipython3",
   "version": "3.11.2"
  }
 },
 "nbformat": 4,
 "nbformat_minor": 2
}
