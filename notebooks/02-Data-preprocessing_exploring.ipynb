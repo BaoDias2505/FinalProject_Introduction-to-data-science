{
 "cells": [
  {
   "cell_type": "markdown",
   "metadata": {},
   "source": [
    "## Import"
   ]
  },
  {
   "cell_type": "code",
   "execution_count": 58,
   "metadata": {},
   "outputs": [],
   "source": [
    "import os\n",
    "import sys\n",
    "import numpy as np\n",
    "import pandas as pd\n",
    "import matplotlib.pyplot as plt\n",
    "import seaborn as sns\n",
    "import datetime\n",
    "import isodate"
   ]
  },
  {
   "cell_type": "markdown",
   "metadata": {},
   "source": [
    "## Read raw data from file"
   ]
  },
  {
   "cell_type": "code",
   "execution_count": 59,
   "metadata": {},
   "outputs": [
    {
     "data": {
      "text/html": [
       "<div>\n",
       "<style scoped>\n",
       "    .dataframe tbody tr th:only-of-type {\n",
       "        vertical-align: middle;\n",
       "    }\n",
       "\n",
       "    .dataframe tbody tr th {\n",
       "        vertical-align: top;\n",
       "    }\n",
       "\n",
       "    .dataframe thead th {\n",
       "        text-align: right;\n",
       "    }\n",
       "</style>\n",
       "<table border=\"1\" class=\"dataframe\">\n",
       "  <thead>\n",
       "    <tr style=\"text-align: right;\">\n",
       "      <th></th>\n",
       "      <th>video_id</th>\n",
       "      <th>channelTitle</th>\n",
       "      <th>title</th>\n",
       "      <th>description</th>\n",
       "      <th>tags</th>\n",
       "      <th>publishedAt</th>\n",
       "      <th>viewCount</th>\n",
       "      <th>likeCount</th>\n",
       "      <th>favouriteCount</th>\n",
       "      <th>commentCount</th>\n",
       "      <th>duration</th>\n",
       "      <th>definition</th>\n",
       "      <th>caption</th>\n",
       "    </tr>\n",
       "  </thead>\n",
       "  <tbody>\n",
       "    <tr>\n",
       "      <th>60027</th>\n",
       "      <td>Lz-IYgZRaXE</td>\n",
       "      <td>DataEng Uncomplicated</td>\n",
       "      <td>How to Get Free FME Desktop Licenses</td>\n",
       "      <td>This is a walk-through on the 6 ways on how yo...</td>\n",
       "      <td>['free fme license', 'fme license key', 'fme h...</td>\n",
       "      <td>2020-04-12T21:13:01Z</td>\n",
       "      <td>2420.0</td>\n",
       "      <td>13.0</td>\n",
       "      <td>NaN</td>\n",
       "      <td>6.0</td>\n",
       "      <td>PT2M57S</td>\n",
       "      <td>hd</td>\n",
       "      <td>False</td>\n",
       "    </tr>\n",
       "    <tr>\n",
       "      <th>60028</th>\n",
       "      <td>tdRbvrP5Hmk</td>\n",
       "      <td>DataEng Uncomplicated</td>\n",
       "      <td>Rest API to S3 with FME | Step by Step</td>\n",
       "      <td>This is a walkthrough on how to use any Rest A...</td>\n",
       "      <td>['s3connector', 'api to s3 fme', 'httpcaller',...</td>\n",
       "      <td>2020-04-10T16:25:39Z</td>\n",
       "      <td>780.0</td>\n",
       "      <td>11.0</td>\n",
       "      <td>NaN</td>\n",
       "      <td>0.0</td>\n",
       "      <td>PT7M33S</td>\n",
       "      <td>hd</td>\n",
       "      <td>False</td>\n",
       "    </tr>\n",
       "    <tr>\n",
       "      <th>60029</th>\n",
       "      <td>ZGWLggwc3Bs</td>\n",
       "      <td>DataEng Uncomplicated</td>\n",
       "      <td>How To Manage Temporary Data In FME</td>\n",
       "      <td>This video is a full guide on using the tempPa...</td>\n",
       "      <td>['temppathnamecreater', 'FME Transformer Guide...</td>\n",
       "      <td>2020-03-22T22:30:55Z</td>\n",
       "      <td>373.0</td>\n",
       "      <td>2.0</td>\n",
       "      <td>NaN</td>\n",
       "      <td>0.0</td>\n",
       "      <td>PT5M8S</td>\n",
       "      <td>hd</td>\n",
       "      <td>False</td>\n",
       "    </tr>\n",
       "    <tr>\n",
       "      <th>60030</th>\n",
       "      <td>vbOtRupga44</td>\n",
       "      <td>DataEng Uncomplicated</td>\n",
       "      <td>Creating Points From X,Y Coordinates with FME ...</td>\n",
       "      <td>Learn how to convert a CSV file with longitude...</td>\n",
       "      <td>['csv to shapefile', 'csv to geopackage', 'fme...</td>\n",
       "      <td>2019-08-15T04:15:09Z</td>\n",
       "      <td>6271.0</td>\n",
       "      <td>19.0</td>\n",
       "      <td>NaN</td>\n",
       "      <td>4.0</td>\n",
       "      <td>PT3M47S</td>\n",
       "      <td>hd</td>\n",
       "      <td>False</td>\n",
       "    </tr>\n",
       "    <tr>\n",
       "      <th>60031</th>\n",
       "      <td>OeiAAjgGEbY</td>\n",
       "      <td>DataEng Uncomplicated</td>\n",
       "      <td>FME FeatureJoiner Transformer Guide</td>\n",
       "      <td>This video walks through how to use the Featur...</td>\n",
       "      <td>['FeatureJoiner', 'FME FeatureJoiner', 'joinin...</td>\n",
       "      <td>2019-08-11T20:31:25Z</td>\n",
       "      <td>2286.0</td>\n",
       "      <td>36.0</td>\n",
       "      <td>NaN</td>\n",
       "      <td>2.0</td>\n",
       "      <td>PT6M50S</td>\n",
       "      <td>hd</td>\n",
       "      <td>False</td>\n",
       "    </tr>\n",
       "  </tbody>\n",
       "</table>\n",
       "</div>"
      ],
      "text/plain": [
       "          video_id           channelTitle  \\\n",
       "60027  Lz-IYgZRaXE  DataEng Uncomplicated   \n",
       "60028  tdRbvrP5Hmk  DataEng Uncomplicated   \n",
       "60029  ZGWLggwc3Bs  DataEng Uncomplicated   \n",
       "60030  vbOtRupga44  DataEng Uncomplicated   \n",
       "60031  OeiAAjgGEbY  DataEng Uncomplicated   \n",
       "\n",
       "                                                   title  \\\n",
       "60027               How to Get Free FME Desktop Licenses   \n",
       "60028             Rest API to S3 with FME | Step by Step   \n",
       "60029                How To Manage Temporary Data In FME   \n",
       "60030  Creating Points From X,Y Coordinates with FME ...   \n",
       "60031                FME FeatureJoiner Transformer Guide   \n",
       "\n",
       "                                             description  \\\n",
       "60027  This is a walk-through on the 6 ways on how yo...   \n",
       "60028  This is a walkthrough on how to use any Rest A...   \n",
       "60029  This video is a full guide on using the tempPa...   \n",
       "60030  Learn how to convert a CSV file with longitude...   \n",
       "60031  This video walks through how to use the Featur...   \n",
       "\n",
       "                                                    tags  \\\n",
       "60027  ['free fme license', 'fme license key', 'fme h...   \n",
       "60028  ['s3connector', 'api to s3 fme', 'httpcaller',...   \n",
       "60029  ['temppathnamecreater', 'FME Transformer Guide...   \n",
       "60030  ['csv to shapefile', 'csv to geopackage', 'fme...   \n",
       "60031  ['FeatureJoiner', 'FME FeatureJoiner', 'joinin...   \n",
       "\n",
       "                publishedAt  viewCount  likeCount  favouriteCount  \\\n",
       "60027  2020-04-12T21:13:01Z     2420.0       13.0             NaN   \n",
       "60028  2020-04-10T16:25:39Z      780.0       11.0             NaN   \n",
       "60029  2020-03-22T22:30:55Z      373.0        2.0             NaN   \n",
       "60030  2019-08-15T04:15:09Z     6271.0       19.0             NaN   \n",
       "60031  2019-08-11T20:31:25Z     2286.0       36.0             NaN   \n",
       "\n",
       "       commentCount duration definition  caption  \n",
       "60027           6.0  PT2M57S         hd    False  \n",
       "60028           0.0  PT7M33S         hd    False  \n",
       "60029           0.0   PT5M8S         hd    False  \n",
       "60030           4.0  PT3M47S         hd    False  \n",
       "60031           2.0  PT6M50S         hd    False  "
      ]
     },
     "execution_count": 59,
     "metadata": {},
     "output_type": "execute_result"
    }
   ],
   "source": [
    "raw_video_df = pd.read_csv(\"../data/raw/video_data_raw.csv\")\n",
    "raw_video_df.tail()"
   ]
  },
  {
   "cell_type": "code",
   "execution_count": 60,
   "metadata": {},
   "outputs": [
    {
     "data": {
      "text/html": [
       "<div>\n",
       "<style scoped>\n",
       "    .dataframe tbody tr th:only-of-type {\n",
       "        vertical-align: middle;\n",
       "    }\n",
       "\n",
       "    .dataframe tbody tr th {\n",
       "        vertical-align: top;\n",
       "    }\n",
       "\n",
       "    .dataframe thead th {\n",
       "        text-align: right;\n",
       "    }\n",
       "</style>\n",
       "<table border=\"1\" class=\"dataframe\">\n",
       "  <thead>\n",
       "    <tr style=\"text-align: right;\">\n",
       "      <th></th>\n",
       "      <th>video_id</th>\n",
       "      <th>comments</th>\n",
       "    </tr>\n",
       "  </thead>\n",
       "  <tbody>\n",
       "    <tr>\n",
       "      <th>0</th>\n",
       "      <td>WkqM0ndr42c</td>\n",
       "      <td>['👩\\u200d💻 Code: https://github.com/justmarkha...</td>\n",
       "    </tr>\n",
       "    <tr>\n",
       "      <th>1</th>\n",
       "      <td>tWFQqaRtSQA</td>\n",
       "      <td>['THANKS for watching! 🙌 Which trick are you m...</td>\n",
       "    </tr>\n",
       "    <tr>\n",
       "      <th>2</th>\n",
       "      <td>gd-TZut-oto</td>\n",
       "      <td>[\"Want to watch all 50 scikit-learn tips? Enro...</td>\n",
       "    </tr>\n",
       "    <tr>\n",
       "      <th>3</th>\n",
       "      <td>v2QpvCJ1ar8</td>\n",
       "      <td>[\"Thanks for watching! 🙌 If you're brand new t...</td>\n",
       "    </tr>\n",
       "    <tr>\n",
       "      <th>4</th>\n",
       "      <td>sMlsd2CnIf4</td>\n",
       "      <td>['Want to learn how to use pipelines effective...</td>\n",
       "    </tr>\n",
       "  </tbody>\n",
       "</table>\n",
       "</div>"
      ],
      "text/plain": [
       "      video_id                                           comments\n",
       "0  WkqM0ndr42c  ['👩\\u200d💻 Code: https://github.com/justmarkha...\n",
       "1  tWFQqaRtSQA  ['THANKS for watching! 🙌 Which trick are you m...\n",
       "2  gd-TZut-oto  [\"Want to watch all 50 scikit-learn tips? Enro...\n",
       "3  v2QpvCJ1ar8  [\"Thanks for watching! 🙌 If you're brand new t...\n",
       "4  sMlsd2CnIf4  ['Want to learn how to use pipelines effective..."
      ]
     },
     "execution_count": 60,
     "metadata": {},
     "output_type": "execute_result"
    }
   ],
   "source": [
    "raw_comment_df = pd.read_csv(\"../data/raw/comment_data_raw.csv\")\n",
    "raw_comment_df.head()"
   ]
  },
  {
   "cell_type": "markdown",
   "metadata": {},
   "source": [
    "### How many rows and how many columns does the raw data have?"
   ]
  },
  {
   "cell_type": "code",
   "execution_count": 61,
   "metadata": {},
   "outputs": [
    {
     "name": "stdout",
     "output_type": "stream",
     "text": [
      "Video data current shape: (60032, 13)\n",
      "Comments data current shape: (55309, 2)\n"
     ]
    }
   ],
   "source": [
    "data_video_shape = raw_video_df.shape\n",
    "print(f\"Video data current shape: {data_video_shape}\")\n",
    "data_comment_shape = raw_comment_df.shape\n",
    "print(f\"Comments data current shape: {data_comment_shape}\")"
   ]
  },
  {
   "cell_type": "markdown",
   "metadata": {},
   "source": [
    "### What is the meaning of each row?"
   ]
  },
  {
   "cell_type": "markdown",
   "metadata": {},
   "source": [
    "- Answer: Based on the observations of the dataset, we suppose that each row represents a unique set of details regarding individual YouTube videos"
   ]
  },
  {
   "cell_type": "markdown",
   "metadata": {},
   "source": [
    "### What does each column mean?"
   ]
  },
  {
   "cell_type": "markdown",
   "metadata": {},
   "source": [
    "dài qá chưa làm :Đ"
   ]
  },
  {
   "cell_type": "markdown",
   "metadata": {},
   "source": [
    "### Does the raw data have duplicate rows?"
   ]
  },
  {
   "cell_type": "code",
   "execution_count": 62,
   "metadata": {},
   "outputs": [],
   "source": [
    "# retrieve the index\n",
    "index = raw_video_df.index\n",
    "# create a Pandas Series indicating whether each index is duplicated or not\n",
    "deDupSeries = index.duplicated(keep='first')\n",
    "# calculate the number of duplicated rows\n",
    "num_duplicated_rows = deDupSeries.sum()"
   ]
  },
  {
   "cell_type": "code",
   "execution_count": 63,
   "metadata": {},
   "outputs": [
    {
     "name": "stdout",
     "output_type": "stream",
     "text": [
      "Raw data have no duplicated line !\n"
     ]
    }
   ],
   "source": [
    "if num_duplicated_rows == 0:\n",
    "    print(f\"Raw data have no duplicated line !\")\n",
    "else:\n",
    "    if num_duplicated_rows > 1:\n",
    "        ext = \"lines\"\n",
    "    else:\n",
    "        ext = \"line\"\n",
    "    print(f\"Raw data have {num_duplicated_rows} duplicated \" + ext)"
   ]
  },
  {
   "cell_type": "markdown",
   "metadata": {},
   "source": [
    "### What data type does each column currently have? Are there any columns having inappropriate data types?"
   ]
  },
  {
   "cell_type": "code",
   "execution_count": 64,
   "metadata": {},
   "outputs": [
    {
     "data": {
      "text/plain": [
       "video_id           object\n",
       "channelTitle       object\n",
       "title              object\n",
       "description        object\n",
       "tags               object\n",
       "publishedAt        object\n",
       "viewCount         float64\n",
       "likeCount         float64\n",
       "favouriteCount    float64\n",
       "commentCount      float64\n",
       "duration           object\n",
       "definition         object\n",
       "caption              bool\n",
       "dtype: object"
      ]
     },
     "execution_count": 64,
     "metadata": {},
     "output_type": "execute_result"
    }
   ],
   "source": [
    "raw_video_df.dtypes"
   ]
  },
  {
   "cell_type": "markdown",
   "metadata": {},
   "source": [
    "- We notice that the columns `publishedAt` and `duration` are currently of object type. Given that they represent time periods, it is advisable to convert `publishedAt`  to datetime type. As the 'duration' is in ISO 8601 format, we'll convert it into a float representing the total number of seconds"
   ]
  },
  {
   "cell_type": "code",
   "execution_count": 65,
   "metadata": {},
   "outputs": [],
   "source": [
    "# convert publishedAt to datetime\n",
    "raw_video_df[\"publishedAt\"] = pd.to_datetime(raw_video_df[\"publishedAt\"])\n",
    "# convert duration to float\n",
    "raw_video_df['duration'] = raw_video_df['duration'].apply(lambda x: isodate.parse_duration(x))\n",
    "raw_video_df['duration'] = raw_video_df['duration'].dt.total_seconds()"
   ]
  },
  {
   "cell_type": "code",
   "execution_count": 66,
   "metadata": {},
   "outputs": [
    {
     "data": {
      "text/plain": [
       "video_id                       object\n",
       "channelTitle                   object\n",
       "title                          object\n",
       "description                    object\n",
       "tags                           object\n",
       "publishedAt       datetime64[ns, UTC]\n",
       "viewCount                     float64\n",
       "likeCount                     float64\n",
       "favouriteCount                float64\n",
       "commentCount                  float64\n",
       "duration                      float64\n",
       "definition                     object\n",
       "caption                          bool\n",
       "dtype: object"
      ]
     },
     "execution_count": 66,
     "metadata": {},
     "output_type": "execute_result"
    }
   ],
   "source": [
    "# TEST\n",
    "raw_video_df.dtypes"
   ]
  },
  {
   "cell_type": "markdown",
   "metadata": {},
   "source": [
    "### With each numerical column, how are values distributed?"
   ]
  },
  {
   "cell_type": "markdown",
   "metadata": {},
   "source": [
    "What is the percentage of missing values?"
   ]
  },
  {
   "cell_type": "code",
   "execution_count": 67,
   "metadata": {},
   "outputs": [
    {
     "data": {
      "text/plain": [
       "viewCount         0.000067\n",
       "likeCount         0.004048\n",
       "favouriteCount    1.000000\n",
       "commentCount      0.012793\n",
       "duration          0.000000\n",
       "dtype: float64"
      ]
     },
     "execution_count": 67,
     "metadata": {},
     "output_type": "execute_result"
    }
   ],
   "source": [
    "missing_vals = raw_video_df.select_dtypes(include='number').isna().sum()\n",
    "missing_percentage = missing_vals / len(raw_video_df)\n",
    "missing_percentage"
   ]
  },
  {
   "cell_type": "markdown",
   "metadata": {},
   "source": [
    "### With each categorical column, how are values distributed?"
   ]
  },
  {
   "cell_type": "markdown",
   "metadata": {},
   "source": [
    "What is the percentage of missing values?"
   ]
  },
  {
   "cell_type": "code",
   "execution_count": 68,
   "metadata": {},
   "outputs": [
    {
     "data": {
      "text/plain": [
       "video_id        0.000000\n",
       "channelTitle    0.000000\n",
       "title           0.000000\n",
       "description     0.028035\n",
       "tags            0.189566\n",
       "publishedAt     0.000000\n",
       "definition      0.000000\n",
       "caption         0.000000\n",
       "dtype: float64"
      ]
     },
     "execution_count": 68,
     "metadata": {},
     "output_type": "execute_result"
    }
   ],
   "source": [
    "missing_vals = raw_video_df.select_dtypes(exclude='number').isna().sum()\n",
    "missing_percentage = missing_vals / len(raw_video_df)\n",
    "missing_percentage"
   ]
  },
  {
   "cell_type": "markdown",
   "metadata": {},
   "source": [
    "### Min? Max? Are they abnormal?"
   ]
  },
  {
   "cell_type": "code",
   "execution_count": 69,
   "metadata": {},
   "outputs": [
    {
     "data": {
      "text/html": [
       "<div>\n",
       "<style scoped>\n",
       "    .dataframe tbody tr th:only-of-type {\n",
       "        vertical-align: middle;\n",
       "    }\n",
       "\n",
       "    .dataframe tbody tr th {\n",
       "        vertical-align: top;\n",
       "    }\n",
       "\n",
       "    .dataframe thead th {\n",
       "        text-align: right;\n",
       "    }\n",
       "</style>\n",
       "<table border=\"1\" class=\"dataframe\">\n",
       "  <thead>\n",
       "    <tr style=\"text-align: right;\">\n",
       "      <th></th>\n",
       "      <th>viewCount</th>\n",
       "      <th>likeCount</th>\n",
       "      <th>favouriteCount</th>\n",
       "      <th>commentCount</th>\n",
       "      <th>duration</th>\n",
       "    </tr>\n",
       "  </thead>\n",
       "  <tbody>\n",
       "    <tr>\n",
       "      <th>count</th>\n",
       "      <td>6.002800e+04</td>\n",
       "      <td>59789.000000</td>\n",
       "      <td>0.0</td>\n",
       "      <td>59264.000000</td>\n",
       "      <td>60032.000000</td>\n",
       "    </tr>\n",
       "    <tr>\n",
       "      <th>mean</th>\n",
       "      <td>4.849234e+04</td>\n",
       "      <td>1124.692686</td>\n",
       "      <td>NaN</td>\n",
       "      <td>69.896244</td>\n",
       "      <td>1496.953575</td>\n",
       "    </tr>\n",
       "    <tr>\n",
       "      <th>std</th>\n",
       "      <td>3.585190e+05</td>\n",
       "      <td>8288.857051</td>\n",
       "      <td>NaN</td>\n",
       "      <td>532.723104</td>\n",
       "      <td>2475.709199</td>\n",
       "    </tr>\n",
       "    <tr>\n",
       "      <th>min</th>\n",
       "      <td>0.000000e+00</td>\n",
       "      <td>0.000000</td>\n",
       "      <td>NaN</td>\n",
       "      <td>0.000000</td>\n",
       "      <td>0.000000</td>\n",
       "    </tr>\n",
       "    <tr>\n",
       "      <th>25%</th>\n",
       "      <td>6.220000e+02</td>\n",
       "      <td>11.000000</td>\n",
       "      <td>NaN</td>\n",
       "      <td>0.000000</td>\n",
       "      <td>293.000000</td>\n",
       "    </tr>\n",
       "    <tr>\n",
       "      <th>50%</th>\n",
       "      <td>3.059500e+03</td>\n",
       "      <td>55.000000</td>\n",
       "      <td>NaN</td>\n",
       "      <td>5.000000</td>\n",
       "      <td>695.000000</td>\n",
       "    </tr>\n",
       "    <tr>\n",
       "      <th>75%</th>\n",
       "      <td>1.602175e+04</td>\n",
       "      <td>334.000000</td>\n",
       "      <td>NaN</td>\n",
       "      <td>27.000000</td>\n",
       "      <td>1786.000000</td>\n",
       "    </tr>\n",
       "    <tr>\n",
       "      <th>max</th>\n",
       "      <td>3.447645e+07</td>\n",
       "      <td>571358.000000</td>\n",
       "      <td>NaN</td>\n",
       "      <td>60054.000000</td>\n",
       "      <td>92218.000000</td>\n",
       "    </tr>\n",
       "  </tbody>\n",
       "</table>\n",
       "</div>"
      ],
      "text/plain": [
       "          viewCount      likeCount  favouriteCount  commentCount      duration\n",
       "count  6.002800e+04   59789.000000             0.0  59264.000000  60032.000000\n",
       "mean   4.849234e+04    1124.692686             NaN     69.896244   1496.953575\n",
       "std    3.585190e+05    8288.857051             NaN    532.723104   2475.709199\n",
       "min    0.000000e+00       0.000000             NaN      0.000000      0.000000\n",
       "25%    6.220000e+02      11.000000             NaN      0.000000    293.000000\n",
       "50%    3.059500e+03      55.000000             NaN      5.000000    695.000000\n",
       "75%    1.602175e+04     334.000000             NaN     27.000000   1786.000000\n",
       "max    3.447645e+07  571358.000000             NaN  60054.000000  92218.000000"
      ]
     },
     "execution_count": 69,
     "metadata": {},
     "output_type": "execute_result"
    }
   ],
   "source": [
    "raw_video_df.describe()"
   ]
  },
  {
   "cell_type": "markdown",
   "metadata": {},
   "source": [
    "- We notice that `favouriteCount` does not have any value. We can remove this feature."
   ]
  },
  {
   "cell_type": "code",
   "execution_count": 70,
   "metadata": {},
   "outputs": [],
   "source": [
    "# remove favouriteCount\n",
    "raw_video_df = raw_video_df.drop('favouriteCount', axis=1)"
   ]
  },
  {
   "cell_type": "markdown",
   "metadata": {},
   "source": [
    "### Save the processed data"
   ]
  },
  {
   "cell_type": "code",
   "execution_count": 71,
   "metadata": {},
   "outputs": [],
   "source": [
    "# Save processed data to disk\n",
    "raw_video_df.to_csv(\"../data/processed/\" + \"video_data_processed.csv\", index=False)"
   ]
  }
 ],
 "metadata": {
  "kernelspec": {
   "display_name": "Python 3",
   "language": "python",
   "name": "python3"
  },
  "language_info": {
   "codemirror_mode": {
    "name": "ipython",
    "version": 3
   },
   "file_extension": ".py",
   "mimetype": "text/x-python",
   "name": "python",
   "nbconvert_exporter": "python",
   "pygments_lexer": "ipython3",
   "version": "3.11.2"
  }
 },
 "nbformat": 4,
 "nbformat_minor": 2
}
