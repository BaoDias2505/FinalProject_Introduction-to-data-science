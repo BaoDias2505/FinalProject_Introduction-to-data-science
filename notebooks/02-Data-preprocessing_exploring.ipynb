{
 "cells": [
  {
   "cell_type": "markdown",
   "metadata": {},
   "source": [
    "<div style=\"text-align: center; background-color: #0A6EBD; font-family: 'Trebuchet MS', Arial, sans-serif; color: white; padding: 20px; font-size: 40px; font-weight: bold; border-radius: 0 0 0 0; box-shadow: 0px 6px 8px rgba(0, 0, 0, 0.2);\">\n",
    "  Final project - Introduction to DS\n",
    "</div>"
   ]
  },
  {
   "cell_type": "markdown",
   "metadata": {},
   "source": [
    "<div style=\"text-align: center; background-color: #b1d1ff; font-family: 'Trebuchet MS', Arial, sans-serif; color: white; padding: 20px; font-size: 40px; font-weight: bold; border-radius: 0 0 0 0; box-shadow: 0px 6px 8px rgba(0, 0, 0, 0.2);\">\n",
    "  Stage 02 - Data preprocessing & Basic exploration\n",
    "</div>"
   ]
  },
  {
   "cell_type": "markdown",
   "metadata": {},
   "source": [
    "## Import"
   ]
  },
  {
   "cell_type": "code",
   "execution_count": 1,
   "metadata": {},
   "outputs": [],
   "source": [
    "import os\n",
    "import sys\n",
    "import numpy as np\n",
    "import pandas as pd\n",
    "import matplotlib.pyplot as plt\n",
    "import seaborn as sns\n",
    "import datetime\n",
    "import isodate"
   ]
  },
  {
   "cell_type": "markdown",
   "metadata": {},
   "source": [
    "## Read raw data from file"
   ]
  },
  {
   "cell_type": "code",
   "execution_count": 2,
   "metadata": {},
   "outputs": [
    {
     "data": {
      "text/html": [
       "<div>\n",
       "<style scoped>\n",
       "    .dataframe tbody tr th:only-of-type {\n",
       "        vertical-align: middle;\n",
       "    }\n",
       "\n",
       "    .dataframe tbody tr th {\n",
       "        vertical-align: top;\n",
       "    }\n",
       "\n",
       "    .dataframe thead th {\n",
       "        text-align: right;\n",
       "    }\n",
       "</style>\n",
       "<table border=\"1\" class=\"dataframe\">\n",
       "  <thead>\n",
       "    <tr style=\"text-align: right;\">\n",
       "      <th></th>\n",
       "      <th>video_id</th>\n",
       "      <th>channelTitle</th>\n",
       "      <th>title</th>\n",
       "      <th>description</th>\n",
       "      <th>tags</th>\n",
       "      <th>publishedAt</th>\n",
       "      <th>viewCount</th>\n",
       "      <th>likeCount</th>\n",
       "      <th>favouriteCount</th>\n",
       "      <th>commentCount</th>\n",
       "      <th>duration</th>\n",
       "      <th>definition</th>\n",
       "      <th>caption</th>\n",
       "    </tr>\n",
       "  </thead>\n",
       "  <tbody>\n",
       "    <tr>\n",
       "      <th>23283</th>\n",
       "      <td>LCcu53gh4Cw</td>\n",
       "      <td>Alex Smola</td>\n",
       "      <td>2.1 Basic Statistics - Machine Learning Class ...</td>\n",
       "      <td>Introduction to Machine Learning 10-701 CMU 20...</td>\n",
       "      <td>['CMU', '10-701', 'Introduction to Machine Lea...</td>\n",
       "      <td>2015-01-23T00:41:09Z</td>\n",
       "      <td>11128.0</td>\n",
       "      <td>44.0</td>\n",
       "      <td>NaN</td>\n",
       "      <td>3.0</td>\n",
       "      <td>PT1H9M38S</td>\n",
       "      <td>hd</td>\n",
       "      <td>False</td>\n",
       "    </tr>\n",
       "    <tr>\n",
       "      <th>14261</th>\n",
       "      <td>RoXV6skDDBQ</td>\n",
       "      <td>Great Learning</td>\n",
       "      <td>Smile Detection Project using Python OpenCV | ...</td>\n",
       "      <td>Looking for a career upgrade &amp; a better salary...</td>\n",
       "      <td>['yt:cc=on', 'opencv python tutorial', 'opencv...</td>\n",
       "      <td>2022-02-09T13:30:05Z</td>\n",
       "      <td>3597.0</td>\n",
       "      <td>109.0</td>\n",
       "      <td>NaN</td>\n",
       "      <td>7.0</td>\n",
       "      <td>PT41M8S</td>\n",
       "      <td>hd</td>\n",
       "      <td>False</td>\n",
       "    </tr>\n",
       "    <tr>\n",
       "      <th>1061</th>\n",
       "      <td>b5F667g1yCk</td>\n",
       "      <td>Krish Naik</td>\n",
       "      <td>How To Deploy Machine Learning Models Using Fa...</td>\n",
       "      <td>github :https://github.com/krishnaik06/FastAPI...</td>\n",
       "      <td>['fastapi tutorial', 'machine learning', 'mach...</td>\n",
       "      <td>2020-11-19T14:48:00Z</td>\n",
       "      <td>86571.0</td>\n",
       "      <td>1447.0</td>\n",
       "      <td>NaN</td>\n",
       "      <td>74.0</td>\n",
       "      <td>PT18M58S</td>\n",
       "      <td>hd</td>\n",
       "      <td>False</td>\n",
       "    </tr>\n",
       "    <tr>\n",
       "      <th>2748</th>\n",
       "      <td>j9elKTmCEhY</td>\n",
       "      <td>sentdex</td>\n",
       "      <td>Views and Templates - Django Web Development w...</td>\n",
       "      <td>Welcome to part 4 of the web development with ...</td>\n",
       "      <td>['django', 'web development', 'website', 'tuto...</td>\n",
       "      <td>2019-01-24T14:48:57Z</td>\n",
       "      <td>62239.0</td>\n",
       "      <td>883.0</td>\n",
       "      <td>NaN</td>\n",
       "      <td>99.0</td>\n",
       "      <td>PT19M26S</td>\n",
       "      <td>hd</td>\n",
       "      <td>False</td>\n",
       "    </tr>\n",
       "    <tr>\n",
       "      <th>24624</th>\n",
       "      <td>IxXMa3EpRCk</td>\n",
       "      <td>BEPEC by Kanth - #BuildExperience &amp; Get Hired!</td>\n",
       "      <td>Azure Data Engineering Roadmap 🔥💯 #azure</td>\n",
       "      <td>You + Right Roadmap + Right Projects = Unstopp...</td>\n",
       "      <td>['data', 'data science', 'data analytics', 'ma...</td>\n",
       "      <td>2023-06-13T13:14:09Z</td>\n",
       "      <td>21456.0</td>\n",
       "      <td>1142.0</td>\n",
       "      <td>NaN</td>\n",
       "      <td>15.0</td>\n",
       "      <td>PT1M</td>\n",
       "      <td>hd</td>\n",
       "      <td>False</td>\n",
       "    </tr>\n",
       "  </tbody>\n",
       "</table>\n",
       "</div>"
      ],
      "text/plain": [
       "          video_id                                    channelTitle  \\\n",
       "23283  LCcu53gh4Cw                                      Alex Smola   \n",
       "14261  RoXV6skDDBQ                                  Great Learning   \n",
       "1061   b5F667g1yCk                                      Krish Naik   \n",
       "2748   j9elKTmCEhY                                         sentdex   \n",
       "24624  IxXMa3EpRCk  BEPEC by Kanth - #BuildExperience & Get Hired!   \n",
       "\n",
       "                                                   title  \\\n",
       "23283  2.1 Basic Statistics - Machine Learning Class ...   \n",
       "14261  Smile Detection Project using Python OpenCV | ...   \n",
       "1061   How To Deploy Machine Learning Models Using Fa...   \n",
       "2748   Views and Templates - Django Web Development w...   \n",
       "24624           Azure Data Engineering Roadmap 🔥💯 #azure   \n",
       "\n",
       "                                             description  \\\n",
       "23283  Introduction to Machine Learning 10-701 CMU 20...   \n",
       "14261  Looking for a career upgrade & a better salary...   \n",
       "1061   github :https://github.com/krishnaik06/FastAPI...   \n",
       "2748   Welcome to part 4 of the web development with ...   \n",
       "24624  You + Right Roadmap + Right Projects = Unstopp...   \n",
       "\n",
       "                                                    tags  \\\n",
       "23283  ['CMU', '10-701', 'Introduction to Machine Lea...   \n",
       "14261  ['yt:cc=on', 'opencv python tutorial', 'opencv...   \n",
       "1061   ['fastapi tutorial', 'machine learning', 'mach...   \n",
       "2748   ['django', 'web development', 'website', 'tuto...   \n",
       "24624  ['data', 'data science', 'data analytics', 'ma...   \n",
       "\n",
       "                publishedAt  viewCount  likeCount  favouriteCount  \\\n",
       "23283  2015-01-23T00:41:09Z    11128.0       44.0             NaN   \n",
       "14261  2022-02-09T13:30:05Z     3597.0      109.0             NaN   \n",
       "1061   2020-11-19T14:48:00Z    86571.0     1447.0             NaN   \n",
       "2748   2019-01-24T14:48:57Z    62239.0      883.0             NaN   \n",
       "24624  2023-06-13T13:14:09Z    21456.0     1142.0             NaN   \n",
       "\n",
       "       commentCount   duration definition  caption  \n",
       "23283           3.0  PT1H9M38S         hd    False  \n",
       "14261           7.0    PT41M8S         hd    False  \n",
       "1061           74.0   PT18M58S         hd    False  \n",
       "2748           99.0   PT19M26S         hd    False  \n",
       "24624          15.0       PT1M         hd    False  "
      ]
     },
     "execution_count": 2,
     "metadata": {},
     "output_type": "execute_result"
    }
   ],
   "source": [
    "raw_df = pd.read_csv(\"../data/raw/video_data_raw.csv\")\n",
    "raw_df.sample(n=5)"
   ]
  },
  {
   "cell_type": "markdown",
   "metadata": {},
   "source": [
    "### 📌 How many rows and how many columns does the raw data have?"
   ]
  },
  {
   "cell_type": "code",
   "execution_count": 3,
   "metadata": {},
   "outputs": [
    {
     "name": "stdout",
     "output_type": "stream",
     "text": [
      "Video data current shape: (60032, 13)\n"
     ]
    }
   ],
   "source": [
    "data_video_shape = raw_df.shape\n",
    "print(f\"Video data current shape: {data_video_shape}\")"
   ]
  },
  {
   "cell_type": "markdown",
   "metadata": {},
   "source": [
    "Answer: Our raw video data has `60032 rows` and `13 columns`, which meets the given requirement: \"Your dataset must have at least `5 fields` and `1000 observations`\"."
   ]
  },
  {
   "cell_type": "markdown",
   "metadata": {},
   "source": [
    "### 📌 What does each line mean? Does it matter if the lines have different meanings?"
   ]
  },
  {
   "cell_type": "markdown",
   "metadata": {},
   "source": [
    "Answer: \n",
    "- Based on the observations of the dataset, we suppose that each line represents a unique set of details regarding individual YouTube videos. \n",
    "- Looking through the data table of the csv file, it seems there are no \"out of place\" lines."
   ]
  },
  {
   "cell_type": "markdown",
   "metadata": {},
   "source": [
    "### 📌 Does the raw data have duplicate rows?"
   ]
  },
  {
   "cell_type": "code",
   "execution_count": 4,
   "metadata": {},
   "outputs": [],
   "source": [
    "# retrieve the index\n",
    "index = raw_df.index\n",
    "# create a Pandas Series indicating whether each index is duplicated or not\n",
    "deDupSeries = index.duplicated(keep='first')\n",
    "# calculate the number of duplicated rows\n",
    "num_duplicated_rows = deDupSeries.sum()"
   ]
  },
  {
   "cell_type": "code",
   "execution_count": 5,
   "metadata": {},
   "outputs": [
    {
     "name": "stdout",
     "output_type": "stream",
     "text": [
      "Raw data have no duplicated line!\n"
     ]
    }
   ],
   "source": [
    "if num_duplicated_rows == 0:\n",
    "    print(f\"Raw data have no duplicated line!\")\n",
    "else:\n",
    "    ext = \"lines\" if num_duplicated_rows > 1 else \"line\"\n",
    "    print(f\"Raw data have {num_duplicated_rows} duplicated \" + ext)"
   ]
  },
  {
   "cell_type": "markdown",
   "metadata": {},
   "source": [
    "### 📌 What does each column mean?"
   ]
  },
  {
   "cell_type": "markdown",
   "metadata": {},
   "source": [
    "<table style=\"width: 100%; border-collapse: collapse;\">\n",
    "  <thead>\n",
    "    <tr>\n",
    "      <th style=\"min-width: 10px; width: 30px; background-color: #04B1CC; color: white; font-size :15px; font-weight: bold; text-align: left; padding: 8px;\">No</th>\n",
    "      <th style=\"background-color: #04B1CC; color: white; font-size :15px; font-weight: bold; text-align: left; padding: 8px;\">Columns</th>\n",
    "      <th style=\"background-color: #04B1CC; color: white; font-size :15px; font-weight: bold; text-align: left; padding: 8px;\">Meaning</th>\n",
    "    </tr>\n",
    "  </thead>\n",
    "  <tbody>\n",
    "    <tr>\n",
    "      <td style=\"font-size: 14px; text-align: left;\">1</td>\n",
    "      <td style=\"font-size: 14px; text-align: left;\">video_id</td>\n",
    "      <td style=\"font-size: 14px; text-align: left;\">Unique identifier for the YouTube video.</td>\n",
    "    </tr>\n",
    "    <tr>\n",
    "      <td style=\"font-size: 14px; text-align: left;\">2</td>\n",
    "      <td style=\"font-size: 14px; text-align: left;\">channelTitle</td>\n",
    "      <td style=\"font-size: 14px; text-align: left;\">The name of the channel that uploaded the video.</td>\n",
    "    </tr>\n",
    "    <tr>\n",
    "      <td style=\"font-size: 14px; text-align: left;\">3</td>\n",
    "      <td style=\"font-size: 14px; text-align: left;\">title</td>\n",
    "      <td style=\"font-size: 14px; text-align: left;\">Title of the video.</td>\n",
    "    </tr>\n",
    "    <tr>\n",
    "      <td style=\"font-size: 14px; text-align: left;\">4</td>\n",
    "      <td style=\"font-size: 14px; text-align: left;\">description</td>\n",
    "      <td style=\"font-size: 14px; text-align: left;\">Description or summary of the video content.</td>\n",
    "    </tr>\n",
    "    <tr>\n",
    "      <td style=\"font-size: 14px; text-align: left;\">5</td>\n",
    "      <td style=\"font-size: 14px; text-align: left;\">tags</td>\n",
    "      <td style=\"font-size: 14px; text-align: left;\">Keywords or tags associated with the video.</td>\n",
    "    </tr>\n",
    "    <tr>\n",
    "      <td style=\"font-size: 14px; text-align: left;\">6</td>\n",
    "      <td style=\"font-size: 14px; text-align: left;\">publishedAt</td>\n",
    "      <td style=\"font-size: 14px; text-align: left;\">Date and time when the video was published.</td>\n",
    "    </tr>\n",
    "    <tr>\n",
    "      <td style=\"font-size: 14px; text-align: left;\">7</td>\n",
    "      <td style=\"font-size: 14px; text-align: left;\">viewCount</td>\n",
    "      <td style=\"font-size: 14px; text-align: left;\">Number of views the video has accumulated.</td>\n",
    "    </tr>\n",
    "    <tr>\n",
    "      <td style=\"font-size: 14px; text-align: left;\">8</td>\n",
    "      <td style=\"font-size: 14px; text-align: left;\">likeCount</td>\n",
    "      <td style=\"font-size: 14px; text-align: left;\">Count of likes received by the video.</td>\n",
    "    </tr>\n",
    "    <tr>\n",
    "      <td style=\"font-size: 14px; text-align: left;\">9</td>\n",
    "      <td style=\"font-size: 14px; text-align: left;\">favoriteCount</td>\n",
    "      <td style=\"font-size: 14px; text-align: left;\">Deprecated; used to track how many times viewers added the video to their favorites.</td>\n",
    "    </tr>\n",
    "    <tr>\n",
    "      <td style=\"font-size: 14px; text-align: left;\">10</td>\n",
    "      <td style=\"font-size: 14px; text-align: left;\">commentCount</td>\n",
    "      <td style=\"font-size: 14px; text-align: left;\">Number of comments posted on the video.</td>\n",
    "    </tr>\n",
    "    <tr>\n",
    "      <td style=\"font-size: 14px; text-align: left;\">11</td>\n",
    "      <td style=\"font-size: 14px; text-align: left;\">duration</td>\n",
    "      <td style=\"font-size: 14px; text-align: left;\">Length of the video.</td>\n",
    "    </tr>\n",
    "    <tr>\n",
    "      <td style=\"font-size: 14px; text-align: left;\">12</td>\n",
    "      <td style=\"font-size: 14px; text-align: left;\">definition</td>\n",
    "      <td style=\"font-size: 14px; text-align: left;\">Video resolution or quality (e.g., HD, SD).</td>\n",
    "    </tr>\n",
    "    <tr>\n",
    "      <td style=\"font-size: 14px; text-align: left;\">13</td>\n",
    "      <td style=\"font-size: 14px; text-align: left;\">caption</td>\n",
    "      <td style=\"font-size: 14px; text-align: left;\"> Indicates whether closed captions are available for the video.</td>\n",
    "    </tr>\n",
    "  </tbody>\n",
    "</table>"
   ]
  },
  {
   "cell_type": "markdown",
   "metadata": {},
   "source": [
    "❓ TODO: Liệu có thông tin nào chỉ đúng ở thời điểm dữ liệu được thu thập, sau đó nó có thể bị thay đổi\n",
    "vd: count sẽ tăng lên/giảm xuống (lượt like); "
   ]
  },
  {
   "cell_type": "markdown",
   "metadata": {},
   "source": [
    "### 📌 What data type does each column currently have? Are there any columns whose data types are not suitable for further processing?"
   ]
  },
  {
   "cell_type": "code",
   "execution_count": 6,
   "metadata": {},
   "outputs": [
    {
     "data": {
      "text/plain": [
       "video_id           object\n",
       "channelTitle       object\n",
       "title              object\n",
       "description        object\n",
       "tags               object\n",
       "publishedAt        object\n",
       "viewCount         float64\n",
       "likeCount         float64\n",
       "favouriteCount    float64\n",
       "commentCount      float64\n",
       "duration           object\n",
       "definition         object\n",
       "caption              bool\n",
       "dtype: object"
      ]
     },
     "execution_count": 6,
     "metadata": {},
     "output_type": "execute_result"
    }
   ],
   "source": [
    "raw_df.dtypes"
   ]
  },
  {
   "cell_type": "markdown",
   "metadata": {},
   "source": [
    "We notice that the columns `publishedAt` and `duration` are currently of object type. Given that they represent time periods, it is advisable to convert `publishedAt`  to datetime type. As the `duration` is in **ISO 8601** format, we'll convert it into an `integer` representing the total number of seconds"
   ]
  },
  {
   "cell_type": "code",
   "execution_count": 7,
   "metadata": {},
   "outputs": [],
   "source": [
    "# convert publishedAt to datetime\n",
    "raw_df[\"publishedAt\"] = pd.to_datetime(raw_df[\"publishedAt\"])\n",
    "# convert duration to integer\n",
    "raw_df['duration'] = raw_df['duration'].apply(lambda x: isodate.parse_duration(x))\n",
    "raw_df['duration'] = raw_df['duration'].dt.total_seconds()\n",
    "raw_df['duration'] = raw_df['duration'].astype(np.int64)"
   ]
  },
  {
   "cell_type": "code",
   "execution_count": 8,
   "metadata": {},
   "outputs": [
    {
     "data": {
      "text/plain": [
       "video_id                       object\n",
       "channelTitle                   object\n",
       "title                          object\n",
       "description                    object\n",
       "tags                           object\n",
       "publishedAt       datetime64[ns, UTC]\n",
       "viewCount                     float64\n",
       "likeCount                     float64\n",
       "favouriteCount                float64\n",
       "commentCount                  float64\n",
       "duration                        int64\n",
       "definition                     object\n",
       "caption                          bool\n",
       "dtype: object"
      ]
     },
     "execution_count": 8,
     "metadata": {},
     "output_type": "execute_result"
    }
   ],
   "source": [
    "# TEST\n",
    "raw_df.dtypes"
   ]
  },
  {
   "cell_type": "markdown",
   "metadata": {},
   "source": [
    "### 📌 With each numerical column, how are values distributed?"
   ]
  },
  {
   "cell_type": "markdown",
   "metadata": {},
   "source": [
    "📚 For columns with numeric data types, we will calculate some basic statistics:\n",
    "- Percentage (from 0 to 100) of missing values\n",
    "- The min\n",
    "- The lower quartile (phân vị 25)\n",
    "- The median (phân vị 50)\n",
    "- The upper quartile (phân vị 75)\n",
    "- The max\n",
    "\n",
    "Then we will observe and comment to see if the results are unusual?"
   ]
  },
  {
   "cell_type": "code",
   "execution_count": 9,
   "metadata": {},
   "outputs": [
    {
     "data": {
      "text/html": [
       "<div>\n",
       "<style scoped>\n",
       "    .dataframe tbody tr th:only-of-type {\n",
       "        vertical-align: middle;\n",
       "    }\n",
       "\n",
       "    .dataframe tbody tr th {\n",
       "        vertical-align: top;\n",
       "    }\n",
       "\n",
       "    .dataframe thead th {\n",
       "        text-align: right;\n",
       "    }\n",
       "</style>\n",
       "<table border=\"1\" class=\"dataframe\">\n",
       "  <thead>\n",
       "    <tr style=\"text-align: right;\">\n",
       "      <th></th>\n",
       "      <th>publishedAt</th>\n",
       "      <th>viewCount</th>\n",
       "      <th>likeCount</th>\n",
       "      <th>favouriteCount</th>\n",
       "      <th>commentCount</th>\n",
       "      <th>duration</th>\n",
       "    </tr>\n",
       "  </thead>\n",
       "  <tbody>\n",
       "    <tr>\n",
       "      <th>missing_ratio</th>\n",
       "      <td>0.0</td>\n",
       "      <td>6.663113e-03</td>\n",
       "      <td>0.404784</td>\n",
       "      <td>100.0</td>\n",
       "      <td>1.279318</td>\n",
       "      <td>0.0</td>\n",
       "    </tr>\n",
       "    <tr>\n",
       "      <th>min</th>\n",
       "      <td>2006-10-25 10:28:09+00:00</td>\n",
       "      <td>0.000000e+00</td>\n",
       "      <td>0.000000</td>\n",
       "      <td>NaN</td>\n",
       "      <td>0.000000</td>\n",
       "      <td>0.0</td>\n",
       "    </tr>\n",
       "    <tr>\n",
       "      <th>lower_quartile</th>\n",
       "      <td>2019-02-18 04:02:18+00:00</td>\n",
       "      <td>6.220000e+02</td>\n",
       "      <td>11.000000</td>\n",
       "      <td>NaN</td>\n",
       "      <td>0.000000</td>\n",
       "      <td>293.0</td>\n",
       "    </tr>\n",
       "    <tr>\n",
       "      <th>median</th>\n",
       "      <td>2020-12-22 09:26:05.500000+00:00</td>\n",
       "      <td>3.059500e+03</td>\n",
       "      <td>55.000000</td>\n",
       "      <td>NaN</td>\n",
       "      <td>5.000000</td>\n",
       "      <td>695.0</td>\n",
       "    </tr>\n",
       "    <tr>\n",
       "      <th>upper_quartile</th>\n",
       "      <td>2022-07-05 06:04:02.500000+00:00</td>\n",
       "      <td>1.602175e+04</td>\n",
       "      <td>334.000000</td>\n",
       "      <td>NaN</td>\n",
       "      <td>27.000000</td>\n",
       "      <td>1786.0</td>\n",
       "    </tr>\n",
       "    <tr>\n",
       "      <th>max</th>\n",
       "      <td>2023-11-24 13:04:35+00:00</td>\n",
       "      <td>3.447645e+07</td>\n",
       "      <td>571358.000000</td>\n",
       "      <td>NaN</td>\n",
       "      <td>60054.000000</td>\n",
       "      <td>92218.0</td>\n",
       "    </tr>\n",
       "  </tbody>\n",
       "</table>\n",
       "</div>"
      ],
      "text/plain": [
       "                                     publishedAt     viewCount      likeCount  \\\n",
       "missing_ratio                                0.0  6.663113e-03       0.404784   \n",
       "min                    2006-10-25 10:28:09+00:00  0.000000e+00       0.000000   \n",
       "lower_quartile         2019-02-18 04:02:18+00:00  6.220000e+02      11.000000   \n",
       "median          2020-12-22 09:26:05.500000+00:00  3.059500e+03      55.000000   \n",
       "upper_quartile  2022-07-05 06:04:02.500000+00:00  1.602175e+04     334.000000   \n",
       "max                    2023-11-24 13:04:35+00:00  3.447645e+07  571358.000000   \n",
       "\n",
       "                favouriteCount  commentCount  duration  \n",
       "missing_ratio            100.0      1.279318       0.0  \n",
       "min                        NaN      0.000000       0.0  \n",
       "lower_quartile             NaN      0.000000     293.0  \n",
       "median                     NaN      5.000000     695.0  \n",
       "upper_quartile             NaN     27.000000    1786.0  \n",
       "max                        NaN  60054.000000   92218.0  "
      ]
     },
     "execution_count": 9,
     "metadata": {},
     "output_type": "execute_result"
    }
   ],
   "source": [
    "# YOUR CODE HERE\n",
    "num_col_info_df = raw_df.select_dtypes(exclude=['object', 'bool'])\n",
    "\n",
    "def missing_ratio(s):\n",
    "    return (s.isna().mean() * 100)\n",
    "\n",
    "def median(df):\n",
    "    return (df.quantile(0.5))\n",
    "\n",
    "def lower_quartile(df):\n",
    "    return (df.quantile(0.25))\n",
    "\n",
    "def upper_quartile(df):\n",
    "    return (df.quantile(0.75))\n",
    "\n",
    "num_col_info_df = num_col_info_df.agg([missing_ratio, \"min\", lower_quartile, median, upper_quartile, \"max\"])\n",
    "num_col_info_df"
   ]
  },
  {
   "cell_type": "markdown",
   "metadata": {},
   "source": [
    "Observation: We notice that some columns have missing data and need to be resolved before moving onto the next analysis steps. Other than that, the data does not appear to be unusual."
   ]
  },
  {
   "cell_type": "markdown",
   "metadata": {},
   "source": [
    "### 🚧 Preprocessing numerical columns"
   ]
  },
  {
   "cell_type": "markdown",
   "metadata": {},
   "source": [
    "We notice that `favouriteCount` does not have any value, so we can drop this feature"
   ]
  },
  {
   "cell_type": "code",
   "execution_count": 10,
   "metadata": {},
   "outputs": [],
   "source": [
    "# drop favouriteCount\n",
    "if \"favouriteCount\" in raw_df.columns:\n",
    "    raw_df = raw_df.drop('favouriteCount', axis=1)"
   ]
  },
  {
   "cell_type": "markdown",
   "metadata": {},
   "source": [
    "`viewCount`, `likeCount` and `commentCount` have little missing value, we'll fill them with their `median` and then convert them to integer"
   ]
  },
  {
   "cell_type": "code",
   "execution_count": 11,
   "metadata": {},
   "outputs": [],
   "source": [
    "# fill missing value with median\n",
    "missing_cols = ['viewCount', 'likeCount', 'commentCount']\n",
    "for col in missing_cols:\n",
    "    raw_df[col] = raw_df[col].fillna(raw_df[col].median().__round__(0))\n",
    "    raw_df[col] = raw_df[col].astype(np.int64)"
   ]
  },
  {
   "cell_type": "code",
   "execution_count": 12,
   "metadata": {},
   "outputs": [
    {
     "data": {
      "text/html": [
       "<div>\n",
       "<style scoped>\n",
       "    .dataframe tbody tr th:only-of-type {\n",
       "        vertical-align: middle;\n",
       "    }\n",
       "\n",
       "    .dataframe tbody tr th {\n",
       "        vertical-align: top;\n",
       "    }\n",
       "\n",
       "    .dataframe thead th {\n",
       "        text-align: right;\n",
       "    }\n",
       "</style>\n",
       "<table border=\"1\" class=\"dataframe\">\n",
       "  <thead>\n",
       "    <tr style=\"text-align: right;\">\n",
       "      <th></th>\n",
       "      <th>publishedAt</th>\n",
       "      <th>viewCount</th>\n",
       "      <th>likeCount</th>\n",
       "      <th>commentCount</th>\n",
       "      <th>duration</th>\n",
       "    </tr>\n",
       "  </thead>\n",
       "  <tbody>\n",
       "    <tr>\n",
       "      <th>missing_ratio</th>\n",
       "      <td>0.0</td>\n",
       "      <td>0.00</td>\n",
       "      <td>0.0</td>\n",
       "      <td>0.0</td>\n",
       "      <td>0.0</td>\n",
       "    </tr>\n",
       "    <tr>\n",
       "      <th>min</th>\n",
       "      <td>2006-10-25 10:28:09+00:00</td>\n",
       "      <td>0.00</td>\n",
       "      <td>0.0</td>\n",
       "      <td>0.0</td>\n",
       "      <td>0.0</td>\n",
       "    </tr>\n",
       "    <tr>\n",
       "      <th>lower_quartile</th>\n",
       "      <td>2019-02-18 04:02:18+00:00</td>\n",
       "      <td>622.00</td>\n",
       "      <td>11.0</td>\n",
       "      <td>1.0</td>\n",
       "      <td>293.0</td>\n",
       "    </tr>\n",
       "    <tr>\n",
       "      <th>median</th>\n",
       "      <td>2020-12-22 09:26:05.500000+00:00</td>\n",
       "      <td>3060.00</td>\n",
       "      <td>55.0</td>\n",
       "      <td>5.0</td>\n",
       "      <td>695.0</td>\n",
       "    </tr>\n",
       "    <tr>\n",
       "      <th>upper_quartile</th>\n",
       "      <td>2022-07-05 06:04:02.500000+00:00</td>\n",
       "      <td>16017.25</td>\n",
       "      <td>332.0</td>\n",
       "      <td>26.0</td>\n",
       "      <td>1786.0</td>\n",
       "    </tr>\n",
       "    <tr>\n",
       "      <th>max</th>\n",
       "      <td>2023-11-24 13:04:35+00:00</td>\n",
       "      <td>34476453.00</td>\n",
       "      <td>571358.0</td>\n",
       "      <td>60054.0</td>\n",
       "      <td>92218.0</td>\n",
       "    </tr>\n",
       "  </tbody>\n",
       "</table>\n",
       "</div>"
      ],
      "text/plain": [
       "                                     publishedAt    viewCount  likeCount  \\\n",
       "missing_ratio                                0.0         0.00        0.0   \n",
       "min                    2006-10-25 10:28:09+00:00         0.00        0.0   \n",
       "lower_quartile         2019-02-18 04:02:18+00:00       622.00       11.0   \n",
       "median          2020-12-22 09:26:05.500000+00:00      3060.00       55.0   \n",
       "upper_quartile  2022-07-05 06:04:02.500000+00:00     16017.25      332.0   \n",
       "max                    2023-11-24 13:04:35+00:00  34476453.00   571358.0   \n",
       "\n",
       "                commentCount  duration  \n",
       "missing_ratio            0.0       0.0  \n",
       "min                      0.0       0.0  \n",
       "lower_quartile           1.0     293.0  \n",
       "median                   5.0     695.0  \n",
       "upper_quartile          26.0    1786.0  \n",
       "max                  60054.0   92218.0  "
      ]
     },
     "execution_count": 12,
     "metadata": {},
     "output_type": "execute_result"
    }
   ],
   "source": [
    "# TEST\n",
    "raw_df.select_dtypes(exclude=['object', 'bool'])\\\n",
    "    .agg([missing_ratio, \"min\", lower_quartile, median, upper_quartile, \"max\"])"
   ]
  },
  {
   "cell_type": "markdown",
   "metadata": {},
   "source": [
    "### 📌 With each categorical column, how are values distributed?"
   ]
  },
  {
   "cell_type": "markdown",
   "metadata": {},
   "source": [
    "📚 For columns with non-numeric data types, we calculate:\n",
    "- Percentage (from 0 to 100) of missing values\n",
    "- Number of different values (and we do not consider missing values)\n",
    "- Show a few values and percentage (from 0 to 100) of each value sorted by decreasing percentage (we do not consider missing values, the ratio is the ratio compared to the number of non-missing values)\n",
    "\n",
    "Then we will observe and comment to see if the results are unusual?"
   ]
  },
  {
   "cell_type": "code",
   "execution_count": 13,
   "metadata": {},
   "outputs": [],
   "source": [
    "pd.set_option('display.max_colwidth', 100) # For clearly\n",
    "pd.set_option('display.max_columns', None) # For clearly"
   ]
  },
  {
   "cell_type": "code",
   "execution_count": 14,
   "metadata": {},
   "outputs": [
    {
     "data": {
      "text/html": [
       "<div>\n",
       "<style scoped>\n",
       "    .dataframe tbody tr th:only-of-type {\n",
       "        vertical-align: middle;\n",
       "    }\n",
       "\n",
       "    .dataframe tbody tr th {\n",
       "        vertical-align: top;\n",
       "    }\n",
       "\n",
       "    .dataframe thead th {\n",
       "        text-align: right;\n",
       "    }\n",
       "</style>\n",
       "<table border=\"1\" class=\"dataframe\">\n",
       "  <thead>\n",
       "    <tr style=\"text-align: right;\">\n",
       "      <th></th>\n",
       "      <th>video_id</th>\n",
       "      <th>channelTitle</th>\n",
       "      <th>title</th>\n",
       "      <th>description</th>\n",
       "      <th>tags</th>\n",
       "      <th>definition</th>\n",
       "      <th>caption</th>\n",
       "    </tr>\n",
       "  </thead>\n",
       "  <tbody>\n",
       "    <tr>\n",
       "      <th>missing_ratio</th>\n",
       "      <td>0.0</td>\n",
       "      <td>0.0</td>\n",
       "      <td>0.0</td>\n",
       "      <td>2.803505</td>\n",
       "      <td>18.956557</td>\n",
       "      <td>0.0</td>\n",
       "      <td>0.0</td>\n",
       "    </tr>\n",
       "    <tr>\n",
       "      <th>num_values</th>\n",
       "      <td>60032</td>\n",
       "      <td>160</td>\n",
       "      <td>59644</td>\n",
       "      <td>53351</td>\n",
       "      <td>35545</td>\n",
       "      <td>2</td>\n",
       "      <td>2</td>\n",
       "    </tr>\n",
       "    <tr>\n",
       "      <th>value_ratios</th>\n",
       "      <td>{'WkqM0ndr42c': 0.0, 'ls8hEDjhKU0': 0.0, 'Fh0ArGT2_b0': 0.0, '_tHCoU5TZZg': 0.0, 'fXAvXLOUjlU': ...</td>\n",
       "      <td>{'itversity': 5.8, 'Databricks': 4.7, 'Great Learning': 3.1, 'Analytics India Magazine': 3.0, 'K...</td>\n",
       "      <td>{'TL': 0.1, 'Data Analyst MENTORSHIP -  Q&amp;A (while I drink coffee)': 0.1, 'Machine Learning Summ...</td>\n",
       "      <td>{'nan': 2.7, 'Connect with me or follow me at\r\n",
       "https://www.linkedin.com/in/durga0gadiraju\r\n",
       "https...</td>\n",
       "      <td>{'nan': 18.9, '['Databricks']': 2.2, '['CBMM', 'Center for Brains Minds and Machines', 'Artifici...</td>\n",
       "      <td>{'hd': 95.5, 'sd': 4.5}</td>\n",
       "      <td>{'False': 88.6, 'True': 11.4}</td>\n",
       "    </tr>\n",
       "  </tbody>\n",
       "</table>\n",
       "</div>"
      ],
      "text/plain": [
       "                                                                                                          video_id  \\\n",
       "missing_ratio                                                                                                  0.0   \n",
       "num_values                                                                                                   60032   \n",
       "value_ratios   {'WkqM0ndr42c': 0.0, 'ls8hEDjhKU0': 0.0, 'Fh0ArGT2_b0': 0.0, '_tHCoU5TZZg': 0.0, 'fXAvXLOUjlU': ...   \n",
       "\n",
       "                                                                                                      channelTitle  \\\n",
       "missing_ratio                                                                                                  0.0   \n",
       "num_values                                                                                                     160   \n",
       "value_ratios   {'itversity': 5.8, 'Databricks': 4.7, 'Great Learning': 3.1, 'Analytics India Magazine': 3.0, 'K...   \n",
       "\n",
       "                                                                                                             title  \\\n",
       "missing_ratio                                                                                                  0.0   \n",
       "num_values                                                                                                   59644   \n",
       "value_ratios   {'TL': 0.1, 'Data Analyst MENTORSHIP -  Q&A (while I drink coffee)': 0.1, 'Machine Learning Summ...   \n",
       "\n",
       "                                                                                                       description  \\\n",
       "missing_ratio                                                                                             2.803505   \n",
       "num_values                                                                                                   53351   \n",
       "value_ratios   {'nan': 2.7, 'Connect with me or follow me at\n",
       "https://www.linkedin.com/in/durga0gadiraju\n",
       "https...   \n",
       "\n",
       "                                                                                                              tags  \\\n",
       "missing_ratio                                                                                            18.956557   \n",
       "num_values                                                                                                   35545   \n",
       "value_ratios   {'nan': 18.9, '['Databricks']': 2.2, '['CBMM', 'Center for Brains Minds and Machines', 'Artifici...   \n",
       "\n",
       "                            definition                        caption  \n",
       "missing_ratio                      0.0                            0.0  \n",
       "num_values                           2                              2  \n",
       "value_ratios   {'hd': 95.5, 'sd': 4.5}  {'False': 88.6, 'True': 11.4}  "
      ]
     },
     "execution_count": 14,
     "metadata": {},
     "output_type": "execute_result"
    }
   ],
   "source": [
    "cat_col_info_df = raw_df.select_dtypes(include=['object', 'bool'])\n",
    "\n",
    "def missing_ratio(s):\n",
    "    return (s.isna().mean() * 100)\n",
    "\n",
    "def num_values(s):\n",
    "    s = s.astype('str').str.split(';')\n",
    "    s = s.explode()\n",
    "    return len(s.value_counts())\n",
    "\n",
    "def value_ratios(s):\n",
    "    s = s.astype('str').str.split(';')\n",
    "    s = s.explode()\n",
    "    totalCount = (~s.isna()).sum()\n",
    "    return ((s.value_counts()/totalCount*100).round(1)).to_dict()\n",
    "\n",
    "cat_col_info_df = cat_col_info_df.agg([missing_ratio, num_values, value_ratios])\n",
    "cat_col_info_df"
   ]
  },
  {
   "cell_type": "markdown",
   "metadata": {},
   "source": [
    "Observation: We notice that some columns have missing data and need to be resolved before moving onto the next analysis steps. Other than that, the data does not appear to be unusual."
   ]
  },
  {
   "cell_type": "markdown",
   "metadata": {},
   "source": [
    "### 🚧 Preprocessing categorical columns"
   ]
  },
  {
   "cell_type": "markdown",
   "metadata": {},
   "source": [
    "#### Column `description`"
   ]
  },
  {
   "cell_type": "markdown",
   "metadata": {},
   "source": [
    "Let's observe some values ​​in the `description` column"
   ]
  },
  {
   "cell_type": "code",
   "execution_count": 15,
   "metadata": {},
   "outputs": [
    {
     "data": {
      "text/plain": [
       "48298    Steve Francia talks about most common mistakes in Go #golang and how to avoid them.\\r\\n\\r\\nABOUT...\n",
       "41568    Let us understand how we can take care of insert into table using Python based approach.\\r\\n\\r\\n...\n",
       "55273    This is a clip from a conversation with George Hotz on the Artificial Intelligence podcast. You ...\n",
       "55718    \"NIT Allahabad, Online Workshop - 2020, Apache Spark - Cluster Computing\", Watch this online ses...\n",
       "5007     In this video, I walk through the entire process of landing a data science internship + 2 backup...\n",
       "Name: description, dtype: object"
      ]
     },
     "execution_count": 15,
     "metadata": {},
     "output_type": "execute_result"
    }
   ],
   "source": [
    "raw_df['description'].sample(n=5)"
   ]
  },
  {
   "cell_type": "markdown",
   "metadata": {},
   "source": [
    "Việc tiền xử lý các giá trị bị thiếu trong cột này tương đối phức tạp vì nó yêu cầu chúng ta phải tạo ra một đoạn văn bản. Để cho đơn giản thì ta có thể điền giá trị `(nodescription)` vào các ô trống"
   ]
  },
  {
   "cell_type": "code",
   "execution_count": 16,
   "metadata": {},
   "outputs": [],
   "source": [
    "raw_df['description'] = raw_df['description'].fillna(\"(nodescription)\")"
   ]
  },
  {
   "cell_type": "markdown",
   "metadata": {},
   "source": [
    "#### Column `tags`"
   ]
  },
  {
   "cell_type": "markdown",
   "metadata": {},
   "source": [
    "Let's observe some values ​​in the `tags` column"
   ]
  },
  {
   "cell_type": "code",
   "execution_count": 17,
   "metadata": {},
   "outputs": [
    {
     "data": {
      "text/plain": [
       "36704                                                                                                    NaN\n",
       "10887                                                                                                    NaN\n",
       "43786                                                                      ['Apache Hadoop', 'Apache Spark']\n",
       "47602    ['Python', 'python tips', 'python refactoring', 'clean code', 'python clean code', 'python tutor...\n",
       "35291                                                                                                    NaN\n",
       "Name: tags, dtype: object"
      ]
     },
     "execution_count": 17,
     "metadata": {},
     "output_type": "execute_result"
    }
   ],
   "source": [
    "raw_df['tags'].sample(n=5)"
   ]
  },
  {
   "cell_type": "markdown",
   "metadata": {},
   "source": [
    "The `tags` column has a \"special\" data storage format: it is a `str` but has a structure similar to a `list` containing `str` elements inside. This can be \"confusing\" for other team members, so we will change the format of the `tags` string as follows: \"`str_1|str_2[...]`\""
   ]
  },
  {
   "cell_type": "code",
   "execution_count": 18,
   "metadata": {},
   "outputs": [
    {
     "data": {
      "text/plain": [
       "7387     data science|titanic dataset|titanic data set|how to become a data science|what is data science|...\n",
       "43572                                                                    #hangoutsonair|Hangouts On Air|#hoa\n",
       "32982    fun with data science|numpy library in python|how to add numpy library in python|python programm...\n",
       "26590                                                                                             Databricks\n",
       "23749    podcast|learning|machine|university|college|drop out|life|lessons|entertainment|vlog|fail|succes...\n",
       "Name: tags, dtype: object"
      ]
     },
     "execution_count": 18,
     "metadata": {},
     "output_type": "execute_result"
    }
   ],
   "source": [
    "raw_df['tags'] = raw_df['tags'].apply(lambda x: '|'.join(x.strip(\"[]\").replace(\"\\'\", \"\").split(', ')) if isinstance(x, str) else x)\n",
    "\n",
    "# Display the result\n",
    "raw_df['tags'].sample(n=5)"
   ]
  },
  {
   "cell_type": "markdown",
   "metadata": {},
   "source": [
    "Cột `tags` vẫn còn tình trạng thiếu dữ liệu, việc thiếu dữ liệu này có lẽ xuất phát từ việc người đăng không thêm tags vào video của họ, ngoài ra việc dự đoán giá trị cho các video thiếu dữ liệu cũng tương đối phức tạp nên ta sẽ điền giá trị `(notag)` vào các vị trí trống"
   ]
  },
  {
   "cell_type": "code",
   "execution_count": 19,
   "metadata": {},
   "outputs": [],
   "source": [
    "# Replace missing value with \"(notag)\"\n",
    "raw_df['tags'] = raw_df['tags'].fillna(\"(notag)\")"
   ]
  },
  {
   "cell_type": "code",
   "execution_count": 20,
   "metadata": {},
   "outputs": [
    {
     "data": {
      "text/html": [
       "<div>\n",
       "<style scoped>\n",
       "    .dataframe tbody tr th:only-of-type {\n",
       "        vertical-align: middle;\n",
       "    }\n",
       "\n",
       "    .dataframe tbody tr th {\n",
       "        vertical-align: top;\n",
       "    }\n",
       "\n",
       "    .dataframe thead th {\n",
       "        text-align: right;\n",
       "    }\n",
       "</style>\n",
       "<table border=\"1\" class=\"dataframe\">\n",
       "  <thead>\n",
       "    <tr style=\"text-align: right;\">\n",
       "      <th></th>\n",
       "      <th>video_id</th>\n",
       "      <th>channelTitle</th>\n",
       "      <th>title</th>\n",
       "      <th>description</th>\n",
       "      <th>tags</th>\n",
       "      <th>definition</th>\n",
       "      <th>caption</th>\n",
       "    </tr>\n",
       "  </thead>\n",
       "  <tbody>\n",
       "    <tr>\n",
       "      <th>missing_ratio</th>\n",
       "      <td>0.0</td>\n",
       "      <td>0.0</td>\n",
       "      <td>0.0</td>\n",
       "      <td>0.0</td>\n",
       "      <td>0.0</td>\n",
       "      <td>0.0</td>\n",
       "      <td>0.0</td>\n",
       "    </tr>\n",
       "    <tr>\n",
       "      <th>num_values</th>\n",
       "      <td>60032</td>\n",
       "      <td>160</td>\n",
       "      <td>59644</td>\n",
       "      <td>53351</td>\n",
       "      <td>35545</td>\n",
       "      <td>2</td>\n",
       "      <td>2</td>\n",
       "    </tr>\n",
       "    <tr>\n",
       "      <th>value_ratios</th>\n",
       "      <td>{'WkqM0ndr42c': 0.0, 'ls8hEDjhKU0': 0.0, 'Fh0ArGT2_b0': 0.0, '_tHCoU5TZZg': 0.0, 'fXAvXLOUjlU': ...</td>\n",
       "      <td>{'itversity': 5.8, 'Databricks': 4.7, 'Great Learning': 3.1, 'Analytics India Magazine': 3.0, 'K...</td>\n",
       "      <td>{'TL': 0.1, 'Data Analyst MENTORSHIP -  Q&amp;A (while I drink coffee)': 0.1, 'Machine Learning Summ...</td>\n",
       "      <td>{'(nodescription)': 2.7, 'Connect with me or follow me at\r\n",
       "https://www.linkedin.com/in/durga0gad...</td>\n",
       "      <td>{'(notag)': 18.9, 'Databricks': 2.2, 'CBMM|Center for Brains Minds and Machines|Artificial Intel...</td>\n",
       "      <td>{'hd': 95.5, 'sd': 4.5}</td>\n",
       "      <td>{'False': 88.6, 'True': 11.4}</td>\n",
       "    </tr>\n",
       "  </tbody>\n",
       "</table>\n",
       "</div>"
      ],
      "text/plain": [
       "                                                                                                          video_id  \\\n",
       "missing_ratio                                                                                                  0.0   \n",
       "num_values                                                                                                   60032   \n",
       "value_ratios   {'WkqM0ndr42c': 0.0, 'ls8hEDjhKU0': 0.0, 'Fh0ArGT2_b0': 0.0, '_tHCoU5TZZg': 0.0, 'fXAvXLOUjlU': ...   \n",
       "\n",
       "                                                                                                      channelTitle  \\\n",
       "missing_ratio                                                                                                  0.0   \n",
       "num_values                                                                                                     160   \n",
       "value_ratios   {'itversity': 5.8, 'Databricks': 4.7, 'Great Learning': 3.1, 'Analytics India Magazine': 3.0, 'K...   \n",
       "\n",
       "                                                                                                             title  \\\n",
       "missing_ratio                                                                                                  0.0   \n",
       "num_values                                                                                                   59644   \n",
       "value_ratios   {'TL': 0.1, 'Data Analyst MENTORSHIP -  Q&A (while I drink coffee)': 0.1, 'Machine Learning Summ...   \n",
       "\n",
       "                                                                                                       description  \\\n",
       "missing_ratio                                                                                                  0.0   \n",
       "num_values                                                                                                   53351   \n",
       "value_ratios   {'(nodescription)': 2.7, 'Connect with me or follow me at\n",
       "https://www.linkedin.com/in/durga0gad...   \n",
       "\n",
       "                                                                                                              tags  \\\n",
       "missing_ratio                                                                                                  0.0   \n",
       "num_values                                                                                                   35545   \n",
       "value_ratios   {'(notag)': 18.9, 'Databricks': 2.2, 'CBMM|Center for Brains Minds and Machines|Artificial Intel...   \n",
       "\n",
       "                            definition                        caption  \n",
       "missing_ratio                      0.0                            0.0  \n",
       "num_values                           2                              2  \n",
       "value_ratios   {'hd': 95.5, 'sd': 4.5}  {'False': 88.6, 'True': 11.4}  "
      ]
     },
     "execution_count": 20,
     "metadata": {},
     "output_type": "execute_result"
    }
   ],
   "source": [
    "# TEST\n",
    "raw_df.select_dtypes(include=['object', 'bool'])\\\n",
    "    .agg([missing_ratio, num_values, value_ratios])"
   ]
  },
  {
   "cell_type": "markdown",
   "metadata": {},
   "source": [
    "### 💾 Save the processed data"
   ]
  },
  {
   "cell_type": "code",
   "execution_count": 21,
   "metadata": {},
   "outputs": [
    {
     "name": "stdout",
     "output_type": "stream",
     "text": [
      "Total number of features: 12\n"
     ]
    },
    {
     "data": {
      "text/plain": [
       "video_id                     object\n",
       "channelTitle                 object\n",
       "title                        object\n",
       "description                  object\n",
       "tags                         object\n",
       "publishedAt     datetime64[ns, UTC]\n",
       "viewCount                     int64\n",
       "likeCount                     int64\n",
       "commentCount                  int64\n",
       "duration                      int64\n",
       "definition                   object\n",
       "caption                        bool\n",
       "dtype: object"
      ]
     },
     "execution_count": 21,
     "metadata": {},
     "output_type": "execute_result"
    }
   ],
   "source": [
    "print(f\"Total number of features: {raw_df.shape[1]}\")\n",
    "raw_df.dtypes"
   ]
  },
  {
   "cell_type": "code",
   "execution_count": 22,
   "metadata": {},
   "outputs": [],
   "source": [
    "# Save processed data to disk\n",
    "raw_df.to_csv(\"../data/processed/\" + \"video_data_processed.csv\", index=False)"
   ]
  }
 ],
 "metadata": {
  "kernelspec": {
   "display_name": "Python 3",
   "language": "python",
   "name": "python3"
  },
  "language_info": {
   "codemirror_mode": {
    "name": "ipython",
    "version": 3
   },
   "file_extension": ".py",
   "mimetype": "text/x-python",
   "name": "python",
   "nbconvert_exporter": "python",
   "pygments_lexer": "ipython3",
   "version": "3.9.18"
  }
 },
 "nbformat": 4,
 "nbformat_minor": 2
}
