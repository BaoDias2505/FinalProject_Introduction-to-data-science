{
 "cells": [
  {
   "cell_type": "markdown",
   "metadata": {},
   "source": [
    "## Import"
   ]
  },
  {
   "cell_type": "code",
   "execution_count": 56,
   "metadata": {},
   "outputs": [],
   "source": [
    "import os\n",
    "import sys\n",
    "import numpy as np\n",
    "import pandas as pd\n",
    "import matplotlib.pyplot as plt\n",
    "import seaborn as sns\n",
    "import datetime\n",
    "import isodate"
   ]
  },
  {
   "cell_type": "markdown",
   "metadata": {},
   "source": [
    "## Read raw data from file"
   ]
  },
  {
   "cell_type": "code",
   "execution_count": 57,
   "metadata": {},
   "outputs": [
    {
     "data": {
      "text/html": [
       "<div>\n",
       "<style scoped>\n",
       "    .dataframe tbody tr th:only-of-type {\n",
       "        vertical-align: middle;\n",
       "    }\n",
       "\n",
       "    .dataframe tbody tr th {\n",
       "        vertical-align: top;\n",
       "    }\n",
       "\n",
       "    .dataframe thead th {\n",
       "        text-align: right;\n",
       "    }\n",
       "</style>\n",
       "<table border=\"1\" class=\"dataframe\">\n",
       "  <thead>\n",
       "    <tr style=\"text-align: right;\">\n",
       "      <th></th>\n",
       "      <th>video_id</th>\n",
       "      <th>channelTitle</th>\n",
       "      <th>title</th>\n",
       "      <th>description</th>\n",
       "      <th>tags</th>\n",
       "      <th>publishedAt</th>\n",
       "      <th>viewCount</th>\n",
       "      <th>likeCount</th>\n",
       "      <th>favouriteCount</th>\n",
       "      <th>commentCount</th>\n",
       "      <th>duration</th>\n",
       "      <th>definition</th>\n",
       "      <th>caption</th>\n",
       "    </tr>\n",
       "  </thead>\n",
       "  <tbody>\n",
       "    <tr>\n",
       "      <th>0</th>\n",
       "      <td>WkqM0ndr42c</td>\n",
       "      <td>Data School</td>\n",
       "      <td>My top 50 scikit-learn tips</td>\n",
       "      <td>If you already know the basics of scikit-learn, but you want to be more efficient and get up-to-...</td>\n",
       "      <td>['python', 'data science', 'machine learning', 'scikit-learn']</td>\n",
       "      <td>2023-04-20T14:56:43Z</td>\n",
       "      <td>8210.0</td>\n",
       "      <td>355.0</td>\n",
       "      <td>NaN</td>\n",
       "      <td>45.0</td>\n",
       "      <td>PT2H47M31S</td>\n",
       "      <td>hd</td>\n",
       "      <td>False</td>\n",
       "    </tr>\n",
       "    <tr>\n",
       "      <th>1</th>\n",
       "      <td>tWFQqaRtSQA</td>\n",
       "      <td>Data School</td>\n",
       "      <td>21 more pandas tricks</td>\n",
       "      <td>You're about to learn 21 tricks that will help you to work faster, write better pandas code, and...</td>\n",
       "      <td>['python', 'pandas', 'data analysis', 'data science']</td>\n",
       "      <td>2022-05-12T16:20:41Z</td>\n",
       "      <td>43576.0</td>\n",
       "      <td>1379.0</td>\n",
       "      <td>NaN</td>\n",
       "      <td>67.0</td>\n",
       "      <td>PT24M40S</td>\n",
       "      <td>hd</td>\n",
       "      <td>False</td>\n",
       "    </tr>\n",
       "    <tr>\n",
       "      <th>2</th>\n",
       "      <td>gd-TZut-oto</td>\n",
       "      <td>Data School</td>\n",
       "      <td>Adapt this pattern to solve many Machine Learning problems</td>\n",
       "      <td>Here's a simple pattern that can be adapted to solve many ML problems. It has plenty of shortcom...</td>\n",
       "      <td>['python', 'machine learning', 'scikit-learn', 'data science']</td>\n",
       "      <td>2021-10-28T16:16:39Z</td>\n",
       "      <td>11707.0</td>\n",
       "      <td>435.0</td>\n",
       "      <td>NaN</td>\n",
       "      <td>16.0</td>\n",
       "      <td>PT7M49S</td>\n",
       "      <td>hd</td>\n",
       "      <td>False</td>\n",
       "    </tr>\n",
       "    <tr>\n",
       "      <th>3</th>\n",
       "      <td>v2QpvCJ1ar8</td>\n",
       "      <td>Data School</td>\n",
       "      <td>Tune multiple models simultaneously with GridSearchCV</td>\n",
       "      <td>You can tune 2+ models using the same grid search! Here's how:\\n1. Create multiple parameter dic...</td>\n",
       "      <td>['python', 'machine learning', 'scikit-learn', 'data science']</td>\n",
       "      <td>2021-10-26T13:53:24Z</td>\n",
       "      <td>6453.0</td>\n",
       "      <td>198.0</td>\n",
       "      <td>NaN</td>\n",
       "      <td>14.0</td>\n",
       "      <td>PT5M7S</td>\n",
       "      <td>hd</td>\n",
       "      <td>False</td>\n",
       "    </tr>\n",
       "    <tr>\n",
       "      <th>4</th>\n",
       "      <td>sMlsd2CnIf4</td>\n",
       "      <td>Data School</td>\n",
       "      <td>Access part of a Pipeline using slicing</td>\n",
       "      <td>Want to operate on part of a Pipeline (instead of the whole thing)? Slice it using Python's slic...</td>\n",
       "      <td>['python', 'machine learning', 'scikit-learn', 'data science']</td>\n",
       "      <td>2021-10-21T14:49:56Z</td>\n",
       "      <td>2413.0</td>\n",
       "      <td>64.0</td>\n",
       "      <td>NaN</td>\n",
       "      <td>4.0</td>\n",
       "      <td>PT3M38S</td>\n",
       "      <td>hd</td>\n",
       "      <td>False</td>\n",
       "    </tr>\n",
       "  </tbody>\n",
       "</table>\n",
       "</div>"
      ],
      "text/plain": [
       "      video_id channelTitle  \\\n",
       "0  WkqM0ndr42c  Data School   \n",
       "1  tWFQqaRtSQA  Data School   \n",
       "2  gd-TZut-oto  Data School   \n",
       "3  v2QpvCJ1ar8  Data School   \n",
       "4  sMlsd2CnIf4  Data School   \n",
       "\n",
       "                                                        title  \\\n",
       "0                                 My top 50 scikit-learn tips   \n",
       "1                                       21 more pandas tricks   \n",
       "2  Adapt this pattern to solve many Machine Learning problems   \n",
       "3       Tune multiple models simultaneously with GridSearchCV   \n",
       "4                     Access part of a Pipeline using slicing   \n",
       "\n",
       "                                                                                           description  \\\n",
       "0  If you already know the basics of scikit-learn, but you want to be more efficient and get up-to-...   \n",
       "1  You're about to learn 21 tricks that will help you to work faster, write better pandas code, and...   \n",
       "2  Here's a simple pattern that can be adapted to solve many ML problems. It has plenty of shortcom...   \n",
       "3  You can tune 2+ models using the same grid search! Here's how:\\n1. Create multiple parameter dic...   \n",
       "4  Want to operate on part of a Pipeline (instead of the whole thing)? Slice it using Python's slic...   \n",
       "\n",
       "                                                             tags  \\\n",
       "0  ['python', 'data science', 'machine learning', 'scikit-learn']   \n",
       "1           ['python', 'pandas', 'data analysis', 'data science']   \n",
       "2  ['python', 'machine learning', 'scikit-learn', 'data science']   \n",
       "3  ['python', 'machine learning', 'scikit-learn', 'data science']   \n",
       "4  ['python', 'machine learning', 'scikit-learn', 'data science']   \n",
       "\n",
       "            publishedAt  viewCount  likeCount  favouriteCount  commentCount  \\\n",
       "0  2023-04-20T14:56:43Z     8210.0      355.0             NaN          45.0   \n",
       "1  2022-05-12T16:20:41Z    43576.0     1379.0             NaN          67.0   \n",
       "2  2021-10-28T16:16:39Z    11707.0      435.0             NaN          16.0   \n",
       "3  2021-10-26T13:53:24Z     6453.0      198.0             NaN          14.0   \n",
       "4  2021-10-21T14:49:56Z     2413.0       64.0             NaN           4.0   \n",
       "\n",
       "     duration definition  caption  \n",
       "0  PT2H47M31S         hd    False  \n",
       "1    PT24M40S         hd    False  \n",
       "2     PT7M49S         hd    False  \n",
       "3      PT5M7S         hd    False  \n",
       "4     PT3M38S         hd    False  "
      ]
     },
     "execution_count": 57,
     "metadata": {},
     "output_type": "execute_result"
    }
   ],
   "source": [
    "raw_df = pd.read_csv(\"../data/raw/video_data_raw.csv\")\n",
    "raw_df.head()"
   ]
  },
  {
   "cell_type": "markdown",
   "metadata": {},
   "source": [
    "- In here, we will change the format of `tags` string."
   ]
  },
  {
   "cell_type": "code",
   "execution_count": 58,
   "metadata": {},
   "outputs": [
    {
     "data": {
      "text/plain": [
       "0                                                          python|data science|machine learning|scikit-learn\n",
       "1                                                                   python|pandas|data analysis|data science\n",
       "2                                                          python|machine learning|scikit-learn|data science\n",
       "3                                                          python|machine learning|scikit-learn|data science\n",
       "4                                                          python|machine learning|scikit-learn|data science\n",
       "                                                        ...                                                 \n",
       "60027    free fme license|fme license key|fme home license|fme software|fme|safe software fme|fme data in...\n",
       "60028    s3connector|api to s3 fme|httpcaller|fme data integration|fme software|safe software|api to s3|f...\n",
       "60029    temppathnamecreater|FME Transformer Guide|temporay paths fme|fme software|fme software tutorial|...\n",
       "60030    csv to shapefile|csv to geopackage|fme vertexcreater|xy to shape|xy to geopackage|lat long to sh...\n",
       "60031    FeatureJoiner|FME FeatureJoiner|joining data without code|FME Joins|fme tutorial|FME safe softwa...\n",
       "Name: tags, Length: 60032, dtype: object"
      ]
     },
     "execution_count": 58,
     "metadata": {},
     "output_type": "execute_result"
    }
   ],
   "source": [
    "raw_df['tags'] = raw_df['tags'].apply(lambda x: '|'.join(x.strip(\"[]\").replace(\"'\", \"\").split(', ')) if isinstance(x, str) else x)\n",
    "raw_df['tags']"
   ]
  },
  {
   "cell_type": "markdown",
   "metadata": {},
   "source": [
    "### How many rows and how many columns does the raw data have?"
   ]
  },
  {
   "cell_type": "code",
   "execution_count": 59,
   "metadata": {},
   "outputs": [
    {
     "name": "stdout",
     "output_type": "stream",
     "text": [
      "Video data current shape: (60032, 13)\n"
     ]
    }
   ],
   "source": [
    "data_video_shape = raw_df.shape\n",
    "print(f\"Video data current shape: {data_video_shape}\")"
   ]
  },
  {
   "cell_type": "markdown",
   "metadata": {},
   "source": [
    "### What is the meaning of each row?"
   ]
  },
  {
   "cell_type": "markdown",
   "metadata": {},
   "source": [
    "- Answer: Based on the observations of the dataset, we suppose that each row represents a unique set of details regarding individual YouTube videos"
   ]
  },
  {
   "cell_type": "markdown",
   "metadata": {},
   "source": [
    "### What does each column mean?"
   ]
  },
  {
   "cell_type": "markdown",
   "metadata": {},
   "source": [
    "\n",
    "<table style=\"width: 100%; border-collapse: collapse;\">\n",
    "  <thead>\n",
    "    <tr>\n",
    "      <th style=\"min-width: 10px; width: 30px; background-color: #04B1CC; color: white; font-size :15px; font-weight: bold; text-align: left; padding: 8px;\">No</th>\n",
    "      <th style=\"background-color: #04B1CC; color: white; font-size :15px; font-weight: bold; text-align: left; padding: 8px;\">Columns</th>\n",
    "      <th style=\"background-color: #04B1CC; color: white; font-size :15px; font-weight: bold; text-align: left; padding: 8px;\">Meaning</th>\n",
    "    </tr>\n",
    "  </thead>\n",
    "  <tbody>\n",
    "    <tr>\n",
    "      <td style=\"font-size: 14px; text-align: left;\">1</td>\n",
    "      <td style=\"font-size: 14px; text-align: left;\">video_id</td>\n",
    "      <td style=\"font-size: 14px; text-align: left;\">Unique identifier for the YouTube video.</td>\n",
    "    </tr>\n",
    "    <tr>\n",
    "      <td style=\"font-size: 14px; text-align: left;\">2</td>\n",
    "      <td style=\"font-size: 14px; text-align: left;\">channelTitle</td>\n",
    "      <td style=\"font-size: 14px; text-align: left;\">The name of the channel that uploaded the video.</td>\n",
    "    </tr>\n",
    "    <tr>\n",
    "      <td style=\"font-size: 14px; text-align: left;\">3</td>\n",
    "      <td style=\"font-size: 14px; text-align: left;\">title</td>\n",
    "      <td style=\"font-size: 14px; text-align: left;\">Title of the video.</td>\n",
    "    </tr>\n",
    "    <tr>\n",
    "      <td style=\"font-size: 14px; text-align: left;\">4</td>\n",
    "      <td style=\"font-size: 14px; text-align: left;\">description</td>\n",
    "      <td style=\"font-size: 14px; text-align: left;\">Description or summary of the video content.</td>\n",
    "    </tr>\n",
    "    <tr>\n",
    "      <td style=\"font-size: 14px; text-align: left;\">5</td>\n",
    "      <td style=\"font-size: 14px; text-align: left;\">tags</td>\n",
    "      <td style=\"font-size: 14px; text-align: left;\">Keywords or tags associated with the video.</td>\n",
    "    </tr>\n",
    "    <tr>\n",
    "      <td style=\"font-size: 14px; text-align: left;\">6</td>\n",
    "      <td style=\"font-size: 14px; text-align: left;\">publishedAt</td>\n",
    "      <td style=\"font-size: 14px; text-align: left;\">Date and time when the video was published.</td>\n",
    "    </tr>\n",
    "    <tr>\n",
    "      <td style=\"font-size: 14px; text-align: left;\">7</td>\n",
    "      <td style=\"font-size: 14px; text-align: left;\">viewCount</td>\n",
    "      <td style=\"font-size: 14px; text-align: left;\">Number of views the video has accumulated.</td>\n",
    "    </tr>\n",
    "    <tr>\n",
    "      <td style=\"font-size: 14px; text-align: left;\">8</td>\n",
    "      <td style=\"font-size: 14px; text-align: left;\">likeCount</td>\n",
    "      <td style=\"font-size: 14px; text-align: left;\">Count of likes received by the video.</td>\n",
    "    </tr>\n",
    "    <tr>\n",
    "      <td style=\"font-size: 14px; text-align: left;\">9</td>\n",
    "      <td style=\"font-size: 14px; text-align: left;\">favoriteCount</td>\n",
    "      <td style=\"font-size: 14px; text-align: left;\">Deprecated; used to track how many times viewers added the video to their favorites.</td>\n",
    "    </tr>\n",
    "    <tr>\n",
    "      <td style=\"font-size: 14px; text-align: left;\">10</td>\n",
    "      <td style=\"font-size: 14px; text-align: left;\">commentCount</td>\n",
    "      <td style=\"font-size: 14px; text-align: left;\">Number of comments posted on the video.</td>\n",
    "    </tr>\n",
    "    <tr>\n",
    "      <td style=\"font-size: 14px; text-align: left;\">11</td>\n",
    "      <td style=\"font-size: 14px; text-align: left;\">duration</td>\n",
    "      <td style=\"font-size: 14px; text-align: left;\">Length of the video.</td>\n",
    "    </tr>\n",
    "    <tr>\n",
    "      <td style=\"font-size: 14px; text-align: left;\">12</td>\n",
    "      <td style=\"font-size: 14px; text-align: left;\">definition</td>\n",
    "      <td style=\"font-size: 14px; text-align: left;\">Video resolution or quality (e.g., HD, SD).</td>\n",
    "    </tr>\n",
    "    <tr>\n",
    "      <td style=\"font-size: 14px; text-align: left;\">13</td>\n",
    "      <td style=\"font-size: 14px; text-align: left;\">caption</td>\n",
    "      <td style=\"font-size: 14px; text-align: left;\"> Indicates whether closed captions are available for the video.</td>\n",
    "    </tr>\n",
    "  </tbody>\n",
    "</table>"
   ]
  },
  {
   "cell_type": "markdown",
   "metadata": {},
   "source": [
    "### Does the raw data have duplicate rows?"
   ]
  },
  {
   "cell_type": "code",
   "execution_count": 60,
   "metadata": {},
   "outputs": [],
   "source": [
    "# retrieve the index\n",
    "index = raw_df.index\n",
    "# create a Pandas Series indicating whether each index is duplicated or not\n",
    "deDupSeries = index.duplicated(keep='first')\n",
    "# calculate the number of duplicated rows\n",
    "num_duplicated_rows = deDupSeries.sum()"
   ]
  },
  {
   "cell_type": "code",
   "execution_count": 61,
   "metadata": {},
   "outputs": [
    {
     "name": "stdout",
     "output_type": "stream",
     "text": [
      "Raw data have no duplicated line !\n"
     ]
    }
   ],
   "source": [
    "if num_duplicated_rows == 0:\n",
    "    print(f\"Raw data have no duplicated line !\")\n",
    "else:\n",
    "    if num_duplicated_rows > 1:\n",
    "        ext = \"lines\"\n",
    "    else:\n",
    "        ext = \"line\"\n",
    "    print(f\"Raw data have {num_duplicated_rows} duplicated \" + ext)"
   ]
  },
  {
   "cell_type": "markdown",
   "metadata": {},
   "source": [
    "### What data type does each column currently have? Are there any columns having inappropriate data types?"
   ]
  },
  {
   "cell_type": "code",
   "execution_count": 62,
   "metadata": {},
   "outputs": [
    {
     "data": {
      "text/plain": [
       "video_id           object\n",
       "channelTitle       object\n",
       "title              object\n",
       "description        object\n",
       "tags               object\n",
       "publishedAt        object\n",
       "viewCount         float64\n",
       "likeCount         float64\n",
       "favouriteCount    float64\n",
       "commentCount      float64\n",
       "duration           object\n",
       "definition         object\n",
       "caption              bool\n",
       "dtype: object"
      ]
     },
     "execution_count": 62,
     "metadata": {},
     "output_type": "execute_result"
    }
   ],
   "source": [
    "raw_df.dtypes"
   ]
  },
  {
   "cell_type": "markdown",
   "metadata": {},
   "source": [
    "- We notice that the columns `publishedAt` and `duration` are currently of object type. Given that they represent time periods, it is advisable to convert `publishedAt`  to datetime type. As the 'duration' is in ISO 8601 format, we'll convert it into a float representing the total number of seconds"
   ]
  },
  {
   "cell_type": "code",
   "execution_count": 63,
   "metadata": {},
   "outputs": [],
   "source": [
    "# convert publishedAt to datetime\n",
    "raw_df[\"publishedAt\"] = pd.to_datetime(raw_df[\"publishedAt\"])\n",
    "# convert duration to float\n",
    "raw_df['duration'] = raw_df['duration'].apply(lambda x: isodate.parse_duration(x))\n",
    "raw_df['duration'] = raw_df['duration'].dt.total_seconds()\n",
    "raw_df['duration'] = raw_df['duration'].astype(np.int64)"
   ]
  },
  {
   "cell_type": "markdown",
   "metadata": {},
   "source": [
    "Since the `publishedAt` column only carries general values, we can extract more useful information from this data. The special thing is that the extracted information will be categorical values."
   ]
  },
  {
   "cell_type": "code",
   "execution_count": 64,
   "metadata": {},
   "outputs": [],
   "source": [
    "if 'publishedAt' in raw_df.columns:\n",
    "    # Extract time features from `publishedAt` column\n",
    "    raw_df['hour'] = raw_df['publishedAt'].dt.hour\n",
    "    raw_df['day_of_week'] = raw_df['publishedAt'].dt.dayofweek  # Monday = 0, Sunday = 6\n",
    "    raw_df['month'] = raw_df['publishedAt'].dt.month\n",
    "\n",
    "    # Change datatype of the above columns to categorical\n",
    "    raw_df['hour'] = raw_df['hour'].astype('str')\n",
    "    raw_df['day_of_week'] = raw_df['day_of_week'].astype('str')\n",
    "    raw_df['month'] = raw_df['month'].astype('str')"
   ]
  },
  {
   "cell_type": "code",
   "execution_count": 65,
   "metadata": {},
   "outputs": [
    {
     "data": {
      "text/plain": [
       "video_id                       object\n",
       "channelTitle                   object\n",
       "title                          object\n",
       "description                    object\n",
       "tags                           object\n",
       "publishedAt       datetime64[ns, UTC]\n",
       "viewCount                     float64\n",
       "likeCount                     float64\n",
       "favouriteCount                float64\n",
       "commentCount                  float64\n",
       "duration                        int64\n",
       "definition                     object\n",
       "caption                          bool\n",
       "hour                           object\n",
       "day_of_week                    object\n",
       "month                          object\n",
       "dtype: object"
      ]
     },
     "execution_count": 65,
     "metadata": {},
     "output_type": "execute_result"
    }
   ],
   "source": [
    "# TEST\n",
    "raw_df.dtypes"
   ]
  },
  {
   "cell_type": "markdown",
   "metadata": {},
   "source": [
    "### With each numerical column, how are values distributed?"
   ]
  },
  {
   "cell_type": "markdown",
   "metadata": {},
   "source": [
    "For columns with numeric data types, we will calculate some basic statistics:\n",
    "\n",
    "* Percentage (from 0 to 100) of missing values\n",
    "* The min\n",
    "* The lower quartile (phân vị 25)\n",
    "* The median (phân vị 50)\n",
    "* The upper quartile (phân vị 75)\n",
    "* The max\n",
    "Then we will observe and comment to see if the results are unusual?"
   ]
  },
  {
   "cell_type": "code",
   "execution_count": 66,
   "metadata": {},
   "outputs": [
    {
     "data": {
      "text/html": [
       "<div>\n",
       "<style scoped>\n",
       "    .dataframe tbody tr th:only-of-type {\n",
       "        vertical-align: middle;\n",
       "    }\n",
       "\n",
       "    .dataframe tbody tr th {\n",
       "        vertical-align: top;\n",
       "    }\n",
       "\n",
       "    .dataframe thead th {\n",
       "        text-align: right;\n",
       "    }\n",
       "</style>\n",
       "<table border=\"1\" class=\"dataframe\">\n",
       "  <thead>\n",
       "    <tr style=\"text-align: right;\">\n",
       "      <th></th>\n",
       "      <th>publishedAt</th>\n",
       "      <th>viewCount</th>\n",
       "      <th>likeCount</th>\n",
       "      <th>favouriteCount</th>\n",
       "      <th>commentCount</th>\n",
       "      <th>duration</th>\n",
       "    </tr>\n",
       "  </thead>\n",
       "  <tbody>\n",
       "    <tr>\n",
       "      <th>missing_ratio</th>\n",
       "      <td>0.0</td>\n",
       "      <td>6.663113e-03</td>\n",
       "      <td>0.404784</td>\n",
       "      <td>100.0</td>\n",
       "      <td>1.279318</td>\n",
       "      <td>0.0</td>\n",
       "    </tr>\n",
       "    <tr>\n",
       "      <th>min</th>\n",
       "      <td>2006-10-25 10:28:09+00:00</td>\n",
       "      <td>0.000000e+00</td>\n",
       "      <td>0.000000</td>\n",
       "      <td>NaN</td>\n",
       "      <td>0.000000</td>\n",
       "      <td>0.0</td>\n",
       "    </tr>\n",
       "    <tr>\n",
       "      <th>lower_quartile</th>\n",
       "      <td>2019-02-18 04:02:18+00:00</td>\n",
       "      <td>6.220000e+02</td>\n",
       "      <td>11.000000</td>\n",
       "      <td>NaN</td>\n",
       "      <td>0.000000</td>\n",
       "      <td>293.0</td>\n",
       "    </tr>\n",
       "    <tr>\n",
       "      <th>median</th>\n",
       "      <td>2020-12-22 09:26:05.500000+00:00</td>\n",
       "      <td>3.059500e+03</td>\n",
       "      <td>55.000000</td>\n",
       "      <td>NaN</td>\n",
       "      <td>5.000000</td>\n",
       "      <td>695.0</td>\n",
       "    </tr>\n",
       "    <tr>\n",
       "      <th>upper_quartile</th>\n",
       "      <td>2022-07-05 06:04:02.500000+00:00</td>\n",
       "      <td>1.602175e+04</td>\n",
       "      <td>334.000000</td>\n",
       "      <td>NaN</td>\n",
       "      <td>27.000000</td>\n",
       "      <td>1786.0</td>\n",
       "    </tr>\n",
       "    <tr>\n",
       "      <th>max</th>\n",
       "      <td>2023-11-24 13:04:35+00:00</td>\n",
       "      <td>3.447645e+07</td>\n",
       "      <td>571358.000000</td>\n",
       "      <td>NaN</td>\n",
       "      <td>60054.000000</td>\n",
       "      <td>92218.0</td>\n",
       "    </tr>\n",
       "  </tbody>\n",
       "</table>\n",
       "</div>"
      ],
      "text/plain": [
       "                                     publishedAt     viewCount      likeCount  \\\n",
       "missing_ratio                                0.0  6.663113e-03       0.404784   \n",
       "min                    2006-10-25 10:28:09+00:00  0.000000e+00       0.000000   \n",
       "lower_quartile         2019-02-18 04:02:18+00:00  6.220000e+02      11.000000   \n",
       "median          2020-12-22 09:26:05.500000+00:00  3.059500e+03      55.000000   \n",
       "upper_quartile  2022-07-05 06:04:02.500000+00:00  1.602175e+04     334.000000   \n",
       "max                    2023-11-24 13:04:35+00:00  3.447645e+07  571358.000000   \n",
       "\n",
       "                favouriteCount  commentCount  duration  \n",
       "missing_ratio            100.0      1.279318       0.0  \n",
       "min                        NaN      0.000000       0.0  \n",
       "lower_quartile             NaN      0.000000     293.0  \n",
       "median                     NaN      5.000000     695.0  \n",
       "upper_quartile             NaN     27.000000    1786.0  \n",
       "max                        NaN  60054.000000   92218.0  "
      ]
     },
     "execution_count": 66,
     "metadata": {},
     "output_type": "execute_result"
    }
   ],
   "source": [
    "num_col_info_df = raw_df.select_dtypes(exclude=['object', 'bool'])\n",
    "\n",
    "def missing_ratio(s):\n",
    "    return (s.isna().mean() * 100)\n",
    "\n",
    "def median(df):\n",
    "    return (df.quantile(0.5))\n",
    "\n",
    "def lower_quartile(df):\n",
    "    return (df.quantile(0.25))\n",
    "\n",
    "def upper_quartile(df):\n",
    "    return (df.quantile(0.75))\n",
    "\n",
    "num_col_info_df = num_col_info_df.agg([missing_ratio, \"min\", lower_quartile, median, upper_quartile, \"max\"])\n",
    "num_col_info_df"
   ]
  },
  {
   "cell_type": "markdown",
   "metadata": {},
   "source": [
    "- We notice that `favouriteCount` does not have any value, so we can remove this feature."
   ]
  },
  {
   "cell_type": "code",
   "execution_count": 67,
   "metadata": {},
   "outputs": [],
   "source": [
    "# remove favouriteCount\n",
    "if \"favouriteCount\" in raw_df.columns:\n",
    "    raw_df = raw_df.drop('favouriteCount', axis=1)"
   ]
  },
  {
   "cell_type": "markdown",
   "metadata": {},
   "source": [
    "-  `viewCount`, `likeCount` and `commentCount` have little missing value, we'll fill it with the median."
   ]
  },
  {
   "cell_type": "code",
   "execution_count": 68,
   "metadata": {},
   "outputs": [],
   "source": [
    "# fill missing value with median\n",
    "missing_cols = ['viewCount', 'likeCount', 'commentCount']\n",
    "for col in missing_cols:\n",
    "    raw_df[col] = raw_df[col].fillna(raw_df[col].median().__round__(0))\n",
    "    raw_df[col] = raw_df[col].astype(np.int64)"
   ]
  },
  {
   "cell_type": "code",
   "execution_count": 69,
   "metadata": {},
   "outputs": [
    {
     "data": {
      "text/html": [
       "<div>\n",
       "<style scoped>\n",
       "    .dataframe tbody tr th:only-of-type {\n",
       "        vertical-align: middle;\n",
       "    }\n",
       "\n",
       "    .dataframe tbody tr th {\n",
       "        vertical-align: top;\n",
       "    }\n",
       "\n",
       "    .dataframe thead th {\n",
       "        text-align: right;\n",
       "    }\n",
       "</style>\n",
       "<table border=\"1\" class=\"dataframe\">\n",
       "  <thead>\n",
       "    <tr style=\"text-align: right;\">\n",
       "      <th></th>\n",
       "      <th>publishedAt</th>\n",
       "      <th>viewCount</th>\n",
       "      <th>likeCount</th>\n",
       "      <th>commentCount</th>\n",
       "      <th>duration</th>\n",
       "    </tr>\n",
       "  </thead>\n",
       "  <tbody>\n",
       "    <tr>\n",
       "      <th>missing_ratio</th>\n",
       "      <td>0.0</td>\n",
       "      <td>0.00</td>\n",
       "      <td>0.0</td>\n",
       "      <td>0.0</td>\n",
       "      <td>0.0</td>\n",
       "    </tr>\n",
       "    <tr>\n",
       "      <th>min</th>\n",
       "      <td>2006-10-25 10:28:09+00:00</td>\n",
       "      <td>0.00</td>\n",
       "      <td>0.0</td>\n",
       "      <td>0.0</td>\n",
       "      <td>0.0</td>\n",
       "    </tr>\n",
       "    <tr>\n",
       "      <th>lower_quartile</th>\n",
       "      <td>2019-02-18 04:02:18+00:00</td>\n",
       "      <td>622.00</td>\n",
       "      <td>11.0</td>\n",
       "      <td>1.0</td>\n",
       "      <td>293.0</td>\n",
       "    </tr>\n",
       "    <tr>\n",
       "      <th>median</th>\n",
       "      <td>2020-12-22 09:26:05.500000+00:00</td>\n",
       "      <td>3060.00</td>\n",
       "      <td>55.0</td>\n",
       "      <td>5.0</td>\n",
       "      <td>695.0</td>\n",
       "    </tr>\n",
       "    <tr>\n",
       "      <th>upper_quartile</th>\n",
       "      <td>2022-07-05 06:04:02.500000+00:00</td>\n",
       "      <td>16017.25</td>\n",
       "      <td>332.0</td>\n",
       "      <td>26.0</td>\n",
       "      <td>1786.0</td>\n",
       "    </tr>\n",
       "    <tr>\n",
       "      <th>max</th>\n",
       "      <td>2023-11-24 13:04:35+00:00</td>\n",
       "      <td>34476453.00</td>\n",
       "      <td>571358.0</td>\n",
       "      <td>60054.0</td>\n",
       "      <td>92218.0</td>\n",
       "    </tr>\n",
       "  </tbody>\n",
       "</table>\n",
       "</div>"
      ],
      "text/plain": [
       "                                     publishedAt    viewCount  likeCount  \\\n",
       "missing_ratio                                0.0         0.00        0.0   \n",
       "min                    2006-10-25 10:28:09+00:00         0.00        0.0   \n",
       "lower_quartile         2019-02-18 04:02:18+00:00       622.00       11.0   \n",
       "median          2020-12-22 09:26:05.500000+00:00      3060.00       55.0   \n",
       "upper_quartile  2022-07-05 06:04:02.500000+00:00     16017.25      332.0   \n",
       "max                    2023-11-24 13:04:35+00:00  34476453.00   571358.0   \n",
       "\n",
       "                commentCount  duration  \n",
       "missing_ratio            0.0       0.0  \n",
       "min                      0.0       0.0  \n",
       "lower_quartile           1.0     293.0  \n",
       "median                   5.0     695.0  \n",
       "upper_quartile          26.0    1786.0  \n",
       "max                  60054.0   92218.0  "
      ]
     },
     "execution_count": 69,
     "metadata": {},
     "output_type": "execute_result"
    }
   ],
   "source": [
    "# TEST\n",
    "raw_df.select_dtypes(exclude=['object', 'bool'])\\\n",
    "    .agg([missing_ratio, \"min\", lower_quartile, median, upper_quartile, \"max\"])"
   ]
  },
  {
   "cell_type": "markdown",
   "metadata": {},
   "source": [
    "### With each categorical column, how are values distributed?"
   ]
  },
  {
   "cell_type": "markdown",
   "metadata": {},
   "source": [
    "For columns with non-numeric data types, we calculate:\n",
    "\n",
    "* Percentage (from 0 to 100) of missing values\n",
    "* Number of different values (and we do not consider missing values)\n",
    "* Show a few values and percentage (from 0 to 100) of each value sorted by decreasing percentage (we do not consider missing values, the ratio is the ratio compared to the number of non-missing values)\n",
    "  \n",
    "Then we will observe and comment to see if the results are unusual?"
   ]
  },
  {
   "cell_type": "code",
   "execution_count": 70,
   "metadata": {},
   "outputs": [],
   "source": [
    "pd.set_option('display.max_colwidth', 100) # For clearly\n",
    "pd.set_option('display.max_columns', None) # For clearly"
   ]
  },
  {
   "cell_type": "code",
   "execution_count": 71,
   "metadata": {},
   "outputs": [
    {
     "data": {
      "text/html": [
       "<div>\n",
       "<style scoped>\n",
       "    .dataframe tbody tr th:only-of-type {\n",
       "        vertical-align: middle;\n",
       "    }\n",
       "\n",
       "    .dataframe tbody tr th {\n",
       "        vertical-align: top;\n",
       "    }\n",
       "\n",
       "    .dataframe thead th {\n",
       "        text-align: right;\n",
       "    }\n",
       "</style>\n",
       "<table border=\"1\" class=\"dataframe\">\n",
       "  <thead>\n",
       "    <tr style=\"text-align: right;\">\n",
       "      <th></th>\n",
       "      <th>video_id</th>\n",
       "      <th>channelTitle</th>\n",
       "      <th>title</th>\n",
       "      <th>description</th>\n",
       "      <th>tags</th>\n",
       "      <th>definition</th>\n",
       "      <th>caption</th>\n",
       "      <th>hour</th>\n",
       "      <th>day_of_week</th>\n",
       "      <th>month</th>\n",
       "    </tr>\n",
       "  </thead>\n",
       "  <tbody>\n",
       "    <tr>\n",
       "      <th>missing_ratio</th>\n",
       "      <td>0.0</td>\n",
       "      <td>0.0</td>\n",
       "      <td>0.0</td>\n",
       "      <td>2.803505</td>\n",
       "      <td>18.956557</td>\n",
       "      <td>0.0</td>\n",
       "      <td>0.0</td>\n",
       "      <td>0.0</td>\n",
       "      <td>0.0</td>\n",
       "      <td>0.0</td>\n",
       "    </tr>\n",
       "    <tr>\n",
       "      <th>num_values</th>\n",
       "      <td>60032</td>\n",
       "      <td>160</td>\n",
       "      <td>59644</td>\n",
       "      <td>53351</td>\n",
       "      <td>35545</td>\n",
       "      <td>2</td>\n",
       "      <td>2</td>\n",
       "      <td>24</td>\n",
       "      <td>7</td>\n",
       "      <td>12</td>\n",
       "    </tr>\n",
       "    <tr>\n",
       "      <th>value_ratios</th>\n",
       "      <td>{'WkqM0ndr42c': 0.0, 'ls8hEDjhKU0': 0.0, 'Fh0ArGT2_b0': 0.0, '_tHCoU5TZZg': 0.0, 'fXAvXLOUjlU': ...</td>\n",
       "      <td>{'itversity': 5.8, 'Databricks': 4.7, 'Great Learning': 3.1, 'Analytics India Magazine': 3.0, 'K...</td>\n",
       "      <td>{'TL': 0.1, 'Data Analyst MENTORSHIP -  Q&amp;A (while I drink coffee)': 0.1, 'Machine Learning Summ...</td>\n",
       "      <td>{'nan': 2.7, 'Connect with me or follow me at\n",
       "https://www.linkedin.com/in/durga0gadiraju\n",
       "https:/...</td>\n",
       "      <td>{'nan': 18.9, 'Databricks': 2.2, 'CBMM|Center for Brains Minds and Machines|Artificial Intellige...</td>\n",
       "      <td>{'hd': 95.5, 'sd': 4.5}</td>\n",
       "      <td>{'False': 88.6, 'True': 11.4}</td>\n",
       "      <td>{'15': 8.6, '13': 8.5, '16': 7.8, '14': 7.6, '12': 6.3, '17': 5.3, '4': 4.5, '11': 4.4, '18': 3....</td>\n",
       "      <td>{'2': 17.2, '3': 16.5, '0': 16.2, '1': 15.7, '4': 15.1, '5': 10.1, '6': 9.3}</td>\n",
       "      <td>{'10': 8.9, '7': 8.9, '3': 8.8, '4': 8.7, '6': 8.7, '11': 8.6, '1': 8.4, '8': 8.2, '5': 8.2, '9'...</td>\n",
       "    </tr>\n",
       "  </tbody>\n",
       "</table>\n",
       "</div>"
      ],
      "text/plain": [
       "                                                                                                          video_id  \\\n",
       "missing_ratio                                                                                                  0.0   \n",
       "num_values                                                                                                   60032   \n",
       "value_ratios   {'WkqM0ndr42c': 0.0, 'ls8hEDjhKU0': 0.0, 'Fh0ArGT2_b0': 0.0, '_tHCoU5TZZg': 0.0, 'fXAvXLOUjlU': ...   \n",
       "\n",
       "                                                                                                      channelTitle  \\\n",
       "missing_ratio                                                                                                  0.0   \n",
       "num_values                                                                                                     160   \n",
       "value_ratios   {'itversity': 5.8, 'Databricks': 4.7, 'Great Learning': 3.1, 'Analytics India Magazine': 3.0, 'K...   \n",
       "\n",
       "                                                                                                             title  \\\n",
       "missing_ratio                                                                                                  0.0   \n",
       "num_values                                                                                                   59644   \n",
       "value_ratios   {'TL': 0.1, 'Data Analyst MENTORSHIP -  Q&A (while I drink coffee)': 0.1, 'Machine Learning Summ...   \n",
       "\n",
       "                                                                                                       description  \\\n",
       "missing_ratio                                                                                             2.803505   \n",
       "num_values                                                                                                   53351   \n",
       "value_ratios   {'nan': 2.7, 'Connect with me or follow me at\n",
       "https://www.linkedin.com/in/durga0gadiraju\n",
       "https:/...   \n",
       "\n",
       "                                                                                                              tags  \\\n",
       "missing_ratio                                                                                            18.956557   \n",
       "num_values                                                                                                   35545   \n",
       "value_ratios   {'nan': 18.9, 'Databricks': 2.2, 'CBMM|Center for Brains Minds and Machines|Artificial Intellige...   \n",
       "\n",
       "                            definition                        caption  \\\n",
       "missing_ratio                      0.0                            0.0   \n",
       "num_values                           2                              2   \n",
       "value_ratios   {'hd': 95.5, 'sd': 4.5}  {'False': 88.6, 'True': 11.4}   \n",
       "\n",
       "                                                                                                              hour  \\\n",
       "missing_ratio                                                                                                  0.0   \n",
       "num_values                                                                                                      24   \n",
       "value_ratios   {'15': 8.6, '13': 8.5, '16': 7.8, '14': 7.6, '12': 6.3, '17': 5.3, '4': 4.5, '11': 4.4, '18': 3....   \n",
       "\n",
       "                                                                                day_of_week  \\\n",
       "missing_ratio                                                                           0.0   \n",
       "num_values                                                                                7   \n",
       "value_ratios   {'2': 17.2, '3': 16.5, '0': 16.2, '1': 15.7, '4': 15.1, '5': 10.1, '6': 9.3}   \n",
       "\n",
       "                                                                                                             month  \n",
       "missing_ratio                                                                                                  0.0  \n",
       "num_values                                                                                                      12  \n",
       "value_ratios   {'10': 8.9, '7': 8.9, '3': 8.8, '4': 8.7, '6': 8.7, '11': 8.6, '1': 8.4, '8': 8.2, '5': 8.2, '9'...  "
      ]
     },
     "execution_count": 71,
     "metadata": {},
     "output_type": "execute_result"
    }
   ],
   "source": [
    "cat_col_info_df = raw_df.select_dtypes(include=['object', 'bool'])\n",
    "\n",
    "def missing_ratio(s):\n",
    "    return (s.isna().mean() * 100)\n",
    "\n",
    "def num_values(s):\n",
    "    s = s.astype('str').str.split(';')\n",
    "    s = s.explode()\n",
    "    return len(s.value_counts())\n",
    "\n",
    "def value_ratios(s):\n",
    "    s = s.astype('str').str.split(';')\n",
    "    s = s.explode()\n",
    "    totalCount = (~s.isna()).sum()\n",
    "    return ((s.value_counts()/totalCount*100).round(1)).to_dict()\n",
    "\n",
    "cat_col_info_df = cat_col_info_df.agg([missing_ratio, num_values, value_ratios])\n",
    "cat_col_info_df"
   ]
  },
  {
   "cell_type": "markdown",
   "metadata": {},
   "source": [
    "### Min? Max? Are they abnormal?"
   ]
  },
  {
   "cell_type": "code",
   "execution_count": 72,
   "metadata": {},
   "outputs": [
    {
     "data": {
      "text/html": [
       "<div>\n",
       "<style scoped>\n",
       "    .dataframe tbody tr th:only-of-type {\n",
       "        vertical-align: middle;\n",
       "    }\n",
       "\n",
       "    .dataframe tbody tr th {\n",
       "        vertical-align: top;\n",
       "    }\n",
       "\n",
       "    .dataframe thead th {\n",
       "        text-align: right;\n",
       "    }\n",
       "</style>\n",
       "<table border=\"1\" class=\"dataframe\">\n",
       "  <thead>\n",
       "    <tr style=\"text-align: right;\">\n",
       "      <th></th>\n",
       "      <th>viewCount</th>\n",
       "      <th>likeCount</th>\n",
       "      <th>commentCount</th>\n",
       "      <th>duration</th>\n",
       "    </tr>\n",
       "  </thead>\n",
       "  <tbody>\n",
       "    <tr>\n",
       "      <th>count</th>\n",
       "      <td>6.003200e+04</td>\n",
       "      <td>60032.00000</td>\n",
       "      <td>60032.000000</td>\n",
       "      <td>60032.000000</td>\n",
       "    </tr>\n",
       "    <tr>\n",
       "      <th>mean</th>\n",
       "      <td>4.848931e+04</td>\n",
       "      <td>1120.36274</td>\n",
       "      <td>69.066015</td>\n",
       "      <td>1496.953575</td>\n",
       "    </tr>\n",
       "    <tr>\n",
       "      <th>std</th>\n",
       "      <td>3.585073e+05</td>\n",
       "      <td>8272.34260</td>\n",
       "      <td>529.354710</td>\n",
       "      <td>2475.709199</td>\n",
       "    </tr>\n",
       "    <tr>\n",
       "      <th>min</th>\n",
       "      <td>0.000000e+00</td>\n",
       "      <td>0.00000</td>\n",
       "      <td>0.000000</td>\n",
       "      <td>0.000000</td>\n",
       "    </tr>\n",
       "    <tr>\n",
       "      <th>25%</th>\n",
       "      <td>6.220000e+02</td>\n",
       "      <td>11.00000</td>\n",
       "      <td>1.000000</td>\n",
       "      <td>293.000000</td>\n",
       "    </tr>\n",
       "    <tr>\n",
       "      <th>50%</th>\n",
       "      <td>3.060000e+03</td>\n",
       "      <td>55.00000</td>\n",
       "      <td>5.000000</td>\n",
       "      <td>695.000000</td>\n",
       "    </tr>\n",
       "    <tr>\n",
       "      <th>75%</th>\n",
       "      <td>1.601725e+04</td>\n",
       "      <td>332.00000</td>\n",
       "      <td>26.000000</td>\n",
       "      <td>1786.000000</td>\n",
       "    </tr>\n",
       "    <tr>\n",
       "      <th>max</th>\n",
       "      <td>3.447645e+07</td>\n",
       "      <td>571358.00000</td>\n",
       "      <td>60054.000000</td>\n",
       "      <td>92218.000000</td>\n",
       "    </tr>\n",
       "  </tbody>\n",
       "</table>\n",
       "</div>"
      ],
      "text/plain": [
       "          viewCount     likeCount  commentCount      duration\n",
       "count  6.003200e+04   60032.00000  60032.000000  60032.000000\n",
       "mean   4.848931e+04    1120.36274     69.066015   1496.953575\n",
       "std    3.585073e+05    8272.34260    529.354710   2475.709199\n",
       "min    0.000000e+00       0.00000      0.000000      0.000000\n",
       "25%    6.220000e+02      11.00000      1.000000    293.000000\n",
       "50%    3.060000e+03      55.00000      5.000000    695.000000\n",
       "75%    1.601725e+04     332.00000     26.000000   1786.000000\n",
       "max    3.447645e+07  571358.00000  60054.000000  92218.000000"
      ]
     },
     "execution_count": 72,
     "metadata": {},
     "output_type": "execute_result"
    }
   ],
   "source": [
    "raw_df.describe()"
   ]
  },
  {
   "cell_type": "markdown",
   "metadata": {},
   "source": [
    "### Save the processed data"
   ]
  },
  {
   "cell_type": "code",
   "execution_count": 73,
   "metadata": {},
   "outputs": [
    {
     "name": "stdout",
     "output_type": "stream",
     "text": [
      "Total number of features: 15\n"
     ]
    },
    {
     "data": {
      "text/plain": [
       "video_id                     object\n",
       "channelTitle                 object\n",
       "title                        object\n",
       "description                  object\n",
       "tags                         object\n",
       "publishedAt     datetime64[ns, UTC]\n",
       "viewCount                     int64\n",
       "likeCount                     int64\n",
       "commentCount                  int64\n",
       "duration                      int64\n",
       "definition                   object\n",
       "caption                        bool\n",
       "hour                         object\n",
       "day_of_week                  object\n",
       "month                        object\n",
       "dtype: object"
      ]
     },
     "execution_count": 73,
     "metadata": {},
     "output_type": "execute_result"
    }
   ],
   "source": [
    "print(f\"Total number of features: {raw_df.shape[1]}\")\n",
    "raw_df.dtypes"
   ]
  },
  {
   "cell_type": "code",
   "execution_count": 74,
   "metadata": {},
   "outputs": [],
   "source": [
    "# Save processed data to disk\n",
    "raw_df.to_csv(\"../data/processed/\" + \"video_data_processed.csv\", index=False)"
   ]
  }
 ],
 "metadata": {
  "kernelspec": {
   "display_name": "Python 3",
   "language": "python",
   "name": "python3"
  },
  "language_info": {
   "codemirror_mode": {
    "name": "ipython",
    "version": 3
   },
   "file_extension": ".py",
   "mimetype": "text/x-python",
   "name": "python",
   "nbconvert_exporter": "python",
   "pygments_lexer": "ipython3",
   "version": "3.11.5"
  }
 },
 "nbformat": 4,
 "nbformat_minor": 2
}
