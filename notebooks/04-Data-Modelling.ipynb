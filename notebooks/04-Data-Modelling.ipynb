{
 "cells": [
  {
   "cell_type": "markdown",
   "metadata": {},
   "source": [
    "## Import"
   ]
  },
  {
   "cell_type": "code",
   "execution_count": 17,
   "metadata": {},
   "outputs": [],
   "source": [
    "import numpy as np\n",
    "import pandas as pd\n",
    "import seaborn as sns\n",
    "import matplotlib.pyplot as plt\n",
    "from sklearn import linear_model\n",
    "from sklearn.linear_model import LinearRegression, LogisticRegression\n",
    "from sklearn.metrics import precision_score, recall_score, classification_report, confusion_matrix\n",
    "from sklearn.model_selection import train_test_split\n",
    "from sklearn.ensemble import RandomForestClassifier\n",
    "from sklearn.tree import DecisionTreeRegressor\n",
    "\n"
   ]
  },
  {
   "cell_type": "markdown",
   "metadata": {},
   "source": [
    "## Data preparation"
   ]
  },
  {
   "cell_type": "code",
   "execution_count": 18,
   "metadata": {},
   "outputs": [],
   "source": [
    "clean_df = pd.read_csv('../data/processed/video_data_processed.csv')"
   ]
  },
  {
   "cell_type": "code",
   "execution_count": 19,
   "metadata": {},
   "outputs": [
    {
     "data": {
      "text/html": [
       "<div>\n",
       "<style scoped>\n",
       "    .dataframe tbody tr th:only-of-type {\n",
       "        vertical-align: middle;\n",
       "    }\n",
       "\n",
       "    .dataframe tbody tr th {\n",
       "        vertical-align: top;\n",
       "    }\n",
       "\n",
       "    .dataframe thead th {\n",
       "        text-align: right;\n",
       "    }\n",
       "</style>\n",
       "<table border=\"1\" class=\"dataframe\">\n",
       "  <thead>\n",
       "    <tr style=\"text-align: right;\">\n",
       "      <th></th>\n",
       "      <th>video_id</th>\n",
       "      <th>channelTitle</th>\n",
       "      <th>title</th>\n",
       "      <th>description</th>\n",
       "      <th>tags</th>\n",
       "      <th>publishedAt</th>\n",
       "      <th>viewCount</th>\n",
       "      <th>likeCount</th>\n",
       "      <th>commentCount</th>\n",
       "      <th>duration</th>\n",
       "      <th>definition</th>\n",
       "      <th>caption</th>\n",
       "      <th>hour</th>\n",
       "      <th>day</th>\n",
       "      <th>day_of_week</th>\n",
       "      <th>month</th>\n",
       "      <th>year</th>\n",
       "    </tr>\n",
       "  </thead>\n",
       "  <tbody>\n",
       "    <tr>\n",
       "      <th>24635</th>\n",
       "      <td>_lPtapNICHs</td>\n",
       "      <td>BEPEC by Kanth - #BuildExperience &amp; Get Hired!</td>\n",
       "      <td>Full Stack Developer Job-Ready Roadmap 🔥 #soft...</td>\n",
       "      <td>You + Right Roadmap + Right Projects = Unstopp...</td>\n",
       "      <td>full stack web development|full stack web deve...</td>\n",
       "      <td>2023-05-25 14:12:40+00:00</td>\n",
       "      <td>18200</td>\n",
       "      <td>1351</td>\n",
       "      <td>15</td>\n",
       "      <td>57</td>\n",
       "      <td>hd</td>\n",
       "      <td>False</td>\n",
       "      <td>14</td>\n",
       "      <td>25</td>\n",
       "      <td>3</td>\n",
       "      <td>5</td>\n",
       "      <td>2023</td>\n",
       "    </tr>\n",
       "    <tr>\n",
       "      <th>20174</th>\n",
       "      <td>xX_qCIhQNuA</td>\n",
       "      <td>Snowflake Inc.</td>\n",
       "      <td>Joyce Avila   What a SnowPro Certification can...</td>\n",
       "      <td>Learn the value of Snowflake's SnowPro Certifi...</td>\n",
       "      <td>snowflake|redshift|aws|data|warehousing|date|w...</td>\n",
       "      <td>2020-07-25 15:08:23+00:00</td>\n",
       "      <td>1797</td>\n",
       "      <td>17</td>\n",
       "      <td>1</td>\n",
       "      <td>1642</td>\n",
       "      <td>hd</td>\n",
       "      <td>False</td>\n",
       "      <td>15</td>\n",
       "      <td>25</td>\n",
       "      <td>5</td>\n",
       "      <td>7</td>\n",
       "      <td>2020</td>\n",
       "    </tr>\n",
       "    <tr>\n",
       "      <th>59131</th>\n",
       "      <td>gCkleG-r2eI</td>\n",
       "      <td>The NLP Lab</td>\n",
       "      <td>A Neural Corpus Indexer for Document Retrieval...</td>\n",
       "      <td>Link: https://openreview.net/forum?id=fSfcEYQP...</td>\n",
       "      <td>(notag)</td>\n",
       "      <td>2022-12-15 07:00:11+00:00</td>\n",
       "      <td>468</td>\n",
       "      <td>11</td>\n",
       "      <td>0</td>\n",
       "      <td>365</td>\n",
       "      <td>hd</td>\n",
       "      <td>False</td>\n",
       "      <td>7</td>\n",
       "      <td>15</td>\n",
       "      <td>3</td>\n",
       "      <td>12</td>\n",
       "      <td>2022</td>\n",
       "    </tr>\n",
       "    <tr>\n",
       "      <th>31804</th>\n",
       "      <td>KFvb_mluq8Y</td>\n",
       "      <td>george hotz archive</td>\n",
       "      <td>George Hotz | Programming | coronavirus stream...</td>\n",
       "      <td>Date of stream 25 Mar 2020.\\nLive-stream chat ...</td>\n",
       "      <td>programming|livecoding|georgehotz|self|driving...</td>\n",
       "      <td>2020-03-26 16:19:27+00:00</td>\n",
       "      <td>53532</td>\n",
       "      <td>565</td>\n",
       "      <td>189</td>\n",
       "      <td>15259</td>\n",
       "      <td>hd</td>\n",
       "      <td>True</td>\n",
       "      <td>16</td>\n",
       "      <td>26</td>\n",
       "      <td>3</td>\n",
       "      <td>3</td>\n",
       "      <td>2020</td>\n",
       "    </tr>\n",
       "    <tr>\n",
       "      <th>18321</th>\n",
       "      <td>JGv-98I_Mb4</td>\n",
       "      <td>DataCamp</td>\n",
       "      <td>#116 Value Creation Within the Modern Data Sta...</td>\n",
       "      <td>With the increasing rate at which new data too...</td>\n",
       "      <td>data science|podcast|data scientist|data|analy...</td>\n",
       "      <td>2022-12-06 10:00:04+00:00</td>\n",
       "      <td>407</td>\n",
       "      <td>4</td>\n",
       "      <td>1</td>\n",
       "      <td>2907</td>\n",
       "      <td>hd</td>\n",
       "      <td>False</td>\n",
       "      <td>10</td>\n",
       "      <td>6</td>\n",
       "      <td>1</td>\n",
       "      <td>12</td>\n",
       "      <td>2022</td>\n",
       "    </tr>\n",
       "  </tbody>\n",
       "</table>\n",
       "</div>"
      ],
      "text/plain": [
       "          video_id                                    channelTitle  \\\n",
       "24635  _lPtapNICHs  BEPEC by Kanth - #BuildExperience & Get Hired!   \n",
       "20174  xX_qCIhQNuA                                  Snowflake Inc.   \n",
       "59131  gCkleG-r2eI                                     The NLP Lab   \n",
       "31804  KFvb_mluq8Y                             george hotz archive   \n",
       "18321  JGv-98I_Mb4                                        DataCamp   \n",
       "\n",
       "                                                   title  \\\n",
       "24635  Full Stack Developer Job-Ready Roadmap 🔥 #soft...   \n",
       "20174  Joyce Avila   What a SnowPro Certification can...   \n",
       "59131  A Neural Corpus Indexer for Document Retrieval...   \n",
       "31804  George Hotz | Programming | coronavirus stream...   \n",
       "18321  #116 Value Creation Within the Modern Data Sta...   \n",
       "\n",
       "                                             description  \\\n",
       "24635  You + Right Roadmap + Right Projects = Unstopp...   \n",
       "20174  Learn the value of Snowflake's SnowPro Certifi...   \n",
       "59131  Link: https://openreview.net/forum?id=fSfcEYQP...   \n",
       "31804  Date of stream 25 Mar 2020.\\nLive-stream chat ...   \n",
       "18321  With the increasing rate at which new data too...   \n",
       "\n",
       "                                                    tags  \\\n",
       "24635  full stack web development|full stack web deve...   \n",
       "20174  snowflake|redshift|aws|data|warehousing|date|w...   \n",
       "59131                                            (notag)   \n",
       "31804  programming|livecoding|georgehotz|self|driving...   \n",
       "18321  data science|podcast|data scientist|data|analy...   \n",
       "\n",
       "                     publishedAt  viewCount  likeCount  commentCount  \\\n",
       "24635  2023-05-25 14:12:40+00:00      18200       1351            15   \n",
       "20174  2020-07-25 15:08:23+00:00       1797         17             1   \n",
       "59131  2022-12-15 07:00:11+00:00        468         11             0   \n",
       "31804  2020-03-26 16:19:27+00:00      53532        565           189   \n",
       "18321  2022-12-06 10:00:04+00:00        407          4             1   \n",
       "\n",
       "       duration definition  caption  hour  day  day_of_week  month  year  \n",
       "24635        57         hd    False    14   25            3      5  2023  \n",
       "20174      1642         hd    False    15   25            5      7  2020  \n",
       "59131       365         hd    False     7   15            3     12  2022  \n",
       "31804     15259         hd     True    16   26            3      3  2020  \n",
       "18321      2907         hd    False    10    6            1     12  2022  "
      ]
     },
     "execution_count": 19,
     "metadata": {},
     "output_type": "execute_result"
    }
   ],
   "source": [
    "clean_df.sample(5)"
   ]
  },
  {
   "cell_type": "markdown",
   "metadata": {},
   "source": [
    "## Feature engineering"
   ]
  },
  {
   "cell_type": "code",
   "execution_count": 20,
   "metadata": {},
   "outputs": [],
   "source": [
    "X = clean_df[['viewCount','likeCount', 'commentCount', 'hour', 'day', 'month', 'year']]\n",
    "# Tạo cột nhãn, ví dụ: nếu viewCount lớn hơn một ngưỡng nào đó, coi video đó là phổ biến\n",
    "threshold_viewCount = clean_df['viewCount'].quantile(0.7)\n",
    "clean_df['isTrending'] = (clean_df['viewCount'] > threshold_viewCount).astype(int)\n",
    "y = clean_df['isTrending']"
   ]
  },
  {
   "cell_type": "code",
   "execution_count": 21,
   "metadata": {},
   "outputs": [
    {
     "data": {
      "text/html": [
       "<div>\n",
       "<style scoped>\n",
       "    .dataframe tbody tr th:only-of-type {\n",
       "        vertical-align: middle;\n",
       "    }\n",
       "\n",
       "    .dataframe tbody tr th {\n",
       "        vertical-align: top;\n",
       "    }\n",
       "\n",
       "    .dataframe thead th {\n",
       "        text-align: right;\n",
       "    }\n",
       "</style>\n",
       "<table border=\"1\" class=\"dataframe\">\n",
       "  <thead>\n",
       "    <tr style=\"text-align: right;\">\n",
       "      <th></th>\n",
       "      <th>video_id</th>\n",
       "      <th>channelTitle</th>\n",
       "      <th>title</th>\n",
       "      <th>description</th>\n",
       "      <th>tags</th>\n",
       "      <th>publishedAt</th>\n",
       "      <th>viewCount</th>\n",
       "      <th>likeCount</th>\n",
       "      <th>commentCount</th>\n",
       "      <th>duration</th>\n",
       "      <th>definition</th>\n",
       "      <th>caption</th>\n",
       "      <th>hour</th>\n",
       "      <th>day</th>\n",
       "      <th>day_of_week</th>\n",
       "      <th>month</th>\n",
       "      <th>year</th>\n",
       "      <th>isTrending</th>\n",
       "    </tr>\n",
       "  </thead>\n",
       "  <tbody>\n",
       "    <tr>\n",
       "      <th>38701</th>\n",
       "      <td>gVfoXPipTig</td>\n",
       "      <td>Arpan Gupta Data Scientist, IITian</td>\n",
       "      <td>Linear vs Logistic Regression</td>\n",
       "      <td>In this video I will explain you the differenc...</td>\n",
       "      <td>Machine learning|data science|linear regressio...</td>\n",
       "      <td>2019-03-14 19:10:33+00:00</td>\n",
       "      <td>6918</td>\n",
       "      <td>85</td>\n",
       "      <td>5</td>\n",
       "      <td>248</td>\n",
       "      <td>hd</td>\n",
       "      <td>False</td>\n",
       "      <td>19</td>\n",
       "      <td>14</td>\n",
       "      <td>3</td>\n",
       "      <td>3</td>\n",
       "      <td>2019</td>\n",
       "      <td>0</td>\n",
       "    </tr>\n",
       "    <tr>\n",
       "      <th>12619</th>\n",
       "      <td>9JZID-h6ZJ0</td>\n",
       "      <td>CodeEmporium</td>\n",
       "      <td>Bellman Equation -  Explained!</td>\n",
       "      <td>Let's talk about the most consequential equati...</td>\n",
       "      <td>Machine Learning|Deep Learning|Data Science|Ar...</td>\n",
       "      <td>2023-10-23 14:00:08+00:00</td>\n",
       "      <td>1401</td>\n",
       "      <td>60</td>\n",
       "      <td>7</td>\n",
       "      <td>545</td>\n",
       "      <td>hd</td>\n",
       "      <td>False</td>\n",
       "      <td>14</td>\n",
       "      <td>23</td>\n",
       "      <td>0</td>\n",
       "      <td>10</td>\n",
       "      <td>2023</td>\n",
       "      <td>0</td>\n",
       "    </tr>\n",
       "    <tr>\n",
       "      <th>22670</th>\n",
       "      <td>nG1ClR-ldeI</td>\n",
       "      <td>Bhavesh Bhatt</td>\n",
       "      <td>LangChain Crash Course : Learn LangChain in 20...</td>\n",
       "      <td>Welcome to the LangChain Crash Course! In this...</td>\n",
       "      <td>Bhavesh Bhatt|Data Scientist|Machine Learning|...</td>\n",
       "      <td>2023-06-12 12:45:05+00:00</td>\n",
       "      <td>1392</td>\n",
       "      <td>56</td>\n",
       "      <td>10</td>\n",
       "      <td>1182</td>\n",
       "      <td>hd</td>\n",
       "      <td>False</td>\n",
       "      <td>12</td>\n",
       "      <td>12</td>\n",
       "      <td>0</td>\n",
       "      <td>6</td>\n",
       "      <td>2023</td>\n",
       "      <td>0</td>\n",
       "    </tr>\n",
       "    <tr>\n",
       "      <th>53209</th>\n",
       "      <td>r94kI6my0QQ</td>\n",
       "      <td>The Coding Train</td>\n",
       "      <td>3.3 Mapping Database Entries with Leaflet.js -...</td>\n",
       "      <td>💻https://github.com/CodingTrain/Intro-to-Data-...</td>\n",
       "      <td>weather here|weather app|leaflet|leaflet.js|Ja...</td>\n",
       "      <td>2019-06-14 13:38:07+00:00</td>\n",
       "      <td>64811</td>\n",
       "      <td>1038</td>\n",
       "      <td>41</td>\n",
       "      <td>827</td>\n",
       "      <td>hd</td>\n",
       "      <td>True</td>\n",
       "      <td>13</td>\n",
       "      <td>14</td>\n",
       "      <td>4</td>\n",
       "      <td>6</td>\n",
       "      <td>2019</td>\n",
       "      <td>1</td>\n",
       "    </tr>\n",
       "    <tr>\n",
       "      <th>53790</th>\n",
       "      <td>_cDPN2Ief6Q</td>\n",
       "      <td>The Coding Train</td>\n",
       "      <td>Live Stream #58: Networking Agar.io and the Hi...</td>\n",
       "      <td>This Live Stream is about two main subjects: T...</td>\n",
       "      <td>p5|js|coding|rainbow|live|agar|io|processing|p...</td>\n",
       "      <td>2016-09-02 18:51:27+00:00</td>\n",
       "      <td>6448</td>\n",
       "      <td>109</td>\n",
       "      <td>7</td>\n",
       "      <td>8124</td>\n",
       "      <td>hd</td>\n",
       "      <td>False</td>\n",
       "      <td>18</td>\n",
       "      <td>2</td>\n",
       "      <td>4</td>\n",
       "      <td>9</td>\n",
       "      <td>2016</td>\n",
       "      <td>0</td>\n",
       "    </tr>\n",
       "  </tbody>\n",
       "</table>\n",
       "</div>"
      ],
      "text/plain": [
       "          video_id                        channelTitle  \\\n",
       "38701  gVfoXPipTig  Arpan Gupta Data Scientist, IITian   \n",
       "12619  9JZID-h6ZJ0                        CodeEmporium   \n",
       "22670  nG1ClR-ldeI                       Bhavesh Bhatt   \n",
       "53209  r94kI6my0QQ                    The Coding Train   \n",
       "53790  _cDPN2Ief6Q                    The Coding Train   \n",
       "\n",
       "                                                   title  \\\n",
       "38701                      Linear vs Logistic Regression   \n",
       "12619                     Bellman Equation -  Explained!   \n",
       "22670  LangChain Crash Course : Learn LangChain in 20...   \n",
       "53209  3.3 Mapping Database Entries with Leaflet.js -...   \n",
       "53790  Live Stream #58: Networking Agar.io and the Hi...   \n",
       "\n",
       "                                             description  \\\n",
       "38701  In this video I will explain you the differenc...   \n",
       "12619  Let's talk about the most consequential equati...   \n",
       "22670  Welcome to the LangChain Crash Course! In this...   \n",
       "53209  💻https://github.com/CodingTrain/Intro-to-Data-...   \n",
       "53790  This Live Stream is about two main subjects: T...   \n",
       "\n",
       "                                                    tags  \\\n",
       "38701  Machine learning|data science|linear regressio...   \n",
       "12619  Machine Learning|Deep Learning|Data Science|Ar...   \n",
       "22670  Bhavesh Bhatt|Data Scientist|Machine Learning|...   \n",
       "53209  weather here|weather app|leaflet|leaflet.js|Ja...   \n",
       "53790  p5|js|coding|rainbow|live|agar|io|processing|p...   \n",
       "\n",
       "                     publishedAt  viewCount  likeCount  commentCount  \\\n",
       "38701  2019-03-14 19:10:33+00:00       6918         85             5   \n",
       "12619  2023-10-23 14:00:08+00:00       1401         60             7   \n",
       "22670  2023-06-12 12:45:05+00:00       1392         56            10   \n",
       "53209  2019-06-14 13:38:07+00:00      64811       1038            41   \n",
       "53790  2016-09-02 18:51:27+00:00       6448        109             7   \n",
       "\n",
       "       duration definition  caption  hour  day  day_of_week  month  year  \\\n",
       "38701       248         hd    False    19   14            3      3  2019   \n",
       "12619       545         hd    False    14   23            0     10  2023   \n",
       "22670      1182         hd    False    12   12            0      6  2023   \n",
       "53209       827         hd     True    13   14            4      6  2019   \n",
       "53790      8124         hd    False    18    2            4      9  2016   \n",
       "\n",
       "       isTrending  \n",
       "38701           0  \n",
       "12619           0  \n",
       "22670           0  \n",
       "53209           1  \n",
       "53790           0  "
      ]
     },
     "execution_count": 21,
     "metadata": {},
     "output_type": "execute_result"
    }
   ],
   "source": [
    "clean_df.sample(5)\n"
   ]
  },
  {
   "cell_type": "markdown",
   "metadata": {},
   "source": [
    "## Training model"
   ]
  },
  {
   "cell_type": "code",
   "execution_count": 22,
   "metadata": {},
   "outputs": [
    {
     "data": {
      "text/html": [
       "<style>#sk-container-id-3 {color: black;}#sk-container-id-3 pre{padding: 0;}#sk-container-id-3 div.sk-toggleable {background-color: white;}#sk-container-id-3 label.sk-toggleable__label {cursor: pointer;display: block;width: 100%;margin-bottom: 0;padding: 0.3em;box-sizing: border-box;text-align: center;}#sk-container-id-3 label.sk-toggleable__label-arrow:before {content: \"▸\";float: left;margin-right: 0.25em;color: #696969;}#sk-container-id-3 label.sk-toggleable__label-arrow:hover:before {color: black;}#sk-container-id-3 div.sk-estimator:hover label.sk-toggleable__label-arrow:before {color: black;}#sk-container-id-3 div.sk-toggleable__content {max-height: 0;max-width: 0;overflow: hidden;text-align: left;background-color: #f0f8ff;}#sk-container-id-3 div.sk-toggleable__content pre {margin: 0.2em;color: black;border-radius: 0.25em;background-color: #f0f8ff;}#sk-container-id-3 input.sk-toggleable__control:checked~div.sk-toggleable__content {max-height: 200px;max-width: 100%;overflow: auto;}#sk-container-id-3 input.sk-toggleable__control:checked~label.sk-toggleable__label-arrow:before {content: \"▾\";}#sk-container-id-3 div.sk-estimator input.sk-toggleable__control:checked~label.sk-toggleable__label {background-color: #d4ebff;}#sk-container-id-3 div.sk-label input.sk-toggleable__control:checked~label.sk-toggleable__label {background-color: #d4ebff;}#sk-container-id-3 input.sk-hidden--visually {border: 0;clip: rect(1px 1px 1px 1px);clip: rect(1px, 1px, 1px, 1px);height: 1px;margin: -1px;overflow: hidden;padding: 0;position: absolute;width: 1px;}#sk-container-id-3 div.sk-estimator {font-family: monospace;background-color: #f0f8ff;border: 1px dotted black;border-radius: 0.25em;box-sizing: border-box;margin-bottom: 0.5em;}#sk-container-id-3 div.sk-estimator:hover {background-color: #d4ebff;}#sk-container-id-3 div.sk-parallel-item::after {content: \"\";width: 100%;border-bottom: 1px solid gray;flex-grow: 1;}#sk-container-id-3 div.sk-label:hover label.sk-toggleable__label {background-color: #d4ebff;}#sk-container-id-3 div.sk-serial::before {content: \"\";position: absolute;border-left: 1px solid gray;box-sizing: border-box;top: 0;bottom: 0;left: 50%;z-index: 0;}#sk-container-id-3 div.sk-serial {display: flex;flex-direction: column;align-items: center;background-color: white;padding-right: 0.2em;padding-left: 0.2em;position: relative;}#sk-container-id-3 div.sk-item {position: relative;z-index: 1;}#sk-container-id-3 div.sk-parallel {display: flex;align-items: stretch;justify-content: center;background-color: white;position: relative;}#sk-container-id-3 div.sk-item::before, #sk-container-id-3 div.sk-parallel-item::before {content: \"\";position: absolute;border-left: 1px solid gray;box-sizing: border-box;top: 0;bottom: 0;left: 50%;z-index: -1;}#sk-container-id-3 div.sk-parallel-item {display: flex;flex-direction: column;z-index: 1;position: relative;background-color: white;}#sk-container-id-3 div.sk-parallel-item:first-child::after {align-self: flex-end;width: 50%;}#sk-container-id-3 div.sk-parallel-item:last-child::after {align-self: flex-start;width: 50%;}#sk-container-id-3 div.sk-parallel-item:only-child::after {width: 0;}#sk-container-id-3 div.sk-dashed-wrapped {border: 1px dashed gray;margin: 0 0.4em 0.5em 0.4em;box-sizing: border-box;padding-bottom: 0.4em;background-color: white;}#sk-container-id-3 div.sk-label label {font-family: monospace;font-weight: bold;display: inline-block;line-height: 1.2em;}#sk-container-id-3 div.sk-label-container {text-align: center;}#sk-container-id-3 div.sk-container {/* jupyter's `normalize.less` sets `[hidden] { display: none; }` but bootstrap.min.css set `[hidden] { display: none !important; }` so we also need the `!important` here to be able to override the default hidden behavior on the sphinx rendered scikit-learn.org. See: https://github.com/scikit-learn/scikit-learn/issues/21755 */display: inline-block !important;position: relative;}#sk-container-id-3 div.sk-text-repr-fallback {display: none;}</style><div id=\"sk-container-id-3\" class=\"sk-top-container\"><div class=\"sk-text-repr-fallback\"><pre>LogisticRegression(max_iter=1000, solver=&#x27;liblinear&#x27;)</pre><b>In a Jupyter environment, please rerun this cell to show the HTML representation or trust the notebook. <br />On GitHub, the HTML representation is unable to render, please try loading this page with nbviewer.org.</b></div><div class=\"sk-container\" hidden><div class=\"sk-item\"><div class=\"sk-estimator sk-toggleable\"><input class=\"sk-toggleable__control sk-hidden--visually\" id=\"sk-estimator-id-3\" type=\"checkbox\" checked><label for=\"sk-estimator-id-3\" class=\"sk-toggleable__label sk-toggleable__label-arrow\">LogisticRegression</label><div class=\"sk-toggleable__content\"><pre>LogisticRegression(max_iter=1000, solver=&#x27;liblinear&#x27;)</pre></div></div></div></div></div>"
      ],
      "text/plain": [
       "LogisticRegression(max_iter=1000, solver='liblinear')"
      ]
     },
     "execution_count": 22,
     "metadata": {},
     "output_type": "execute_result"
    }
   ],
   "source": [
    "X_train, X_valid, y_train, y_valid = train_test_split(X, y ,test_size=0.2)\n",
    "model = LogisticRegression(solver = 'liblinear',max_iter=1000)\n",
    "model.fit(X_train, y_train)"
   ]
  },
  {
   "cell_type": "markdown",
   "metadata": {},
   "source": [
    "## Evaluation"
   ]
  },
  {
   "cell_type": "code",
   "execution_count": 23,
   "metadata": {},
   "outputs": [
    {
     "data": {
      "text/plain": [
       "0.9997501457483134"
      ]
     },
     "execution_count": 23,
     "metadata": {},
     "output_type": "execute_result"
    }
   ],
   "source": [
    "model.score(X_valid,y_valid)"
   ]
  },
  {
   "cell_type": "markdown",
   "metadata": {},
   "source": [
    "## Prediction"
   ]
  },
  {
   "cell_type": "code",
   "execution_count": 24,
   "metadata": {},
   "outputs": [],
   "source": [
    "y_pred = model.predict(X_valid)"
   ]
  },
  {
   "cell_type": "code",
   "execution_count": 25,
   "metadata": {},
   "outputs": [
    {
     "data": {
      "text/plain": [
       "(0.9994370954123276, 0.9997184684684685)"
      ]
     },
     "execution_count": 25,
     "metadata": {},
     "output_type": "execute_result"
    }
   ],
   "source": [
    "precision_score(y_valid,y_pred), recall_score(y_valid,y_pred)"
   ]
  },
  {
   "cell_type": "code",
   "execution_count": 26,
   "metadata": {},
   "outputs": [
    {
     "name": "stdout",
     "output_type": "stream",
     "text": [
      "              precision    recall  f1-score   support\n",
      "\n",
      "           0       1.00      1.00      1.00      8455\n",
      "           1       1.00      1.00      1.00      3552\n",
      "\n",
      "    accuracy                           1.00     12007\n",
      "   macro avg       1.00      1.00      1.00     12007\n",
      "weighted avg       1.00      1.00      1.00     12007\n",
      "\n"
     ]
    }
   ],
   "source": [
    "print(classification_report(y_valid,y_pred))"
   ]
  },
  {
   "cell_type": "markdown",
   "metadata": {},
   "source": [
    "##### Decision Tree"
   ]
  },
  {
   "cell_type": "code",
   "execution_count": 27,
   "metadata": {},
   "outputs": [
    {
     "data": {
      "text/html": [
       "<style>#sk-container-id-4 {color: black;}#sk-container-id-4 pre{padding: 0;}#sk-container-id-4 div.sk-toggleable {background-color: white;}#sk-container-id-4 label.sk-toggleable__label {cursor: pointer;display: block;width: 100%;margin-bottom: 0;padding: 0.3em;box-sizing: border-box;text-align: center;}#sk-container-id-4 label.sk-toggleable__label-arrow:before {content: \"▸\";float: left;margin-right: 0.25em;color: #696969;}#sk-container-id-4 label.sk-toggleable__label-arrow:hover:before {color: black;}#sk-container-id-4 div.sk-estimator:hover label.sk-toggleable__label-arrow:before {color: black;}#sk-container-id-4 div.sk-toggleable__content {max-height: 0;max-width: 0;overflow: hidden;text-align: left;background-color: #f0f8ff;}#sk-container-id-4 div.sk-toggleable__content pre {margin: 0.2em;color: black;border-radius: 0.25em;background-color: #f0f8ff;}#sk-container-id-4 input.sk-toggleable__control:checked~div.sk-toggleable__content {max-height: 200px;max-width: 100%;overflow: auto;}#sk-container-id-4 input.sk-toggleable__control:checked~label.sk-toggleable__label-arrow:before {content: \"▾\";}#sk-container-id-4 div.sk-estimator input.sk-toggleable__control:checked~label.sk-toggleable__label {background-color: #d4ebff;}#sk-container-id-4 div.sk-label input.sk-toggleable__control:checked~label.sk-toggleable__label {background-color: #d4ebff;}#sk-container-id-4 input.sk-hidden--visually {border: 0;clip: rect(1px 1px 1px 1px);clip: rect(1px, 1px, 1px, 1px);height: 1px;margin: -1px;overflow: hidden;padding: 0;position: absolute;width: 1px;}#sk-container-id-4 div.sk-estimator {font-family: monospace;background-color: #f0f8ff;border: 1px dotted black;border-radius: 0.25em;box-sizing: border-box;margin-bottom: 0.5em;}#sk-container-id-4 div.sk-estimator:hover {background-color: #d4ebff;}#sk-container-id-4 div.sk-parallel-item::after {content: \"\";width: 100%;border-bottom: 1px solid gray;flex-grow: 1;}#sk-container-id-4 div.sk-label:hover label.sk-toggleable__label {background-color: #d4ebff;}#sk-container-id-4 div.sk-serial::before {content: \"\";position: absolute;border-left: 1px solid gray;box-sizing: border-box;top: 0;bottom: 0;left: 50%;z-index: 0;}#sk-container-id-4 div.sk-serial {display: flex;flex-direction: column;align-items: center;background-color: white;padding-right: 0.2em;padding-left: 0.2em;position: relative;}#sk-container-id-4 div.sk-item {position: relative;z-index: 1;}#sk-container-id-4 div.sk-parallel {display: flex;align-items: stretch;justify-content: center;background-color: white;position: relative;}#sk-container-id-4 div.sk-item::before, #sk-container-id-4 div.sk-parallel-item::before {content: \"\";position: absolute;border-left: 1px solid gray;box-sizing: border-box;top: 0;bottom: 0;left: 50%;z-index: -1;}#sk-container-id-4 div.sk-parallel-item {display: flex;flex-direction: column;z-index: 1;position: relative;background-color: white;}#sk-container-id-4 div.sk-parallel-item:first-child::after {align-self: flex-end;width: 50%;}#sk-container-id-4 div.sk-parallel-item:last-child::after {align-self: flex-start;width: 50%;}#sk-container-id-4 div.sk-parallel-item:only-child::after {width: 0;}#sk-container-id-4 div.sk-dashed-wrapped {border: 1px dashed gray;margin: 0 0.4em 0.5em 0.4em;box-sizing: border-box;padding-bottom: 0.4em;background-color: white;}#sk-container-id-4 div.sk-label label {font-family: monospace;font-weight: bold;display: inline-block;line-height: 1.2em;}#sk-container-id-4 div.sk-label-container {text-align: center;}#sk-container-id-4 div.sk-container {/* jupyter's `normalize.less` sets `[hidden] { display: none; }` but bootstrap.min.css set `[hidden] { display: none !important; }` so we also need the `!important` here to be able to override the default hidden behavior on the sphinx rendered scikit-learn.org. See: https://github.com/scikit-learn/scikit-learn/issues/21755 */display: inline-block !important;position: relative;}#sk-container-id-4 div.sk-text-repr-fallback {display: none;}</style><div id=\"sk-container-id-4\" class=\"sk-top-container\"><div class=\"sk-text-repr-fallback\"><pre>DecisionTreeRegressor()</pre><b>In a Jupyter environment, please rerun this cell to show the HTML representation or trust the notebook. <br />On GitHub, the HTML representation is unable to render, please try loading this page with nbviewer.org.</b></div><div class=\"sk-container\" hidden><div class=\"sk-item\"><div class=\"sk-estimator sk-toggleable\"><input class=\"sk-toggleable__control sk-hidden--visually\" id=\"sk-estimator-id-4\" type=\"checkbox\" checked><label for=\"sk-estimator-id-4\" class=\"sk-toggleable__label sk-toggleable__label-arrow\">DecisionTreeRegressor</label><div class=\"sk-toggleable__content\"><pre>DecisionTreeRegressor()</pre></div></div></div></div></div>"
      ],
      "text/plain": [
       "DecisionTreeRegressor()"
      ]
     },
     "execution_count": 27,
     "metadata": {},
     "output_type": "execute_result"
    }
   ],
   "source": [
    "decision_Tree = DecisionTreeRegressor()\n",
    "decision_Tree.fit(X_train,y_train)\n"
   ]
  },
  {
   "cell_type": "code",
   "execution_count": 28,
   "metadata": {},
   "outputs": [
    {
     "data": {
      "text/plain": [
       "1.0"
      ]
     },
     "execution_count": 28,
     "metadata": {},
     "output_type": "execute_result"
    }
   ],
   "source": [
    "decision_Tree.score(X_valid,y_valid)"
   ]
  },
  {
   "cell_type": "markdown",
   "metadata": {},
   "source": [
    "# TEMP\n"
   ]
  },
  {
   "cell_type": "code",
   "execution_count": 29,
   "metadata": {},
   "outputs": [],
   "source": [
    "from sklearn.svm import LinearSVC , SVC\n",
    "from sklearn.neighbors import KNeighborsClassifier\n",
    "from sklearn.ensemble import RandomForestClassifier, GradientBoostingClassifier, ExtraTreesClassifier, AdaBoostClassifier\n",
    "from sklearn.tree import DecisionTreeClassifier\n",
    "# !pip install xgboost\n",
    "from xgboost import XGBClassifier\n",
    "from sklearn.model_selection import cross_val_score, StratifiedKFold\n",
    "\n",
    "seed = 2023\n",
    "models = [\n",
    "    LinearSVC(random_state= seed),\n",
    "    SVC(random_state= seed),\n",
    "    KNeighborsClassifier(metric ='minkowski',p=2),\n",
    "    DecisionTreeClassifier(random_state= seed),\n",
    "    RandomForestClassifier(random_state= seed),\n",
    "    ExtraTreesClassifier(),\n",
    "    AdaBoostClassifier(),\n",
    "    XGBClassifier(use_label_encoder = False, eval_metric ='logloss',random_state= seed)\n",
    "]"
   ]
  },
  {
   "cell_type": "code",
   "execution_count": 30,
   "metadata": {},
   "outputs": [
    {
     "name": "stderr",
     "output_type": "stream",
     "text": [
      "/Users/home/anaconda3/lib/python3.11/site-packages/sklearn/svm/_classes.py:32: FutureWarning: The default value of `dual` will change from `True` to `'auto'` in 1.5. Set the value of `dual` explicitly to suppress the warning.\n",
      "  warnings.warn(\n",
      "/Users/home/anaconda3/lib/python3.11/site-packages/sklearn/svm/_base.py:1242: ConvergenceWarning: Liblinear failed to converge, increase the number of iterations.\n",
      "  warnings.warn(\n",
      "/Users/home/anaconda3/lib/python3.11/site-packages/sklearn/svm/_classes.py:32: FutureWarning: The default value of `dual` will change from `True` to `'auto'` in 1.5. Set the value of `dual` explicitly to suppress the warning.\n",
      "  warnings.warn(\n",
      "/Users/home/anaconda3/lib/python3.11/site-packages/sklearn/svm/_base.py:1242: ConvergenceWarning: Liblinear failed to converge, increase the number of iterations.\n",
      "  warnings.warn(\n",
      "/Users/home/anaconda3/lib/python3.11/site-packages/sklearn/svm/_classes.py:32: FutureWarning: The default value of `dual` will change from `True` to `'auto'` in 1.5. Set the value of `dual` explicitly to suppress the warning.\n",
      "  warnings.warn(\n",
      "/Users/home/anaconda3/lib/python3.11/site-packages/sklearn/svm/_base.py:1242: ConvergenceWarning: Liblinear failed to converge, increase the number of iterations.\n",
      "  warnings.warn(\n",
      "/Users/home/anaconda3/lib/python3.11/site-packages/sklearn/svm/_classes.py:32: FutureWarning: The default value of `dual` will change from `True` to `'auto'` in 1.5. Set the value of `dual` explicitly to suppress the warning.\n",
      "  warnings.warn(\n",
      "/Users/home/anaconda3/lib/python3.11/site-packages/sklearn/svm/_base.py:1242: ConvergenceWarning: Liblinear failed to converge, increase the number of iterations.\n",
      "  warnings.warn(\n",
      "/Users/home/anaconda3/lib/python3.11/site-packages/sklearn/svm/_classes.py:32: FutureWarning: The default value of `dual` will change from `True` to `'auto'` in 1.5. Set the value of `dual` explicitly to suppress the warning.\n",
      "  warnings.warn(\n",
      "/Users/home/anaconda3/lib/python3.11/site-packages/sklearn/svm/_base.py:1242: ConvergenceWarning: Liblinear failed to converge, increase the number of iterations.\n",
      "  warnings.warn(\n"
     ]
    },
    {
     "data": {
      "image/png": "[encoded data removed]",
      "text/plain": [
       "<Figure size 640x480 with 1 Axes>"
      ]
     },
     "metadata": {},
     "output_type": "display_data"
    },
    {
     "data": {
      "text/html": [
       "<div>\n",
       "<style scoped>\n",
       "    .dataframe tbody tr th:only-of-type {\n",
       "        vertical-align: middle;\n",
       "    }\n",
       "\n",
       "    .dataframe tbody tr th {\n",
       "        vertical-align: top;\n",
       "    }\n",
       "\n",
       "    .dataframe thead th {\n",
       "        text-align: right;\n",
       "    }\n",
       "</style>\n",
       "<table border=\"1\" class=\"dataframe\">\n",
       "  <thead>\n",
       "    <tr style=\"text-align: right;\">\n",
       "      <th></th>\n",
       "      <th>Mean</th>\n",
       "      <th>Standard Deviation</th>\n",
       "    </tr>\n",
       "    <tr>\n",
       "      <th>model_name</th>\n",
       "      <th></th>\n",
       "      <th></th>\n",
       "    </tr>\n",
       "  </thead>\n",
       "  <tbody>\n",
       "    <tr>\n",
       "      <th>AdaBoostClassifier</th>\n",
       "      <td>1.000000</td>\n",
       "      <td>0.000000</td>\n",
       "    </tr>\n",
       "    <tr>\n",
       "      <th>DecisionTreeClassifier</th>\n",
       "      <td>1.000000</td>\n",
       "      <td>0.000000</td>\n",
       "    </tr>\n",
       "    <tr>\n",
       "      <th>RandomForestClassifier</th>\n",
       "      <td>1.000000</td>\n",
       "      <td>0.000000</td>\n",
       "    </tr>\n",
       "    <tr>\n",
       "      <th>KNeighborsClassifier</th>\n",
       "      <td>0.999813</td>\n",
       "      <td>0.000200</td>\n",
       "    </tr>\n",
       "    <tr>\n",
       "      <th>XGBClassifier</th>\n",
       "      <td>0.999396</td>\n",
       "      <td>0.000425</td>\n",
       "    </tr>\n",
       "    <tr>\n",
       "      <th>LinearSVC</th>\n",
       "      <td>0.998522</td>\n",
       "      <td>0.001716</td>\n",
       "    </tr>\n",
       "    <tr>\n",
       "      <th>ExtraTreesClassifier</th>\n",
       "      <td>0.989776</td>\n",
       "      <td>0.001060</td>\n",
       "    </tr>\n",
       "    <tr>\n",
       "      <th>SVC</th>\n",
       "      <td>0.983300</td>\n",
       "      <td>0.001261</td>\n",
       "    </tr>\n",
       "  </tbody>\n",
       "</table>\n",
       "</div>"
      ],
      "text/plain": [
       "                            Mean  Standard Deviation\n",
       "model_name                                          \n",
       "AdaBoostClassifier      1.000000            0.000000\n",
       "DecisionTreeClassifier  1.000000            0.000000\n",
       "RandomForestClassifier  1.000000            0.000000\n",
       "KNeighborsClassifier    0.999813            0.000200\n",
       "XGBClassifier           0.999396            0.000425\n",
       "LinearSVC               0.998522            0.001716\n",
       "ExtraTreesClassifier    0.989776            0.001060\n",
       "SVC                     0.983300            0.001261"
      ]
     },
     "execution_count": 30,
     "metadata": {},
     "output_type": "execute_result"
    }
   ],
   "source": [
    "def generate_baseline_result(models, X, y, metrics, cv=5, plot_result=False):\n",
    "    # define k-fold\n",
    "    kfold = StratifiedKFold(n_splits=cv, shuffle=True, random_state=seed)\n",
    "    entries = []\n",
    "    for model in models:\n",
    "        model_name = model.__class__.__name__\n",
    "        scores = cross_val_score(model, X, y, scoring=metrics, cv=kfold)\n",
    "        for fold_idx, score in enumerate(scores):\n",
    "            entries.append((model_name, fold_idx, score))\n",
    "\n",
    "    cv_df = pd.DataFrame(entries, columns=['model_name', 'fold_idx', 'score'])\n",
    "    \n",
    "    mean = cv_df.groupby('model_name')['score'].mean()\n",
    "    std = cv_df.groupby('model_name')['score'].std()\n",
    "    \n",
    "    baseline_results = pd.concat([mean,std],axis =1, ignore_index=True)\n",
    "    baseline_results.columns =['Mean','Standard Deviation']\n",
    "    baseline_results.sort_values(by=['Mean'], ascending = False, inplace = True)\n",
    "    \n",
    "    if plot_result:\n",
    "        sns.boxplot(x ='model_name',y = 'score', data = cv_df, color ='lightblue',showmeans=True)\n",
    "        plt.title('Boxplot of Base-Line Model Accuracy using 5-fold cross-validation')\n",
    "        plt.show()\n",
    "    \n",
    "    return baseline_results\n",
    "\n",
    "# Metric: https://scikit-learn.org/stable/modules/model_evaluation.html\n",
    "generate_baseline_result(models, X_train, y_train, metrics='accuracy',cv=5,plot_result =True )"
   ]
  }
 ],
 "metadata": {
  "kernelspec": {
   "display_name": "Python 3",
   "language": "python",
   "name": "python3"
  },
  "language_info": {
   "codemirror_mode": {
    "name": "ipython",
    "version": 3
   },
   "file_extension": ".py",
   "mimetype": "text/x-python",
   "name": "python",
   "nbconvert_exporter": "python",
   "pygments_lexer": "ipython3",
   "version": "3.11.5"
  },
  "orig_nbformat": 4
 },
 "nbformat": 4,
 "nbformat_minor": 2
}
