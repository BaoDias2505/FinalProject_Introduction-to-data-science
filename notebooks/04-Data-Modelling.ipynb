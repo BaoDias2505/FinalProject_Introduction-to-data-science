{
 "cells": [
  {
   "cell_type": "markdown",
   "metadata": {},
   "source": [
    "## Import"
   ]
  },
  {
   "cell_type": "code",
   "execution_count": 160,
   "metadata": {},
   "outputs": [],
   "source": [
    "import numpy as np\n",
    "import pandas as pd\n",
    "import seaborn as sns\n",
    "import matplotlib.pyplot as plt\n",
    "from sklearn.linear_model import LogisticRegression\n",
    "from sklearn.metrics import precision_score, recall_score, classification_report, confusion_matrix\n",
    "from sklearn.model_selection import train_test_split\n",
    "from sklearn.tree import DecisionTreeRegressor"
   ]
  },
  {
   "cell_type": "markdown",
   "metadata": {},
   "source": [
    "## Data preparation"
   ]
  },
  {
   "cell_type": "code",
   "execution_count": 161,
   "metadata": {},
   "outputs": [],
   "source": [
    "clean_df = pd.read_csv('../data/processed/video_data_processed.csv')"
   ]
  },
  {
   "cell_type": "code",
   "execution_count": 162,
   "metadata": {},
   "outputs": [
    {
     "data": {
      "text/html": [
       "<div>\n",
       "<style scoped>\n",
       "    .dataframe tbody tr th:only-of-type {\n",
       "        vertical-align: middle;\n",
       "    }\n",
       "\n",
       "    .dataframe tbody tr th {\n",
       "        vertical-align: top;\n",
       "    }\n",
       "\n",
       "    .dataframe thead th {\n",
       "        text-align: right;\n",
       "    }\n",
       "</style>\n",
       "<table border=\"1\" class=\"dataframe\">\n",
       "  <thead>\n",
       "    <tr style=\"text-align: right;\">\n",
       "      <th></th>\n",
       "      <th>video_id</th>\n",
       "      <th>channelTitle</th>\n",
       "      <th>title</th>\n",
       "      <th>description</th>\n",
       "      <th>tags</th>\n",
       "      <th>publishedAt</th>\n",
       "      <th>viewCount</th>\n",
       "      <th>likeCount</th>\n",
       "      <th>commentCount</th>\n",
       "      <th>duration</th>\n",
       "      <th>definition</th>\n",
       "      <th>caption</th>\n",
       "      <th>hour</th>\n",
       "      <th>day</th>\n",
       "      <th>day_of_week</th>\n",
       "      <th>month</th>\n",
       "      <th>year</th>\n",
       "    </tr>\n",
       "  </thead>\n",
       "  <tbody>\n",
       "    <tr>\n",
       "      <th>36693</th>\n",
       "      <td>d6BoY7ebtOQ</td>\n",
       "      <td>Stefanovic</td>\n",
       "      <td>Quitting my job to travel the world and chase ...</td>\n",
       "      <td>Escaping the 9-5 is something I have thought a...</td>\n",
       "      <td>(notag)</td>\n",
       "      <td>2021-02-15 17:27:39+00:00</td>\n",
       "      <td>3748</td>\n",
       "      <td>238</td>\n",
       "      <td>50</td>\n",
       "      <td>642</td>\n",
       "      <td>hd</td>\n",
       "      <td>False</td>\n",
       "      <td>17</td>\n",
       "      <td>15</td>\n",
       "      <td>0</td>\n",
       "      <td>2</td>\n",
       "      <td>2021</td>\n",
       "    </tr>\n",
       "    <tr>\n",
       "      <th>3162</th>\n",
       "      <td>FvamL5oA_EE</td>\n",
       "      <td>sentdex</td>\n",
       "      <td>Joining 30 year mortgage rate - p.13 Data Anal...</td>\n",
       "      <td>Welcome to Part 13 of our Data Analysis with P...</td>\n",
       "      <td>Pandas|Python (Programming Language)|Data Anal...</td>\n",
       "      <td>2015-10-27 14:21:52+00:00</td>\n",
       "      <td>22936</td>\n",
       "      <td>206</td>\n",
       "      <td>41</td>\n",
       "      <td>1003</td>\n",
       "      <td>hd</td>\n",
       "      <td>False</td>\n",
       "      <td>14</td>\n",
       "      <td>27</td>\n",
       "      <td>1</td>\n",
       "      <td>10</td>\n",
       "      <td>2015</td>\n",
       "    </tr>\n",
       "    <tr>\n",
       "      <th>27285</th>\n",
       "      <td>M3oN7nALq0s</td>\n",
       "      <td>Databricks</td>\n",
       "      <td>How socat and UNIX Pipes Can Help Data Integra...</td>\n",
       "      <td>Nearly every developer is familiar with creati...</td>\n",
       "      <td>Databricks</td>\n",
       "      <td>2022-07-19 16:18:01+00:00</td>\n",
       "      <td>333</td>\n",
       "      <td>6</td>\n",
       "      <td>0</td>\n",
       "      <td>1918</td>\n",
       "      <td>hd</td>\n",
       "      <td>False</td>\n",
       "      <td>16</td>\n",
       "      <td>19</td>\n",
       "      <td>1</td>\n",
       "      <td>7</td>\n",
       "      <td>2022</td>\n",
       "    </tr>\n",
       "    <tr>\n",
       "      <th>38681</th>\n",
       "      <td>z-uSBE8Pxwg</td>\n",
       "      <td>Arpan Gupta Data Scientist, IITian</td>\n",
       "      <td>How to fit a SARIMA Model on time series data</td>\n",
       "      <td>ARIMA (Autoregressive Integrated Moving Averag...</td>\n",
       "      <td>ARIMA|SARIMA|time series|AR|MA|Auto regressive...</td>\n",
       "      <td>2020-02-24 07:00:11+00:00</td>\n",
       "      <td>24176</td>\n",
       "      <td>280</td>\n",
       "      <td>26</td>\n",
       "      <td>2018</td>\n",
       "      <td>hd</td>\n",
       "      <td>False</td>\n",
       "      <td>7</td>\n",
       "      <td>24</td>\n",
       "      <td>0</td>\n",
       "      <td>2</td>\n",
       "      <td>2020</td>\n",
       "    </tr>\n",
       "    <tr>\n",
       "      <th>3702</th>\n",
       "      <td>gzv183G9Vew</td>\n",
       "      <td>sentdex</td>\n",
       "      <td>How to send an email with Python</td>\n",
       "      <td>This tutorial covers how to send a basic email...</td>\n",
       "      <td>Python (Software)|How-to (Media Genre)|E-mail ...</td>\n",
       "      <td>2013-09-28 14:37:53+00:00</td>\n",
       "      <td>155561</td>\n",
       "      <td>1340</td>\n",
       "      <td>285</td>\n",
       "      <td>424</td>\n",
       "      <td>hd</td>\n",
       "      <td>False</td>\n",
       "      <td>14</td>\n",
       "      <td>28</td>\n",
       "      <td>5</td>\n",
       "      <td>9</td>\n",
       "      <td>2013</td>\n",
       "    </tr>\n",
       "  </tbody>\n",
       "</table>\n",
       "</div>"
      ],
      "text/plain": [
       "          video_id                        channelTitle  \\\n",
       "36693  d6BoY7ebtOQ                          Stefanovic   \n",
       "3162   FvamL5oA_EE                             sentdex   \n",
       "27285  M3oN7nALq0s                          Databricks   \n",
       "38681  z-uSBE8Pxwg  Arpan Gupta Data Scientist, IITian   \n",
       "3702   gzv183G9Vew                             sentdex   \n",
       "\n",
       "                                                   title  \\\n",
       "36693  Quitting my job to travel the world and chase ...   \n",
       "3162   Joining 30 year mortgage rate - p.13 Data Anal...   \n",
       "27285  How socat and UNIX Pipes Can Help Data Integra...   \n",
       "38681      How to fit a SARIMA Model on time series data   \n",
       "3702                    How to send an email with Python   \n",
       "\n",
       "                                             description  \\\n",
       "36693  Escaping the 9-5 is something I have thought a...   \n",
       "3162   Welcome to Part 13 of our Data Analysis with P...   \n",
       "27285  Nearly every developer is familiar with creati...   \n",
       "38681  ARIMA (Autoregressive Integrated Moving Averag...   \n",
       "3702   This tutorial covers how to send a basic email...   \n",
       "\n",
       "                                                    tags  \\\n",
       "36693                                            (notag)   \n",
       "3162   Pandas|Python (Programming Language)|Data Anal...   \n",
       "27285                                         Databricks   \n",
       "38681  ARIMA|SARIMA|time series|AR|MA|Auto regressive...   \n",
       "3702   Python (Software)|How-to (Media Genre)|E-mail ...   \n",
       "\n",
       "                     publishedAt  viewCount  likeCount  commentCount  \\\n",
       "36693  2021-02-15 17:27:39+00:00       3748        238            50   \n",
       "3162   2015-10-27 14:21:52+00:00      22936        206            41   \n",
       "27285  2022-07-19 16:18:01+00:00        333          6             0   \n",
       "38681  2020-02-24 07:00:11+00:00      24176        280            26   \n",
       "3702   2013-09-28 14:37:53+00:00     155561       1340           285   \n",
       "\n",
       "       duration definition  caption  hour  day  day_of_week  month  year  \n",
       "36693       642         hd    False    17   15            0      2  2021  \n",
       "3162       1003         hd    False    14   27            1     10  2015  \n",
       "27285      1918         hd    False    16   19            1      7  2022  \n",
       "38681      2018         hd    False     7   24            0      2  2020  \n",
       "3702        424         hd    False    14   28            5      9  2013  "
      ]
     },
     "execution_count": 162,
     "metadata": {},
     "output_type": "execute_result"
    }
   ],
   "source": [
    "clean_df.sample(5)"
   ]
  },
  {
   "cell_type": "markdown",
   "metadata": {},
   "source": [
    "## Feature engineering"
   ]
  },
  {
   "cell_type": "code",
   "execution_count": 163,
   "metadata": {},
   "outputs": [],
   "source": [
    "X = clean_df[['likeCount', 'commentCount', 'hour', 'day', 'month', 'year']]\n",
    "# Tạo cột nhãn, ví dụ: nếu viewCount lớn hơn một ngưỡng nào đó, coi video đó là phổ biến\n",
    "threshold_viewCount = clean_df['viewCount'].quantile(0.7)\n",
    "clean_df['isTrending'] = (clean_df['viewCount'] > threshold_viewCount).astype(int)\n",
    "y = clean_df['isTrending']"
   ]
  },
  {
   "cell_type": "code",
   "execution_count": 164,
   "metadata": {},
   "outputs": [
    {
     "data": {
      "text/html": [
       "<div>\n",
       "<style scoped>\n",
       "    .dataframe tbody tr th:only-of-type {\n",
       "        vertical-align: middle;\n",
       "    }\n",
       "\n",
       "    .dataframe tbody tr th {\n",
       "        vertical-align: top;\n",
       "    }\n",
       "\n",
       "    .dataframe thead th {\n",
       "        text-align: right;\n",
       "    }\n",
       "</style>\n",
       "<table border=\"1\" class=\"dataframe\">\n",
       "  <thead>\n",
       "    <tr style=\"text-align: right;\">\n",
       "      <th></th>\n",
       "      <th>video_id</th>\n",
       "      <th>channelTitle</th>\n",
       "      <th>title</th>\n",
       "      <th>description</th>\n",
       "      <th>tags</th>\n",
       "      <th>publishedAt</th>\n",
       "      <th>viewCount</th>\n",
       "      <th>likeCount</th>\n",
       "      <th>commentCount</th>\n",
       "      <th>duration</th>\n",
       "      <th>definition</th>\n",
       "      <th>caption</th>\n",
       "      <th>hour</th>\n",
       "      <th>day</th>\n",
       "      <th>day_of_week</th>\n",
       "      <th>month</th>\n",
       "      <th>year</th>\n",
       "      <th>isTrending</th>\n",
       "    </tr>\n",
       "  </thead>\n",
       "  <tbody>\n",
       "    <tr>\n",
       "      <th>11887</th>\n",
       "      <td>Vb_rsBWWJEA</td>\n",
       "      <td>Brandon Foltz</td>\n",
       "      <td>Statistics 101: Variable Transformations, An I...</td>\n",
       "      <td>In this Statistics 101 video, we experience a ...</td>\n",
       "      <td>brandon foltz|statistics 101|normal distributi...</td>\n",
       "      <td>2021-10-19 14:45:03+00:00</td>\n",
       "      <td>10646</td>\n",
       "      <td>261</td>\n",
       "      <td>4</td>\n",
       "      <td>698</td>\n",
       "      <td>hd</td>\n",
       "      <td>True</td>\n",
       "      <td>14</td>\n",
       "      <td>19</td>\n",
       "      <td>1</td>\n",
       "      <td>10</td>\n",
       "      <td>2021</td>\n",
       "      <td>0</td>\n",
       "    </tr>\n",
       "    <tr>\n",
       "      <th>10</th>\n",
       "      <td>vHGRXuOtFnE</td>\n",
       "      <td>Data School</td>\n",
       "      <td>Passthrough some columns and drop others in a ...</td>\n",
       "      <td>In a ColumnTransformer, you can use the string...</td>\n",
       "      <td>python|machine learning|scikit-learn|data science</td>\n",
       "      <td>2021-09-30 15:29:47+00:00</td>\n",
       "      <td>3910</td>\n",
       "      <td>100</td>\n",
       "      <td>4</td>\n",
       "      <td>191</td>\n",
       "      <td>hd</td>\n",
       "      <td>False</td>\n",
       "      <td>15</td>\n",
       "      <td>30</td>\n",
       "      <td>3</td>\n",
       "      <td>9</td>\n",
       "      <td>2021</td>\n",
       "      <td>0</td>\n",
       "    </tr>\n",
       "    <tr>\n",
       "      <th>18486</th>\n",
       "      <td>Xg54m8f5sJI</td>\n",
       "      <td>DataCamp</td>\n",
       "      <td>Spreadsheets Tutorial: Standardizing data</td>\n",
       "      <td>Want to learn more? Take the full course at ht...</td>\n",
       "      <td>SpreadsheetsTutorial|Spreadsheets|Statistics|D...</td>\n",
       "      <td>2020-04-22 11:41:34+00:00</td>\n",
       "      <td>8465</td>\n",
       "      <td>86</td>\n",
       "      <td>5</td>\n",
       "      <td>169</td>\n",
       "      <td>hd</td>\n",
       "      <td>False</td>\n",
       "      <td>11</td>\n",
       "      <td>22</td>\n",
       "      <td>2</td>\n",
       "      <td>4</td>\n",
       "      <td>2020</td>\n",
       "      <td>0</td>\n",
       "    </tr>\n",
       "    <tr>\n",
       "      <th>30635</th>\n",
       "      <td>KgCgpCIOkIs</td>\n",
       "      <td>Rishabh Mishra</td>\n",
       "      <td>Python Project for Data Analysis- Exploratory ...</td>\n",
       "      <td>Python project for data analysis- exploratory ...</td>\n",
       "      <td>python project|python in hindi|python project ...</td>\n",
       "      <td>2023-04-08 04:30:09+00:00</td>\n",
       "      <td>309841</td>\n",
       "      <td>10427</td>\n",
       "      <td>773</td>\n",
       "      <td>2642</td>\n",
       "      <td>hd</td>\n",
       "      <td>True</td>\n",
       "      <td>4</td>\n",
       "      <td>8</td>\n",
       "      <td>5</td>\n",
       "      <td>4</td>\n",
       "      <td>2023</td>\n",
       "      <td>1</td>\n",
       "    </tr>\n",
       "    <tr>\n",
       "      <th>52520</th>\n",
       "      <td>rGGdwY1FL8w</td>\n",
       "      <td>Analytics India Magazine</td>\n",
       "      <td>Pramod Singh Chief Analytics Officer at Yodlee...</td>\n",
       "      <td>Listen his talk on Democratization of Data.\\n\\...</td>\n",
       "      <td>cypher2016|analytics india summit</td>\n",
       "      <td>2016-09-23 08:56:38+00:00</td>\n",
       "      <td>280</td>\n",
       "      <td>3</td>\n",
       "      <td>0</td>\n",
       "      <td>1263</td>\n",
       "      <td>hd</td>\n",
       "      <td>False</td>\n",
       "      <td>8</td>\n",
       "      <td>23</td>\n",
       "      <td>4</td>\n",
       "      <td>9</td>\n",
       "      <td>2016</td>\n",
       "      <td>0</td>\n",
       "    </tr>\n",
       "  </tbody>\n",
       "</table>\n",
       "</div>"
      ],
      "text/plain": [
       "          video_id              channelTitle  \\\n",
       "11887  Vb_rsBWWJEA             Brandon Foltz   \n",
       "10     vHGRXuOtFnE               Data School   \n",
       "18486  Xg54m8f5sJI                  DataCamp   \n",
       "30635  KgCgpCIOkIs            Rishabh Mishra   \n",
       "52520  rGGdwY1FL8w  Analytics India Magazine   \n",
       "\n",
       "                                                   title  \\\n",
       "11887  Statistics 101: Variable Transformations, An I...   \n",
       "10     Passthrough some columns and drop others in a ...   \n",
       "18486          Spreadsheets Tutorial: Standardizing data   \n",
       "30635  Python Project for Data Analysis- Exploratory ...   \n",
       "52520  Pramod Singh Chief Analytics Officer at Yodlee...   \n",
       "\n",
       "                                             description  \\\n",
       "11887  In this Statistics 101 video, we experience a ...   \n",
       "10     In a ColumnTransformer, you can use the string...   \n",
       "18486  Want to learn more? Take the full course at ht...   \n",
       "30635  Python project for data analysis- exploratory ...   \n",
       "52520  Listen his talk on Democratization of Data.\\n\\...   \n",
       "\n",
       "                                                    tags  \\\n",
       "11887  brandon foltz|statistics 101|normal distributi...   \n",
       "10     python|machine learning|scikit-learn|data science   \n",
       "18486  SpreadsheetsTutorial|Spreadsheets|Statistics|D...   \n",
       "30635  python project|python in hindi|python project ...   \n",
       "52520                  cypher2016|analytics india summit   \n",
       "\n",
       "                     publishedAt  viewCount  likeCount  commentCount  \\\n",
       "11887  2021-10-19 14:45:03+00:00      10646        261             4   \n",
       "10     2021-09-30 15:29:47+00:00       3910        100             4   \n",
       "18486  2020-04-22 11:41:34+00:00       8465         86             5   \n",
       "30635  2023-04-08 04:30:09+00:00     309841      10427           773   \n",
       "52520  2016-09-23 08:56:38+00:00        280          3             0   \n",
       "\n",
       "       duration definition  caption  hour  day  day_of_week  month  year  \\\n",
       "11887       698         hd     True    14   19            1     10  2021   \n",
       "10          191         hd    False    15   30            3      9  2021   \n",
       "18486       169         hd    False    11   22            2      4  2020   \n",
       "30635      2642         hd     True     4    8            5      4  2023   \n",
       "52520      1263         hd    False     8   23            4      9  2016   \n",
       "\n",
       "       isTrending  \n",
       "11887           0  \n",
       "10              0  \n",
       "18486           0  \n",
       "30635           1  \n",
       "52520           0  "
      ]
     },
     "execution_count": 164,
     "metadata": {},
     "output_type": "execute_result"
    }
   ],
   "source": [
    "clean_df.sample(5)\n"
   ]
  },
  {
   "cell_type": "markdown",
   "metadata": {},
   "source": [
    "## Training model"
   ]
  },
  {
   "cell_type": "code",
   "execution_count": 165,
   "metadata": {},
   "outputs": [],
   "source": [
    "# X_train, X_valid, y_train, y_valid = train_test_split(X, y ,test_size=0.2)\n",
    "# model = LogisticRegression(solver = 'liblinear',max_iter=1000)\n",
    "# model.fit(X_train, y_train)\n",
    "X_train, X_tmp, y_train, y_tmp = train_test_split(X, y ,test_size=0.3, random_state= 2023,stratify=y)\n",
    "X_test, X_valid, y_test, y_valid = train_test_split(X_tmp, y_tmp ,test_size=0.3, random_state= 2023,stratify=y_tmp)"
   ]
  },
  {
   "cell_type": "markdown",
   "metadata": {},
   "source": [
    "## Evaluation"
   ]
  },
  {
   "cell_type": "code",
   "execution_count": 166,
   "metadata": {},
   "outputs": [],
   "source": [
    "# model.score(X_valid,y_valid)"
   ]
  },
  {
   "cell_type": "markdown",
   "metadata": {},
   "source": [
    "## Prediction"
   ]
  },
  {
   "cell_type": "code",
   "execution_count": 167,
   "metadata": {},
   "outputs": [],
   "source": [
    "# y_pred = model.predict(X_valid)"
   ]
  },
  {
   "cell_type": "code",
   "execution_count": 168,
   "metadata": {},
   "outputs": [],
   "source": [
    "# precision_score(y_valid,y_pred), recall_score(y_valid,y_pred)"
   ]
  },
  {
   "cell_type": "code",
   "execution_count": 169,
   "metadata": {},
   "outputs": [],
   "source": [
    "# print(classification_report(y_valid,y_pred))"
   ]
  },
  {
   "cell_type": "markdown",
   "metadata": {},
   "source": [
    "##### Decision Tree"
   ]
  },
  {
   "cell_type": "code",
   "execution_count": 170,
   "metadata": {},
   "outputs": [],
   "source": [
    "# decision_Tree = DecisionTreeRegressor()\n",
    "# decision_Tree.fit(X_train,y_train)\n"
   ]
  },
  {
   "cell_type": "code",
   "execution_count": 171,
   "metadata": {},
   "outputs": [],
   "source": [
    "# decision_Tree.score(X_valid,y_valid)"
   ]
  },
  {
   "cell_type": "markdown",
   "metadata": {},
   "source": [
    "# Baseline Model Comparison\n"
   ]
  },
  {
   "cell_type": "code",
   "execution_count": 172,
   "metadata": {},
   "outputs": [],
   "source": [
    "from sklearn.svm import LinearSVC , SVC\n",
    "from sklearn.ensemble import RandomForestClassifier, GradientBoostingClassifier, ExtraTreesClassifier, AdaBoostClassifier\n",
    "# !pip install xgboost\n",
    "from xgboost import XGBClassifier\n",
    "from sklearn.model_selection import cross_val_score, StratifiedKFold\n",
    "\n",
    "seed = 2023\n",
    "models = [\n",
    "    LinearSVC(random_state=seed, dual=False, max_iter=1000),\n",
    "    SVC(random_state=seed),\n",
    "    RandomForestClassifier(random_state=seed),\n",
    "    GradientBoostingClassifier(random_state=seed),\n",
    "    ExtraTreesClassifier(),\n",
    "    AdaBoostClassifier(),\n",
    "    XGBClassifier(use_label_encoder=False, eval_metric='logloss', random_state=seed)\n",
    "]"
   ]
  },
  {
   "cell_type": "code",
   "execution_count": 173,
   "metadata": {},
   "outputs": [
    {
     "data": {
      "image/png": "[encoded data removed]",
      "text/plain": [
       "<Figure size 1500x1000 with 1 Axes>"
      ]
     },
     "metadata": {},
     "output_type": "display_data"
    },
    {
     "data": {
      "text/html": [
       "<div>\n",
       "<style scoped>\n",
       "    .dataframe tbody tr th:only-of-type {\n",
       "        vertical-align: middle;\n",
       "    }\n",
       "\n",
       "    .dataframe tbody tr th {\n",
       "        vertical-align: top;\n",
       "    }\n",
       "\n",
       "    .dataframe thead th {\n",
       "        text-align: right;\n",
       "    }\n",
       "</style>\n",
       "<table border=\"1\" class=\"dataframe\">\n",
       "  <thead>\n",
       "    <tr style=\"text-align: right;\">\n",
       "      <th></th>\n",
       "      <th>Mean</th>\n",
       "      <th>Standard Deviation</th>\n",
       "    </tr>\n",
       "    <tr>\n",
       "      <th>model_name</th>\n",
       "      <th></th>\n",
       "      <th></th>\n",
       "    </tr>\n",
       "  </thead>\n",
       "  <tbody>\n",
       "    <tr>\n",
       "      <th>RandomForestClassifier</th>\n",
       "      <td>0.937533</td>\n",
       "      <td>0.001995</td>\n",
       "    </tr>\n",
       "    <tr>\n",
       "      <th>GradientBoostingClassifier</th>\n",
       "      <td>0.936914</td>\n",
       "      <td>0.002219</td>\n",
       "    </tr>\n",
       "    <tr>\n",
       "      <th>XGBClassifier</th>\n",
       "      <td>0.936533</td>\n",
       "      <td>0.001398</td>\n",
       "    </tr>\n",
       "    <tr>\n",
       "      <th>ExtraTreesClassifier</th>\n",
       "      <td>0.934629</td>\n",
       "      <td>0.002126</td>\n",
       "    </tr>\n",
       "    <tr>\n",
       "      <th>AdaBoostClassifier</th>\n",
       "      <td>0.930798</td>\n",
       "      <td>0.001933</td>\n",
       "    </tr>\n",
       "    <tr>\n",
       "      <th>LinearSVC</th>\n",
       "      <td>0.918400</td>\n",
       "      <td>0.003212</td>\n",
       "    </tr>\n",
       "    <tr>\n",
       "      <th>SVC</th>\n",
       "      <td>0.917543</td>\n",
       "      <td>0.002910</td>\n",
       "    </tr>\n",
       "  </tbody>\n",
       "</table>\n",
       "</div>"
      ],
      "text/plain": [
       "                                Mean  Standard Deviation\n",
       "model_name                                              \n",
       "RandomForestClassifier      0.937533            0.001995\n",
       "GradientBoostingClassifier  0.936914            0.002219\n",
       "XGBClassifier               0.936533            0.001398\n",
       "ExtraTreesClassifier        0.934629            0.002126\n",
       "AdaBoostClassifier          0.930798            0.001933\n",
       "LinearSVC                   0.918400            0.003212\n",
       "SVC                         0.917543            0.002910"
      ]
     },
     "execution_count": 173,
     "metadata": {},
     "output_type": "execute_result"
    }
   ],
   "source": [
    "def generate_baseline_result(models, X, y, metrics, cv=5, plot_result=False):\n",
    "    # define k-fold\n",
    "    kfold = StratifiedKFold(n_splits=cv, shuffle=True, random_state=seed)\n",
    "    entries = []\n",
    "    for model in models:\n",
    "        model_name = model.__class__.__name__\n",
    "        scores = cross_val_score(model, X, y, scoring=metrics, cv=kfold)\n",
    "        for fold_idx, score in enumerate(scores):\n",
    "            entries.append((model_name, fold_idx, score))\n",
    "\n",
    "    cv_df = pd.DataFrame(entries, columns=['model_name', 'fold_idx', 'score'])\n",
    "    \n",
    "    mean = cv_df.groupby('model_name')['score'].mean()\n",
    "    std = cv_df.groupby('model_name')['score'].std()\n",
    "    \n",
    "    baseline_results = pd.concat([mean,std],axis =1, ignore_index=True)\n",
    "    baseline_results.columns =['Mean','Standard Deviation']\n",
    "    baseline_results.sort_values(by=['Mean'], ascending = False, inplace = True)\n",
    "    \n",
    "    if plot_result:\n",
    "        plt.figure(figsize=(15, 10))\n",
    "        sns.boxplot(x ='model_name',y = 'score', data = cv_df, color ='lightblue',showmeans=True)\n",
    "        plt.title('Boxplot of Base-Line Model Accuracy using 5-fold cross-validation')\n",
    "        plt.show()\n",
    "    \n",
    "    return baseline_results\n",
    "\n",
    "generate_baseline_result(models, X_train, y_train, metrics='accuracy',cv=5,plot_result =True )"
   ]
  },
  {
   "cell_type": "markdown",
   "metadata": {},
   "source": [
    "# Fine-tune "
   ]
  },
  {
   "cell_type": "code",
   "execution_count": 174,
   "metadata": {},
   "outputs": [
    {
     "name": "stdout",
     "output_type": "stream",
     "text": [
      "Best Model Accuracy: 0.9417783770920917\n"
     ]
    }
   ],
   "source": [
    "from sklearn.model_selection import GridSearchCV\n",
    "from sklearn.ensemble import RandomForestClassifier\n",
    "from sklearn.metrics import accuracy_score\n",
    "\n",
    "param_grid = {\n",
    "    'n_estimators': [50, 100, 200],\n",
    "    'max_depth': [None, 10, 20],\n",
    "    'min_samples_split': [2, 5, 10],\n",
    "    'min_samples_leaf': [1, 2, 4]\n",
    "}\n",
    "\n",
    "# Create the GridSearchCV object\n",
    "grid_search = GridSearchCV(RandomForestClassifier(random_state=2023),\n",
    "                           param_grid=param_grid,\n",
    "                           cv=5,\n",
    "                           scoring='accuracy',\n",
    "                           n_jobs=-1)\n",
    "\n",
    "# Fit the GridSearchCV object to the data\n",
    "grid_search.fit(X_valid, y_valid)\n",
    "\n",
    "# Get the best parameters from the grid search\n",
    "best_params = grid_search.best_params_\n",
    "\n",
    "# Train the model with the best hyperparameters\n",
    "best_model = RandomForestClassifier(random_state=2023, **best_params)\n",
    "best_model.fit(X_train, y_train)\n",
    "\n",
    "# Make predictions on the test set using the best model\n",
    "y_pred_best = best_model.predict(X_test)\n",
    "\n",
    "# Evaluate the best model\n",
    "print(f\"Best Model Accuracy: {accuracy_score(y_test, y_pred_best)}\")"
   ]
  },
  {
   "cell_type": "markdown",
   "metadata": {},
   "source": [
    "# Re-train on train + valid set"
   ]
  },
  {
   "cell_type": "code",
   "execution_count": 175,
   "metadata": {},
   "outputs": [
    {
     "data": {
      "text/html": [
       "<style>#sk-container-id-10 {color: black;}#sk-container-id-10 pre{padding: 0;}#sk-container-id-10 div.sk-toggleable {background-color: white;}#sk-container-id-10 label.sk-toggleable__label {cursor: pointer;display: block;width: 100%;margin-bottom: 0;padding: 0.3em;box-sizing: border-box;text-align: center;}#sk-container-id-10 label.sk-toggleable__label-arrow:before {content: \"▸\";float: left;margin-right: 0.25em;color: #696969;}#sk-container-id-10 label.sk-toggleable__label-arrow:hover:before {color: black;}#sk-container-id-10 div.sk-estimator:hover label.sk-toggleable__label-arrow:before {color: black;}#sk-container-id-10 div.sk-toggleable__content {max-height: 0;max-width: 0;overflow: hidden;text-align: left;background-color: #f0f8ff;}#sk-container-id-10 div.sk-toggleable__content pre {margin: 0.2em;color: black;border-radius: 0.25em;background-color: #f0f8ff;}#sk-container-id-10 input.sk-toggleable__control:checked~div.sk-toggleable__content {max-height: 200px;max-width: 100%;overflow: auto;}#sk-container-id-10 input.sk-toggleable__control:checked~label.sk-toggleable__label-arrow:before {content: \"▾\";}#sk-container-id-10 div.sk-estimator input.sk-toggleable__control:checked~label.sk-toggleable__label {background-color: #d4ebff;}#sk-container-id-10 div.sk-label input.sk-toggleable__control:checked~label.sk-toggleable__label {background-color: #d4ebff;}#sk-container-id-10 input.sk-hidden--visually {border: 0;clip: rect(1px 1px 1px 1px);clip: rect(1px, 1px, 1px, 1px);height: 1px;margin: -1px;overflow: hidden;padding: 0;position: absolute;width: 1px;}#sk-container-id-10 div.sk-estimator {font-family: monospace;background-color: #f0f8ff;border: 1px dotted black;border-radius: 0.25em;box-sizing: border-box;margin-bottom: 0.5em;}#sk-container-id-10 div.sk-estimator:hover {background-color: #d4ebff;}#sk-container-id-10 div.sk-parallel-item::after {content: \"\";width: 100%;border-bottom: 1px solid gray;flex-grow: 1;}#sk-container-id-10 div.sk-label:hover label.sk-toggleable__label {background-color: #d4ebff;}#sk-container-id-10 div.sk-serial::before {content: \"\";position: absolute;border-left: 1px solid gray;box-sizing: border-box;top: 0;bottom: 0;left: 50%;z-index: 0;}#sk-container-id-10 div.sk-serial {display: flex;flex-direction: column;align-items: center;background-color: white;padding-right: 0.2em;padding-left: 0.2em;position: relative;}#sk-container-id-10 div.sk-item {position: relative;z-index: 1;}#sk-container-id-10 div.sk-parallel {display: flex;align-items: stretch;justify-content: center;background-color: white;position: relative;}#sk-container-id-10 div.sk-item::before, #sk-container-id-10 div.sk-parallel-item::before {content: \"\";position: absolute;border-left: 1px solid gray;box-sizing: border-box;top: 0;bottom: 0;left: 50%;z-index: -1;}#sk-container-id-10 div.sk-parallel-item {display: flex;flex-direction: column;z-index: 1;position: relative;background-color: white;}#sk-container-id-10 div.sk-parallel-item:first-child::after {align-self: flex-end;width: 50%;}#sk-container-id-10 div.sk-parallel-item:last-child::after {align-self: flex-start;width: 50%;}#sk-container-id-10 div.sk-parallel-item:only-child::after {width: 0;}#sk-container-id-10 div.sk-dashed-wrapped {border: 1px dashed gray;margin: 0 0.4em 0.5em 0.4em;box-sizing: border-box;padding-bottom: 0.4em;background-color: white;}#sk-container-id-10 div.sk-label label {font-family: monospace;font-weight: bold;display: inline-block;line-height: 1.2em;}#sk-container-id-10 div.sk-label-container {text-align: center;}#sk-container-id-10 div.sk-container {/* jupyter's `normalize.less` sets `[hidden] { display: none; }` but bootstrap.min.css set `[hidden] { display: none !important; }` so we also need the `!important` here to be able to override the default hidden behavior on the sphinx rendered scikit-learn.org. See: https://github.com/scikit-learn/scikit-learn/issues/21755 */display: inline-block !important;position: relative;}#sk-container-id-10 div.sk-text-repr-fallback {display: none;}</style><div id=\"sk-container-id-10\" class=\"sk-top-container\"><div class=\"sk-text-repr-fallback\"><pre>RandomForestClassifier(max_depth=10, min_samples_leaf=2, min_samples_split=10,\n",
       "                       random_state=2023)</pre><b>In a Jupyter environment, please rerun this cell to show the HTML representation or trust the notebook. <br />On GitHub, the HTML representation is unable to render, please try loading this page with nbviewer.org.</b></div><div class=\"sk-container\" hidden><div class=\"sk-item\"><div class=\"sk-estimator sk-toggleable\"><input class=\"sk-toggleable__control sk-hidden--visually\" id=\"sk-estimator-id-10\" type=\"checkbox\" checked><label for=\"sk-estimator-id-10\" class=\"sk-toggleable__label sk-toggleable__label-arrow\">RandomForestClassifier</label><div class=\"sk-toggleable__content\"><pre>RandomForestClassifier(max_depth=10, min_samples_leaf=2, min_samples_split=10,\n",
       "                       random_state=2023)</pre></div></div></div></div></div>"
      ],
      "text/plain": [
       "RandomForestClassifier(max_depth=10, min_samples_leaf=2, min_samples_split=10,\n",
       "                       random_state=2023)"
      ]
     },
     "execution_count": 175,
     "metadata": {},
     "output_type": "execute_result"
    }
   ],
   "source": [
    "final_model_train_valid = RandomForestClassifier(random_state=2023, **best_params)\n",
    "\n",
    "X_train_valid = pd.concat([X_train, X_valid], axis=0)\n",
    "y_train_valid = pd.concat([y_train, y_valid], axis=0)\n",
    "final_model_train_valid.fit(X_train_valid, y_train_valid)"
   ]
  },
  {
   "cell_type": "markdown",
   "metadata": {},
   "source": [
    "# Test on test set "
   ]
  },
  {
   "cell_type": "code",
   "execution_count": 176,
   "metadata": {},
   "outputs": [
    {
     "name": "stdout",
     "output_type": "stream",
     "text": [
      "Accuracy of the Final Model on Test Set: 0.9411438089950028\n"
     ]
    }
   ],
   "source": [
    "y_pred_final_train_valid = final_model_train_valid.predict(X_test)\n",
    "accuracy_final_train_valid = accuracy_score(y_test, y_pred_final_train_valid)\n",
    "print(f\"Accuracy of the Final Model on Test Set: {accuracy_final_train_valid}\")"
   ]
  },
  {
   "cell_type": "markdown",
   "metadata": {},
   "source": [
    "# Visualize"
   ]
  },
  {
   "cell_type": "code",
   "execution_count": 177,
   "metadata": {},
   "outputs": [
    {
     "data": {
      "image/png": "[encoded data removed]",
      "text/plain": [
       "<Figure size 640x480 with 1 Axes>"
      ]
     },
     "metadata": {},
     "output_type": "display_data"
    }
   ],
   "source": [
    "from sklearn.metrics import roc_curve, auc\n",
    "\n",
    "# Tính false positive rate (fpr) và true positive rate (tpr)\n",
    "fpr, tpr, thresholds = roc_curve(y_test, y_pred_final_train_valid)\n",
    "\n",
    "# Tính diện tích dưới đường ROC Curve\n",
    "roc_auc = auc(fpr, tpr)\n",
    "\n",
    "# Biểu đồ ROC Curve\n",
    "plt.plot(fpr, tpr, color='darkorange', lw=2, label='ROC curve (area = {:.2f})'.format(roc_auc))\n",
    "plt.plot([0, 1], [0, 1], color='navy', lw=2, linestyle='--')\n",
    "plt.xlabel('False Positive Rate')\n",
    "plt.ylabel('True Positive Rate')\n",
    "plt.title('Receiver Operating Characteristic (ROC) Curve')\n",
    "plt.legend(loc='lower right')\n",
    "plt.show()"
   ]
  },
  {
   "cell_type": "code",
   "execution_count": 178,
   "metadata": {},
   "outputs": [
    {
     "data": {
      "image/png": "[encoded data removed]",
      "text/plain": [
       "<Figure size 640x480 with 1 Axes>"
      ]
     },
     "metadata": {},
     "output_type": "display_data"
    }
   ],
   "source": [
    "cm = confusion_matrix(y_test, y_pred_final_train_valid)\n",
    "\n",
    "# Biểu đồ heatmap cho confusion matrix\n",
    "sns.heatmap(cm, annot=True, fmt='d', cmap='Blues', cbar=False)\n",
    "plt.xlabel('Predicted Labels')\n",
    "plt.ylabel('True Labels')\n",
    "plt.title('Confusion Matrix on Test Set')\n",
    "plt.show()"
   ]
  },
  {
   "cell_type": "code",
   "execution_count": 179,
   "metadata": {},
   "outputs": [
    {
     "data": {
      "image/png": "[encoded data removed]",
      "text/plain": [
       "<Figure size 1000x600 with 1 Axes>"
      ]
     },
     "metadata": {},
     "output_type": "display_data"
    }
   ],
   "source": [
    "from sklearn.model_selection import learning_curve\n",
    "from sklearn.model_selection import StratifiedKFold\n",
    "from sklearn.metrics import make_scorer\n",
    "from sklearn.metrics import accuracy_score\n",
    "\n",
    "def plot_learning_curve(estimator, title, X, y, ylim=None, cv=None, n_jobs=-1, train_sizes=np.linspace(.1, 1.0, 5)):\n",
    "    plt.figure(figsize=(10, 6))\n",
    "    plt.title(title)\n",
    "    if ylim is not None:\n",
    "        plt.ylim(*ylim)\n",
    "    plt.xlabel(\"Training examples\")\n",
    "    plt.ylabel(\"Score\")\n",
    "\n",
    "    train_sizes, train_scores, test_scores = learning_curve(\n",
    "        estimator, X, y, cv=cv, n_jobs=n_jobs, train_sizes=train_sizes, scoring=make_scorer(accuracy_score)\n",
    "    )\n",
    "\n",
    "    train_scores_mean = np.mean(train_scores, axis=1)\n",
    "    train_scores_std = np.std(train_scores, axis=1)\n",
    "    test_scores_mean = np.mean(test_scores, axis=1)\n",
    "    test_scores_std = np.std(test_scores, axis=1)\n",
    "\n",
    "    plt.fill_between(\n",
    "        train_sizes,\n",
    "        train_scores_mean - train_scores_std,\n",
    "        train_scores_mean + train_scores_std,\n",
    "        alpha=0.1, color=\"r\"\n",
    "    )\n",
    "    plt.fill_between(\n",
    "        train_sizes,\n",
    "        test_scores_mean - test_scores_std,\n",
    "        test_scores_mean + test_scores_std,\n",
    "        alpha=0.1, color=\"g\"\n",
    "    )\n",
    "\n",
    "    plt.plot(train_sizes, train_scores_mean, 'o-', color=\"r\", label=\"Training score\")\n",
    "    plt.plot(train_sizes, test_scores_mean, 'o-', color=\"g\", label=\"Cross-validation score\")\n",
    "\n",
    "    plt.legend(loc=\"best\")\n",
    "    return plt\n",
    "\n",
    "# Định nghĩa mô hình và các thông số cần thiết\n",
    "model = RandomForestClassifier(random_state=2023, n_estimators=100, max_depth=None, min_samples_split=2, min_samples_leaf=1)\n",
    "cv = StratifiedKFold(n_splits=5, shuffle=True, random_state=2023)\n",
    "\n",
    "# Vẽ đường học tập\n",
    "plot_learning_curve(model, \"Learning Curve\", X_train_valid, y_train_valid, cv=cv, n_jobs=-1)\n",
    "plt.show()"
   ]
  }
 ],
 "metadata": {
  "kernelspec": {
   "display_name": "Python 3",
   "language": "python",
   "name": "python3"
  },
  "language_info": {
   "codemirror_mode": {
    "name": "ipython",
    "version": 3
   },
   "file_extension": ".py",
   "mimetype": "text/x-python",
   "name": "python",
   "nbconvert_exporter": "python",
   "pygments_lexer": "ipython3",
   "version": "3.11.5"
  },
  "orig_nbformat": 4
 },
 "nbformat": 4,
 "nbformat_minor": 2
}
