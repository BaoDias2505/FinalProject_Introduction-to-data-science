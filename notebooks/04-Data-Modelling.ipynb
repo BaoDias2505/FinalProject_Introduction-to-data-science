{
 "cells": [
  {
   "cell_type": "markdown",
   "metadata": {},
   "source": [
    "## Import"
   ]
  },
  {
   "cell_type": "code",
   "execution_count": 1,
   "metadata": {},
   "outputs": [],
   "source": [
    "import numpy as np\n",
    "import pandas as pd\n",
    "import seaborn as sns\n",
    "import matplotlib.pyplot as plt\n",
    "from sklearn import linear_model\n",
    "from sklearn.linear_model import LinearRegression, LogisticRegression\n",
    "from sklearn.metrics import precision_score, recall_score, classification_report, confusion_matrix\n",
    "from sklearn.model_selection import train_test_split\n",
    "from sklearn.model_selection import GridSearchCV\n",
    "from sklearn.metrics import accuracy_score\n",
    "import warnings\n"
   ]
  },
  {
   "cell_type": "markdown",
   "metadata": {},
   "source": [
    "## Data preparation"
   ]
  },
  {
   "cell_type": "code",
   "execution_count": 2,
   "metadata": {},
   "outputs": [],
   "source": [
    "clean_df = pd.read_csv('../data/processed/video_data_processed.csv')"
   ]
  },
  {
   "cell_type": "code",
   "execution_count": 3,
   "metadata": {},
   "outputs": [
    {
     "data": {
      "text/html": [
       "<div>\n",
       "<style scoped>\n",
       "    .dataframe tbody tr th:only-of-type {\n",
       "        vertical-align: middle;\n",
       "    }\n",
       "\n",
       "    .dataframe tbody tr th {\n",
       "        vertical-align: top;\n",
       "    }\n",
       "\n",
       "    .dataframe thead th {\n",
       "        text-align: right;\n",
       "    }\n",
       "</style>\n",
       "<table border=\"1\" class=\"dataframe\">\n",
       "  <thead>\n",
       "    <tr style=\"text-align: right;\">\n",
       "      <th></th>\n",
       "      <th>video_id</th>\n",
       "      <th>channelTitle</th>\n",
       "      <th>title</th>\n",
       "      <th>description</th>\n",
       "      <th>tags</th>\n",
       "      <th>publishedAt</th>\n",
       "      <th>viewCount</th>\n",
       "      <th>likeCount</th>\n",
       "      <th>commentCount</th>\n",
       "      <th>duration</th>\n",
       "      <th>definition</th>\n",
       "      <th>caption</th>\n",
       "      <th>hour</th>\n",
       "      <th>day</th>\n",
       "      <th>day_of_week</th>\n",
       "      <th>month</th>\n",
       "      <th>year</th>\n",
       "    </tr>\n",
       "  </thead>\n",
       "  <tbody>\n",
       "    <tr>\n",
       "      <th>38801</th>\n",
       "      <td>Y2-ekrLskUY</td>\n",
       "      <td>MyStudy</td>\n",
       "      <td>Top Python IDE ( Integrated Development Enviro...</td>\n",
       "      <td>Python\\r\\n CMD Terminal\\r\\n IDLE\\r\\n Editors\\r...</td>\n",
       "      <td>Python|Programming|Language|IDE|Integrated Dev...</td>\n",
       "      <td>2020-09-25 11:59:54+00:00</td>\n",
       "      <td>1711</td>\n",
       "      <td>30</td>\n",
       "      <td>5</td>\n",
       "      <td>2060</td>\n",
       "      <td>hd</td>\n",
       "      <td>False</td>\n",
       "      <td>11</td>\n",
       "      <td>25</td>\n",
       "      <td>4</td>\n",
       "      <td>9</td>\n",
       "      <td>2020</td>\n",
       "    </tr>\n",
       "    <tr>\n",
       "      <th>43156</th>\n",
       "      <td>Mnxe-RA6gjQ</td>\n",
       "      <td>itversity</td>\n",
       "      <td>15 Scala Fundamentals - Compile changes and ru...</td>\n",
       "      <td>Connect with me or follow me at\\r\\nhttps://www...</td>\n",
       "      <td>(notag)</td>\n",
       "      <td>2017-11-26 00:40:18+00:00</td>\n",
       "      <td>2251</td>\n",
       "      <td>5</td>\n",
       "      <td>1</td>\n",
       "      <td>262</td>\n",
       "      <td>hd</td>\n",
       "      <td>False</td>\n",
       "      <td>0</td>\n",
       "      <td>26</td>\n",
       "      <td>6</td>\n",
       "      <td>11</td>\n",
       "      <td>2017</td>\n",
       "    </tr>\n",
       "    <tr>\n",
       "      <th>51746</th>\n",
       "      <td>IK4eof_Ia-c</td>\n",
       "      <td>Analytics India Magazine</td>\n",
       "      <td>AMANDEEP SINGH CHHABRA, Senior Data Scientist ...</td>\n",
       "      <td>Amandeep is currently working as a Senior Data...</td>\n",
       "      <td>AMANDEEP SINGH CHHABRA</td>\n",
       "      <td>2019-10-08 03:01:41+00:00</td>\n",
       "      <td>1224</td>\n",
       "      <td>15</td>\n",
       "      <td>0</td>\n",
       "      <td>424</td>\n",
       "      <td>hd</td>\n",
       "      <td>False</td>\n",
       "      <td>3</td>\n",
       "      <td>8</td>\n",
       "      <td>1</td>\n",
       "      <td>10</td>\n",
       "      <td>2019</td>\n",
       "    </tr>\n",
       "    <tr>\n",
       "      <th>30357</th>\n",
       "      <td>7FLJVSBPtvw</td>\n",
       "      <td>AI Planet</td>\n",
       "      <td>GenAI Stack: End to End LLM Framework</td>\n",
       "      <td>Module 14: LLM Bootcamp: Zero to Hero in LLMs\\...</td>\n",
       "      <td>(notag)</td>\n",
       "      <td>2023-09-25 01:21:01+00:00</td>\n",
       "      <td>762</td>\n",
       "      <td>17</td>\n",
       "      <td>2</td>\n",
       "      <td>4085</td>\n",
       "      <td>hd</td>\n",
       "      <td>False</td>\n",
       "      <td>1</td>\n",
       "      <td>25</td>\n",
       "      <td>0</td>\n",
       "      <td>9</td>\n",
       "      <td>2023</td>\n",
       "    </tr>\n",
       "    <tr>\n",
       "      <th>11526</th>\n",
       "      <td>vFfH3jVCCs0</td>\n",
       "      <td>Analytics Vidhya</td>\n",
       "      <td>The DataHour: Designing an end-to-end Neural S...</td>\n",
       "      <td>The DataHour: Designing an end-to-end Neural S...</td>\n",
       "      <td>machine learning|deep learning|artificial inte...</td>\n",
       "      <td>2022-08-19 03:20:59+00:00</td>\n",
       "      <td>434</td>\n",
       "      <td>16</td>\n",
       "      <td>1</td>\n",
       "      <td>7293</td>\n",
       "      <td>hd</td>\n",
       "      <td>False</td>\n",
       "      <td>3</td>\n",
       "      <td>19</td>\n",
       "      <td>4</td>\n",
       "      <td>8</td>\n",
       "      <td>2022</td>\n",
       "    </tr>\n",
       "  </tbody>\n",
       "</table>\n",
       "</div>"
      ],
      "text/plain": [
       "          video_id              channelTitle  \\\n",
       "38801  Y2-ekrLskUY                   MyStudy   \n",
       "43156  Mnxe-RA6gjQ                 itversity   \n",
       "51746  IK4eof_Ia-c  Analytics India Magazine   \n",
       "30357  7FLJVSBPtvw                 AI Planet   \n",
       "11526  vFfH3jVCCs0          Analytics Vidhya   \n",
       "\n",
       "                                                   title  \\\n",
       "38801  Top Python IDE ( Integrated Development Enviro...   \n",
       "43156  15 Scala Fundamentals - Compile changes and ru...   \n",
       "51746  AMANDEEP SINGH CHHABRA, Senior Data Scientist ...   \n",
       "30357              GenAI Stack: End to End LLM Framework   \n",
       "11526  The DataHour: Designing an end-to-end Neural S...   \n",
       "\n",
       "                                             description  \\\n",
       "38801  Python\\r\\n CMD Terminal\\r\\n IDLE\\r\\n Editors\\r...   \n",
       "43156  Connect with me or follow me at\\r\\nhttps://www...   \n",
       "51746  Amandeep is currently working as a Senior Data...   \n",
       "30357  Module 14: LLM Bootcamp: Zero to Hero in LLMs\\...   \n",
       "11526  The DataHour: Designing an end-to-end Neural S...   \n",
       "\n",
       "                                                    tags  \\\n",
       "38801  Python|Programming|Language|IDE|Integrated Dev...   \n",
       "43156                                            (notag)   \n",
       "51746                             AMANDEEP SINGH CHHABRA   \n",
       "30357                                            (notag)   \n",
       "11526  machine learning|deep learning|artificial inte...   \n",
       "\n",
       "                     publishedAt  viewCount  likeCount  commentCount  \\\n",
       "38801  2020-09-25 11:59:54+00:00       1711         30             5   \n",
       "43156  2017-11-26 00:40:18+00:00       2251          5             1   \n",
       "51746  2019-10-08 03:01:41+00:00       1224         15             0   \n",
       "30357  2023-09-25 01:21:01+00:00        762         17             2   \n",
       "11526  2022-08-19 03:20:59+00:00        434         16             1   \n",
       "\n",
       "       duration definition  caption  hour  day  day_of_week  month  year  \n",
       "38801      2060         hd    False    11   25            4      9  2020  \n",
       "43156       262         hd    False     0   26            6     11  2017  \n",
       "51746       424         hd    False     3    8            1     10  2019  \n",
       "30357      4085         hd    False     1   25            0      9  2023  \n",
       "11526      7293         hd    False     3   19            4      8  2022  "
      ]
     },
     "execution_count": 3,
     "metadata": {},
     "output_type": "execute_result"
    }
   ],
   "source": [
    "clean_df.sample(5)"
   ]
  },
  {
   "cell_type": "markdown",
   "metadata": {},
   "source": [
    "## Feature engineering"
   ]
  },
  {
   "cell_type": "markdown",
   "metadata": {},
   "source": [
    "Create a `isTrending` column based on our criteria for the viewCount values, where labels 'low', 'medium', 'high' are assigned based on the mean value.\n",
    "\n",
    "\n",
    "Noted: We assume that low: 0, medium: 1, high: 2"
   ]
  },
  {
   "cell_type": "code",
   "execution_count": 4,
   "metadata": {},
   "outputs": [],
   "source": [
    "X = clean_df[['likeCount', 'commentCount', 'hour', 'day', 'month', 'year']]\n",
    "mean_engagement = clean_df['viewCount'].mean()\n",
    "# assign labels based on the engagement\n",
    "clean_df['isTrending'] = pd.cut(clean_df['viewCount'], \n",
    "                               bins=[float('-inf'), mean_engagement, mean_engagement *10, float('inf')], \n",
    "                               labels=False)\n",
    "y = clean_df['isTrending']"
   ]
  },
  {
   "cell_type": "code",
   "execution_count": 5,
   "metadata": {},
   "outputs": [
    {
     "data": {
      "text/html": [
       "<div>\n",
       "<style scoped>\n",
       "    .dataframe tbody tr th:only-of-type {\n",
       "        vertical-align: middle;\n",
       "    }\n",
       "\n",
       "    .dataframe tbody tr th {\n",
       "        vertical-align: top;\n",
       "    }\n",
       "\n",
       "    .dataframe thead th {\n",
       "        text-align: right;\n",
       "    }\n",
       "</style>\n",
       "<table border=\"1\" class=\"dataframe\">\n",
       "  <thead>\n",
       "    <tr style=\"text-align: right;\">\n",
       "      <th></th>\n",
       "      <th>video_id</th>\n",
       "      <th>channelTitle</th>\n",
       "      <th>title</th>\n",
       "      <th>description</th>\n",
       "      <th>tags</th>\n",
       "      <th>publishedAt</th>\n",
       "      <th>viewCount</th>\n",
       "      <th>likeCount</th>\n",
       "      <th>commentCount</th>\n",
       "      <th>duration</th>\n",
       "      <th>definition</th>\n",
       "      <th>caption</th>\n",
       "      <th>hour</th>\n",
       "      <th>day</th>\n",
       "      <th>day_of_week</th>\n",
       "      <th>month</th>\n",
       "      <th>year</th>\n",
       "      <th>isTrending</th>\n",
       "    </tr>\n",
       "  </thead>\n",
       "  <tbody>\n",
       "    <tr>\n",
       "      <th>24716</th>\n",
       "      <td>XVhjNeenJf0</td>\n",
       "      <td>BEPEC by Kanth - #BuildExperience &amp; Get Hired!</td>\n",
       "      <td>3 Primary Cloud Deployment Models || Cloud Dep...</td>\n",
       "      <td>Comment/contact us to build experience on Data...</td>\n",
       "      <td>3 Primary Cloud Deployment Models|top cloud de...</td>\n",
       "      <td>2022-12-28 06:55:05+00:00</td>\n",
       "      <td>1462</td>\n",
       "      <td>50</td>\n",
       "      <td>0</td>\n",
       "      <td>61</td>\n",
       "      <td>hd</td>\n",
       "      <td>False</td>\n",
       "      <td>6</td>\n",
       "      <td>28</td>\n",
       "      <td>2</td>\n",
       "      <td>12</td>\n",
       "      <td>2022</td>\n",
       "      <td>0</td>\n",
       "    </tr>\n",
       "    <tr>\n",
       "      <th>40653</th>\n",
       "      <td>9TyKMEoUMy0</td>\n",
       "      <td>How to Power BI</td>\n",
       "      <td>This ONE IDEA opens ENDLESS POSSIBILITIES | Co...</td>\n",
       "      <td>In this video I show you how to create a refer...</td>\n",
       "      <td>constant lines power bi|constant lines in powe...</td>\n",
       "      <td>2021-08-22 10:30:30+00:00</td>\n",
       "      <td>27089</td>\n",
       "      <td>1050</td>\n",
       "      <td>59</td>\n",
       "      <td>538</td>\n",
       "      <td>hd</td>\n",
       "      <td>False</td>\n",
       "      <td>10</td>\n",
       "      <td>22</td>\n",
       "      <td>6</td>\n",
       "      <td>8</td>\n",
       "      <td>2021</td>\n",
       "      <td>0</td>\n",
       "    </tr>\n",
       "    <tr>\n",
       "      <th>54351</th>\n",
       "      <td>CRBVwmnL2Jk</td>\n",
       "      <td>TechLake</td>\n",
       "      <td>Databricks Tutorial 15: Databricks workspace l...</td>\n",
       "      <td>#Databricks\\r\\n#Pyspark\\r\\n#Spark\\r\\n#AzureDat...</td>\n",
       "      <td>(notag)</td>\n",
       "      <td>2020-09-01 17:47:36+00:00</td>\n",
       "      <td>3105</td>\n",
       "      <td>31</td>\n",
       "      <td>5</td>\n",
       "      <td>469</td>\n",
       "      <td>hd</td>\n",
       "      <td>False</td>\n",
       "      <td>17</td>\n",
       "      <td>1</td>\n",
       "      <td>1</td>\n",
       "      <td>9</td>\n",
       "      <td>2020</td>\n",
       "      <td>0</td>\n",
       "    </tr>\n",
       "    <tr>\n",
       "      <th>6828</th>\n",
       "      <td>Wibxjrxf5ko</td>\n",
       "      <td>codebasics</td>\n",
       "      <td>Matrix Basics | Deep Learning Tutorial 10 (Ten...</td>\n",
       "      <td>Matrix fundamentals are essential to understan...</td>\n",
       "      <td>matrix explained|matrix deep learning|matrix i...</td>\n",
       "      <td>2020-08-04 14:00:10+00:00</td>\n",
       "      <td>85836</td>\n",
       "      <td>2187</td>\n",
       "      <td>62</td>\n",
       "      <td>702</td>\n",
       "      <td>hd</td>\n",
       "      <td>False</td>\n",
       "      <td>14</td>\n",
       "      <td>4</td>\n",
       "      <td>1</td>\n",
       "      <td>8</td>\n",
       "      <td>2020</td>\n",
       "      <td>1</td>\n",
       "    </tr>\n",
       "    <tr>\n",
       "      <th>37999</th>\n",
       "      <td>UjRcLkIuxjk</td>\n",
       "      <td>Data Science Tutorials</td>\n",
       "      <td>Python Matplotlib Tutorial | Customize Matplot...</td>\n",
       "      <td>Hi guys...in this video I have talked about ho...</td>\n",
       "      <td>how to add labels in matplotlib chart|how to a...</td>\n",
       "      <td>2018-05-08 03:42:25+00:00</td>\n",
       "      <td>443</td>\n",
       "      <td>4</td>\n",
       "      <td>0</td>\n",
       "      <td>622</td>\n",
       "      <td>hd</td>\n",
       "      <td>False</td>\n",
       "      <td>3</td>\n",
       "      <td>8</td>\n",
       "      <td>1</td>\n",
       "      <td>5</td>\n",
       "      <td>2018</td>\n",
       "      <td>0</td>\n",
       "    </tr>\n",
       "  </tbody>\n",
       "</table>\n",
       "</div>"
      ],
      "text/plain": [
       "          video_id                                    channelTitle  \\\n",
       "24716  XVhjNeenJf0  BEPEC by Kanth - #BuildExperience & Get Hired!   \n",
       "40653  9TyKMEoUMy0                                 How to Power BI   \n",
       "54351  CRBVwmnL2Jk                                        TechLake   \n",
       "6828   Wibxjrxf5ko                                      codebasics   \n",
       "37999  UjRcLkIuxjk                          Data Science Tutorials   \n",
       "\n",
       "                                                   title  \\\n",
       "24716  3 Primary Cloud Deployment Models || Cloud Dep...   \n",
       "40653  This ONE IDEA opens ENDLESS POSSIBILITIES | Co...   \n",
       "54351  Databricks Tutorial 15: Databricks workspace l...   \n",
       "6828   Matrix Basics | Deep Learning Tutorial 10 (Ten...   \n",
       "37999  Python Matplotlib Tutorial | Customize Matplot...   \n",
       "\n",
       "                                             description  \\\n",
       "24716  Comment/contact us to build experience on Data...   \n",
       "40653  In this video I show you how to create a refer...   \n",
       "54351  #Databricks\\r\\n#Pyspark\\r\\n#Spark\\r\\n#AzureDat...   \n",
       "6828   Matrix fundamentals are essential to understan...   \n",
       "37999  Hi guys...in this video I have talked about ho...   \n",
       "\n",
       "                                                    tags  \\\n",
       "24716  3 Primary Cloud Deployment Models|top cloud de...   \n",
       "40653  constant lines power bi|constant lines in powe...   \n",
       "54351                                            (notag)   \n",
       "6828   matrix explained|matrix deep learning|matrix i...   \n",
       "37999  how to add labels in matplotlib chart|how to a...   \n",
       "\n",
       "                     publishedAt  viewCount  likeCount  commentCount  \\\n",
       "24716  2022-12-28 06:55:05+00:00       1462         50             0   \n",
       "40653  2021-08-22 10:30:30+00:00      27089       1050            59   \n",
       "54351  2020-09-01 17:47:36+00:00       3105         31             5   \n",
       "6828   2020-08-04 14:00:10+00:00      85836       2187            62   \n",
       "37999  2018-05-08 03:42:25+00:00        443          4             0   \n",
       "\n",
       "       duration definition  caption  hour  day  day_of_week  month  year  \\\n",
       "24716        61         hd    False     6   28            2     12  2022   \n",
       "40653       538         hd    False    10   22            6      8  2021   \n",
       "54351       469         hd    False    17    1            1      9  2020   \n",
       "6828        702         hd    False    14    4            1      8  2020   \n",
       "37999       622         hd    False     3    8            1      5  2018   \n",
       "\n",
       "       isTrending  \n",
       "24716           0  \n",
       "40653           0  \n",
       "54351           0  \n",
       "6828            1  \n",
       "37999           0  "
      ]
     },
     "execution_count": 5,
     "metadata": {},
     "output_type": "execute_result"
    }
   ],
   "source": [
    "clean_df.sample(5)\n"
   ]
  },
  {
   "cell_type": "code",
   "execution_count": 6,
   "metadata": {},
   "outputs": [],
   "source": [
    "X_train, X_tmp, y_train, y_tmp = train_test_split(X, y ,test_size=0.3, random_state= 2023,stratify=y)\n",
    "X_test, X_valid, y_test, y_valid = train_test_split(X_tmp, y_tmp ,test_size=0.5, random_state= 2023,stratify=y_tmp)"
   ]
  },
  {
   "cell_type": "markdown",
   "metadata": {},
   "source": [
    "# Baseline Model Comparison\n"
   ]
  },
  {
   "cell_type": "code",
   "execution_count": 7,
   "metadata": {},
   "outputs": [],
   "source": [
    "from sklearn.svm import LinearSVC , SVC\n",
    "from sklearn.ensemble import RandomForestClassifier, GradientBoostingClassifier, ExtraTreesClassifier, AdaBoostClassifier\n",
    "# !pip install xgboost\n",
    "from xgboost import XGBClassifier\n",
    "from sklearn.model_selection import cross_val_score, StratifiedKFold\n",
    "\n",
    "seed = 2023\n",
    "models = [\n",
    "    LinearSVC(random_state=seed, dual=False, max_iter=1000),\n",
    "    SVC(random_state=seed),\n",
    "    RandomForestClassifier(random_state=seed),\n",
    "    GradientBoostingClassifier(random_state=seed),\n",
    "    ExtraTreesClassifier(),\n",
    "    AdaBoostClassifier(),\n",
    "    XGBClassifier(use_label_encoder=False, eval_metric='logloss', random_state=seed)\n",
    "]"
   ]
  },
  {
   "cell_type": "code",
   "execution_count": 8,
   "metadata": {
    "scrolled": true
   },
   "outputs": [
    {
     "data": {
      "image/png": "[encoded data removed]",
      "text/plain": [
       "<Figure size 2000x1500 with 1 Axes>"
      ]
     },
     "metadata": {},
     "output_type": "display_data"
    },
    {
     "data": {
      "text/html": [
       "<div>\n",
       "<style scoped>\n",
       "    .dataframe tbody tr th:only-of-type {\n",
       "        vertical-align: middle;\n",
       "    }\n",
       "\n",
       "    .dataframe tbody tr th {\n",
       "        vertical-align: top;\n",
       "    }\n",
       "\n",
       "    .dataframe thead th {\n",
       "        text-align: right;\n",
       "    }\n",
       "</style>\n",
       "<table border=\"1\" class=\"dataframe\">\n",
       "  <thead>\n",
       "    <tr style=\"text-align: right;\">\n",
       "      <th></th>\n",
       "      <th>Mean</th>\n",
       "      <th>Standard Deviation</th>\n",
       "    </tr>\n",
       "    <tr>\n",
       "      <th>model_name</th>\n",
       "      <th></th>\n",
       "      <th></th>\n",
       "    </tr>\n",
       "  </thead>\n",
       "  <tbody>\n",
       "    <tr>\n",
       "      <th>RandomForestClassifier</th>\n",
       "      <td>0.962734</td>\n",
       "      <td>0.001124</td>\n",
       "    </tr>\n",
       "    <tr>\n",
       "      <th>ExtraTreesClassifier</th>\n",
       "      <td>0.960878</td>\n",
       "      <td>0.001540</td>\n",
       "    </tr>\n",
       "    <tr>\n",
       "      <th>XGBClassifier</th>\n",
       "      <td>0.960473</td>\n",
       "      <td>0.001402</td>\n",
       "    </tr>\n",
       "    <tr>\n",
       "      <th>GradientBoostingClassifier</th>\n",
       "      <td>0.960092</td>\n",
       "      <td>0.001491</td>\n",
       "    </tr>\n",
       "    <tr>\n",
       "      <th>SVC</th>\n",
       "      <td>0.951216</td>\n",
       "      <td>0.002198</td>\n",
       "    </tr>\n",
       "    <tr>\n",
       "      <th>AdaBoostClassifier</th>\n",
       "      <td>0.947718</td>\n",
       "      <td>0.005087</td>\n",
       "    </tr>\n",
       "    <tr>\n",
       "      <th>LinearSVC</th>\n",
       "      <td>0.928109</td>\n",
       "      <td>0.002127</td>\n",
       "    </tr>\n",
       "  </tbody>\n",
       "</table>\n",
       "</div>"
      ],
      "text/plain": [
       "                                Mean  Standard Deviation\n",
       "model_name                                              \n",
       "RandomForestClassifier      0.962734            0.001124\n",
       "ExtraTreesClassifier        0.960878            0.001540\n",
       "XGBClassifier               0.960473            0.001402\n",
       "GradientBoostingClassifier  0.960092            0.001491\n",
       "SVC                         0.951216            0.002198\n",
       "AdaBoostClassifier          0.947718            0.005087\n",
       "LinearSVC                   0.928109            0.002127"
      ]
     },
     "execution_count": 8,
     "metadata": {},
     "output_type": "execute_result"
    }
   ],
   "source": [
    "def generate_baseline_result(models, X, y, metrics, cv=5, plot_result=False):\n",
    "    # define k-fold\n",
    "    kfold = StratifiedKFold(n_splits=cv, shuffle=True, random_state=seed)\n",
    "    entries = []\n",
    "    for model in models:\n",
    "        model_name = model.__class__.__name__\n",
    "        scores = cross_val_score(model, X, y, scoring=metrics, cv=kfold)\n",
    "        for fold_idx, score in enumerate(scores):\n",
    "            entries.append((model_name, fold_idx, score))\n",
    "\n",
    "    cv_df = pd.DataFrame(entries, columns=['model_name', 'fold_idx', 'score'])\n",
    "    \n",
    "    mean = cv_df.groupby('model_name')['score'].mean()\n",
    "    std = cv_df.groupby('model_name')['score'].std()\n",
    "    \n",
    "    baseline_results = pd.concat([mean,std],axis =1, ignore_index=True)\n",
    "    baseline_results.columns =['Mean','Standard Deviation']\n",
    "    baseline_results.sort_values(by=['Mean'], ascending = False, inplace = True)\n",
    "    \n",
    "    if plot_result:\n",
    "        plt.figure(figsize=(20, 15))\n",
    "        sns.boxplot(x ='model_name',y = 'score', data = cv_df, color ='lightblue',showmeans=True)\n",
    "        plt.title('Boxplot of Base-Line Model Accuracy using 5-fold cross-validation')\n",
    "        plt.show()\n",
    "    \n",
    "    return baseline_results\n",
    "\n",
    "generate_baseline_result(models, X_train, y_train, metrics='accuracy',cv=5,plot_result =True )"
   ]
  },
  {
   "cell_type": "markdown",
   "metadata": {},
   "source": [
    "# Train model"
   ]
  },
  {
   "cell_type": "code",
   "execution_count": 9,
   "metadata": {},
   "outputs": [
    {
     "name": "stdout",
     "output_type": "stream",
     "text": [
      "Model Accuracy: 0.9654636313159356\n"
     ]
    }
   ],
   "source": [
    "model = RandomForestClassifier(random_state=seed)\n",
    "model.fit(X_train, y_train)\n",
    "\n",
    "# Make predictions on the test set using the best model\n",
    "y_pred_best = model.predict(X_test)\n",
    "\n",
    "# Evaluate the best model\n",
    "print(f\"Model Accuracy: {accuracy_score(y_test, y_pred_best)}\")"
   ]
  },
  {
   "cell_type": "markdown",
   "metadata": {},
   "source": [
    "# Fine-tune "
   ]
  },
  {
   "cell_type": "code",
   "execution_count": 10,
   "metadata": {},
   "outputs": [
    {
     "data": {
      "text/plain": [
       "{'max_depth': 20,\n",
       " 'min_samples_leaf': 2,\n",
       " 'min_samples_split': 5,\n",
       " 'n_estimators': 200}"
      ]
     },
     "execution_count": 10,
     "metadata": {},
     "output_type": "execute_result"
    }
   ],
   "source": [
    "from sklearn.model_selection import GridSearchCV\n",
    "from sklearn.ensemble import RandomForestClassifier\n",
    "from sklearn.metrics import accuracy_score\n",
    "\n",
    "param_grid = {\n",
    "    'n_estimators': [50, 100, 200],\n",
    "    'max_depth': [None, 10, 20],\n",
    "    'min_samples_split': [2, 5, 10],\n",
    "    'min_samples_leaf': [1, 2, 4]\n",
    "}\n",
    "\n",
    "# Create the GridSearchCV object\n",
    "grid_search = GridSearchCV(RandomForestClassifier(random_state=2023),\n",
    "                           param_grid=param_grid,\n",
    "                           cv=5,\n",
    "                           scoring='accuracy',\n",
    "                           n_jobs=-1)\n",
    "\n",
    "# Fit the GridSearchCV object to the data\n",
    "grid_search.fit(X_valid, y_valid)\n",
    "\n",
    "# Get the best parameters from the grid search\n",
    "best_params = grid_search.best_params_\n",
    "\n",
    "best_params"
   ]
  },
  {
   "cell_type": "markdown",
   "metadata": {},
   "source": [
    "# Re-train on train + valid set"
   ]
  },
  {
   "cell_type": "code",
   "execution_count": 11,
   "metadata": {},
   "outputs": [
    {
     "data": {
      "text/html": [
       "<style>#sk-container-id-1 {color: black;}#sk-container-id-1 pre{padding: 0;}#sk-container-id-1 div.sk-toggleable {background-color: white;}#sk-container-id-1 label.sk-toggleable__label {cursor: pointer;display: block;width: 100%;margin-bottom: 0;padding: 0.3em;box-sizing: border-box;text-align: center;}#sk-container-id-1 label.sk-toggleable__label-arrow:before {content: \"▸\";float: left;margin-right: 0.25em;color: #696969;}#sk-container-id-1 label.sk-toggleable__label-arrow:hover:before {color: black;}#sk-container-id-1 div.sk-estimator:hover label.sk-toggleable__label-arrow:before {color: black;}#sk-container-id-1 div.sk-toggleable__content {max-height: 0;max-width: 0;overflow: hidden;text-align: left;background-color: #f0f8ff;}#sk-container-id-1 div.sk-toggleable__content pre {margin: 0.2em;color: black;border-radius: 0.25em;background-color: #f0f8ff;}#sk-container-id-1 input.sk-toggleable__control:checked~div.sk-toggleable__content {max-height: 200px;max-width: 100%;overflow: auto;}#sk-container-id-1 input.sk-toggleable__control:checked~label.sk-toggleable__label-arrow:before {content: \"▾\";}#sk-container-id-1 div.sk-estimator input.sk-toggleable__control:checked~label.sk-toggleable__label {background-color: #d4ebff;}#sk-container-id-1 div.sk-label input.sk-toggleable__control:checked~label.sk-toggleable__label {background-color: #d4ebff;}#sk-container-id-1 input.sk-hidden--visually {border: 0;clip: rect(1px 1px 1px 1px);clip: rect(1px, 1px, 1px, 1px);height: 1px;margin: -1px;overflow: hidden;padding: 0;position: absolute;width: 1px;}#sk-container-id-1 div.sk-estimator {font-family: monospace;background-color: #f0f8ff;border: 1px dotted black;border-radius: 0.25em;box-sizing: border-box;margin-bottom: 0.5em;}#sk-container-id-1 div.sk-estimator:hover {background-color: #d4ebff;}#sk-container-id-1 div.sk-parallel-item::after {content: \"\";width: 100%;border-bottom: 1px solid gray;flex-grow: 1;}#sk-container-id-1 div.sk-label:hover label.sk-toggleable__label {background-color: #d4ebff;}#sk-container-id-1 div.sk-serial::before {content: \"\";position: absolute;border-left: 1px solid gray;box-sizing: border-box;top: 0;bottom: 0;left: 50%;z-index: 0;}#sk-container-id-1 div.sk-serial {display: flex;flex-direction: column;align-items: center;background-color: white;padding-right: 0.2em;padding-left: 0.2em;position: relative;}#sk-container-id-1 div.sk-item {position: relative;z-index: 1;}#sk-container-id-1 div.sk-parallel {display: flex;align-items: stretch;justify-content: center;background-color: white;position: relative;}#sk-container-id-1 div.sk-item::before, #sk-container-id-1 div.sk-parallel-item::before {content: \"\";position: absolute;border-left: 1px solid gray;box-sizing: border-box;top: 0;bottom: 0;left: 50%;z-index: -1;}#sk-container-id-1 div.sk-parallel-item {display: flex;flex-direction: column;z-index: 1;position: relative;background-color: white;}#sk-container-id-1 div.sk-parallel-item:first-child::after {align-self: flex-end;width: 50%;}#sk-container-id-1 div.sk-parallel-item:last-child::after {align-self: flex-start;width: 50%;}#sk-container-id-1 div.sk-parallel-item:only-child::after {width: 0;}#sk-container-id-1 div.sk-dashed-wrapped {border: 1px dashed gray;margin: 0 0.4em 0.5em 0.4em;box-sizing: border-box;padding-bottom: 0.4em;background-color: white;}#sk-container-id-1 div.sk-label label {font-family: monospace;font-weight: bold;display: inline-block;line-height: 1.2em;}#sk-container-id-1 div.sk-label-container {text-align: center;}#sk-container-id-1 div.sk-container {/* jupyter's `normalize.less` sets `[hidden] { display: none; }` but bootstrap.min.css set `[hidden] { display: none !important; }` so we also need the `!important` here to be able to override the default hidden behavior on the sphinx rendered scikit-learn.org. See: https://github.com/scikit-learn/scikit-learn/issues/21755 */display: inline-block !important;position: relative;}#sk-container-id-1 div.sk-text-repr-fallback {display: none;}</style><div id=\"sk-container-id-1\" class=\"sk-top-container\"><div class=\"sk-text-repr-fallback\"><pre>RandomForestClassifier(max_depth=20, min_samples_leaf=2, min_samples_split=5,\n",
       "                       n_estimators=200, random_state=2023)</pre><b>In a Jupyter environment, please rerun this cell to show the HTML representation or trust the notebook. <br />On GitHub, the HTML representation is unable to render, please try loading this page with nbviewer.org.</b></div><div class=\"sk-container\" hidden><div class=\"sk-item\"><div class=\"sk-estimator sk-toggleable\"><input class=\"sk-toggleable__control sk-hidden--visually\" id=\"sk-estimator-id-1\" type=\"checkbox\" checked><label for=\"sk-estimator-id-1\" class=\"sk-toggleable__label sk-toggleable__label-arrow\">RandomForestClassifier</label><div class=\"sk-toggleable__content\"><pre>RandomForestClassifier(max_depth=20, min_samples_leaf=2, min_samples_split=5,\n",
       "                       n_estimators=200, random_state=2023)</pre></div></div></div></div></div>"
      ],
      "text/plain": [
       "RandomForestClassifier(max_depth=20, min_samples_leaf=2, min_samples_split=5,\n",
       "                       n_estimators=200, random_state=2023)"
      ]
     },
     "execution_count": 11,
     "metadata": {},
     "output_type": "execute_result"
    }
   ],
   "source": [
    "final_model_train_valid = RandomForestClassifier(random_state=2023, **best_params)\n",
    "\n",
    "X_train_valid = pd.concat([X_train, X_valid], axis=0)\n",
    "y_train_valid = pd.concat([y_train, y_valid], axis=0)\n",
    "final_model_train_valid.fit(X_train_valid, y_train_valid)"
   ]
  },
  {
   "cell_type": "markdown",
   "metadata": {},
   "source": [
    "# Test on test set "
   ]
  },
  {
   "cell_type": "code",
   "execution_count": 12,
   "metadata": {},
   "outputs": [
    {
     "name": "stdout",
     "output_type": "stream",
     "text": [
      "Accuracy of the Final Model on Test Set: 0.9656857301499168\n"
     ]
    }
   ],
   "source": [
    "y_pred_final_train_valid = final_model_train_valid.predict(X_test)\n",
    "accuracy_final_train_valid = accuracy_score(y_test, y_pred_final_train_valid)\n",
    "print(f\"Accuracy of the Final Model on Test Set: {accuracy_final_train_valid}\")"
   ]
  },
  {
   "cell_type": "markdown",
   "metadata": {},
   "source": [
    "# Visualize"
   ]
  },
  {
   "cell_type": "code",
   "execution_count": 13,
   "metadata": {},
   "outputs": [
    {
     "data": {
      "image/png": "[encoded data removed]",
      "text/plain": [
       "<Figure size 640x480 with 1 Axes>"
      ]
     },
     "metadata": {},
     "output_type": "display_data"
    }
   ],
   "source": [
    "cm = confusion_matrix(y_test, y_pred_final_train_valid)\n",
    "\n",
    "# Biểu đồ heatmap cho confusion matrix\n",
    "sns.heatmap(cm, annot=True, fmt='d', cmap='Blues', cbar=False)\n",
    "plt.xlabel('Predicted Labels')\n",
    "plt.ylabel('True Labels')\n",
    "plt.title('Confusion Matrix on Test Set')\n",
    "plt.show()"
   ]
  },
  {
   "cell_type": "code",
   "execution_count": 14,
   "metadata": {},
   "outputs": [
    {
     "data": {
      "image/png": "[encoded data removed]",
      "text/plain": [
       "<Figure size 1000x600 with 1 Axes>"
      ]
     },
     "metadata": {},
     "output_type": "display_data"
    }
   ],
   "source": [
    "from sklearn.model_selection import learning_curve\n",
    "from sklearn.model_selection import StratifiedKFold\n",
    "from sklearn.metrics import make_scorer\n",
    "from sklearn.metrics import accuracy_score\n",
    "\n",
    "def plot_learning_curve(estimator, title, X, y, ylim=None, cv=None, n_jobs=-1, train_sizes=np.linspace(.1, 1.0, 5)):\n",
    "    plt.figure(figsize=(10, 6))\n",
    "    plt.title(title)\n",
    "    if ylim is not None:\n",
    "        plt.ylim(*ylim)\n",
    "    plt.xlabel(\"Training examples\")\n",
    "    plt.ylabel(\"Score\")\n",
    "\n",
    "    train_sizes, train_scores, test_scores = learning_curve(\n",
    "        estimator, X, y, cv=cv, n_jobs=n_jobs, train_sizes=train_sizes, scoring=make_scorer(accuracy_score)\n",
    "    )\n",
    "\n",
    "    train_scores_mean = np.mean(train_scores, axis=1)\n",
    "    train_scores_std = np.std(train_scores, axis=1)\n",
    "    test_scores_mean = np.mean(test_scores, axis=1)\n",
    "    test_scores_std = np.std(test_scores, axis=1)\n",
    "\n",
    "    plt.fill_between(\n",
    "        train_sizes,\n",
    "        train_scores_mean - train_scores_std,\n",
    "        train_scores_mean + train_scores_std,\n",
    "        alpha=0.1, color=\"r\"\n",
    "    )\n",
    "    plt.fill_between(\n",
    "        train_sizes,\n",
    "        test_scores_mean - test_scores_std,\n",
    "        test_scores_mean + test_scores_std,\n",
    "        alpha=0.1, color=\"g\"\n",
    "    )\n",
    "\n",
    "    plt.plot(train_sizes, train_scores_mean, 'o-', color=\"r\", label=\"Training score\")\n",
    "    plt.plot(train_sizes, test_scores_mean, 'o-', color=\"g\", label=\"Cross-validation score\")\n",
    "\n",
    "    plt.legend(loc=\"best\")\n",
    "    return plt\n",
    "\n",
    "# Định nghĩa mô hình và các thông số cần thiết\n",
    "model = RandomForestClassifier(random_state=2023, n_estimators=100, max_depth=None, min_samples_split=2, min_samples_leaf=1)\n",
    "cv = StratifiedKFold(n_splits=5, shuffle=True, random_state=2023)\n",
    "\n",
    "# Vẽ đường học tập\n",
    "plot_learning_curve(model, \"Learning Curve\", X_train_valid, y_train_valid, cv=cv, n_jobs=-1)\n",
    "plt.show()"
   ]
  },
  {
   "cell_type": "code",
   "execution_count": null,
   "metadata": {},
   "outputs": [],
   "source": []
  }
 ],
 "metadata": {
  "kernelspec": {
   "display_name": "Python 3 (ipykernel)",
   "language": "python",
   "name": "python3"
  },
  "language_info": {
   "codemirror_mode": {
    "name": "ipython",
    "version": 3
   },
   "file_extension": ".py",
   "mimetype": "text/x-python",
   "name": "python",
   "nbconvert_exporter": "python",
   "pygments_lexer": "ipython3",
   "version": "3.11.4"
  }
 },
 "nbformat": 4,
 "nbformat_minor": 4
}
