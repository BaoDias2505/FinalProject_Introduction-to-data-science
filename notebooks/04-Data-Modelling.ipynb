{
 "cells": [
  {
   "cell_type": "markdown",
   "metadata": {},
   "source": [
    "## Import"
   ]
  },
  {
   "cell_type": "code",
   "execution_count": 1,
   "metadata": {},
   "outputs": [],
   "source": [
    "import numpy as np\n",
    "import pandas as pd\n",
    "import seaborn as sns\n",
    "import matplotlib.pyplot as plt\n",
    "from sklearn import linear_model\n",
    "from sklearn.linear_model import LinearRegression, LogisticRegression\n",
    "from sklearn.metrics import precision_score, recall_score, classification_report, confusion_matrix\n",
    "from sklearn.model_selection import train_test_split\n",
    "from sklearn.model_selection import GridSearchCV\n",
    "from sklearn.metrics import accuracy_score\n",
    "import warnings\n"
   ]
  },
  {
   "cell_type": "markdown",
   "metadata": {},
   "source": [
    "## Data preparation"
   ]
  },
  {
   "cell_type": "code",
   "execution_count": 2,
   "metadata": {},
   "outputs": [],
   "source": [
    "clean_df = pd.read_csv('../data/processed/video_data_processed.csv')"
   ]
  },
  {
   "cell_type": "code",
   "execution_count": 3,
   "metadata": {},
   "outputs": [
    {
     "data": {
      "text/html": [
       "<div>\n",
       "<style scoped>\n",
       "    .dataframe tbody tr th:only-of-type {\n",
       "        vertical-align: middle;\n",
       "    }\n",
       "\n",
       "    .dataframe tbody tr th {\n",
       "        vertical-align: top;\n",
       "    }\n",
       "\n",
       "    .dataframe thead th {\n",
       "        text-align: right;\n",
       "    }\n",
       "</style>\n",
       "<table border=\"1\" class=\"dataframe\">\n",
       "  <thead>\n",
       "    <tr style=\"text-align: right;\">\n",
       "      <th></th>\n",
       "      <th>video_id</th>\n",
       "      <th>channelTitle</th>\n",
       "      <th>title</th>\n",
       "      <th>description</th>\n",
       "      <th>tags</th>\n",
       "      <th>publishedAt</th>\n",
       "      <th>viewCount</th>\n",
       "      <th>likeCount</th>\n",
       "      <th>commentCount</th>\n",
       "      <th>duration</th>\n",
       "      <th>definition</th>\n",
       "      <th>caption</th>\n",
       "      <th>hour</th>\n",
       "      <th>day</th>\n",
       "      <th>day_of_week</th>\n",
       "      <th>month</th>\n",
       "      <th>year</th>\n",
       "    </tr>\n",
       "  </thead>\n",
       "  <tbody>\n",
       "    <tr>\n",
       "      <th>59665</th>\n",
       "      <td>-xAeqi_2cis</td>\n",
       "      <td>James Briggs</td>\n",
       "      <td>NEW Hugging Face Agents — First Look</td>\n",
       "      <td>Hugging Face has announced its take on Large L...</td>\n",
       "      <td>python|machine learning|artificial intelligenc...</td>\n",
       "      <td>2023-05-13 14:30:00+00:00</td>\n",
       "      <td>52399</td>\n",
       "      <td>1160</td>\n",
       "      <td>73</td>\n",
       "      <td>1111</td>\n",
       "      <td>hd</td>\n",
       "      <td>False</td>\n",
       "      <td>14</td>\n",
       "      <td>13</td>\n",
       "      <td>5</td>\n",
       "      <td>5</td>\n",
       "      <td>2023</td>\n",
       "    </tr>\n",
       "    <tr>\n",
       "      <th>5838</th>\n",
       "      <td>_tgB-ri9-8c</td>\n",
       "      <td>ritvikmath</td>\n",
       "      <td>Time Series Talk : Moving Average and ACF</td>\n",
       "      <td>How to find the order of your Moving Average M...</td>\n",
       "      <td>time series|machine learning|data science</td>\n",
       "      <td>2019-04-23 00:14:27+00:00</td>\n",
       "      <td>83349</td>\n",
       "      <td>1233</td>\n",
       "      <td>59</td>\n",
       "      <td>542</td>\n",
       "      <td>hd</td>\n",
       "      <td>False</td>\n",
       "      <td>0</td>\n",
       "      <td>23</td>\n",
       "      <td>1</td>\n",
       "      <td>4</td>\n",
       "      <td>2019</td>\n",
       "    </tr>\n",
       "    <tr>\n",
       "      <th>20574</th>\n",
       "      <td>MIWSQmv0dXQ</td>\n",
       "      <td>Serrano.Academy</td>\n",
       "      <td>You are much better at math than you think</td>\n",
       "      <td>In this video, we see two math problems that r...</td>\n",
       "      <td>(notag)</td>\n",
       "      <td>2020-04-20 14:36:32+00:00</td>\n",
       "      <td>6866</td>\n",
       "      <td>422</td>\n",
       "      <td>31</td>\n",
       "      <td>636</td>\n",
       "      <td>hd</td>\n",
       "      <td>False</td>\n",
       "      <td>14</td>\n",
       "      <td>20</td>\n",
       "      <td>0</td>\n",
       "      <td>4</td>\n",
       "      <td>2020</td>\n",
       "    </tr>\n",
       "    <tr>\n",
       "      <th>34613</th>\n",
       "      <td>F-5bS7eO1LU</td>\n",
       "      <td>Codanics</td>\n",
       "      <td>Pandas tips and tricks for Data Science-(Part-2)</td>\n",
       "      <td>#pythonkachilla2 #python #datascience \\n\\n✅ Th...</td>\n",
       "      <td>python|pythonkachilla|python ka chilla|python ...</td>\n",
       "      <td>2022-07-24 10:57:24+00:00</td>\n",
       "      <td>2700</td>\n",
       "      <td>207</td>\n",
       "      <td>302</td>\n",
       "      <td>1154</td>\n",
       "      <td>hd</td>\n",
       "      <td>False</td>\n",
       "      <td>10</td>\n",
       "      <td>24</td>\n",
       "      <td>6</td>\n",
       "      <td>7</td>\n",
       "      <td>2022</td>\n",
       "    </tr>\n",
       "    <tr>\n",
       "      <th>34876</th>\n",
       "      <td>IuPdBTCFo6U</td>\n",
       "      <td>Trouble- Free</td>\n",
       "      <td>5. Finding Rank Of A Matrix - Methods, Determi...</td>\n",
       "      <td>Abroad Education Channel :\\nhttps://www.youtub...</td>\n",
       "      <td>btech|m1|jntuh</td>\n",
       "      <td>2022-03-13 08:59:39+00:00</td>\n",
       "      <td>448</td>\n",
       "      <td>10</td>\n",
       "      <td>4</td>\n",
       "      <td>559</td>\n",
       "      <td>hd</td>\n",
       "      <td>False</td>\n",
       "      <td>8</td>\n",
       "      <td>13</td>\n",
       "      <td>6</td>\n",
       "      <td>3</td>\n",
       "      <td>2022</td>\n",
       "    </tr>\n",
       "  </tbody>\n",
       "</table>\n",
       "</div>"
      ],
      "text/plain": [
       "          video_id     channelTitle  \\\n",
       "59665  -xAeqi_2cis     James Briggs   \n",
       "5838   _tgB-ri9-8c       ritvikmath   \n",
       "20574  MIWSQmv0dXQ  Serrano.Academy   \n",
       "34613  F-5bS7eO1LU         Codanics   \n",
       "34876  IuPdBTCFo6U    Trouble- Free   \n",
       "\n",
       "                                                   title  \\\n",
       "59665               NEW Hugging Face Agents — First Look   \n",
       "5838           Time Series Talk : Moving Average and ACF   \n",
       "20574         You are much better at math than you think   \n",
       "34613   Pandas tips and tricks for Data Science-(Part-2)   \n",
       "34876  5. Finding Rank Of A Matrix - Methods, Determi...   \n",
       "\n",
       "                                             description  \\\n",
       "59665  Hugging Face has announced its take on Large L...   \n",
       "5838   How to find the order of your Moving Average M...   \n",
       "20574  In this video, we see two math problems that r...   \n",
       "34613  #pythonkachilla2 #python #datascience \\n\\n✅ Th...   \n",
       "34876  Abroad Education Channel :\\nhttps://www.youtub...   \n",
       "\n",
       "                                                    tags  \\\n",
       "59665  python|machine learning|artificial intelligenc...   \n",
       "5838           time series|machine learning|data science   \n",
       "20574                                            (notag)   \n",
       "34613  python|pythonkachilla|python ka chilla|python ...   \n",
       "34876                                     btech|m1|jntuh   \n",
       "\n",
       "                     publishedAt  viewCount  likeCount  commentCount  \\\n",
       "59665  2023-05-13 14:30:00+00:00      52399       1160            73   \n",
       "5838   2019-04-23 00:14:27+00:00      83349       1233            59   \n",
       "20574  2020-04-20 14:36:32+00:00       6866        422            31   \n",
       "34613  2022-07-24 10:57:24+00:00       2700        207           302   \n",
       "34876  2022-03-13 08:59:39+00:00        448         10             4   \n",
       "\n",
       "       duration definition  caption  hour  day  day_of_week  month  year  \n",
       "59665      1111         hd    False    14   13            5      5  2023  \n",
       "5838        542         hd    False     0   23            1      4  2019  \n",
       "20574       636         hd    False    14   20            0      4  2020  \n",
       "34613      1154         hd    False    10   24            6      7  2022  \n",
       "34876       559         hd    False     8   13            6      3  2022  "
      ]
     },
     "execution_count": 3,
     "metadata": {},
     "output_type": "execute_result"
    }
   ],
   "source": [
    "clean_df.sample(5)"
   ]
  },
  {
   "cell_type": "markdown",
   "metadata": {},
   "source": [
    "## Feature engineering"
   ]
  },
  {
   "cell_type": "code",
   "execution_count": 4,
   "metadata": {},
   "outputs": [],
   "source": [
    "X = clean_df[['likeCount', 'commentCount', 'hour', 'day', 'month', 'year']]\n",
    "# Tạo cột nhãn, ví dụ: nếu viewCount lớn hơn một ngưỡng nào đó, coi video đó là phổ biến\n",
    "threshold_viewCount = clean_df['viewCount'].quantile(0.7)\n",
    "clean_df['isTrending'] = (clean_df['viewCount'] > threshold_viewCount).astype(int)\n",
    "y = clean_df['isTrending']"
   ]
  },
  {
   "cell_type": "code",
   "execution_count": 5,
   "metadata": {},
   "outputs": [
    {
     "data": {
      "text/html": [
       "<div>\n",
       "<style scoped>\n",
       "    .dataframe tbody tr th:only-of-type {\n",
       "        vertical-align: middle;\n",
       "    }\n",
       "\n",
       "    .dataframe tbody tr th {\n",
       "        vertical-align: top;\n",
       "    }\n",
       "\n",
       "    .dataframe thead th {\n",
       "        text-align: right;\n",
       "    }\n",
       "</style>\n",
       "<table border=\"1\" class=\"dataframe\">\n",
       "  <thead>\n",
       "    <tr style=\"text-align: right;\">\n",
       "      <th></th>\n",
       "      <th>video_id</th>\n",
       "      <th>channelTitle</th>\n",
       "      <th>title</th>\n",
       "      <th>description</th>\n",
       "      <th>tags</th>\n",
       "      <th>publishedAt</th>\n",
       "      <th>viewCount</th>\n",
       "      <th>likeCount</th>\n",
       "      <th>commentCount</th>\n",
       "      <th>duration</th>\n",
       "      <th>definition</th>\n",
       "      <th>caption</th>\n",
       "      <th>hour</th>\n",
       "      <th>day</th>\n",
       "      <th>day_of_week</th>\n",
       "      <th>month</th>\n",
       "      <th>year</th>\n",
       "      <th>isTrending</th>\n",
       "    </tr>\n",
       "  </thead>\n",
       "  <tbody>\n",
       "    <tr>\n",
       "      <th>7060</th>\n",
       "      <td>BAoV5_qVKco</td>\n",
       "      <td>codebasics</td>\n",
       "      <td>Python Tutorial - 2. Variables</td>\n",
       "      <td>In this Python tutorial, we will learn about v...</td>\n",
       "      <td>python|python tutorial|python for beginners|le...</td>\n",
       "      <td>2015-12-20 02:11:10+00:00</td>\n",
       "      <td>42516</td>\n",
       "      <td>334</td>\n",
       "      <td>24</td>\n",
       "      <td>285</td>\n",
       "      <td>hd</td>\n",
       "      <td>False</td>\n",
       "      <td>2</td>\n",
       "      <td>20</td>\n",
       "      <td>6</td>\n",
       "      <td>12</td>\n",
       "      <td>2015</td>\n",
       "      <td>1</td>\n",
       "    </tr>\n",
       "    <tr>\n",
       "      <th>10953</th>\n",
       "      <td>CFW8Rsn0LfY</td>\n",
       "      <td>Analytics Vidhya</td>\n",
       "      <td>Check if Prime Number | Python Tutorial for Be...</td>\n",
       "      <td>This is a very common question asked in the in...</td>\n",
       "      <td>analytics vidhya|data science analytics vidhya...</td>\n",
       "      <td>2023-11-17 05:30:03+00:00</td>\n",
       "      <td>311</td>\n",
       "      <td>7</td>\n",
       "      <td>1</td>\n",
       "      <td>103</td>\n",
       "      <td>hd</td>\n",
       "      <td>True</td>\n",
       "      <td>5</td>\n",
       "      <td>17</td>\n",
       "      <td>4</td>\n",
       "      <td>11</td>\n",
       "      <td>2023</td>\n",
       "      <td>0</td>\n",
       "    </tr>\n",
       "    <tr>\n",
       "      <th>48513</th>\n",
       "      <td>94r9cASfV-A</td>\n",
       "      <td>Data Council</td>\n",
       "      <td>Data Driven Growth at Airbnb by Mike Curtis</td>\n",
       "      <td>Data Driven Growth at Airbnb by Mike Curtis - ...</td>\n",
       "      <td>Data Driven Growth</td>\n",
       "      <td>2013-11-11 17:40:49+00:00</td>\n",
       "      <td>1682</td>\n",
       "      <td>10</td>\n",
       "      <td>0</td>\n",
       "      <td>3437</td>\n",
       "      <td>hd</td>\n",
       "      <td>False</td>\n",
       "      <td>17</td>\n",
       "      <td>11</td>\n",
       "      <td>0</td>\n",
       "      <td>11</td>\n",
       "      <td>2013</td>\n",
       "      <td>0</td>\n",
       "    </tr>\n",
       "    <tr>\n",
       "      <th>45172</th>\n",
       "      <td>ahaTme0YyKA</td>\n",
       "      <td>Jovian</td>\n",
       "      <td>Side projects that got you Hooked on Software ...</td>\n",
       "      <td>💻 For real-time updates on events, connections...</td>\n",
       "      <td>(notag)</td>\n",
       "      <td>2023-02-06 15:19:42+00:00</td>\n",
       "      <td>303</td>\n",
       "      <td>13</td>\n",
       "      <td>3</td>\n",
       "      <td>176</td>\n",
       "      <td>hd</td>\n",
       "      <td>False</td>\n",
       "      <td>15</td>\n",
       "      <td>6</td>\n",
       "      <td>0</td>\n",
       "      <td>2</td>\n",
       "      <td>2023</td>\n",
       "      <td>0</td>\n",
       "    </tr>\n",
       "    <tr>\n",
       "      <th>2633</th>\n",
       "      <td>txh3TQDwP1g</td>\n",
       "      <td>sentdex</td>\n",
       "      <td>Neural Networks from Scratch - P.9 Introducing...</td>\n",
       "      <td>Introducing the challenge of optimization and ...</td>\n",
       "      <td>python|programming</td>\n",
       "      <td>2021-08-02 22:08:08+00:00</td>\n",
       "      <td>98673</td>\n",
       "      <td>2353</td>\n",
       "      <td>335</td>\n",
       "      <td>853</td>\n",
       "      <td>hd</td>\n",
       "      <td>False</td>\n",
       "      <td>22</td>\n",
       "      <td>2</td>\n",
       "      <td>0</td>\n",
       "      <td>8</td>\n",
       "      <td>2021</td>\n",
       "      <td>1</td>\n",
       "    </tr>\n",
       "  </tbody>\n",
       "</table>\n",
       "</div>"
      ],
      "text/plain": [
       "          video_id      channelTitle  \\\n",
       "7060   BAoV5_qVKco        codebasics   \n",
       "10953  CFW8Rsn0LfY  Analytics Vidhya   \n",
       "48513  94r9cASfV-A      Data Council   \n",
       "45172  ahaTme0YyKA            Jovian   \n",
       "2633   txh3TQDwP1g           sentdex   \n",
       "\n",
       "                                                   title  \\\n",
       "7060                      Python Tutorial - 2. Variables   \n",
       "10953  Check if Prime Number | Python Tutorial for Be...   \n",
       "48513        Data Driven Growth at Airbnb by Mike Curtis   \n",
       "45172  Side projects that got you Hooked on Software ...   \n",
       "2633   Neural Networks from Scratch - P.9 Introducing...   \n",
       "\n",
       "                                             description  \\\n",
       "7060   In this Python tutorial, we will learn about v...   \n",
       "10953  This is a very common question asked in the in...   \n",
       "48513  Data Driven Growth at Airbnb by Mike Curtis - ...   \n",
       "45172  💻 For real-time updates on events, connections...   \n",
       "2633   Introducing the challenge of optimization and ...   \n",
       "\n",
       "                                                    tags  \\\n",
       "7060   python|python tutorial|python for beginners|le...   \n",
       "10953  analytics vidhya|data science analytics vidhya...   \n",
       "48513                                 Data Driven Growth   \n",
       "45172                                            (notag)   \n",
       "2633                                  python|programming   \n",
       "\n",
       "                     publishedAt  viewCount  likeCount  commentCount  \\\n",
       "7060   2015-12-20 02:11:10+00:00      42516        334            24   \n",
       "10953  2023-11-17 05:30:03+00:00        311          7             1   \n",
       "48513  2013-11-11 17:40:49+00:00       1682         10             0   \n",
       "45172  2023-02-06 15:19:42+00:00        303         13             3   \n",
       "2633   2021-08-02 22:08:08+00:00      98673       2353           335   \n",
       "\n",
       "       duration definition  caption  hour  day  day_of_week  month  year  \\\n",
       "7060        285         hd    False     2   20            6     12  2015   \n",
       "10953       103         hd     True     5   17            4     11  2023   \n",
       "48513      3437         hd    False    17   11            0     11  2013   \n",
       "45172       176         hd    False    15    6            0      2  2023   \n",
       "2633        853         hd    False    22    2            0      8  2021   \n",
       "\n",
       "       isTrending  \n",
       "7060            1  \n",
       "10953           0  \n",
       "48513           0  \n",
       "45172           0  \n",
       "2633            1  "
      ]
     },
     "execution_count": 5,
     "metadata": {},
     "output_type": "execute_result"
    }
   ],
   "source": [
    "clean_df.sample(5)\n"
   ]
  },
  {
   "cell_type": "markdown",
   "metadata": {},
   "source": [
    "## Training model"
   ]
  },
  {
   "cell_type": "code",
   "execution_count": 6,
   "metadata": {},
   "outputs": [],
   "source": [
    "# X_train, X_valid, y_train, y_valid = train_test_split(X, y ,test_size=0.2)\n",
    "X_train, X_tmp, y_train, y_tmp = train_test_split(X, y, test_size=0.3, random_state=2023, stratify=y)\n",
    "X_test, X_valid, y_test, y_valid = train_test_split(X_tmp, y_tmp, test_size=0.5, random_state=2023, stratify=y_tmp)\n",
    "# model = LogisticRegression(solver = 'liblinear',max_iter=1000)\n",
    "# model.fit(X_train, y_train)"
   ]
  },
  {
   "cell_type": "markdown",
   "metadata": {},
   "source": [
    "## Evaluation"
   ]
  },
  {
   "cell_type": "code",
   "execution_count": 7,
   "metadata": {},
   "outputs": [],
   "source": [
    "# model.score(X_valid,y_valid)"
   ]
  },
  {
   "cell_type": "markdown",
   "metadata": {},
   "source": [
    "## Prediction"
   ]
  },
  {
   "cell_type": "code",
   "execution_count": 8,
   "metadata": {},
   "outputs": [],
   "source": [
    "# y_pred = model.predict(X_valid)"
   ]
  },
  {
   "cell_type": "code",
   "execution_count": 9,
   "metadata": {},
   "outputs": [],
   "source": [
    "# precision_score(y_valid,y_pred), recall_score(y_valid,y_pred)"
   ]
  },
  {
   "cell_type": "code",
   "execution_count": 10,
   "metadata": {},
   "outputs": [],
   "source": [
    "# print(classification_report(y_valid,y_pred))"
   ]
  },
  {
   "cell_type": "markdown",
   "metadata": {},
   "source": [
    "##### Decision Tree"
   ]
  },
  {
   "cell_type": "code",
   "execution_count": 11,
   "metadata": {},
   "outputs": [],
   "source": [
    "# decision_Tree = DecisionTreeRegressor()\n",
    "# decision_Tree.fit(X_train,y_train)\n"
   ]
  },
  {
   "cell_type": "code",
   "execution_count": 12,
   "metadata": {},
   "outputs": [],
   "source": [
    "# decision_Tree.score(X_valid,y_valid)"
   ]
  },
  {
   "cell_type": "markdown",
   "metadata": {},
   "source": [
    "# TEMP\n"
   ]
  },
  {
   "cell_type": "code",
   "execution_count": 13,
   "metadata": {},
   "outputs": [],
   "source": [
    "from sklearn.svm import SVC, LinearSVC\n",
    "from sklearn.ensemble import RandomForestClassifier, GradientBoostingClassifier, ExtraTreesClassifier, AdaBoostClassifier\n",
    "from sklearn.neighbors import KNeighborsClassifier\n",
    "from xgboost import XGBClassifier\n",
    "from sklearn.model_selection import StratifiedKFold\n",
    "from sklearn.model_selection import cross_val_score\n",
    "seed = 2023\n",
    "models = [\n",
    "    LinearSVC(random_state=seed, dual=False, max_iter=1000),\n",
    "    SVC(random_state=seed),\n",
    "    RandomForestClassifier(random_state=seed),\n",
    "    GradientBoostingClassifier(random_state=seed),\n",
    "    ExtraTreesClassifier(),\n",
    "    AdaBoostClassifier(),\n",
    "    XGBClassifier(use_label_encoder=False, eval_metric='logloss', random_state=seed)\n",
    "]"
   ]
  },
  {
   "cell_type": "code",
   "execution_count": 14,
   "metadata": {
    "scrolled": true
   },
   "outputs": [
    {
     "data": {
      "image/png": "[encoded data removed]",
      "text/plain": [
       "<Figure size 640x480 with 1 Axes>"
      ]
     },
     "metadata": {},
     "output_type": "display_data"
    },
    {
     "data": {
      "text/html": [
       "<div>\n",
       "<style scoped>\n",
       "    .dataframe tbody tr th:only-of-type {\n",
       "        vertical-align: middle;\n",
       "    }\n",
       "\n",
       "    .dataframe tbody tr th {\n",
       "        vertical-align: top;\n",
       "    }\n",
       "\n",
       "    .dataframe thead th {\n",
       "        text-align: right;\n",
       "    }\n",
       "</style>\n",
       "<table border=\"1\" class=\"dataframe\">\n",
       "  <thead>\n",
       "    <tr style=\"text-align: right;\">\n",
       "      <th></th>\n",
       "      <th>Mean</th>\n",
       "      <th>Standard Deviation</th>\n",
       "    </tr>\n",
       "    <tr>\n",
       "      <th>model_name</th>\n",
       "      <th></th>\n",
       "      <th></th>\n",
       "    </tr>\n",
       "  </thead>\n",
       "  <tbody>\n",
       "    <tr>\n",
       "      <th>RandomForestClassifier</th>\n",
       "      <td>0.937176</td>\n",
       "      <td>0.001852</td>\n",
       "    </tr>\n",
       "    <tr>\n",
       "      <th>GradientBoostingClassifier</th>\n",
       "      <td>0.936914</td>\n",
       "      <td>0.002219</td>\n",
       "    </tr>\n",
       "    <tr>\n",
       "      <th>XGBClassifier</th>\n",
       "      <td>0.936533</td>\n",
       "      <td>0.001398</td>\n",
       "    </tr>\n",
       "    <tr>\n",
       "      <th>ExtraTreesClassifier</th>\n",
       "      <td>0.934772</td>\n",
       "      <td>0.001769</td>\n",
       "    </tr>\n",
       "    <tr>\n",
       "      <th>AdaBoostClassifier</th>\n",
       "      <td>0.930798</td>\n",
       "      <td>0.001933</td>\n",
       "    </tr>\n",
       "    <tr>\n",
       "      <th>LinearSVC</th>\n",
       "      <td>0.918400</td>\n",
       "      <td>0.003212</td>\n",
       "    </tr>\n",
       "    <tr>\n",
       "      <th>SVC</th>\n",
       "      <td>0.917543</td>\n",
       "      <td>0.002910</td>\n",
       "    </tr>\n",
       "  </tbody>\n",
       "</table>\n",
       "</div>"
      ],
      "text/plain": [
       "                                Mean  Standard Deviation\n",
       "model_name                                              \n",
       "RandomForestClassifier      0.937176            0.001852\n",
       "GradientBoostingClassifier  0.936914            0.002219\n",
       "XGBClassifier               0.936533            0.001398\n",
       "ExtraTreesClassifier        0.934772            0.001769\n",
       "AdaBoostClassifier          0.930798            0.001933\n",
       "LinearSVC                   0.918400            0.003212\n",
       "SVC                         0.917543            0.002910"
      ]
     },
     "execution_count": 14,
     "metadata": {},
     "output_type": "execute_result"
    }
   ],
   "source": [
    "def generate_baseline_result(models, X, y, metrics, cv=5, plot_result=False):\n",
    "    # define k-fold\n",
    "    kfold = StratifiedKFold(n_splits=cv, shuffle=True, random_state=seed)\n",
    "    entries = []\n",
    "    for model in models:\n",
    "        model_name = model.__class__.__name__\n",
    "        scores = cross_val_score(model, X, y, scoring=metrics, cv=kfold)\n",
    "        for fold_idx, score in enumerate(scores):\n",
    "            entries.append((model_name, fold_idx, score))\n",
    "\n",
    "    cv_df = pd.DataFrame(entries, columns=['model_name', 'fold_idx', 'score'])\n",
    "    \n",
    "    mean = cv_df.groupby('model_name')['score'].mean()\n",
    "    std = cv_df.groupby('model_name')['score'].std()\n",
    "    \n",
    "    baseline_results = pd.concat([mean,std],axis =1, ignore_index=True)\n",
    "    baseline_results.columns =['Mean','Standard Deviation']\n",
    "    baseline_results.sort_values(by=['Mean'], ascending = False, inplace = True)\n",
    "    \n",
    "    if plot_result:\n",
    "        sns.boxplot(x ='model_name',y = 'score', data = cv_df, color ='lightblue',showmeans=True)\n",
    "        plt.title('Boxplot of Base-Line Model Accuracy using 5-fold cross-validation')\n",
    "        plt.show()\n",
    "    \n",
    "    return baseline_results\n",
    "\n",
    "# Metric: https://scikit-learn.org/stable/modules/model_evaluation.html\n",
    "generate_baseline_result(models, X_train, y_train, metrics='accuracy',cv=5,plot_result =True )"
   ]
  },
  {
   "cell_type": "markdown",
   "metadata": {},
   "source": [
    "## Fine-tune the model"
   ]
  },
  {
   "cell_type": "markdown",
   "metadata": {},
   "source": [
    "### RandomForestClassifier"
   ]
  },
  {
   "cell_type": "code",
   "execution_count": 15,
   "metadata": {},
   "outputs": [
    {
     "name": "stdout",
     "output_type": "stream",
     "text": [
      "HyperParameters: {'max_depth': 10, 'min_samples_leaf': 1, 'min_samples_split': 5, 'n_estimators': 200}\n"
     ]
    }
   ],
   "source": [
    "# Define the hyperparameter grid\n",
    "\n",
    "param_grid = {\n",
    "    'n_estimators': [50, 100, 200],\n",
    "    'max_depth': [None, 10, 20],\n",
    "    'min_samples_split': [2, 5, 10],\n",
    "    'min_samples_leaf': [1, 2, 4]\n",
    "}\n",
    "\n",
    "# Create the GridSearchCV object\n",
    "grid_search = GridSearchCV(RandomForestClassifier(random_state=2023),\n",
    "                           param_grid=param_grid,\n",
    "                           cv=5,\n",
    "                           scoring='accuracy',\n",
    "                           n_jobs=-1)\n",
    "\n",
    "# Fit the GridSearchCV object to the data\n",
    "grid_search.fit(X_valid, y_valid)\n",
    "\n",
    "# Get the best parameters from the grid search\n",
    "best_params = grid_search.best_params_\n",
    "\n",
    "print(f\"HyperParameters: {best_params}\")\n"
   ]
  },
  {
   "cell_type": "code",
   "execution_count": 16,
   "metadata": {},
   "outputs": [
    {
     "name": "stdout",
     "output_type": "stream",
     "text": [
      "Best Model Accuracy: 0.9416990560799556\n"
     ]
    }
   ],
   "source": [
    "# Train the model with the best hyperparameters\n",
    "warnings.filterwarnings(\"ignore\")\n",
    "\n",
    "X_train_val = np.concatenate((X_train, X_valid), axis=0)\n",
    "y_train_val = np.concatenate((y_train, y_valid), axis=0)\n",
    "\n",
    "best_model = RandomForestClassifier(random_state=2023, **best_params)\n",
    "best_model.fit(X_train_val, y_train_val)\n",
    "\n",
    "# Make predictions on the test set using the best model\n",
    "y_pred_best = best_model.predict(X_test)\n",
    "\n",
    "# Evaluate the best model\n",
    "print(f\"Best Model Accuracy: {accuracy_score(y_test, y_pred_best)}\")"
   ]
  },
  {
   "cell_type": "markdown",
   "metadata": {},
   "source": [
    "### GradientBoostingClassifier"
   ]
  },
  {
   "cell_type": "code",
   "execution_count": 17,
   "metadata": {},
   "outputs": [
    {
     "name": "stdout",
     "output_type": "stream",
     "text": [
      "HyperParameters: {'learning_rate': 0.1, 'max_depth': 3, 'min_samples_leaf': 1, 'min_samples_split': 3, 'n_estimators': 50, 'subsample': 0.8}\n"
     ]
    }
   ],
   "source": [
    "# Define the hyperparameter grid\n",
    "\n",
    "param_grid = {\n",
    "    'n_estimators': [50, 100, 150],\n",
    "    'learning_rate': [0.01, 0.1, 0.2],\n",
    "    'max_depth': [3, 4, 5],\n",
    "    'min_samples_split': [2, 3, 4],\n",
    "    'min_samples_leaf': [1, 2, 3],\n",
    "    'subsample': [0.8, 0.9, 1.0]\n",
    "}\n",
    "\n",
    "# Create the GridSearchCV object\n",
    "grid_search = GridSearchCV(GradientBoostingClassifier(random_state=2023),\n",
    "                           param_grid=param_grid,\n",
    "                           cv=5,\n",
    "                           scoring='accuracy',\n",
    "                           n_jobs=-1)\n",
    "\n",
    "# Fit the GridSearchCV object to the data\n",
    "grid_search.fit(X_valid, y_valid)\n",
    "\n",
    "# Get the best parameters from the grid search\n",
    "best_params = grid_search.best_params_\n",
    "\n",
    "print(f\"HyperParameters: {best_params}\")\n"
   ]
  },
  {
   "cell_type": "code",
   "execution_count": 18,
   "metadata": {},
   "outputs": [
    {
     "name": "stdout",
     "output_type": "stream",
     "text": [
      "Best Model Accuracy: 0.9401443642420877\n"
     ]
    }
   ],
   "source": [
    "# Train the model with the best hyperparameters\n",
    "warnings.filterwarnings(\"ignore\")\n",
    "\n",
    "X_train_val = np.concatenate((X_train, X_valid), axis=0)\n",
    "y_train_val = np.concatenate((y_train, y_valid), axis=0)\n",
    "\n",
    "best_model = GradientBoostingClassifier(random_state=2023, **best_params)\n",
    "best_model.fit(X_train_val, y_train_val)\n",
    "\n",
    "# Make predictions on the test set using the best model\n",
    "y_pred_best = best_model.predict(X_test)\n",
    "\n",
    "# Evaluate the best model\n",
    "print(f\"Best Model Accuracy: {accuracy_score(y_test, y_pred_best)}\")"
   ]
  },
  {
   "cell_type": "markdown",
   "metadata": {},
   "source": [
    "### XGBClassifier"
   ]
  },
  {
   "cell_type": "code",
   "execution_count": null,
   "metadata": {},
   "outputs": [],
   "source": [
    "# Define the hyperparameter grid\n",
    "\n",
    "param_grid = {\n",
    "    'learning_rate': [0.01, 0.1, 0.2],\n",
    "    'n_estimators': [50, 100, 150],\n",
    "    'max_depth': [3, 4, 5],\n",
    "    'min_child_weight': [1, 3, 5],\n",
    "    'subsample': [0.8, 0.9, 1.0],\n",
    "    'colsample_bytree': [0.8, 0.9, 1.0]\n",
    "}\n",
    "\n",
    "# Create the GridSearchCV object\n",
    "grid_search = GridSearchCV(XGBClassifier(random_state=2023),\n",
    "                           param_grid=param_grid,\n",
    "                           cv=5,\n",
    "                           scoring='accuracy',\n",
    "                           n_jobs=-1)\n",
    "\n",
    "# Fit the GridSearchCV object to the data\n",
    "grid_search.fit(X_valid, y_valid)\n",
    "\n",
    "# Get the best parameters from the grid search\n",
    "best_params = grid_search.best_params_\n",
    "\n",
    "print(f\"HyperParameters: {best_params}\")\n"
   ]
  },
  {
   "cell_type": "code",
   "execution_count": null,
   "metadata": {},
   "outputs": [],
   "source": [
    "# Train the model with the best hyperparameters\n",
    "warnings.filterwarnings(\"ignore\")\n",
    "\n",
    "X_train_val = np.concatenate((X_train, X_valid), axis=0)\n",
    "y_train_val = np.concatenate((y_train, y_valid), axis=0)\n",
    "\n",
    "best_model = XGBClassifier(random_state=2023, **best_params)\n",
    "best_model.fit(X_train_val, y_train_val)\n",
    "\n",
    "# Make predictions on the test set using the best model\n",
    "y_pred_best = best_model.predict(X_test)\n",
    "\n",
    "# Evaluate the best model\n",
    "print(f\"Best Model Accuracy: {accuracy_score(y_test, y_pred_best)}\")"
   ]
  },
  {
   "cell_type": "code",
   "execution_count": null,
   "metadata": {},
   "outputs": [],
   "source": []
  }
 ],
 "metadata": {
  "kernelspec": {
   "display_name": "Python 3 (ipykernel)",
   "language": "python",
   "name": "python3"
  },
  "language_info": {
   "codemirror_mode": {
    "name": "ipython",
    "version": 3
   },
   "file_extension": ".py",
   "mimetype": "text/x-python",
   "name": "python",
   "nbconvert_exporter": "python",
   "pygments_lexer": "ipython3",
   "version": "3.11.4"
  }
 },
 "nbformat": 4,
 "nbformat_minor": 4
}
